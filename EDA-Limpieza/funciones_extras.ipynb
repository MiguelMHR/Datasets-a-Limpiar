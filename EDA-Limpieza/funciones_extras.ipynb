{
 "cells": [
  {
   "cell_type": "markdown",
   "metadata": {},
   "source": [
    "# Funciones extras\n",
    "En este Jupyter Notebook vamos a describir algunas funciones complementarias que usamos para los procesos de limpieza"
   ]
  },
  {
   "cell_type": "markdown",
   "metadata": {},
   "source": [
    "## Función para arreglar las fechas\n",
    "En esta función se transforman todas las fechas de cualquier otro formato a \"DD/MM/YYYY\""
   ]
  },
  {
   "cell_type": "code",
   "execution_count": null,
   "metadata": {},
   "outputs": [],
   "source": [
    "# Leemos toda la columna de fechas y almacenamos todas las fechas en una lista\n",
    "fechas = df['FECHA_INTERVENCION'].tolist()\n",
    "\n",
    "# Ahora, pasamos por todas las fechas y corregimos las fechas que están mal escritas\n",
    "fechas_corregidas = []\n",
    "año_al_final = False\n",
    "\n",
    "for fecha in fechas:\n",
    "    # Si fecha contiene un guion, hacer fecha.split('-') y si fecha contiene una barra, hacer fecha.split('/')\n",
    "    if '-' in fecha:\n",
    "        fecha_split = fecha.split('-')\n",
    "    elif '/' in fecha:\n",
    "        fecha_split = fecha.split('/')\n",
    "    # Condiciones para saber el día, mes y año\n",
    "    # Encontrar el año\n",
    "    if (int(fecha_split[0])>31):\n",
    "        año = fecha_split[0]\n",
    "        año_al_final = False\n",
    "    elif (int(fecha_split[2])>31):\n",
    "        año = fecha_split[2]\n",
    "        año_al_final = True\n",
    "    else:\n",
    "        print(\"No se ha encontrado el año\")\n",
    "        fechas_corregidas.append(\"fecha incorrecta\")\n",
    "        break\n",
    "    # Encontrar el día y el mes\n",
    "    # Si el año está al final, no comprobamos el primer caracter\n",
    "    if año_al_final:\n",
    "        if (int(fecha_split[0])<32 and int(fecha_split[0])>12):\n",
    "            dia = fecha_split[0]\n",
    "            mes = fecha_split[1]\n",
    "        elif (int(fecha_split[1])<32 and int(fecha_split[1])>12):\n",
    "            dia = fecha_split[1]\n",
    "            mes = fecha_split[0]\n",
    "        # Si no hay ningun número entre el 13 y el 31, se asume que el mes es el segundo siempre y el día es el primero\n",
    "        else:\n",
    "            dia = fecha_split[0]\n",
    "            mes = fecha_split[1]\n",
    "    else:\n",
    "        if (int(fecha_split[1])<32 and int(fecha_split[1])>12):\n",
    "            dia = fecha_split[1]\n",
    "            mes = fecha_split[2]\n",
    "        elif (int(fecha_split[2])<32 and int(fecha_split[2])>12):\n",
    "            dia = fecha_split[2]\n",
    "            mes = fecha_split[1]\n",
    "        # Si no hay ningun número entre el 13 y el 31, se asume que el mes es el segundo siempre y el día es el tercero\n",
    "        else:\n",
    "            dia = fecha_split[2]\n",
    "            mes = fecha_split[1]\n",
    "    fechas_corregidas.append(dia+\"/\"+mes+\"/\"+año)\n",
    "    \n",
    "# Ahora, cambiamos toda la columna de FECHAS_INTERVENCION por las fechas corregidas\n",
    "df['FECHA_INTERVENCION'] = fechas_corregidas\n",
    "\n",
    "# Mostramos las fechas corregidas\n",
    "print(\"   ----------    Columna de fechas corregidas    ----------    \")\n",
    "print(\"\\n\")\n",
    "print(df['FECHA_INTERVENCION'].sample(20))"
   ]
  },
  {
   "cell_type": "markdown",
   "metadata": {},
   "source": [
    "## Función para transformar los valores nulos según su ID y el nombre de la columna"
   ]
  },
  {
   "cell_type": "code",
   "execution_count": null,
   "metadata": {},
   "outputs": [],
   "source": [
    "# Elimina todos los guiones y espacios de todos los valores de la columna 'ID'\n",
    "# Función para generar la cadena personalizada\n",
    "def custom_string(row):\n",
    "    main_string = row['ID'][1:-7]+row['ID'][-3:] \n",
    "    return main_string\n",
    "\n",
    "# Reemplazar valores nulos\n",
    "df['ID'] = df.apply(lambda row: custom_string(row), axis=1)\n",
    "\n",
    "print(df['ID'].head(40))"
   ]
  },
  {
   "cell_type": "code",
   "execution_count": null,
   "metadata": {},
   "outputs": [],
   "source": [
    "# Cambiamos los valores nulos por una string personalizada en la que combinamos el NIF de esa fila y el nombre de la columna en cuestión\n",
    "\n",
    "# Función para generar la cadena personalizada\n",
    "def string_email_desc(row):\n",
    "    return f\"{row['NIF']}_EMAIL_Desconocido\"\n",
    "\n",
    "# Reemplazar valores nulos\n",
    "df['EMAIL'] = df.apply(lambda row: string_email_desc(row) if pd.isnull(row['EMAIL']) else row['EMAIL'], axis=1)\n",
    "\n",
    "# Mostrar el DataFrame con los valores nulos reemplazados\n",
    "print(df.sample(20))\n",
    "\n",
    "print(\"   ----------    Filas con valores nulos    ----------    \")\n",
    "print(df[df.isnull().any(axis=1)])"
   ]
  },
  {
   "cell_type": "markdown",
   "metadata": {},
   "source": [
    "# Función para quitar las tildes en general"
   ]
  },
  {
   "cell_type": "code",
   "execution_count": null,
   "metadata": {},
   "outputs": [],
   "source": [
    "# Limpiamos la columna de 'TIPO_INCIDENTE' para que no haya tildes en lugares raros\n",
    "df['TIPO_INCIDENTE'] = df['TIPO_INCIDENTE'].str.replace('Cáídá', 'Caída')\n",
    "df['TIPO_INCIDENTE'] = df['TIPO_INCIDENTE'].str.replace('Róbó', 'Robo')\n",
    "df['TIPO_INCIDENTE'] = df['TIPO_INCIDENTE'].str.replace('Accídénté', 'Accidente')\n",
    "df['TIPO_INCIDENTE'] = df['TIPO_INCIDENTE'].str.replace('Vándálísmó', 'Vandalismo')\n",
    "df['TIPO_INCIDENTE'] = df['TIPO_INCIDENTE'].str.replace('Dáñó éstrúctúrál', 'Daño estructural')\n",
    "\n",
    "# Muestra todos los valores distintos de la columna 'TIPO_INCIDENTE'\n",
    "print(\"   ----------    Valores distintos de la columna 'TIPO_INCIDENTE'    ----------    \")\n",
    "print(\"\\n\")\n",
    "print(df['TIPO_INCIDENTE'].unique())"
   ]
  },
  {
   "cell_type": "markdown",
   "metadata": {},
   "source": [
    "# Función para arreglar las filas repetidas"
   ]
  },
  {
   "cell_type": "code",
   "execution_count": null,
   "metadata": {},
   "outputs": [],
   "source": [
    "# Filtrar filas que tienen el mismo NIF\n",
    "duplicados = df.groupby('ID').filter(lambda x: len(x) > 1)\n",
    "\n",
    "# Ordenar por NIF para que las filas con el mismo NIF se visualicen una encima de la otra\n",
    "duplicados = duplicados.sort_values(by='ID')\n",
    "\n",
    "# Mostrar las filas con la misma PK\n",
    "print(\"   ----------    Filas con el mismo ID    ----------    \")\n",
    "print(\"\\n\")\n",
    "print(duplicados)\n",
    "print(\"\\n\")\n",
    "print(\"Número de filas con el mismo ID: \", duplicados.shape[0])\n",
    "print(\"\\n\")\n",
    "\n",
    "# Limpiamos una de las dos filas con el mismo ID de duplicados\n",
    "df.drop_duplicates(subset='ID', keep='first', inplace=True)\n",
    "\n",
    "# Mostramos el resultado por pantalla\n",
    "print(\"   ----------    Filas con el mismo ID después de limpiar    ----------    \")\n",
    "print(\"\\n\")\n",
    "print(df[df.duplicated()])\n",
    "print(\"\\n\")\n",
    "# Número de filas duplicadas\n",
    "print(\"Número de filas duplicadas: \", df.duplicated().sum())\n",
    "print(\"\\n\")\n",
    "\n",
    "# Mostramos, para comprobar, 2 filas de las que antes estaban duplicadas\n",
    "print(\"   ----------    2 filas de las que antes estaban duplicadas    ----------    \")\n",
    "print(\"\\n\")\n",
    "print(df.loc[df['ID'] == 431])\n",
    "print(df.loc[df['ID'] == 9948])\n",
    "print(\"\\n\")\n",
    "\n",
    "# Mostramos el intento de acceder a una fila eliminada\n",
    "print(\"   ----------    Intento de acceder a una fila eliminada    ----------    \")\n",
    "print(\"\\n\")\n",
    "# Accedemos a la fila con ID 431 y FECHA_REPORTE 14/08/2024\n",
    "print(df.loc[(df['ID'] == 431) & (df['FECHA_REPORTE'] == '14/08/2024')])"
   ]
  }
 ],
 "metadata": {
  "kernelspec": {
   "display_name": "Python 3",
   "language": "python",
   "name": "python3"
  },
  "language_info": {
   "name": "python",
   "version": "3.12.7"
  }
 },
 "nbformat": 4,
 "nbformat_minor": 2
}
