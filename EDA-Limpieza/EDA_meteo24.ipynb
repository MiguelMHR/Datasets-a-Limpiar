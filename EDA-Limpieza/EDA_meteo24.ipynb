{
 "cells": [
  {
   "cell_type": "markdown",
   "metadata": {},
   "source": [
    "# 1. EDA\n",
    "En este apartado se pretende analizar los datasets para poder enfocar mejor la limpieza"
   ]
  },
  {
   "cell_type": "markdown",
   "metadata": {},
   "source": [
    "## 1.1 Importación y carga de datos\n",
    "Debemos declarar las librerías que usamos y leer el correspondiente archivo de datos"
   ]
  },
  {
   "cell_type": "code",
   "execution_count": 1,
   "metadata": {},
   "outputs": [],
   "source": [
    "# Importación de librerías\n",
    "import pandas as pd\n",
    "\n",
    "# Lectura dataset separado por caracteres ';'\n",
    "df = pd.read_csv('../meteo24.csv', sep=';')"
   ]
  },
  {
   "cell_type": "markdown",
   "metadata": {},
   "source": [
    "## 1.2 Configuración de Pandas\n",
    "Para poder leer bien los resultados de las ejecuciones, vamos a configurar tanto el número máximo de columnas como el número máximo de filas"
   ]
  },
  {
   "cell_type": "code",
   "execution_count": 2,
   "metadata": {},
   "outputs": [],
   "source": [
    "# Número máximo de filas a mostrar\n",
    "pd.set_option('display.max_rows', None)\n",
    "\n",
    "# Número máximo de columnas a mostrar\n",
    "pd.set_option('display.max_columns', None)\n",
    "pd.set_option('display.max_colwidth', None)\n",
    "pd.set_option('display.width', 2000)"
   ]
  },
  {
   "cell_type": "markdown",
   "metadata": {},
   "source": [
    "## 1.3 Descripción general del dataset\n",
    "Para poder conocer ciertas características relevantes del dataset, como el número de instancias (filas) y características (columnas) procederemos a usar diferentes funciones de Pandas\n"
   ]
  },
  {
   "cell_type": "code",
   "execution_count": 3,
   "metadata": {},
   "outputs": [
    {
     "name": "stdout",
     "output_type": "stream",
     "text": [
      "       PROVINCIA  MUNICIPIO    ESTACION    MAGNITUD     ANO         MES         D01         D02         D03         D04         D05         D06         D07         D08         D09         D10         D11         D12         D13         D14         D15         D16         D17         D18         D19         D20         D21         D22         D23         D24         D25         D26         D27         D28         D29         D30         D31\n",
      "count      658.0      658.0  658.000000  658.000000   658.0  658.000000  658.000000  658.000000  658.000000  658.000000  658.000000  658.000000  658.000000  658.000000  658.000000  658.000000  658.000000  658.000000  658.000000  658.000000  658.000000  658.000000  658.000000  658.000000  658.000000  658.000000  658.000000  658.000000  658.000000  658.000000  658.000000  658.000000  658.000000  658.000000  658.000000  658.000000  658.000000\n",
      "mean        28.0       79.0   76.808511   84.819149  2024.0    4.000000  129.414939  124.331626  127.770957  126.468343  125.809407  122.123374  120.447812  126.097766  125.633632  127.828404  127.870562  124.110714  122.781550  125.752933  126.802401  125.086261  124.578982  120.686687  122.651748  122.375243  123.293891  122.767979  123.167979  124.083936  122.496854  126.273009  123.811505  123.305426  124.027021  109.874088   72.756033\n",
      "std          0.0        0.0   35.033097    2.598875     0.0    2.001521  260.386679  260.778017  261.089908  260.842993  259.892927  259.762381  260.052925  258.156931  258.511585  258.820690  261.504294  261.623818  262.280514  261.703834  258.818944  259.590915  258.433027  257.627044  260.716958  259.755284  261.635429  262.300032  262.584157  261.997022  259.753855  257.393298  258.225863  259.223398  258.434209  243.537933  206.627107\n",
      "min         28.0       79.0    4.000000   81.000000  2024.0    1.000000    0.000000    0.000000    0.000000    0.000000    0.000000    0.000000    0.000000   -0.200000    0.000000    0.000000  -53.300000  -55.000000    0.000000    0.000000    0.000000    0.000000    0.000000    0.000000    0.000000    0.000000    0.000000    0.000000    0.000000    0.000000    0.000000    0.000000   -0.400000    0.000000    0.000000    0.000000    0.000000\n",
      "25%         28.0       79.0   54.000000   83.000000  2024.0    2.000000    4.500000    4.325000    4.000000    4.925000    5.475000    4.600000    3.050000    4.825000    5.800000    5.825000    4.000000    2.217500    2.000000    4.225000    5.262500    2.320000    6.050000    2.092500    3.100000    3.812500    2.000000    3.400000    2.797500    3.250000    6.337500    4.925000    5.925000    8.000000    5.800000    0.770000    0.000000\n",
      "50%         28.0       79.0  102.000000   86.000000  2024.0    4.000000   23.050000   21.950000   23.950000   25.000000   27.050000   26.850000   24.450000   26.300000   25.850000   27.500000   28.800000   22.500000   22.400000   22.000000   24.100000   23.300000   24.600000   21.500000   19.600000   19.050000   22.000000   22.000000   24.300000   25.300000   25.200000   28.950000   27.600000   26.000000   27.500000   21.600000    0.990000\n",
      "75%         28.0       79.0  107.000000   87.000000  2024.0    6.000000   79.000000   81.750000   71.000000   76.000000   70.000000   66.000000   68.000000   81.750000   85.000000   80.000000   73.000000   65.750000   61.000000   79.750000   81.000000   76.000000   68.000000   67.000000   61.000000   66.000000   63.750000   72.750000   62.750000   59.000000   78.000000   68.750000   73.750000   65.750000   73.000000   72.000000   30.875000\n",
      "max         28.0       79.0  115.000000   89.000000  2024.0    7.000000  966.000000  966.000000  963.000000  964.000000  961.000000  961.000000  958.000000  953.000000  963.000000  960.000000  958.000000  962.000000  960.000000  958.000000  954.000000  956.000000  959.000000  963.000000  961.000000  959.000000  963.000000  966.000000  968.000000  967.000000  964.000000  966.000000  962.000000  963.000000  961.000000  965.000000  969.000000\n",
      "\n",
      "\n",
      "Número de filas:  658\n",
      "Número de columnas:  69\n",
      "\n",
      "\n",
      "<class 'pandas.core.frame.DataFrame'>\n",
      "RangeIndex: 658 entries, 0 to 657\n",
      "Data columns (total 69 columns):\n",
      " #   Column          Non-Null Count  Dtype  \n",
      "---  ------          --------------  -----  \n",
      " 0   PROVINCIA       658 non-null    int64  \n",
      " 1   MUNICIPIO       658 non-null    int64  \n",
      " 2   ESTACION        658 non-null    int64  \n",
      " 3   MAGNITUD        658 non-null    int64  \n",
      " 4   PUNTO_MUESTREO  658 non-null    object \n",
      " 5   ANO             658 non-null    int64  \n",
      " 6   MES             658 non-null    int64  \n",
      " 7   D01             658 non-null    float64\n",
      " 8   V01             658 non-null    object \n",
      " 9   D02             658 non-null    float64\n",
      " 10  V02             658 non-null    object \n",
      " 11  D03             658 non-null    float64\n",
      " 12  V03             658 non-null    object \n",
      " 13  D04             658 non-null    float64\n",
      " 14  V04             658 non-null    object \n",
      " 15  D05             658 non-null    float64\n",
      " 16  V05             658 non-null    object \n",
      " 17  D06             658 non-null    float64\n",
      " 18  V06             658 non-null    object \n",
      " 19  D07             658 non-null    float64\n",
      " 20  V07             658 non-null    object \n",
      " 21  D08             658 non-null    float64\n",
      " 22  V08             658 non-null    object \n",
      " 23  D09             658 non-null    float64\n",
      " 24  V09             658 non-null    object \n",
      " 25  D10             658 non-null    float64\n",
      " 26  V10             658 non-null    object \n",
      " 27  D11             658 non-null    float64\n",
      " 28  V11             658 non-null    object \n",
      " 29  D12             658 non-null    float64\n",
      " 30  V12             658 non-null    object \n",
      " 31  D13             658 non-null    float64\n",
      " 32  V13             658 non-null    object \n",
      " 33  D14             658 non-null    float64\n",
      " 34  V14             658 non-null    object \n",
      " 35  D15             658 non-null    float64\n",
      " 36  V15             658 non-null    object \n",
      " 37  D16             658 non-null    float64\n",
      " 38  V16             658 non-null    object \n",
      " 39  D17             658 non-null    float64\n",
      " 40  V17             658 non-null    object \n",
      " 41  D18             658 non-null    float64\n",
      " 42  V18             658 non-null    object \n",
      " 43  D19             658 non-null    float64\n",
      " 44  V19             658 non-null    object \n",
      " 45  D20             658 non-null    float64\n",
      " 46  V20             658 non-null    object \n",
      " 47  D21             658 non-null    float64\n",
      " 48  V21             658 non-null    object \n",
      " 49  D22             658 non-null    float64\n",
      " 50  V22             658 non-null    object \n",
      " 51  D23             658 non-null    float64\n",
      " 52  V23             658 non-null    object \n",
      " 53  D24             658 non-null    float64\n",
      " 54  V24             658 non-null    object \n",
      " 55  D25             658 non-null    float64\n",
      " 56  V25             658 non-null    object \n",
      " 57  D26             658 non-null    float64\n",
      " 58  V26             658 non-null    object \n",
      " 59  D27             658 non-null    float64\n",
      " 60  V27             658 non-null    object \n",
      " 61  D28             658 non-null    float64\n",
      " 62  V28             658 non-null    object \n",
      " 63  D29             658 non-null    float64\n",
      " 64  V29             658 non-null    object \n",
      " 65  D30             658 non-null    float64\n",
      " 66  V30             658 non-null    object \n",
      " 67  D31             658 non-null    float64\n",
      " 68  V31             658 non-null    object \n",
      "dtypes: float64(31), int64(6), object(32)\n",
      "memory usage: 354.8+ KB\n",
      "None\n"
     ]
    }
   ],
   "source": [
    "# Descripción de parámetros generales -> count, mean, std, min, 25%, 50%, 75%, max\n",
    "print(df.describe())\n",
    "\n",
    "# Número de filas y columnas del dataset\n",
    "print(\"\\n\")\n",
    "print(\"Número de filas: \", df.shape[0])\n",
    "print(\"Número de columnas: \", df.shape[1])\n",
    "print(\"\\n\")\n",
    "\n",
    "# Para saber el tipo de variable de cada columna\n",
    "print(df.info())"
   ]
  },
  {
   "cell_type": "markdown",
   "metadata": {},
   "source": [
    "## 1.4 Observación inicial del dataset\n",
    "Vamos a mostrar todas las entradas para poder observar cómo es realmente por dentro el dataset"
   ]
  },
  {
   "cell_type": "code",
   "execution_count": 4,
   "metadata": {},
   "outputs": [
    {
     "name": "stdout",
     "output_type": "stream",
     "text": [
      "   ----------    10 primeras filas    ----------    \n",
      "\n",
      "\n",
      "   PROVINCIA  MUNICIPIO  ESTACION  MAGNITUD  PUNTO_MUESTREO   ANO  MES     D01 V01     D02 V02     D03 V03     D04 V04     D05 V05     D06 V06     D07 V07     D08 V08     D09 V09     D10 V10     D11 V11     D12 V12     D13 V13    D14 V14     D15 V15     D16 V16     D17 V17     D18 V18    D19 V19    D20 V20     D21 V21     D22 V22     D23 V23     D24 V24     D25 V25     D26 V26     D27 V27     D28 V28     D29 V29     D30 V30     D31 V31\n",
      "0         28         79       102        81  28079102_81_98  2024    1    0.90   V    0.66   V    1.51   V    0.91   V    2.70   V    1.91   V    0.98   V    0.82   V    0.82   V    1.76   V    1.61   V    1.30   V    0.76   V   0.98   V    1.94   V    2.60   V    4.29   V    3.63   V   3.41   V   2.13   V    0.87   V    0.68   V    0.82   V    0.92   V    0.90   V    0.78   V    1.51   V    1.30   V    1.16   V    0.79   V    1.32   V\n",
      "1         28         79       102        81  28079102_81_98  2024    2    1.29   V    1.80   V    1.53   V    0.78   V    0.71   V    1.02   V    1.50   V    2.21   V    2.94   V    3.58   V    2.66   V    2.27   V    0.87   V   1.23   V    2.03   V    1.49   V    1.11   V    0.97   V   1.44   V   1.17   V    0.99   V    3.69   V    3.24   V    2.68   V    5.29   V    3.56   V    2.94   V    2.21   V    2.49   V    0.00   N    0.00   N\n",
      "2         28         79       102        81  28079102_81_98  2024    3    2.75   V    3.99   V    3.40   V    3.14   V    1.51   V    1.19   V    2.29   V    4.03   V    3.60   V    3.40   V    2.79   V    1.11   V    1.29   V   1.80   V    1.05   V    0.87   V    0.88   V    1.01   V   1.26   V   2.14   V    2.73   V    2.12   V    2.16   V    2.63   V    1.96   V    3.47   V    5.10   V    4.04   V    2.12   V    2.84   V    2.82   V\n",
      "3         28         79       102        81  28079102_81_98  2024    4    2.93   V    1.74   V    1.90   V    1.12   V    1.65   V    1.52   V    1.89   V    3.32   V    1.60   V    1.75   V    2.34   V    1.17   V    1.11   V   1.41   V    1.35   V    1.76   V    2.91   V    3.25   V   2.16   V   1.80   V    2.44   V    3.90   V    2.94   V    1.97   V    1.36   V    2.48   V    3.36   V    1.14   V    2.18   V    2.24   V    0.00   N\n",
      "4         28         79       102        81  28079102_81_98  2024    5    3.20   V    2.45   V    1.83   V    2.65   V    2.90   V    1.57   V    1.85   V    2.41   V    1.50   V    1.93   V    2.58   V    1.50   V    2.60   V   3.00   V    2.68   V    2.61   V    2.28   V    1.46   V   2.22   V   1.64   V    1.56   V    1.73   V    1.53   V    2.09   V    2.41   V    2.15   V    1.50   V    1.98   V    1.80   V    2.28   V    3.69   V\n",
      "5         28         79       102        81  28079102_81_98  2024    6    3.89   V    3.01   V    2.46   V    1.62   V    1.84   V    1.88   V    2.91   V    2.21   V    1.64   V    2.08   V    2.26   V    2.61   V    2.51   V   2.56   V    2.22   V    1.89   V    2.07   V    2.08   V   1.79   V   1.80   V    1.07   V    1.78   V    2.51   V    1.97   V    1.80   V    2.53   V    2.97   V    2.95   V    3.41   V    1.68   V    0.00   N\n",
      "6         28         79       102        81  28079102_81_98  2024    7    2.25   V    2.66   V    1.88   V    1.59   V    2.35   V    2.71   V    2.57   V    2.00   V    2.31   V    2.06   V    2.75   V    1.94   V    2.84   V   2.95   V    3.54   V    1.57   V    1.62   V    1.58   V   1.87   V   2.78   V    1.99   V    2.06   V    1.68   V    2.00   V    2.05   V    1.91   V    2.09   V    3.43   V    2.34   V    2.69   V    2.10   V\n",
      "7         28         79       102        82  28079102_82_98  2024    1  170.00   V  150.00   V  218.00   V  181.00   V  257.00   V  257.00   V    7.00   V   76.00   V  130.00   V  252.00   V   71.00   V   75.00   V    0.00   V  19.00   V  246.00   V  236.00   V  245.00   V  249.00   V  75.00   V  51.00   V    3.00   V   99.00   V   51.00   V    2.00   V   12.00   V   23.00   V   36.00   V   49.00   V   67.00   V  124.00   V   67.00   V\n",
      "8         28         79       102        82  28079102_82_98  2024    2   14.00   V   14.00   V   13.00   V   17.00   V   54.00   V   66.00   V  238.00   V  186.00   V  170.00   V  260.00   V  247.00   V  221.00   V  228.00   V  19.00   V   74.00   V    1.00   V   34.00   V   14.00   V  15.00   V  21.00   V  226.00   V  239.00   V  255.00   V  228.00   V  237.00   V  261.00   V   18.00   V    3.00   V  253.00   V    0.00   N    0.00   N\n",
      "9         28         79       102        82  28079102_82_98  2024    3  243.00   V  230.00   V  265.00   V  247.00   V  246.00   V   60.00   V   34.00   V  245.00   V  201.00   V  246.00   V  274.00   V   64.00   V   51.00   V  48.00   V   75.00   V  132.00   V    3.00   V    7.00   V  54.00   V  80.00   V    0.00   V   40.00   V   31.00   V   55.00   V   44.00   V  239.00   V  246.00   V  240.00   V  239.00   V  170.00   V  176.00   V\n",
      "\n",
      "\n",
      "   ----------    10 filas aleatorias    ----------    \n",
      "\n",
      "\n",
      "     PROVINCIA  MUNICIPIO  ESTACION  MAGNITUD  PUNTO_MUESTREO   ANO  MES     D01 V01     D02 V02     D03 V03    D04 V04    D05 V05    D06 V06    D07 V07     D08 V08    D09 V09    D10 V10    D11 V11    D12 V12    D13 V13    D14 V14    D15 V15    D16 V16    D17 V17    D18 V18    D19 V19    D20 V20    D21 V21    D22 V22    D23 V23    D24 V24    D25 V25     D26 V26     D27 V27    D28 V28    D29 V29     D30 V30   D31 V31\n",
      "220         28         79       108        82  28079108_82_98  2024    4  203.00   V  205.00   V  211.00   V   6.00   V  64.00   V   9.00   V   5.00   V  210.00   V  72.00   V  21.00   V  15.00   V  36.00   V  49.00   V  42.00   V   6.00   V  39.00   V  66.00   V  68.00   V  53.00   V  63.00   V  71.00   V  58.00   V  53.00   V   0.00   V   6.00   V  201.00   V  200.00   V   9.00   V  41.00   V  216.00   V   0.0   N\n",
      "375         28         79         8        86  28079008_86_98  2024    5   59.00   V   55.00   V   55.00   V  54.00   V  69.00   V  67.00   V  46.00   V   42.00   V  38.00   V  37.00   V  36.00   V  42.00   V  45.00   V  51.00   V  45.00   V  49.00   V  59.00   V  46.00   V  48.00   V  53.00   V  59.00   V  50.00   V  41.00   V  43.00   V  33.00   V   36.00   V   39.00   V  44.00   V  34.00   V   36.00   V  34.0   V\n",
      "347         28         79       115        83  28079115_83_98  2024    5   11.80   V   11.80   V   14.10   V  17.60   V  17.40   V  16.70   V  17.10   V   18.70   V  20.40   V  22.60   V  23.20   V  22.60   V  22.30   V  16.40   V  15.40   V  14.80   V  16.40   V  17.40   V  17.20   V  16.10   V  16.40   V  17.60   V  19.40   V  21.70   V  22.50   V   22.80   V   24.10   V  25.20   V  27.40   V   28.10   V  24.1   V\n",
      "273         28         79       110        83  28079110_83_98  2024    1    6.90   V    6.10   V   11.20   V   9.70   V   7.50   V   7.00   V   6.70   V    6.90   N   6.30   V   6.70   V   5.80   V   4.50   V   6.30   V   7.90   V  11.70   V  13.30   V  11.50   V  11.90   V   7.30   V   6.90   V   8.70   V   7.10   V  10.10   V  12.40   V   8.60   N   17.80   N   13.20   V  12.50   V  12.10   V   10.50   V   8.3   V\n",
      "400         28         79        24        81  28079024_81_98  2024    2    0.47   V    0.84   V    0.61   V   0.56   V   0.62   V   0.83   V   1.02   V    1.72   V   2.16   V   2.19   V   2.02   V   2.13   V   0.65   V   0.64   V   1.06   V   1.09   V   0.62   V   0.52   V   0.55   V   0.68   V   0.63   V   2.52   V   2.10   V   1.87   V   4.16   V    2.10   V    1.25   V   1.09   V   1.44   V    0.00   N   0.0   N\n",
      "333         28         79       114        83  28079114_83_98  2024    5   11.70   V   11.80   V   14.10   V  17.60   V  17.40   V  16.70   V  17.00   V   18.60   V  20.30   V  22.60   V  23.10   V  22.60   V  22.30   V  16.40   V  15.30   V  14.80   V  16.40   V  17.50   V  17.20   V  16.20   V  16.40   V  17.60   V  19.40   V  21.70   V  22.50   V   22.90   V   24.10   V  25.20   V  27.40   V   28.10   V  24.0   V\n",
      "402         28         79        24        81  28079024_81_98  2024    4    2.76   V    1.18   V    1.45   V   0.80   V   0.85   V   0.83   V   1.32   V    2.38   V   1.04   V   0.68   V   0.98   V   0.83   V   0.66   V   0.84   V   0.81   V   0.91   V   0.94   V   1.16   V   0.94   V   0.92   V   1.04   V   1.31   V   1.09   V   1.19   V   0.89   V    2.03   V    2.87   V   0.73   V   0.89   V    1.79   V   0.0   N\n",
      "419         28         79        24        83  28079024_83_98  2024    7   23.40   V   24.10   V   26.30   V  28.80   V  29.70   V  28.00   V  24.10   V   25.10   V  25.70   V  26.30   V  28.70   V  27.40   V  26.10   V  25.70   V  24.60   V  25.30   V  26.20   V  27.90   V  29.50   V  28.50   V  26.40   V  27.00   V  30.70   V  32.70   V  32.40   V   31.00   V   31.60   V  31.80   V  30.30   V   30.90   V  30.3   V\n",
      "278         28         79       110        83  28079110_83_98  2024    6   19.70   V   20.50   V   22.50   V  24.50   V  26.40   V  27.10   V  27.40   V   20.10   V  19.70   V  17.30   V  19.10   V  19.40   V  20.80   V  23.80   V  23.20   V  23.10   V  23.90   V  21.20   V  18.80   V  16.80   V  17.30   N   0.00   N   0.00   N  29.30   N  27.20   V   25.10   V   27.00   V  23.10   V  19.20   V   21.50   V   0.0   N\n",
      "629         28         79        59        83  28079059_83_98  2024    7   22.70   V   22.90   V   25.30   V  27.80   V  29.10   V  27.30   V  23.50   V   25.20   V  26.00   V  27.50   V  28.60   V  27.00   V  25.50   V  26.50   V  25.40   V  25.00   V  26.40   V  28.00   V  29.40   V  28.10   V  25.60   V  25.70   V  29.40   V  31.60   V  31.60   V   30.30   V   30.90   V  31.00   V  29.30   V   29.70   V  30.1   V\n",
      "\n",
      "\n",
      "   ----------    10 últimas filas    ----------    \n",
      "\n",
      "\n",
      "     PROVINCIA  MUNICIPIO  ESTACION  MAGNITUD  PUNTO_MUESTREO   ANO  MES     D01 V01     D02 V02     D03 V03     D04 V04     D05 V05     D06 V06    D07 V07     D08 V08     D09 V09     D10 V10     D11 V11    D12 V12    D13 V13     D14 V14     D15 V15    D16 V16     D17 V17    D18 V18     D19 V19    D20 V20     D21 V21    D22 V22     D23 V23    D24 V24     D25 V25     D26 V26     D27 V27     D28 V28     D29 V29     D30 V30    D31 V31\n",
      "648         28         79        59        88  28079059_88_98  2024    5  284.00   V  270.00   V  303.00   V  332.00   V  207.00   V  238.00   V  329.0   V  335.00   V  310.00   V  332.00   V  338.00   V  286.0   V  299.0   V  285.00   V  282.00   V  299.0   V  212.00   V  295.0   V  300.00   V  253.0   V  166.00   V  290.0   V  359.00   V  357.0   V  351.00   V  339.00   V  340.00   V  342.00   V  348.00   V  351.00   V  353.0   V\n",
      "649         28         79        59        88  28079059_88_98  2024    6  355.00   V  364.00   V  318.00   V  329.00   V  338.00   V  315.00   V  249.0   V  106.00   V  166.00   V  150.00   V  346.00   V  316.0   V  362.0   V  371.00   V  370.00   V  368.0   V  369.00   V  187.0   V  313.00   V  196.0   V  364.00   V  309.0   V  335.00   V  356.0   V  339.00   V  230.00   V  233.00   V  222.00   V  179.00   V  233.00   V    0.0   N\n",
      "650         28         79        59        88  28079059_88_98  2024    7  329.00   V  358.00   V  356.00   V  352.00   V  342.00   V  344.00   V  359.0   V  353.00   V  343.00   V  351.00   V  351.00   V  357.0   V  351.0   V  361.00   V  349.00   V  352.0   V  332.00   V  257.0   V  336.00   V  340.0   V  353.00   V  355.0   V  340.00   V  331.0   V  329.00   V  307.00   V  317.00   V  319.00   V  219.00   V  303.00   V  333.0   V\n",
      "651         28         79        59        89  28079059_89_98  2024    1    0.00   V    0.00   V    1.75   V    2.85   V    0.75   V    0.00   V    0.0   V    0.00   V    0.00   V    0.00   V    0.00   V    0.0   V    0.0   V    1.00   V    3.35   V    0.1   V    4.60   V    0.0   V   14.90   V    0.0   V    0.00   V    0.0   V    0.00   V    0.0   V    0.00   V    0.00   V    0.00   V    0.00   V    0.00   V    0.00   V    0.0   V\n",
      "652         28         79        59        89  28079059_89_98  2024    2    0.00   V    0.00   V    0.00   V    0.00   V    0.00   V    0.00   V    0.0   V    0.60   V    6.40   V    0.15   V    0.05   V    0.1   V    0.0   V    0.00   V    1.55   V    0.0   V    0.00   V    0.0   V    0.00   V    0.0   V    0.00   V    1.6   V    1.05   V    0.0   V    0.40   V    0.00   V    0.00   V    0.00   V    0.00   V    0.00   N    0.0   N\n",
      "653         28         79        59        89  28079059_89_98  2024    3    0.00   V    5.25   V    0.00   V    0.00   V    0.00   V    0.00   V    2.9   V    3.55   V    3.75   V    1.60   V    0.00   V    0.0   V    0.0   V    0.00   V    0.00   V    0.0   V    0.00   V    0.0   V    0.00   V    0.0   V    0.00   V    0.0   V    0.00   V    0.0   V    1.95   V    1.35   V    0.95   V    6.25   V    4.25   V    3.65   V    5.4   V\n",
      "654         28         79        59        89  28079059_89_98  2024    4    0.15   V    0.00   V    0.00   V    0.00   V    0.00   V    0.00   V    0.0   V    0.15   V    0.00   V    0.00   V    0.00   V    0.0   V    0.0   V    0.00   V    0.00   V    0.0   V    0.00   V    0.0   V    0.00   V    0.0   V    0.00   V    0.0   V    0.00   V    0.0   V    0.00   V    0.00   V    5.05   V    0.00   V    0.00   V    0.00   V    0.0   N\n",
      "655         28         79        59        89  28079059_89_98  2024    5    0.00   V    0.00   V    0.00   V    0.00   V    4.40   V    0.45   V    0.0   V    0.00   V    0.00   V    0.00   V    0.00   V    0.0   V    0.0   V    0.35   V    0.00   V    0.0   V    0.55   V    0.0   V    0.00   V    0.0   V    0.05   V    0.0   V    0.00   V    0.0   V    0.00   V    0.00   V    0.00   V    0.00   V    0.00   V    0.00   V    0.0   V\n",
      "656         28         79        59        89  28079059_89_98  2024    6    0.00   V    0.00   V    0.00   V    0.00   V    0.00   V    1.40   V    0.0   V    1.60   V    0.05   V   14.55   V    0.00   V    0.0   V    0.0   V    0.00   V    0.00   V    0.0   V    0.00   V    0.1   V    0.05   V    4.2   V    0.00   V    0.0   V    0.00   V    0.0   V    0.00   V    0.10   V    0.00   V    0.00   V    0.50   V    0.00   V    0.0   N\n",
      "657         28         79        59        89  28079059_89_98  2024    7    0.00   V    0.00   V    0.00   V    0.00   V    0.00   V    0.00   V    0.0   V    0.00   V    0.00   V    0.00   V    0.00   V    0.0   V    0.0   V    0.00   V    0.00   V    0.0   V    0.00   V    0.0   V    0.00   V    0.0   V    0.00   V    0.0   V    0.00   V    0.0   V    0.00   V    0.00   V    0.00   V    0.00   V    0.00   V    0.00   V    0.0   V\n"
     ]
    }
   ],
   "source": [
    "# Mostramos las 10 primeras filas, 10 filas aleatorias y las 10 últimas\n",
    "print(\"   ----------    10 primeras filas    ----------    \")\n",
    "print(\"\\n\")\n",
    "print(df.head(10))\n",
    "print(\"\\n\")\n",
    "print(\"   ----------    10 filas aleatorias    ----------    \")\n",
    "print(\"\\n\")\n",
    "print(df.sample(10))\n",
    "print(\"\\n\")\n",
    "print(\"   ----------    10 últimas filas    ----------    \")\n",
    "print(\"\\n\")\n",
    "print(df.tail(10))"
   ]
  },
  {
   "cell_type": "markdown",
   "metadata": {},
   "source": [
    "## 1.5 Revisión de valores nulos\n",
    "Como ya se ha visto en el anterior apartado (info), podemos observar los valores nulos de esa forma. Pero se puede observar de una forma más visual en esta sección y, además, hay que tener en cuenta valores como el cero que también pueden considerarse nulos."
   ]
  },
  {
   "cell_type": "code",
   "execution_count": 5,
   "metadata": {},
   "outputs": [
    {
     "name": "stdout",
     "output_type": "stream",
     "text": [
      "    ----------    Valores faltantes    ----------    \n",
      "\n",
      "\n",
      "PROVINCIA         0\n",
      "MUNICIPIO         0\n",
      "ESTACION          0\n",
      "MAGNITUD          0\n",
      "PUNTO_MUESTREO    0\n",
      "ANO               0\n",
      "MES               0\n",
      "D01               0\n",
      "V01               0\n",
      "D02               0\n",
      "V02               0\n",
      "D03               0\n",
      "V03               0\n",
      "D04               0\n",
      "V04               0\n",
      "D05               0\n",
      "V05               0\n",
      "D06               0\n",
      "V06               0\n",
      "D07               0\n",
      "V07               0\n",
      "D08               0\n",
      "V08               0\n",
      "D09               0\n",
      "V09               0\n",
      "D10               0\n",
      "V10               0\n",
      "D11               0\n",
      "V11               0\n",
      "D12               0\n",
      "V12               0\n",
      "D13               0\n",
      "V13               0\n",
      "D14               0\n",
      "V14               0\n",
      "D15               0\n",
      "V15               0\n",
      "D16               0\n",
      "V16               0\n",
      "D17               0\n",
      "V17               0\n",
      "D18               0\n",
      "V18               0\n",
      "D19               0\n",
      "V19               0\n",
      "D20               0\n",
      "V20               0\n",
      "D21               0\n",
      "V21               0\n",
      "D22               0\n",
      "V22               0\n",
      "D23               0\n",
      "V23               0\n",
      "D24               0\n",
      "V24               0\n",
      "D25               0\n",
      "V25               0\n",
      "D26               0\n",
      "V26               0\n",
      "D27               0\n",
      "V27               0\n",
      "D28               0\n",
      "V28               0\n",
      "D29               0\n",
      "V29               0\n",
      "D30               0\n",
      "V30               0\n",
      "D31               0\n",
      "V31               0\n",
      "dtype: int64\n",
      "\n",
      "\n",
      "    ----------    Valores cero    ----------    \n",
      "\n",
      "\n",
      "PROVINCIA           0\n",
      "MUNICIPIO           0\n",
      "ESTACION            0\n",
      "MAGNITUD            0\n",
      "PUNTO_MUESTREO      0\n",
      "ANO                 0\n",
      "MES                 0\n",
      "D01                63\n",
      "V01                 0\n",
      "D02                64\n",
      "V02                 0\n",
      "D03                69\n",
      "V03                 0\n",
      "D04                72\n",
      "V04                 0\n",
      "D05                60\n",
      "V05                 0\n",
      "D06                60\n",
      "V06                 0\n",
      "D07                75\n",
      "V07                 0\n",
      "D08                41\n",
      "V08                 0\n",
      "D09                59\n",
      "V09                 0\n",
      "D10                47\n",
      "V10                 0\n",
      "D11                67\n",
      "V11                 0\n",
      "D12                67\n",
      "V12                 0\n",
      "D13                87\n",
      "V13                 0\n",
      "D14                61\n",
      "V14                 0\n",
      "D15                68\n",
      "V15                 0\n",
      "D16                84\n",
      "V16                 0\n",
      "D17                72\n",
      "V17                 0\n",
      "D18                75\n",
      "V18                 0\n",
      "D19                73\n",
      "V19                 0\n",
      "D20                69\n",
      "V20                 0\n",
      "D21                74\n",
      "V21                 0\n",
      "D22                73\n",
      "V22                 0\n",
      "D23                74\n",
      "V23                 0\n",
      "D24                77\n",
      "V24                 0\n",
      "D25                56\n",
      "V25                 0\n",
      "D26                57\n",
      "V26                 0\n",
      "D27                63\n",
      "V27                 0\n",
      "D28                62\n",
      "V28                 0\n",
      "D29                56\n",
      "V29                 0\n",
      "D30               150\n",
      "V30                 0\n",
      "D31               316\n",
      "V31                 0\n",
      "dtype: int64\n"
     ]
    }
   ],
   "source": [
    "# Para poder saber el número de valores faltantes\n",
    "print(\"    ----------    Valores faltantes    ----------    \")\n",
    "print(\"\\n\")\n",
    "print(df.isnull().sum())\n",
    "print(\"\\n\")\n",
    "\n",
    "# Para poder saber el número de ceros en cada columna\n",
    "print(\"    ----------    Valores cero    ----------    \")\n",
    "print(\"\\n\")\n",
    "print((df == 0).sum())"
   ]
  },
  {
   "cell_type": "markdown",
   "metadata": {},
   "source": [
    "No encontramos valores nulos y los valores cero pueden estar en el dataset, por lo que no se hará limpieza de esto"
   ]
  },
  {
   "cell_type": "markdown",
   "metadata": {},
   "source": [
    "## 1.6 Identificación de fechas no estandarizadas\n",
    "Se deben identificar las fechas que no se encuentran en el formato adecuado para MongoDB (DD/MM/YYYY)"
   ]
  },
  {
   "cell_type": "markdown",
   "metadata": {},
   "source": [
    "Como no hay fechas no estandarizadas en el dataset, no se realizará la limpieza de este apartado "
   ]
  },
  {
   "cell_type": "markdown",
   "metadata": {},
   "source": [
    "## 1.7 Identificación de registros duplicados\n",
    "Debemos validar que no existen filas iguales que ensucien el dataset, sobre todo estando pendiente de duplicaciones de la clave primaria. Como no hay ninguna PK, debemos ver qué filas están duplicadas y qué filas poseen los mismos campos de PUNTO_MUESTREO, ANO, MES y MAGNITUD. Estas 4 columnas identifican inequívocamente a cada fila"
   ]
  },
  {
   "cell_type": "code",
   "execution_count": 6,
   "metadata": {},
   "outputs": [
    {
     "name": "stdout",
     "output_type": "stream",
     "text": [
      "   ----------    Filas duplicadas    ----------    \n",
      "\n",
      "\n",
      "Empty DataFrame\n",
      "Columns: [PROVINCIA, MUNICIPIO, ESTACION, MAGNITUD, PUNTO_MUESTREO, ANO, MES, D01, V01, D02, V02, D03, V03, D04, V04, D05, V05, D06, V06, D07, V07, D08, V08, D09, V09, D10, V10, D11, V11, D12, V12, D13, V13, D14, V14, D15, V15, D16, V16, D17, V17, D18, V18, D19, V19, D20, V20, D21, V21, D22, V22, D23, V23, D24, V24, D25, V25, D26, V26, D27, V27, D28, V28, D29, V29, D30, V30, D31, V31]\n",
      "Index: []\n",
      "\n",
      "\n",
      "Número de filas duplicadas:  0\n",
      "\n",
      "\n",
      "   ----------    Filas con el mismo ID    ----------    \n",
      "\n",
      "\n",
      "Empty DataFrame\n",
      "Columns: [PROVINCIA, MUNICIPIO, ESTACION, MAGNITUD, PUNTO_MUESTREO, ANO, MES, D01, V01, D02, V02, D03, V03, D04, V04, D05, V05, D06, V06, D07, V07, D08, V08, D09, V09, D10, V10, D11, V11, D12, V12, D13, V13, D14, V14, D15, V15, D16, V16, D17, V17, D18, V18, D19, V19, D20, V20, D21, V21, D22, V22, D23, V23, D24, V24, D25, V25, D26, V26, D27, V27, D28, V28, D29, V29, D30, V30, D31, V31]\n",
      "Index: []\n",
      "\n",
      "\n",
      "Número de filas con el mismo ID:  0\n"
     ]
    }
   ],
   "source": [
    "# Ver las filas duplicadas\n",
    "print(\"   ----------    Filas duplicadas    ----------    \")\n",
    "print(\"\\n\")\n",
    "print(df[df.duplicated()])\n",
    "print(\"\\n\")\n",
    "\n",
    "# Número de filas duplicadas\n",
    "print(\"Número de filas duplicadas: \", df.duplicated().sum())\n",
    "print(\"\\n\")\n",
    "\n",
    "# Filtrar filas que tienen el mismo ID\n",
    "duplicados = df.groupby(['PUNTO_MUESTREO', 'ANO', 'MES', 'MAGNITUD']).filter(lambda x: len(x) > 1)\n",
    "\n",
    "# Ordenar por NIF para que las filas con el mismo NIF se visualicen una encima de la otra\n",
    "duplicados = duplicados.sort_values(by='PUNTO_MUESTREO')\n",
    "\n",
    "# Mostrar las filas con la misma PK\n",
    "print(\"   ----------    Filas con el mismo ID    ----------    \")\n",
    "print(\"\\n\")\n",
    "print(duplicados)\n",
    "print(\"\\n\")\n",
    "print(\"Número de filas con el mismo ID: \", duplicados.shape[0])"
   ]
  },
  {
   "cell_type": "markdown",
   "metadata": {},
   "source": [
    "Existen filas iguales que no difieren en nada entre ellas, por lo que pueden ser eliminadas sin problemas"
   ]
  },
  {
   "cell_type": "markdown",
   "metadata": {},
   "source": [
    "## 1.8 Búsqueda de errores tipográficos\n",
    "Hay ciertos atributos de texto que pueden contar con determinados errores tipográficos que deben ser solucionados, como los nombres de áreas, juegos, usuarios y ubicaciones"
   ]
  },
  {
   "cell_type": "markdown",
   "metadata": {},
   "source": [
    "En este dataset no encontramos ningún atributo similar, por lo que este paso no se realizará"
   ]
  },
  {
   "cell_type": "markdown",
   "metadata": {},
   "source": [
    "## 1.9 Identificación de valores enum fuera de campo\n",
    "Hay ciertos atributos que solo deben poseer ciertos valores (como Operativo-NoOperativo). Hace falta identificar aquellos valores de ese campo fuera de la norma"
   ]
  },
  {
   "cell_type": "markdown",
   "metadata": {},
   "source": [
    "Todos los Enums poseen valores acordes con lo esperado, por lo que no se va a realizar una limpieza como tal de ellos. Aunque se debe limpiar los valores de TIPO_INCIDENTE que poseen tildes raras"
   ]
  },
  {
   "cell_type": "markdown",
   "metadata": {},
   "source": [
    "## 1.10 Validación de las coordenadas y otros campos geoespaciales\n",
    "Hay algunas veces en las que los códigos postales no respetan la identificación de Madrid (280..) o el formato, ya sean códigos postales u otros atributos de geolocalización"
   ]
  },
  {
   "cell_type": "markdown",
   "metadata": {},
   "source": [
    "En este dataset no encontramos valores de localización, por lo que este paso no se realizará"
   ]
  },
  {
   "cell_type": "markdown",
   "metadata": {},
   "source": [
    "## 1.11 Identificación de unidades de medida en un formato no estandarizado\n",
    "Se deben identificar las filas que no posean un formato estándar"
   ]
  },
  {
   "cell_type": "markdown",
   "metadata": {},
   "source": [
    "En este dataset no encontramos valores de unidades de medida, por lo que este paso no se realizará"
   ]
  },
  {
   "cell_type": "markdown",
   "metadata": {},
   "source": [
    "## 1.12 Otros atributos a corregir\n",
    "En esta sección se mencionarán aquellos atributos que también deban ser limpiados por errores"
   ]
  },
  {
   "cell_type": "markdown",
   "metadata": {},
   "source": [
    "### 1.12.1 Validación de varios atributos que se pueden considerar Enum\n",
    "Tanto PROVINCIA, MUNICIPIO, ESTACION, ANO y MES se pueden considerar Enum puesto que tienen valores acotados, como se puede observar aquí"
   ]
  },
  {
   "cell_type": "code",
   "execution_count": 7,
   "metadata": {},
   "outputs": [
    {
     "name": "stdout",
     "output_type": "stream",
     "text": [
      "   ----------    Valores distintos de la columna 'PROVINCIA'    ----------    \n",
      "\n",
      "\n",
      "[28]\n",
      "\n",
      "\n",
      "   ----------    Valores distintos de la columna 'MUNICIPIO'    ----------    \n",
      "\n",
      "\n",
      "[79]\n",
      "\n",
      "\n",
      "   ----------    Valores distintos de la columna 'ESTACION'    ----------    \n",
      "\n",
      "\n",
      "[102 103 104 106 107 108 109 110 111 112 113 114 115   4   8  16  18  24\n",
      "  35  36  38  39  54  56  58  59]\n",
      "\n",
      "\n",
      "   ----------    Valores distintos de la columna 'MAGNITUD'    ----------    \n",
      "\n",
      "\n",
      "[81 82 83 86 87 88 89]\n",
      "\n",
      "\n",
      "   ----------    Valores distintos de la columna 'ANO'    ----------    \n",
      "\n",
      "\n",
      "[2024]\n",
      "\n",
      "\n",
      "   ----------    Valores distintos de la columna 'MES'    ----------    \n",
      "\n",
      "\n",
      "[1 2 3 4 5 6 7]\n"
     ]
    }
   ],
   "source": [
    "# Muestra todos los valores distintos de la columna 'PROVINCIA'\n",
    "print(\"   ----------    Valores distintos de la columna 'PROVINCIA'    ----------    \")\n",
    "print(\"\\n\")\n",
    "print(df['PROVINCIA'].unique())\n",
    "print(\"\\n\")\n",
    "\n",
    "# Muestra todos los valores distintos de la columna 'MUNICIPIO'\n",
    "print(\"   ----------    Valores distintos de la columna 'MUNICIPIO'    ----------    \")\n",
    "print(\"\\n\")\n",
    "print(df['MUNICIPIO'].unique())\n",
    "print(\"\\n\")\n",
    "\n",
    "# Muestra todos los valores distintos de la columna 'ESTACION'\n",
    "print(\"   ----------    Valores distintos de la columna 'ESTACION'    ----------    \")\n",
    "print(\"\\n\")\n",
    "print(df['ESTACION'].unique())\n",
    "print(\"\\n\")\n",
    "\n",
    "# Muestra todos los valores distintos de la columna 'MAGNITUD'\n",
    "print(\"   ----------    Valores distintos de la columna 'MAGNITUD'    ----------    \")\n",
    "print(\"\\n\")\n",
    "print(df['MAGNITUD'].unique())\n",
    "print(\"\\n\")\n",
    "\n",
    "# Muestra todos los valores distintos de la columna 'ANO'\n",
    "print(\"   ----------    Valores distintos de la columna 'ANO'    ----------    \")\n",
    "print(\"\\n\")\n",
    "print(df['ANO'].unique())\n",
    "print(\"\\n\")\n",
    "\n",
    "# Muestra todos los valores distintos de la columna 'MES'\n",
    "print(\"   ----------    Valores distintos de la columna 'MES'    ----------    \")\n",
    "print(\"\\n\")\n",
    "print(df['MES'].unique())"
   ]
  },
  {
   "cell_type": "markdown",
   "metadata": {},
   "source": [
    "Como poseen valores acotados que tienen sentido, no se realizará la limpieza de estas columnas"
   ]
  },
  {
   "cell_type": "markdown",
   "metadata": {},
   "source": [
    "### 1.12.2 Validación de PUNTO_MUESTREO\n",
    "Para este paso debemos comprobar que PUNTO_MUESTREO se encuentra en el dataset de CódigosPostales y que posee el siguiente formato:\n",
    "- PUNTO_MUESTREO = PROVINCIA+MUNICIPIO+ESTACION+_+MAGNITUD+_+98"
   ]
  },
  {
   "cell_type": "code",
   "execution_count": 8,
   "metadata": {},
   "outputs": [
    {
     "name": "stdout",
     "output_type": "stream",
     "text": [
      "   ----------    PUNTO_MUESTREO con formato incorrecto    ----------    \n",
      "\n",
      "\n",
      "El formato de PUNTO_MUESTREO es correcto:  True\n",
      "\n",
      "\n",
      "   ----------    PUNTO_MUESTREO no encontrado en el dataset estaciones_meteo_CodigoPostal.csv    ----------    \n",
      "\n",
      "\n",
      "El PUNTO_MUESTREO se encuentra en el dataset estaciones_meteo_CodigoPostal.csv:  True\n"
     ]
    }
   ],
   "source": [
    "# Debemos validar que todos los PUNTO_MUESTREO tengan el mismo formato\n",
    "print(\"   ----------    PUNTO_MUESTREO con formato incorrecto    ----------    \")\n",
    "print(\"\\n\")\n",
    "# Pasamos a listas los valores de la columna 'PUNTO_MUESTREO', 'PROVINCIA', 'MUNICIPIO', 'ESTACION' y 'MAGNITUD'\n",
    "punto_muestreo = df['PUNTO_MUESTREO'].tolist()\n",
    "provincia = df['PROVINCIA'].tolist()\n",
    "municipio = df['MUNICIPIO'].tolist()\n",
    "estacion = df['ESTACION'].tolist()\n",
    "magnitud = df['MAGNITUD'].tolist()\n",
    "\n",
    "index = 0\n",
    "isvalid = True\n",
    "\n",
    "for elem in punto_muestreo:\n",
    "    if int(elem[0:2]) != provincia[index]:\n",
    "        isvalid = False\n",
    "        break\n",
    "    elif int(elem[2:5]) != municipio[index]:\n",
    "        isvalid = False\n",
    "        break\n",
    "    elif int(elem[5:8]) != estacion[index]:\n",
    "        isvalid = False\n",
    "        break\n",
    "    elif elem[8] != '_' or elem[11] != '_':\n",
    "        isvalid = False\n",
    "        break\n",
    "    elif int(elem[9:11]) != magnitud[index]:\n",
    "        isvalid = False\n",
    "        break\n",
    "    elif elem[-2:] != '98':\n",
    "        isvalid = False\n",
    "        break\n",
    "    elif len(elem) != 14:\n",
    "        isvalid = False\n",
    "        break\n",
    "    else:\n",
    "        isvalid = True\n",
    "        index += 1\n",
    "\n",
    "# Mostramos si el formato de PUNTO_MUESTREO es correcto\n",
    "print(\"El formato de PUNTO_MUESTREO es correcto: \", isvalid)\n",
    "print(\"\\n\")\n",
    "\n",
    "# Además, debemos validar que el PUNTO_MUESTREO se encuentra en el dataset estaciones_meteo_CodigoPostal.csv\n",
    "print(\"   ----------    PUNTO_MUESTREO no encontrado en el dataset estaciones_meteo_CodigoPostal.csv    ----------    \")\n",
    "print(\"\\n\")\n",
    "# Lectura dataset separado por caracteres ';'\n",
    "df_estaciones = pd.read_csv('../estaciones_meteo_CodigoPostal.csv', sep=';')\n",
    "# Pasamos a listas los valores de la columna 'PUNTO_MUESTREO'\n",
    "punto_muestreo = df['PUNTO_MUESTREO'].tolist()\n",
    "# Pasamos a listas los valores de la columna 'PUNTO_MUESTREO'\n",
    "punto_muestreo_estaciones = df_estaciones['CÓDIGO'].tolist()\n",
    "# Comparamos los valores de las listas\n",
    "isvalid = True\n",
    "for elem in punto_muestreo:\n",
    "    elem_transformado = elem[:8]\n",
    "    if int(elem_transformado) not in punto_muestreo_estaciones:\n",
    "        isvalid = False\n",
    "# Mostramos si el PUNTO_MUESTREO se encuentra en el dataset estaciones_meteo_CodigoPostal.csv\n",
    "print(\"El PUNTO_MUESTREO se encuentra en el dataset estaciones_meteo_CodigoPostal.csv: \", isvalid)"
   ]
  },
  {
   "cell_type": "markdown",
   "metadata": {},
   "source": [
    "Todos los PUNTO_MUESTREO están correctos, por lo que no se precisará su limpieza"
   ]
  },
  {
   "cell_type": "markdown",
   "metadata": {},
   "source": [
    "# 2. Limpieza de los datasets\n",
    "En este apartado se realizará la limpieza según la información obtenida en el análisis exploratorio de datos:\n",
    "- No se debe hacer limpieza de nada ya según el EDA"
   ]
  },
  {
   "cell_type": "markdown",
   "metadata": {},
   "source": [
    "Pero, por otro lado, hay que dejar el dataset en el formato pedido por el enunciado:\n",
    "- FECHA -> Combinación de DÍA/MES/ANO\n",
    "  - Día se debe extraer de cada dato separado en columnas del dataset\n",
    "- TEMPERATURA -> Si la magnitud es 83, todos los datos de esa fila separados por cada columna del día serán temperaturas\n",
    "- PRECIPITACION -> Si la magnitud es 89, todos los datos de esa fila separados por cada columna del día serán precipitaciones\n",
    "- VIENTO -> Si la magnitud es 81, todos los datos de esa fila separados por cada columna del día serán vientos que deberán ser comprobados para saber si son vientos fuertes o no\n",
    "- DISTRITO -> Se deberá extraer el punto de muestreo y compararlo con el dataset de CodigoPostal\n",
    "  - Una vez obtenido la relación, se debe extraer el código postal y convertirlo al nombre del distrito en cuestión"
   ]
  },
  {
   "cell_type": "markdown",
   "metadata": {},
   "source": [
    "## 2.1 Limpieza de filas que no tengan magnitudes de precipitación, viento o temperatura\n",
    "En este paso debemos eliminar las filas que tengan MAGNITUD != 81,83 u 89"
   ]
  },
  {
   "cell_type": "code",
   "execution_count": 9,
   "metadata": {},
   "outputs": [
    {
     "name": "stdout",
     "output_type": "stream",
     "text": [
      "   ----------    Filas con MAGNITUD de 81, 83 y 89    ----------    \n",
      "\n",
      "\n",
      "     PROVINCIA  MUNICIPIO  ESTACION  MAGNITUD  PUNTO_MUESTREO   ANO  MES    D01 V01    D02 V02    D03 V03   D04 V04    D05 V05    D06 V06    D07 V07    D08 V08    D09 V09    D10 V10   D11 V11    D12 V12    D13 V13    D14 V14    D15 V15    D16 V16    D17 V17    D18 V18    D19 V19    D20 V20    D21 V21    D22 V22    D23 V23    D24 V24    D25 V25    D26 V26    D27 V27    D28 V28    D29 V29    D30 V30    D31 V31\n",
      "415         28         79        24        83  28079024_83_98  2024    3   7.20   V   5.30   V   5.50   V   8.5   V   8.80   V   7.50   V   6.90   V   6.20   V   5.30   V   7.40   V   9.4   V   9.30   V  11.10   V  10.20   V  11.70   V  12.20   V  14.40   V  14.80   V  16.40   V  16.00   V  17.50   V  17.70   V  16.50   V  15.90   V  12.00   V   5.90   V   7.70   V  10.40   V   7.00   V   6.60   V   6.10   V\n",
      "599         28         79        58        83  28079058_83_98  2024    5  11.60   N  10.20   V  11.00   V  14.5   V  14.80   V  14.00   V  13.80   V  15.80   V  17.10   V  19.20   V  19.9   V  19.70   V  19.30   V  15.10   V  13.60   V  13.20   V  14.50   V  14.60   V  14.30   V  13.20   V  14.20   V  14.30   V  15.70   V  19.30   V  19.00   V  18.70   V  -0.40   N  22.70   V  23.80   V  24.70   V  22.20   V\n",
      "158         28         79       106        89  28079106_89_98  2024    5   0.10   V   0.00   V   0.00   V   0.0   N   2.60   V   1.20   V   0.00   V   0.00   V   0.00   V   0.00   V   0.0   V   0.00   V   0.00   V   0.30   V   0.00   V   0.00   V   0.10   V   0.00   V   0.00   V   0.00   V   0.20   V   0.00   V   0.00   V   0.00   V   0.00   V   0.00   V   0.00   V   0.00   V   0.00   V   0.00   V   0.00   V\n",
      "289         28         79       111        83  28079111_83_98  2024    3   8.00   V   6.20   V   6.40   V   9.2   V   9.80   V   9.70   V   8.70   V   6.90   V   6.10   V   8.20   V  10.1   V  11.50   V  13.50   V  12.90   V  13.10   V  13.30   V   0.00   N  19.20   N  18.70   V  18.60   V  18.80   V  19.80   V  19.50   V  17.30   V  12.50   V   7.10   V   8.90   V  10.80   V   7.90   V   7.60   V   6.90   V\n",
      "212         28         79       108        81  28079108_81_98  2024    3   1.65   V   1.88   V   2.44   V   1.6   V   0.86   V   0.69   V   1.02   V   1.89   V   1.64   V   2.03   V   1.5   V   0.53   V   0.61   V   0.88   V   0.57   V   0.63   V   0.51   V   0.54   V   0.67   V   0.91   V   1.16   V   1.03   V   1.02   V   1.11   V   1.01   V   1.99   V   2.51   V   2.17   V   1.05   V   1.19   V   1.42   V\n",
      "369         28         79         8        83  28079008_83_98  2024    6  19.50   V  20.30   V  22.50   V  24.8   V  27.20   V  27.80   V  27.30   V  20.20   V  20.20   V  17.30   V  19.0   V  19.70   V  21.20   V  24.20   V  23.80   V  24.10   V  24.40   V  21.20   V  19.60   V  17.20   V  21.80   V  24.20   V  24.50   V  25.80   V  27.90   V  25.50   V  27.20   V  23.40   V  19.70   V  21.90   V   0.00   N\n",
      "526         28         79        54        83  28079054_83_98  2024    2  10.70   V  10.80   V  10.40   V  10.1   V   9.60   V   9.80   V   9.00   V   9.40   V   9.50   V   8.00   V   5.7   V   9.90   V  12.50   V  14.00   V  12.10   V  12.40   V  11.10   V  11.30   V  12.90   V  12.50   V  10.80   V  10.70   V   6.90   V   6.60   V   9.50   V   8.90   V   7.40   V   8.90   V   8.50   V   0.00   N   0.00   N\n",
      "570         28         79        56        83  28079056_83_98  2024    4   8.50   V  10.60   V  13.50   V  14.9   V  16.80   V  19.20   V  18.50   V  14.30   V  11.90   V  14.60   V  19.5   V  19.00   V  20.00   V  20.40   V  21.50   V  20.20   V  16.70   V  16.20   V  15.20   V  18.20   V  17.60   V  13.60   V  11.70   V  12.80   V  14.40   V  13.60   V  11.90   V  12.90   V  13.70   V  14.10   V   0.00   N\n",
      "477         28         79        38        83  28079038_83_98  2024    2  12.30   V  11.90   V  12.00   V  12.2   V  11.20   V  10.40   V   8.70   V   9.50   V   9.10   V   7.20   V   5.3   V   9.70   V  12.60   V  14.20   V  12.40   V  12.10   V  11.90   V  12.80   V  13.90   V  13.60   V  11.60   V  10.30   V   6.40   V   6.50   V   9.00   V   8.10   V   7.40   V   9.30   V   8.60   V   0.00   N   0.00   N\n",
      "227         28         79       108        83  28079108_83_98  2024    4   6.30   V   7.90   V  11.30   V  12.3   V  15.30   V  17.00   V  16.10   V  11.10   V   9.10   V  12.40   V  16.8   V  16.90   V  18.00   V  18.50   V  19.00   V  16.90   V  14.00   V  13.40   V  12.80   V  16.00   V  15.20   V  10.80   V   8.90   V  10.30   V  11.10   V  10.90   V   8.70   V   9.20   V  11.40   V  10.60   V   0.00   N\n"
     ]
    }
   ],
   "source": [
    "# Eliminar las filas que no tengan la MAGNITUD = 81, 83 u 89\n",
    "print(\"   ----------    Filas con MAGNITUD de 81, 83 y 89    ----------    \")\n",
    "print(\"\\n\")\n",
    "df = df[(df['MAGNITUD'] == 81) | (df['MAGNITUD'] == 83) | (df['MAGNITUD'] == 89)]\n",
    "print(df.sample(10))"
   ]
  },
  {
   "cell_type": "markdown",
   "metadata": {},
   "source": [
    "## 2.2 Transformación del dataset completa\n",
    "Debemos ir insertando filas en un nuevo dataset según los criterios previamente mencionados"
   ]
  },
  {
   "cell_type": "code",
   "execution_count": 10,
   "metadata": {},
   "outputs": [
    {
     "name": "stdout",
     "output_type": "stream",
     "text": [
      "             FECHA TEMPERATURA PRECIPITACIÓN VIENTO             DISTRITO\n",
      "153810  20/07/2024          29             0      F           Arganzuela\n",
      "131669  13/05/2024          22             0      F   Puente de Vallecas\n",
      "36316   16/03/2024          10             0      F           Villaverde\n",
      "82871   09/03/2024           3             6      F            Hortaleza\n",
      "236996  02/02/2024          10             0      F    Villa de Vallecas\n",
      "92829   16/06/2024          20             0      F  Fuencarral-El Pardo\n",
      "297657  27/02/2024           6             0      F              Barajas\n",
      "244472  07/03/2024           8             5      F    Villa de Vallecas\n",
      "181089  19/07/2024          30             0      F          Carabanchel\n",
      "244560  02/03/2024           6            10      F    Villa de Vallecas\n",
      "157012  29/03/2024           8             0      F      Moncloa-Aravaca\n",
      "267205  17/06/2024          24             0      F          Carabanchel\n",
      "198347  10/04/2024          13             0      F      Moncloa-Aravaca\n",
      "268666  21/07/2024          27             0      F          Carabanchel\n",
      "296914  28/01/2024          10             0      F              Barajas\n",
      "100340  25/07/2024          29             0      F  Fuencarral-El Pardo\n",
      "110901  15/04/2024          24             0      F             Chamberí\n",
      "120914  15/07/2024          25             0      F               Centro\n",
      "215646  11/01/2024           5             0      F             Chamberí\n",
      "46842   02/07/2024           0             0      F   Puente de Vallecas\n",
      "265285  19/04/2024          15             0      F          Carabanchel\n",
      "181614  17/07/2024          27             0      F          Carabanchel\n",
      "187742  07/07/2024          24             0      F      Moncloa-Aravaca\n",
      "262153  18/07/2024          29             0      F          Carabanchel\n",
      "280966  14/06/2024          21             0      F  Fuencarral-El Pardo\n",
      "263244  24/01/2024          11             0      F          Carabanchel\n",
      "158500  29/04/2024          13             0      F      Moncloa-Aravaca\n",
      "280521  03/05/2024          11             0      F  Fuencarral-El Pardo\n",
      "174755  09/07/2024          26             0      F        Ciudad Lineal\n",
      "134293  02/07/2024          24             0      F   Puente de Vallecas\n"
     ]
    }
   ],
   "source": [
    "# Creamos un nuevo dataframe vacío con columnas FECHA, TEMPERATURA, PRECIPITACIÓN, VIENTO y DISTRITO\n",
    "resultado = pd.DataFrame(columns=['FECHA', 'TEMPERATURA', 'PRECIPITACIÓN', 'VIENTO', 'DISTRITO'])\n",
    "df_estaciones = pd.read_csv('../estaciones_meteo_CodigoPostalLimpio.csv', sep=',')\n",
    "\n",
    "# Sacamos una lista con todos los puntos de muestreo\n",
    "puntos_muestreo = df['PUNTO_MUESTREO'].unique()\n",
    "# De todos los elementos extraemos los 8 primeros caracteres\n",
    "puntos_muestreo = [elem[:8] for elem in puntos_muestreo]\n",
    "# Iteramos por todos los puntos de muestreo\n",
    "for punto in puntos_muestreo:\n",
    "    # Extraemos el distrito del otro dataset\n",
    "    # Buscamos el distrito en el que el punto de muestreo sea igual al código\n",
    "    distrito = df_estaciones.loc[df_estaciones['CÓDIGO'] == int(punto), 'DISTRITO'].values[0]\n",
    "    for i in range(1,8):\n",
    "        # Buscamos las filas que tengan el punto de muestreo que comience por punto y el mes\n",
    "        df_punto = df[df['PUNTO_MUESTREO'].str.startswith(punto) & (df['MES'] == i)]\n",
    "        temp = []\n",
    "        prec = []\n",
    "        viento = []\n",
    "        fechas = []\n",
    "        # Rellenamos las fechas\n",
    "        for x in range(1,32):\n",
    "            if x < 10:\n",
    "                fechas.append('0'+str(x)+'/0'+str(i)+'/2024')\n",
    "            else:\n",
    "                fechas.append(str(x)+'/0'+str(i)+'/2024')\n",
    "        for j in range(len(df_punto)):\n",
    "            row = df_punto.iloc[j]\n",
    "            if row['MAGNITUD'] == 81:\n",
    "                for k in range(1,32):\n",
    "                    # Debemos ir extrayendo los valores de las columnas D01, D02, D03, ..., D31 gracias a 'j'\n",
    "                    # Y añadirlos a una lista\n",
    "                    if k < 10:\n",
    "                        val = row['D0'+str(k)]\n",
    "                        if val < 8.0:\n",
    "                            viento.append(\"F\")\n",
    "                        else:\n",
    "                            viento.append(\"V\")\n",
    "                    else:\n",
    "                        val = row['D'+str(k)]\n",
    "                        if val < 8.0:\n",
    "                            viento.append(\"F\")\n",
    "                        else:\n",
    "                            viento.append(\"V\")\n",
    "            elif row['MAGNITUD'] == 83:\n",
    "                for k in range(1,32):\n",
    "                    # Debemos ir extrayendo los valores de las columnas D01, D02, D03, ..., D31 gracias a 'j'\n",
    "                    # Y añadirlos a una lista\n",
    "                    if k < 10:\n",
    "                        val = row['D0'+str(k)]\n",
    "                        temp.append(int(val))\n",
    "                    else:\n",
    "                        val = row['D'+str(k)]\n",
    "                        temp.append(int(val))\n",
    "            else:\n",
    "                for k in range(1,32):\n",
    "                    # Debemos ir extrayendo los valores de las columnas D01, D02, D03, ..., D31 gracias a 'j'\n",
    "                    # Y añadirlos a una lista\n",
    "                    if k < 10:\n",
    "                        val = row['D0'+str(k)]\n",
    "                        prec.append(int(val))\n",
    "                    else:\n",
    "                        val = row['D'+str(k)]\n",
    "                        prec.append(int(val))\n",
    "                        \n",
    "        # Cualquier lista que no posea 31 elementos, debemos añadir elementos hasta llegar a esa cifra\n",
    "        if len(temp) < 31:\n",
    "            for x in range(31-len(temp)):\n",
    "                temp.append(0)\n",
    "        if len(prec) < 31:\n",
    "            for x in range(31-len(prec)):\n",
    "                prec.append(0)\n",
    "        if len(viento) < 31:\n",
    "            for x in range(31-len(viento)):\n",
    "                viento.append('F') \n",
    "        for k in range(0, 31):\n",
    "            nuevas_filas = pd.DataFrame({\n",
    "            'FECHA': fechas,\n",
    "            'TEMPERATURA': temp,\n",
    "            'PRECIPITACIÓN': prec,\n",
    "            'VIENTO': viento,\n",
    "            'DISTRITO': [distrito] * 31\n",
    "        })\n",
    "            resultado = pd.concat([resultado, nuevas_filas], ignore_index=True)\n",
    "                \n",
    "                    \n",
    "# Debemos borrar las filas que tengan fechas no válidas\n",
    "fechas_no_validas = ['29/02/2024', '30/02/2024', '31/02/2024', '31/04/2024', '31/06/2024']\n",
    "resultado = resultado[~resultado['FECHA'].isin(fechas_no_validas)]       \n",
    "print(resultado.sample(30))      \n",
    "        \n",
    "    "
   ]
  },
  {
   "cell_type": "markdown",
   "metadata": {},
   "source": [
    "## 2.4 Mostrar Dataset Limpio y guardar CSV\n",
    "Vamos a mostrar algunas filas del dataset limpio para validar que todo está OK y guardamos el Dataset"
   ]
  },
  {
   "cell_type": "code",
   "execution_count": 12,
   "metadata": {},
   "outputs": [
    {
     "name": "stdout",
     "output_type": "stream",
     "text": [
      "   ----------    10 filas aleatorias    ----------    \n",
      "\n",
      "\n",
      "             FECHA TEMPERATURA PRECIPITACIÓN VIENTO             DISTRITO\n",
      "177808  24/04/2024          13             0      F          Carabanchel\n",
      "66191   07/06/2024          24             0      F      Moncloa-Aravaca\n",
      "213037  06/05/2024          15             0      F            Moratalaz\n",
      "205613  22/04/2024          14             0      F               Centro\n",
      "163797  25/03/2024          12             0      F            Salamanca\n",
      "272689  14/04/2024          20             0      F          Carabanchel\n",
      "136298  23/02/2024           8             0      F   Puente de Vallecas\n",
      "211992  15/04/2024          20             0      F            Moratalaz\n",
      "222751  17/01/2024          11            13      F  Fuencarral-El Pardo\n",
      "167105  16/06/2024          24             0      F            Salamanca\n",
      "\n",
      "\n",
      "\n",
      "\n",
      "Dataset limpio guardado\n"
     ]
    }
   ],
   "source": [
    "# Enseñamos 20 filas aleatorias para ver cómo quedan\n",
    "print(\"   ----------    10 filas aleatorias    ----------    \")\n",
    "print(\"\\n\")\n",
    "print(resultado.sample(10))\n",
    "print(\"\\n\")\n",
    "\n",
    "# Guardamos el dataset limpio\n",
    "resultado.to_csv('../meteo24Limpio.csv', index=False)\n",
    "print(\"\\n\")\n",
    "print(\"Dataset limpio guardado\")"
   ]
  }
 ],
 "metadata": {
  "kernelspec": {
   "display_name": "Python 3",
   "language": "python",
   "name": "python3"
  },
  "language_info": {
   "codemirror_mode": {
    "name": "ipython",
    "version": 3
   },
   "file_extension": ".py",
   "mimetype": "text/x-python",
   "name": "python",
   "nbconvert_exporter": "python",
   "pygments_lexer": "ipython3",
   "version": "3.12.7"
  }
 },
 "nbformat": 4,
 "nbformat_minor": 2
}
