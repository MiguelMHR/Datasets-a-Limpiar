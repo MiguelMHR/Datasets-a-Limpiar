{
 "cells": [
  {
   "cell_type": "markdown",
   "metadata": {},
   "source": [
    "# 1. EDA\n",
    "En este apartado se pretende analizar los datasets para poder enfocar mejor la limpieza"
   ]
  },
  {
   "cell_type": "markdown",
   "metadata": {},
   "source": [
    "## 1.1 Importación y carga de datos\n",
    "Debemos declarar las librerías que usamos y leer el correspondiente archivo de datos"
   ]
  },
  {
   "cell_type": "code",
   "execution_count": 2,
   "metadata": {},
   "outputs": [],
   "source": [
    "# Importación de librerías\n",
    "import pandas as pd\n",
    "\n",
    "# Lectura dataset separado por caracteres ';'\n",
    "df = pd.read_csv('../estaciones_meteo_CodigoPostal.csv', sep=';')"
   ]
  },
  {
   "cell_type": "markdown",
   "metadata": {},
   "source": [
    "## 1.2 Configuración de Pandas\n",
    "Para poder leer bien los resultados de las ejecuciones, vamos a configurar tanto el número máximo de columnas como el número máximo de filas"
   ]
  },
  {
   "cell_type": "code",
   "execution_count": 3,
   "metadata": {},
   "outputs": [],
   "source": [
    "# Número máximo de filas a mostrar\n",
    "pd.set_option('display.max_rows', None)\n",
    "\n",
    "# Número máximo de columnas a mostrar\n",
    "pd.set_option('display.max_columns', None)\n",
    "pd.set_option('display.max_colwidth', None)\n",
    "pd.set_option('display.width', 2000)"
   ]
  },
  {
   "cell_type": "markdown",
   "metadata": {},
   "source": [
    "## 1.3 Descripción general del dataset\n",
    "Para poder conocer ciertas características relevantes del dataset, como el número de instancias (filas) y características (columnas) procederemos a usar diferentes funciones de Pandas\n"
   ]
  },
  {
   "cell_type": "code",
   "execution_count": 4,
   "metadata": {},
   "outputs": [
    {
     "name": "stdout",
     "output_type": "stream",
     "text": [
      "             CÓDIGO\n",
      "count  2.600000e+01\n",
      "mean   2.807907e+07\n",
      "std    4.035567e+01\n",
      "min    2.807900e+07\n",
      "25%    2.807904e+07\n",
      "50%    2.807908e+07\n",
      "75%    2.807911e+07\n",
      "max    2.807912e+07\n",
      "\n",
      "\n",
      "Número de filas:  26\n",
      "Número de columnas:  3\n",
      "\n",
      "\n",
      "<class 'pandas.core.frame.DataFrame'>\n",
      "RangeIndex: 26 entries, 0 to 25\n",
      "Data columns (total 3 columns):\n",
      " #   Column         Non-Null Count  Dtype \n",
      "---  ------         --------------  ----- \n",
      " 0   CÓDIGO         26 non-null     int64 \n",
      " 1   DIRECCION      26 non-null     object\n",
      " 2   Codigo Postal  26 non-null     object\n",
      "dtypes: int64(1), object(2)\n",
      "memory usage: 756.0+ bytes\n",
      "None\n"
     ]
    }
   ],
   "source": [
    "# Descripción de parámetros generales -> count, mean, std, min, 25%, 50%, 75%, max\n",
    "print(df.describe())\n",
    "\n",
    "# Número de filas y columnas del dataset\n",
    "print(\"\\n\")\n",
    "print(\"Número de filas: \", df.shape[0])\n",
    "print(\"Número de columnas: \", df.shape[1])\n",
    "print(\"\\n\")\n",
    "\n",
    "# Para saber el tipo de variable de cada columna\n",
    "print(df.info())"
   ]
  },
  {
   "cell_type": "markdown",
   "metadata": {},
   "source": [
    "## 1.4 Observación inicial del dataset\n",
    "Vamos a mostrar todas las entradas para poder observar cómo es realmente por dentro el dataset"
   ]
  },
  {
   "cell_type": "code",
   "execution_count": 5,
   "metadata": {},
   "outputs": [
    {
     "name": "stdout",
     "output_type": "stream",
     "text": [
      "      CÓDIGO                                             DIRECCION   Codigo Postal\n",
      "0   28079004                                       Plaza de España  [28008, 28013]\n",
      "1   28079008                        Entre C/ Alcalá y C/ O’ Donell           28009\n",
      "2   28079016      C/ Arturo Soria  esq. C/  Vizconde de los Asilos           28043\n",
      "3   28079018                           Calle Farolillo - C/Ervigio           28047\n",
      "4   28079024              Casa de Campo  (Terminal del Teleférico)           28011\n",
      "5   28079035                    Plaza del Carmen esq. Tres Cruces.           28013\n",
      "6   28079036          Avd. Moratalaz  esq. Camino de los Vinateros           28030\n",
      "7   28079038           Avd. Pablo Iglesias esq. C/ Marqués de Lema           28039\n",
      "8   28079039              Avd. Betanzos esq. C/  Monforte de Lemos           28034\n",
      "9   28079054                     Avda La Gavia / Avda. Las Suertes           28051\n",
      "10  28079056                          Pza. Elíptica - Avda. Oporto           28025\n",
      "11  28079058                                      Avda. La Guardia           28044\n",
      "12  28079059  Parque Juan Carlos I (frente oficinas mantenimiento)           28042\n",
      "13  28079102                                C/ Fuente Carantona, 8           28025\n",
      "14  28079103                                   C/ Arroyo Bueno, 53           28026\n",
      "15  28079104                                           Embajadores           28012\n",
      "16  28079106                               Autovía M-30 Km. 21.700           28026\n",
      "17  28079107                                  Ctra. de Canillas, 2           28043\n",
      "18  28079108                                     C.D.M. Peñagrande           28035\n",
      "19  28079109                                  Plaza de Chamberí, 4           28010\n",
      "20  28079110                                          C/ Mayor, 72           28013\n",
      "21  28079111                           C/ Principe de Vergara, 142           28002\n",
      "22  28079112                                    Avda. Albufera, 42           28018\n",
      "23  28079113                                    Avda. Albufera, 42           28018\n",
      "24  28079114                               Paseo de la Chopera, 10           28045\n",
      "25  28079115                               Paseo de la Chopera, 10           28045\n"
     ]
    }
   ],
   "source": [
    "# Mostramos todo el dataset, ya que es pequeño\n",
    "print(df)"
   ]
  },
  {
   "cell_type": "markdown",
   "metadata": {},
   "source": [
    "## 1.5 Revisión de valores nulos\n",
    "Como ya se ha visto en el anterior apartado (info), podemos observar los valores nulos de esa forma. Pero se puede observar de una forma más visual en esta sección y, además, hay que tener en cuenta valores como el cero que también pueden considerarse nulos."
   ]
  },
  {
   "cell_type": "code",
   "execution_count": 6,
   "metadata": {},
   "outputs": [
    {
     "name": "stdout",
     "output_type": "stream",
     "text": [
      "    ----------    Valores faltantes    ----------    \n",
      "\n",
      "\n",
      "CÓDIGO           0\n",
      "DIRECCION        0\n",
      "Codigo Postal    0\n",
      "dtype: int64\n",
      "\n",
      "\n",
      "    ----------    Valores cero    ----------    \n",
      "\n",
      "\n",
      "CÓDIGO           0\n",
      "DIRECCION        0\n",
      "Codigo Postal    0\n",
      "dtype: int64\n"
     ]
    }
   ],
   "source": [
    "# Para poder saber el número de valores faltantes\n",
    "print(\"    ----------    Valores faltantes    ----------    \")\n",
    "print(\"\\n\")\n",
    "print(df.isnull().sum())\n",
    "print(\"\\n\")\n",
    "\n",
    "# Para poder saber el número de ceros en cada columna\n",
    "print(\"    ----------    Valores cero    ----------    \")\n",
    "print(\"\\n\")\n",
    "print((df == 0).sum())"
   ]
  },
  {
   "cell_type": "markdown",
   "metadata": {},
   "source": [
    "No encontramos valores nulos, por lo que no se hará limpieza de esto"
   ]
  },
  {
   "cell_type": "markdown",
   "metadata": {},
   "source": [
    "## 1.6 Identificación de fechas no estandarizadas\n",
    "Se deben identificar las fechas que no se encuentran en el formato adecuado para MongoDB (DD/MM/YYYY)"
   ]
  },
  {
   "cell_type": "markdown",
   "metadata": {},
   "source": [
    "Como se puede apreciar, no existen fechas por lo que este paso se omitirá"
   ]
  },
  {
   "cell_type": "markdown",
   "metadata": {},
   "source": [
    "## 1.7 Identificación de registros duplicados\n",
    "Debemos validar que no existen filas iguales que ensucien el dataset, sobre todo estando pendiente de duplicaciones de la clave primaria"
   ]
  },
  {
   "cell_type": "code",
   "execution_count": 9,
   "metadata": {},
   "outputs": [
    {
     "name": "stdout",
     "output_type": "stream",
     "text": [
      "   ----------    Filas duplicadas    ----------    \n",
      "\n",
      "\n",
      "Empty DataFrame\n",
      "Columns: [CÓDIGO, DIRECCION, Codigo Postal]\n",
      "Index: []\n",
      "\n",
      "\n",
      "Número de filas duplicadas:  0\n",
      "\n",
      "\n",
      "   ----------    Filas con el mismo CÓDIGO    ----------    \n",
      "\n",
      "\n",
      "Empty DataFrame\n",
      "Columns: [CÓDIGO, DIRECCION, Codigo Postal]\n",
      "Index: []\n",
      "\n",
      "\n",
      "Número de filas con el mismo CÓDIGO:  0\n"
     ]
    }
   ],
   "source": [
    "# Ver las filas duplicadas\n",
    "print(\"   ----------    Filas duplicadas    ----------    \")\n",
    "print(\"\\n\")\n",
    "print(df[df.duplicated()])\n",
    "print(\"\\n\")\n",
    "\n",
    "# Número de filas duplicadas\n",
    "print(\"Número de filas duplicadas: \", df.duplicated().sum())\n",
    "print(\"\\n\")\n",
    "\n",
    "# Filtrar filas que tienen el mismo ID\n",
    "duplicados = df.groupby('CÓDIGO').filter(lambda x: len(x) > 1)\n",
    "\n",
    "# Ordenar por NIF para que las filas con el mismo NIF se visualicen una encima de la otra\n",
    "duplicados = duplicados.sort_values(by='CÓDIGO')\n",
    "\n",
    "# Mostrar las filas con la misma PK\n",
    "print(\"   ----------    Filas con el mismo CÓDIGO    ----------    \")\n",
    "print(\"\\n\")\n",
    "print(duplicados)\n",
    "print(\"\\n\")\n",
    "print(\"Número de filas con el mismo CÓDIGO: \", duplicados.shape[0])"
   ]
  },
  {
   "cell_type": "markdown",
   "metadata": {},
   "source": [
    "No existen filas iguales, por lo que este paso de limpieza se omitirá"
   ]
  },
  {
   "cell_type": "markdown",
   "metadata": {},
   "source": [
    "## 1.8 Búsqueda de errores tipográficos\n",
    "Hay ciertos atributos de texto que pueden contar con determinados errores tipográficos que deben ser solucionados, como los nombres de áreas, juegos, usuarios y ubicaciones"
   ]
  },
  {
   "cell_type": "markdown",
   "metadata": {},
   "source": [
    "En este dataset no encontramos ningún atributo similar, por lo que este paso no se realizará"
   ]
  },
  {
   "cell_type": "markdown",
   "metadata": {},
   "source": [
    "## 1.9 Identificación de valores enum fuera de campo\n",
    "Hay ciertos atributos que solo deben poseer ciertos valores (como Operativo-NoOperativo). Hace falta identificar aquellos valores de ese campo fuera de la norma"
   ]
  },
  {
   "cell_type": "markdown",
   "metadata": {},
   "source": [
    "No existen campos Enum en este dataset, por lo que se omitirá este paso en la limpieza"
   ]
  },
  {
   "cell_type": "markdown",
   "metadata": {},
   "source": [
    "## 1.10 Validación de las coordenadas y otros campos geoespaciales\n",
    "Hay algunas veces en las que los códigos postales no respetan la identificación de Madrid (280..) o el formato, ya sean códigos postales u otros atributos de geolocalización"
   ]
  },
  {
   "cell_type": "code",
   "execution_count": null,
   "metadata": {},
   "outputs": [
    {
     "name": "stdout",
     "output_type": "stream",
     "text": [
      "   ----------    Códigos postales    ----------    \n",
      "\n",
      "\n",
      "0     [28008, 28013]\n",
      "1              28009\n",
      "2              28043\n",
      "3              28047\n",
      "4              28011\n",
      "5              28013\n",
      "6              28030\n",
      "7              28039\n",
      "8              28034\n",
      "9              28051\n",
      "10             28025\n",
      "11             28044\n",
      "12             28042\n",
      "13             28025\n",
      "14             28026\n",
      "15             28012\n",
      "16             28026\n",
      "17             28043\n",
      "18             28035\n",
      "19             28010\n",
      "20             28013\n",
      "21             28002\n",
      "22             28018\n",
      "23             28018\n",
      "24             28045\n",
      "25             28045\n",
      "Name: Codigo Postal, dtype: object\n",
      "\n",
      "\n"
     ]
    }
   ],
   "source": [
    "# Muestra los códigos postales que no son válidos\n",
    "print(\"   ----------    Códigos postales    ----------    \")\n",
    "print(\"\\n\")\n",
    "print(df['Codigo Postal'])"
   ]
  },
  {
   "cell_type": "markdown",
   "metadata": {},
   "source": [
    "Todos los códigos postales corresponden a códigos existentes, por lo que no se precisa de una limpieza"
   ]
  },
  {
   "cell_type": "markdown",
   "metadata": {},
   "source": [
    "## 1.11 Identificación de unidades de medida en un formato no estandarizado\n",
    "Se deben identificar las filas que no posean un formato estándar"
   ]
  },
  {
   "cell_type": "markdown",
   "metadata": {},
   "source": [
    "En este dataset no encontramos valores de unidades de medida, por lo que este paso no se realizará"
   ]
  },
  {
   "cell_type": "markdown",
   "metadata": {},
   "source": [
    "## 1.12 Otros atributos a corregir\n",
    "En esta sección se mencionarán aquellos atributos que también deban ser limpiados por errores"
   ]
  },
  {
   "cell_type": "markdown",
   "metadata": {},
   "source": [
    "En esta sección, al ser el dataset muy pequeño y verse claramente que no se necesita validar los parámetros, se va a saltar"
   ]
  },
  {
   "cell_type": "markdown",
   "metadata": {},
   "source": [
    "# 2. Limpieza de los datasets\n",
    "En este apartado se realizará la limpieza según la información obtenida en el análisis exploratorio de datos:\n",
    "- No se precisa la limpieza de ningún campo"
   ]
  },
  {
   "cell_type": "markdown",
   "metadata": {},
   "source": [
    "Aun así, nos conviene transformar los datos de tal forma que la importación de información al dataset meteo24.csv sea más sencilla:\n",
    "- Asumir que plaza de España solo posee el código postal 28008 ya que encontramos otro 280013 en los códigos postales\n",
    "  - Esto ayuda a facilitar la asignación de distritos\n",
    "- Crear una columna de distritos para que la importación de la columna DISTRITO a meteo24.csv sea más sencilla"
   ]
  },
  {
   "cell_type": "markdown",
   "metadata": {},
   "source": [
    "## 2.1 Eliminación de código postal 280013 a Plaza España\n",
    "Debemos eliminar el código postal 280013 a Plaza España para facilitar la asignación de distritos"
   ]
  },
  {
   "cell_type": "code",
   "execution_count": 16,
   "metadata": {},
   "outputs": [
    {
     "name": "stdout",
     "output_type": "stream",
     "text": [
      "   ----------    Filas con la dirección 'Plaza de España'    ----------    \n",
      "\n",
      "\n",
      "     CÓDIGO        DIRECCION   Codigo Postal\n",
      "0  28079004  Plaza de España  [28008, 28013]\n",
      "\n",
      "\n",
      "   ----------    Modificación de la dirección 'Plaza de España'    ----------    \n",
      "\n",
      "\n",
      "     CÓDIGO        DIRECCION Codigo Postal\n",
      "0  28079004  Plaza de España         28008\n"
     ]
    }
   ],
   "source": [
    "# Encuentra la fila con la dirección 'Plaza de España'\n",
    "print(\"   ----------    Filas con la dirección 'Plaza de España'    ----------    \")\n",
    "print(\"\\n\")\n",
    "print(df.loc[(df['DIRECCION'] == 'Plaza de España')])\n",
    "print(\"\\n\")\n",
    "\n",
    "# Modifica el valor de esa fila de la columna Codigo Postal a 28008\n",
    "print(\"   ----------    Modificación de la dirección 'Plaza de España'    ----------    \")\n",
    "print(\"\\n\")\n",
    "df.loc[(df['DIRECCION'] == 'Plaza de España'), 'Codigo Postal'] = 28008\n",
    "print(df.loc[(df['DIRECCION'] == 'Plaza de España')])\n"
   ]
  },
  {
   "cell_type": "markdown",
   "metadata": {},
   "source": [
    "## 2.2 Creación de la columna DISTRITO\n",
    "Se va a crear esta columna para poder asociar los distritos más fácilmente a cada estación de meteorología"
   ]
  },
  {
   "cell_type": "markdown",
   "metadata": {},
   "source": [
    "NOTA: Los códigos postales son erróneos. Mirando una web del ayuntamiento de Madrid, se puede apreciar como los códigos postales no son los que mencionan aquí, por lo que este paso se ha hecho de manera manual \n",
    "(web: https://www.madrid.es/portales/munimadrid/es/Inicio/Medio-ambiente/Direcciones-y-telefonos/Red-de-meteorologia/?vgnextfmt=default&vgnextoid=b84e80670b4d4710VgnVCM1000001d4a900aRCRD&vgnextchannel=864f79ed268fe410VgnVCM1000000b205a0aRCRD)"
   ]
  },
  {
   "cell_type": "markdown",
   "metadata": {},
   "source": [
    "NOTA 2: Hay una fila ('Embajadores') que, contrastándola con la web oficial de Madrid, no existe. Se ha asumido que es un error y que se refiere al centro de metereología 'Aguas La China', el único que quedaba libre, que se encuentra en Puente de Vallecas"
   ]
  },
  {
   "cell_type": "code",
   "execution_count": 17,
   "metadata": {},
   "outputs": [
    {
     "name": "stdout",
     "output_type": "stream",
     "text": [
      "   ----------    Creación de la columna 'DISTRITO'    ----------    \n",
      "\n",
      "\n",
      "      CÓDIGO                                             DIRECCION Codigo Postal             DISTRITO\n",
      "0   28079004                                       Plaza de España         28008      Moncloa-Aravaca\n",
      "1   28079008                        Entre C/ Alcalá y C/ O’ Donell         28009            Salamanca\n",
      "2   28079016      C/ Arturo Soria  esq. C/  Vizconde de los Asilos         28043        Ciudad Lineal\n",
      "3   28079018                           Calle Farolillo - C/Ervigio         28047          Carabanchel\n",
      "4   28079024              Casa de Campo  (Terminal del Teleférico)         28011      Moncloa-Aravaca\n",
      "5   28079035                    Plaza del Carmen esq. Tres Cruces.         28013               Centro\n",
      "6   28079036          Avd. Moratalaz  esq. Camino de los Vinateros         28030            Moratalaz\n",
      "7   28079038           Avd. Pablo Iglesias esq. C/ Marqués de Lema         28039             Chamberí\n",
      "8   28079039              Avd. Betanzos esq. C/  Monforte de Lemos         28034  Fuencarral-El Pardo\n",
      "9   28079054                     Avda La Gavia / Avda. Las Suertes         28051    Villa de Vallecas\n",
      "10  28079056                          Pza. Elíptica - Avda. Oporto         28025          Carabanchel\n",
      "11  28079058                                      Avda. La Guardia         28044  Fuencarral-El Pardo\n",
      "12  28079059  Parque Juan Carlos I (frente oficinas mantenimiento)         28042              Barajas\n",
      "13  28079102                                C/ Fuente Carantona, 8         28025            Moratalaz\n",
      "14  28079103                                   C/ Arroyo Bueno, 53         28026           Villaverde\n",
      "15  28079104                                           Embajadores         28012   Puente de Vallecas\n",
      "16  28079106                               Autovía M-30 Km. 21.700         28026      Moncloa-Aravaca\n",
      "17  28079107                                  Ctra. de Canillas, 2         28043            Hortaleza\n",
      "18  28079108                                     C.D.M. Peñagrande         28035  Fuencarral-El Pardo\n",
      "19  28079109                                  Plaza de Chamberí, 4         28010             Chamberí\n",
      "20  28079110                                          C/ Mayor, 72         28013               Centro\n",
      "21  28079111                           C/ Principe de Vergara, 142         28002            Chamartín\n",
      "22  28079112                                    Avda. Albufera, 42         28018   Puente de Vallecas\n",
      "23  28079113                                    Avda. Albufera, 42         28018   Puente de Vallecas\n",
      "24  28079114                               Paseo de la Chopera, 10         28045           Arganzuela\n",
      "25  28079115                               Paseo de la Chopera, 10         28045           Arganzuela\n"
     ]
    }
   ],
   "source": [
    "# Creamos una columna nueva para los distritos\n",
    "print(\"   ----------    Creación de la columna 'DISTRITO'    ----------    \")\n",
    "print(\"\\n\")\n",
    "\n",
    "# Manualmente (accediendo a una web del ayuntamiento de Madrid) creamos una lista con los distritos según su dirección\n",
    "distritos = ['Moncloa-Aravaca', 'Salamanca', 'Ciudad Lineal', 'Carabanchel', 'Moncloa-Aravaca', 'Centro', 'Moratalaz', 'Chamberí', 'Fuencarral-El Pardo', 'Villa de Vallecas', 'Carabanchel', 'Fuencarral-El Pardo', 'Barajas', 'Moratalaz', 'Villaverde', 'Puente de Vallecas', 'Moncloa-Aravaca', 'Hortaleza', 'Fuencarral-El Pardo', 'Chamberí', 'Centro', 'Chamartín', 'Puente de Vallecas', 'Puente de Vallecas', 'Arganzuela', 'Arganzuela']\n",
    "\n",
    "# Añadimos la columna al Dataset\n",
    "df['DISTRITO'] = distritos\n",
    "\n",
    "# Mostramos el Dataset con la nueva columna\n",
    "print(df)"
   ]
  },
  {
   "cell_type": "markdown",
   "metadata": {},
   "source": [
    "## 2.4 Mostrar Dataset Limpio y guardar CSV\n",
    "Vamos a mostrar algunas filas del dataset limpio para validar que todo está OK y guardamos el Dataset"
   ]
  },
  {
   "cell_type": "code",
   "execution_count": null,
   "metadata": {},
   "outputs": [
    {
     "name": "stdout",
     "output_type": "stream",
     "text": [
      "\n",
      "\n",
      "Dataset limpio guardado\n"
     ]
    }
   ],
   "source": [
    "# Guardamos el dataset limpio\n",
    "df.to_csv('../estaciones_meteo_CodigoPostalLimpio.csv', index=False)\n",
    "print(\"Dataset limpio guardado\")"
   ]
  }
 ],
 "metadata": {
  "kernelspec": {
   "display_name": "Python 3",
   "language": "python",
   "name": "python3"
  },
  "language_info": {
   "codemirror_mode": {
    "name": "ipython",
    "version": 3
   },
   "file_extension": ".py",
   "mimetype": "text/x-python",
   "name": "python",
   "nbconvert_exporter": "python",
   "pygments_lexer": "ipython3",
   "version": "3.12.7"
  }
 },
 "nbformat": 4,
 "nbformat_minor": 2
}
