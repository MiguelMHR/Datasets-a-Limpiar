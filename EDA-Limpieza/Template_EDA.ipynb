{
 "cells": [
  {
   "cell_type": "markdown",
   "metadata": {},
   "source": [
    "# 1. EDA\n",
    "En este apartado se pretende analizar los datasets para poder enfocar mejor la limpieza"
   ]
  },
  {
   "cell_type": "markdown",
   "metadata": {},
   "source": [
    "## 1.1 Importación y carga de datos\n",
    "Debemos declarar las librerías que usamos y leer el correspondiente archivo de datos"
   ]
  },
  {
   "cell_type": "code",
   "execution_count": 9,
   "metadata": {},
   "outputs": [],
   "source": [
    "# Importación de librerías\n",
    "import pandas as pd\n",
    "# Lectura dataset\n",
    "df = pd.read_csv('../AreasSucio.csv')"
   ]
  },
  {
   "cell_type": "markdown",
   "metadata": {},
   "source": [
    "## 1.2 Configuración de Pandas\n",
    "Para poder leer bien los resultados de las ejecuciones, vamos a configurar tanto el número máximo de columnas como el número máximo de filas"
   ]
  },
  {
   "cell_type": "code",
   "execution_count": 10,
   "metadata": {},
   "outputs": [],
   "source": [
    "# Número máximo de filas a mostrar\n",
    "pd.set_option('display.max_rows', None)\n",
    "# Número máximo de columnas a mostrar\n",
    "pd.set_option('display.max_columns', None)\n",
    "pd.set_option('display.max_colwidth', None)\n",
    "pd.set_option('display.width', 2000)"
   ]
  },
  {
   "cell_type": "markdown",
   "metadata": {},
   "source": [
    "## 1.3 Descripción general del dataset\n",
    "Para poder conocer ciertas características relevantes del dataset, como el número de instancias (filas) y características (columnas) procederemos a usar diferentes funciones de Pandas\n"
   ]
  },
  {
   "cell_type": "code",
   "execution_count": 11,
   "metadata": {},
   "outputs": [
    {
     "name": "stdout",
     "output_type": "stream",
     "text": [
      "                 ID   COD_BARRIO  COD_DISTRITO    COORD_GIS_X   COORD_GIS_Y      LATITUD     LONGITUD    COD_POSTAL           NDP   TOTAL_ELEM\n",
      "count  2.724000e+03  2724.000000   2714.000000    2724.000000  2.724000e+03  2724.000000  2724.000000   2635.000000  2.525000e+03  2724.000000\n",
      "mean   1.563270e+06   127.056167     12.341931  442527.739333  4.474631e+06    40.420314    -3.677460  27829.775712  1.950833e+07    10.016887\n",
      "std    2.815716e+06    52.377876      5.238038    4316.806283  4.726069e+03     0.042621     0.050819   2372.231422  8.437088e+06     5.405864\n",
      "min    1.665700e+04    11.000000      1.000000  429551.330000  4.464949e+06    40.332965    -3.831085      0.000000  1.100019e+07     0.000000\n",
      "25%    1.742875e+04    91.000000      9.000000  439432.046750  4.470593e+06    40.383852    -3.713989  28022.000000  1.109013e+07     7.000000\n",
      "50%    1.812750e+04   131.000000     13.000000  442622.004500  4.473629e+06    40.411559    -3.676429  28032.000000  2.006377e+07     9.000000\n",
      "75%    4.612118e+05   166.000000     16.000000  446028.250000  4.478665e+06    40.456260    -3.636495  28042.000000  3.101071e+07    12.000000\n",
      "max    9.536964e+06   215.000000     21.000000  453385.840000  4.487423e+06    40.534872    -3.549355  28055.000000  3.106951e+07    57.000000\n",
      "\n",
      "\n",
      "Número de filas:  2724\n",
      "Número de columnas:  23\n",
      "\n",
      "\n",
      "<class 'pandas.core.frame.DataFrame'>\n",
      "RangeIndex: 2724 entries, 0 to 2723\n",
      "Data columns (total 23 columns):\n",
      " #   Column              Non-Null Count  Dtype  \n",
      "---  ------              --------------  -----  \n",
      " 0   ID                  2724 non-null   int64  \n",
      " 1   DESC_CLASIFICACION  2724 non-null   object \n",
      " 2   COD_BARRIO          2724 non-null   int64  \n",
      " 3   BARRIO              2724 non-null   object \n",
      " 4   COD_DISTRITO        2714 non-null   float64\n",
      " 5   DISTRITO            2714 non-null   object \n",
      " 6   ESTADO              2724 non-null   object \n",
      " 7   COORD_GIS_X         2724 non-null   float64\n",
      " 8   COORD_GIS_Y         2724 non-null   float64\n",
      " 9   SISTEMA_COORD       2724 non-null   object \n",
      " 10  LATITUD             2724 non-null   float64\n",
      " 11  LONGITUD            2724 non-null   float64\n",
      " 12  TIPO_VIA            2547 non-null   object \n",
      " 13  NOM_VIA             2548 non-null   object \n",
      " 14  NUM_VIA             2560 non-null   object \n",
      " 15  COD_POSTAL          2635 non-null   float64\n",
      " 16  DIRECCION_AUX       2284 non-null   object \n",
      " 17  NDP                 2525 non-null   float64\n",
      " 18  FECHA_INSTALACION   2595 non-null   object \n",
      " 19  CODIGO_INTERNO      2598 non-null   object \n",
      " 20  CONTRATO_COD        2724 non-null   object \n",
      " 21  TOTAL_ELEM          2724 non-null   int64  \n",
      " 22  tipo                2724 non-null   object \n",
      "dtypes: float64(7), int64(3), object(13)\n",
      "memory usage: 489.6+ KB\n",
      "None\n"
     ]
    }
   ],
   "source": [
    "# Descripción de parámetros generales -> count, mean, std, min, 25%, 50%, 75%, max\n",
    "print(df.describe())\n",
    "\n",
    "# Número de filas y columnas del dataset\n",
    "print(\"\\n\")\n",
    "print(\"Número de filas: \", df.shape[0])\n",
    "\n",
    "print(\"Número de columnas: \", df.shape[1])\n",
    "print(\"\\n\")\n",
    "\n",
    "# Para saber el tipo de variable de cada columna\n",
    "print(df.info())"
   ]
  },
  {
   "cell_type": "markdown",
   "metadata": {},
   "source": [
    "## 1.4 Observación inicial del dataset\n",
    "Vamos a mostrar 30 entradas para poder observar cómo es realmente por dentro el dataset"
   ]
  },
  {
   "cell_type": "code",
   "execution_count": 12,
   "metadata": {},
   "outputs": [
    {
     "name": "stdout",
     "output_type": "stream",
     "text": [
      "   ----------    10 primeras filas    ----------    \n",
      "\n",
      "\n",
      "        ID            DESC_CLASIFICACION  COD_BARRIO                        BARRIO  COD_DISTRITO               DISTRITO     ESTADO  COORD_GIS_X  COORD_GIS_Y SISTEMA_COORD    LATITUD  LONGITUD   TIPO_VIA                  NOM_VIA NUM_VIA  COD_POSTAL                                     DIRECCION_AUX         NDP    FECHA_INSTALACION CODIGO_INTERNO CONTRATO_COD  TOTAL_ELEM        tipo\n",
      "0  3568711  Circuito deportivo elemental          85                        lA paz           8.0  fuencaRrAL - eL PARdO  OPERATIVO   440597.410  4481480.160        ETRS89  40.481888 -3.700858      CALLE               PEDRO RICO       1     28029.0             PARQUE NORTE 3 (ANTONIO LOPEZ AGUADO)  20103366.0             08/03/17          D0852         AE21           5  deportivas\n",
      "1  3569210  Circuito deportivo elemental          87                    MIrásIErRá           8.0  fueNCArral - el pArDO  OPERATIVO   438497.360  4482668.090        ETRS89  40.492436 -3.725749      CALLE          MARIA DE MAEZTU     108     28049.0  CALLE MARIA DE MAEZTU, 108 C/V SENDA DEL INFANTE  31052003.0  2017-10-09 00:00:00          D0854         AE21           9  deportivas\n",
      "2  3573005  Circuito deportivo elemental         192                 VaLDEBErNardo          19.0              VICAlVaRO  OPERATIVO   446968.130  4472539.440        ETRS89  40.401776 -3.624951      CALLE  LADERA DE LOS ALMENDROS     14E     28032.0                LADERA DE LOS ALMENDROS, 000014  E  20151600.0           20/10/2013          D1950         AE21          12  deportivas\n",
      "3  3573016  Circuito deportivo elemental         192                 VAlDEBErNáRDO          19.0              viCalVaRO  OPERATIVO   447538.380  4471701.760        ETRS89  40.394266 -3.618163    AVENIDA               DEMOCRACIA      50     28031.0                           AVDA DEMOCRACIA, 000050  20165254.0             20/10/13          D1953         AE21          11  deportivas\n",
      "4  3573208  Circuito deportivo elemental         183          EnsancHE de ValLeCAS          18.0      vILLA DE VáLLECAs  OPERATIVO   449416.790  4468380.840        ETRS89  40.364465 -3.595767      CALLE        MARIA TERESA LEON      1G     28051.0                      MARÍA TERESA LEÓN, 000001  G  31026567.0             20/10/13          D1854         AE21           3  deportivas\n",
      "5  3573331  Circuito deportivo elemental         182                 SANtA EUGeNIa          18.0      vIlLA De vALLEcas  OPERATIVO   448854.010  4469974.400        ETRS89  40.378786 -3.602523      CALLE           POZA DE LA SAL       3     28031.0                            POZA DE LA SAL, 000003  11131688.0           23/10/2013          D1851         AE21           5  deportivas\n",
      "6  3573333  Circuito deportivo elemental         181   cascO hiSToriCO DE VallECaS          18.0      viLLA De vALLEcAS  OPERATIVO   446970.232  4469259.493        ETRS89  40.372228 -3.624654      CALLE             BABILAFUENTE       2     28031.0                              BABILAFUENTE, 000002  20170570.0  2013-10-20 00:00:00          D1853         AE21           4  deportivas\n",
      "7  3573466  Circuito deportivo elemental         181   CAsCO HISTOriCo dE vallEcAS          18.0      villA dE vaLLeCAS  OPERATIVO   446183.700  4469509.080        ETRS89  40.374426 -3.633939  CARRETERA    VILLAVERDE A VALLECAS     289     28031.0                CTRA VILLAVERDE A VALLECAS, 000289  20180908.0           2013/10/20          D1856         AE21           9  deportivas\n",
      "8  4792795  Circuito deportivo elemental         192                 vaLDebernARDo          19.0              vicalVArO  OPERATIVO   446881.880  4472327.780        ETRS89  40.399864 -3.625950    AUTOVIA                     M-40  1500EX     28032.0                             AUTOV M-40, 001500 EX  31031401.0  2017-12-20 00:00:00          D1954         AE21           8  deportivas\n",
      "9  4792812  Circuito deportivo elemental         191  casCo histORicO de VicaLvArO          19.0              vIcALVArO  OPERATIVO   449811.480  4473216.060        ETRS89  40.408048 -3.591499      CALLE        ABAD JUAN CATALAN      70     28032.0                         ABAD JUAN CATALÁN, 000070  31037333.0           12-18-2017          D1957         AE21           8  deportivas\n",
      "\n",
      "\n",
      "   ----------    10 filas aleatorias    ----------    \n",
      "\n",
      "\n",
      "           ID            DESC_CLASIFICACION  COD_BARRIO             BARRIO  COD_DISTRITO               DISTRITO     ESTADO  COORD_GIS_X  COORD_GIS_Y SISTEMA_COORD    LATITUD  LONGITUD TIPO_VIA                            NOM_VIA NUM_VIA  COD_POSTAL                                      DIRECCION_AUX         NDP    FECHA_INSTALACION CODIGO_INTERNO CONTRATO_COD  TOTAL_ELEM        tipo\n",
      "1007    17467                 Área Infantil         111           cOMIllás          11.0            cAraBanCheL  OPERATIVO   439290.160  4471155.150        ETRS89  40.388781 -3.715294    CALLE                          GUADALETE     11B     28019.0                               GUADALETE, 000011  C  11069677.0           01-01-2004          11078         AE21          11    infantil\n",
      "162   9046352  Circuito deportivo elemental         126              ZOfIo          12.0                  usERa  OPERATIVO   439313.063  4470663.782        ETRS89  40.384357 -3.714977    CALLE                          SAN ELIAS       1     28026.0                                          SAN MAGIN  11085146.0     fecha_incorrecta          D1264         AE21           8  deportivas\n",
      "2403  7142118                 Área Infantil          15        UnivERsidaD           1.0                 cEntrO  OPERATIVO   440160.715  4474788.987        ETRS89  40.421580 -3.705379    PLAZA  SANTA MARIA SOLEDAD TORRES ACOSTA       2     28004.0                                                NaN  11007127.0             13/02/19           1048         AE21           6    infantil\n",
      "1431    18002                 Área Infantil         158            AtAlaYA          15.0          CiUdAd lInEaL  OPERATIVO   443616.520  4479473.370        ETRS89  40.464020 -3.665061    CALLE                       ARTURO SORIA     230     28033.0  C · CALLE ARTURO SORIA 230 , ASCENDIENTE 1: 158 ·  11112319.0           01-01-1999          15108         AE21           9    infantil\n",
      "655     16845                 Área Infantil          44         GúInDálErA           4.0              SAlaMANCa  OPERATIVO   443630.540  4476660.950        ETRS89  40.438686 -3.664646    CALLE                            BOLONIA       3     28028.0      CALLE BOLONIA 3 , ASCENDIENTE 1: 044 · GUINDA  11017975.0           10/02/2006           4016         AE21           8    infantil\n",
      "1188    17775                 Área Infantil         134  pALomeRaS SurEsTE          13.0     PuEnTE de VAlleCAs  OPERATIVO   445420.410  4470932.020        ETRS89  40.387195 -3.643052    CALLE                           RIOJANOS      14     28018.0                                   RIOJANOS, 000014  11096376.0  2006-12-04 00:00:00          13115         AE21          10    infantil\n",
      "2282  5237119       Area de juegos/especial         166       vaLDEfuenTEs          16.0              hoRtalEZA  OPERATIVO   446161.870  4482253.870        ETRS89  40.489237 -3.635276  AVENIDA     Avenida de las Fuerzas Armadas      11     28055.0                                                NaN         NaN                  NaN            NaN            6           2    infantil\n",
      "768     17050                 Área Infantil          85             lA pAZ           8.0  fUENcaRraL - el PaRDO  OPERATIVO   440559.691  4481653.560        ETRS89  40.483447 -3.701319    CALLE             SANTIAGO DE COMPOSTELA      34     28034.0      CALLE SANTIAGO DE COMPOSTELA , ASCENDIENTE 1:  11045907.0     fecha_incorrecta           8054         AE21           7    infantil\n",
      "1089    17595                 Área Infantil         127         PraDoloNgO          12.0                  uSera  OPERATIVO   439702.967  4469842.514        ETRS89  40.376986 -3.710306  AVENIDA                     RAFAELA YBARRA      81     28026.0                        AVDA RAFAELA YBARRA, 000081  20025086.0           01-01-2007          12028         AE21          12    infantil\n",
      "173   9269361  Circuito deportivo elemental          81           El pARDo           8.0  FuencARral - eL paRdo  OPERATIVO   434540.037  4485349.897        ETRS89  40.516292 -3.772719  AVENIDA                            GUARDIA      19     28048.0                                  PARQUE MAR OCEANA  31022099.0  2023-06-09 00:00:00          D0874         AE21           7  deportivas\n",
      "\n",
      "\n",
      "   ----------    10 últimas filas    ----------    \n",
      "\n",
      "\n",
      "           ID       DESC_CLASIFICACION  COD_BARRIO                                           BARRIO  COD_DISTRITO               DISTRITO     ESTADO  COORD_GIS_X  COORD_GIS_Y SISTEMA_COORD    LATITUD  LONGITUD TIPO_VIA                          NOM_VIA NUM_VIA  COD_POSTAL                  DIRECCION_AUX         NDP FECHA_INSTALACION CODIGO_INTERNO CONTRATO_COD  TOTAL_ELEM      tipo\n",
      "2714  8776034            Área Infantil          86                                         vAlveRdE           8.0  FUencArRaL - el parDo  OPERATIVO   441863.380  4483083.974        ETRS89  40.496425 -3.686069    CALLE                  MANUEL VILLARTA      15     28034.0  CALLE ISLAS PALAOS 3-5 ZONA 2  11049506.0        02-02-2022           8200         AE21           6  infantil\n",
      "2715  8785368            Área Infantil         171  VILlavERdE alto - CAsCo historICO DE vIllaVeRdE          17.0             ViLLaVErDe  OPERATIVO   440189.937  4466780.612        ETRS89  40.349438 -3.704283    CALLE                       SAN JENARO       3     28021.0                 C/SAN JENARO,3  31047909.0        2022/02/09          17132         AE21          11  infantil\n",
      "2716  8799605            Área Infantil          97                                          arAvACa           9.0      MonClOa - ARAVaCA  OPERATIVO   433820.872  4477425.657        ETRS89  40.444852 -3.780381  AVENIDA                            TALGO       1     28023.0           CARRETERA DE ARAVACA  20172145.0  fecha_incorrecta           9159         AE21           8  infantil\n",
      "2717  8800261            Área Infantil         215                                       CóRRálEjOs          21.0                baRAJaS  OPERATIVO   449653.021  4479424.486        ETRS89  40.463968 -3.593859    CALLE                   BAHIA DE CADIZ      28     28042.0       CALLE BAHIA DE CARTAGENA  20168038.0  fecha_incorrecta          21073         AE21          17  infantil\n",
      "2718  8914010  Area de juegos/especial         143                                       MaRrOQuina          14.0              MoraTAlaz  OPERATIVO   446569.340  4473580.530        ETRS89  40.411129 -3.629738  AVENIDA  Avenida del Doctor Garcia Tapia     125     28030.0                            NaN         NaN               NaN            NaN            6           3  infantil\n",
      "2719  8914012  Area de juegos/especial         143                                       mArROQuiNa          14.0              mORatAlaZ  OPERATIVO   446470.120  4473710.080        ETRS89  40.412290 -3.630918  AVENIDA  Avenida del Doctor Garcia Tapia     125     28030.0                            NaN         NaN               NaN            NaN            6           0  infantil\n",
      "2720  8941726  Area de juegos/especial         125                                         moscardo          12.0                  USérA  OPERATIVO   440372.235  4471439.786        ETRS89  40.391424 -3.702572      NaN                              NaN     NaN     28005.0                            NaN         NaN               NaN            NaN            6          10  infantil\n",
      "2721  8941727  Area de juegos/especial         124                                      ALménDráLés          12.0                  USERA  OPERATIVO   440975.398  4470765.456        ETRS89  40.385392 -3.695403      NaN                              NaN     NaN     28005.0                            NaN         NaN               NaN            NaN            6           7  infantil\n",
      "2722  9348753            Área Infantil         205                                            Rosas          20.0  san Blas - CANilLEJaS  OPERATIVO   449155.140  4475659.692        ETRS89  40.430022 -3.599429    CALLE                        ESTOCOLMO      55     28022.0               PASEO DE GINEGRA  20102763.0          09/08/23          20218         AE21          14  infantil\n",
      "2723  9424149  Area de juegos/especial          22                                          AcACiAS           2.0             ARgAnZUeLa  OPERATIVO   439995.071  4472023.818        ETRS89  40.396658 -3.707071      NaN                              NaN     NaN     28005.0                            NaN         NaN               NaN      AI_900023            6           0  infantil\n"
     ]
    }
   ],
   "source": [
    "# Mostramos las 10 primeras filas, 10 filas aleatorias y las 10 últimas\n",
    "print(\"   ----------    10 primeras filas    ----------    \")\n",
    "print(\"\\n\")\n",
    "print(df.head(10))\n",
    "print(\"\\n\")\n",
    "print(\"   ----------    10 filas aleatorias    ----------    \")\n",
    "print(\"\\n\")\n",
    "print(df.sample(10))\n",
    "print(\"\\n\")\n",
    "print(\"   ----------    10 últimas filas    ----------    \")\n",
    "print(\"\\n\")\n",
    "print(df.tail(10))"
   ]
  },
  {
   "cell_type": "markdown",
   "metadata": {},
   "source": [
    "## 1.5 Revisión de valores nulos\n",
    "Como ya se ha visto en el anterior apartado, no existen valores nulos como tal, pero pueden encontrarse en el dataset como \"NaN\" o \"0\" o de otras formas. Para asegurarnos, aplicaremos la siguiente función"
   ]
  },
  {
   "cell_type": "code",
   "execution_count": 13,
   "metadata": {},
   "outputs": [
    {
     "name": "stdout",
     "output_type": "stream",
     "text": [
      "ID                      0\n",
      "DESC_CLASIFICACION      0\n",
      "COD_BARRIO              0\n",
      "BARRIO                  0\n",
      "COD_DISTRITO           10\n",
      "DISTRITO               10\n",
      "ESTADO                  0\n",
      "COORD_GIS_X             0\n",
      "COORD_GIS_Y             0\n",
      "SISTEMA_COORD           0\n",
      "LATITUD                 0\n",
      "LONGITUD                0\n",
      "TIPO_VIA              177\n",
      "NOM_VIA               176\n",
      "NUM_VIA               164\n",
      "COD_POSTAL             89\n",
      "DIRECCION_AUX         440\n",
      "NDP                   199\n",
      "FECHA_INSTALACION     129\n",
      "CODIGO_INTERNO        126\n",
      "CONTRATO_COD            0\n",
      "TOTAL_ELEM              0\n",
      "tipo                    0\n",
      "dtype: int64\n"
     ]
    }
   ],
   "source": [
    "# Para poder saber el número de valores faltantes:\n",
    "print(df.isnull().sum())"
   ]
  },
  {
   "cell_type": "code",
   "execution_count": 14,
   "metadata": {},
   "outputs": [
    {
     "name": "stdout",
     "output_type": "stream",
     "text": [
      "ID                     0\n",
      "DESC_CLASIFICACION     0\n",
      "COD_BARRIO             0\n",
      "BARRIO                 0\n",
      "COD_DISTRITO           0\n",
      "DISTRITO               0\n",
      "ESTADO                 0\n",
      "COORD_GIS_X            0\n",
      "COORD_GIS_Y            0\n",
      "SISTEMA_COORD          0\n",
      "LATITUD                0\n",
      "LONGITUD               0\n",
      "TIPO_VIA               0\n",
      "NOM_VIA                0\n",
      "NUM_VIA                0\n",
      "COD_POSTAL            19\n",
      "DIRECCION_AUX          0\n",
      "NDP                    0\n",
      "FECHA_INSTALACION      0\n",
      "CODIGO_INTERNO         0\n",
      "CONTRATO_COD           0\n",
      "TOTAL_ELEM             5\n",
      "tipo                   0\n",
      "dtype: int64\n"
     ]
    }
   ],
   "source": [
    "# Ahora, comprobaremos, como todos son números decimales, si por casualidad hay algún cero que no tengan sentido en el dataset\n",
    "# Para ello, veremos el número de ceros que hay en cada columna\n",
    "print((df == 0).sum())"
   ]
  },
  {
   "cell_type": "markdown",
   "metadata": {},
   "source": [
    "## 1.6 Identificación de fechas no estandarizadas\n",
    "Se deben identificar las fechas que no se encuentran en el formato adecuado para MongoDB (DD/MM/YYYY)"
   ]
  },
  {
   "cell_type": "markdown",
   "metadata": {},
   "source": [
    "## 1.7 Identificación de registros duplicados\n",
    "Debemos validar que no existen filas iguales que ensucien el dataset"
   ]
  },
  {
   "cell_type": "markdown",
   "metadata": {},
   "source": [
    "## 1.8 Búsqueda de errores tipográficos\n",
    "Hay ciertos atributos de texto que pueden contar con determinados errores tipográficos que deben ser solucionados"
   ]
  },
  {
   "cell_type": "markdown",
   "metadata": {},
   "source": [
    "## 1.9 Identificación de valores enum fuera de campo\n",
    "Hay ciertos atributos que solo deben poseer ciertos valores (como Operativo-NoOperativo). Hace falta identificar aquellos valores de ese campo fuera de la norma"
   ]
  },
  {
   "cell_type": "markdown",
   "metadata": {},
   "source": [
    "## 1.10 Validación de las coordenadas y otros campos geoespaciales\n",
    "Hay algunas veces en las que los códigos postales no respetan la identificación de Madrid (280..) o el formato, ya sean códigos postales u otros atributos de geolocalización"
   ]
  },
  {
   "cell_type": "markdown",
   "metadata": {},
   "source": [
    "## 1.11 Identificación de unidades de medida en un formato no estandarizado\n",
    "Se deben identificar las filas que no posean un formato estándar"
   ]
  },
  {
   "cell_type": "markdown",
   "metadata": {},
   "source": [
    "## 1.12 Otros atributos a corregir\n",
    "En esta sección se mencionarán aquellos atributos que también deban ser limpiados por errores"
   ]
  },
  {
   "cell_type": "markdown",
   "metadata": {},
   "source": [
    "# 2. Limpieza de los datasets\n",
    "En este apartado limpiaremos los datos según lo mencionado en el enunciado:\n",
    "- Hace falta corregir los valores nulos\n",
    "    - Rellenarlos con lo de “ID_CAMPO_DESCONOCIDO”\n",
    "- Cambiar todas las fechas a “DD/MM/YYYY”\n",
    "- Eliminar registros duplicados\n",
    "- Corregir errores tipográficos\n",
    "    - Solo en areas, juegos, usuarios y ubicaciones\n",
    "- Corregir valores fuera del dominio de tipo enum\n",
    "- Hace falta eliminar espacios adicionales y caracteres especiales que afecten a la BBDD\n",
    "- Corregir (si las hay) las incoherencias de las coordenadas y otros campos geoespaciales\n",
    "- Corrección de formato no estándar de unidades de medida\n",
    "- Otras correcciones a atributos"
   ]
  }
 ],
 "metadata": {
  "kernelspec": {
   "display_name": "Python 3",
   "language": "python",
   "name": "python3"
  },
  "language_info": {
   "codemirror_mode": {
    "name": "ipython",
    "version": 3
   },
   "file_extension": ".py",
   "mimetype": "text/x-python",
   "name": "python",
   "nbconvert_exporter": "python",
   "pygments_lexer": "ipython3",
   "version": "3.12.7"
  }
 },
 "nbformat": 4,
 "nbformat_minor": 2
}
