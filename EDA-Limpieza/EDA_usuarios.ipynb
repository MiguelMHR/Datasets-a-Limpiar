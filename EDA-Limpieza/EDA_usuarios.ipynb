{
 "cells": [
  {
   "cell_type": "markdown",
   "metadata": {},
   "source": [
    "# 1. EDA\n",
    "En este apartado se pretende analizar los datasets para poder enfocar mejor la limpieza"
   ]
  },
  {
   "cell_type": "markdown",
   "metadata": {},
   "source": [
    "## 1.1 Importación y carga de datos\n",
    "Debemos declarar las librerías que usamos y leer el correspondiente archivo de datos"
   ]
  },
  {
   "cell_type": "code",
   "execution_count": 15,
   "metadata": {},
   "outputs": [],
   "source": [
    "# Importación de librerías\n",
    "import pandas as pd\n",
    "\n",
    "# Lectura dataset\n",
    "df = pd.read_csv('../UsuariosSucio.csv')"
   ]
  },
  {
   "cell_type": "markdown",
   "metadata": {},
   "source": [
    "## 1.2 Configuración de Pandas\n",
    "Para poder leer bien los resultados de las ejecuciones, vamos a configurar tanto el número máximo de columnas como el número máximo de filas"
   ]
  },
  {
   "cell_type": "code",
   "execution_count": 16,
   "metadata": {},
   "outputs": [],
   "source": [
    "# Número máximo de filas a mostrar\n",
    "pd.set_option('display.max_rows', None)\n",
    "\n",
    "# Número máximo de columnas a mostrar\n",
    "pd.set_option('display.max_columns', None)\n",
    "pd.set_option('display.max_colwidth', None)\n",
    "pd.set_option('display.width', 2000)"
   ]
  },
  {
   "cell_type": "markdown",
   "metadata": {},
   "source": [
    "## 1.3 Descripción general del dataset\n",
    "Para poder conocer ciertas características relevantes del dataset, como el número de instancias (filas) y características (columnas) procederemos a usar diferentes funciones de Pandas\n"
   ]
  },
  {
   "cell_type": "code",
   "execution_count": 17,
   "metadata": {},
   "outputs": [
    {
     "name": "stdout",
     "output_type": "stream",
     "text": [
      "       Email\n",
      "count    0.0\n",
      "mean     NaN\n",
      "std      NaN\n",
      "min      NaN\n",
      "25%      NaN\n",
      "50%      NaN\n",
      "75%      NaN\n",
      "max      NaN\n",
      "\n",
      "\n",
      "Número de filas:  15040\n",
      "Número de columnas:  5\n",
      "\n",
      "\n",
      "<class 'pandas.core.frame.DataFrame'>\n",
      "RangeIndex: 15040 entries, 0 to 15039\n",
      "Data columns (total 5 columns):\n",
      " #   Column    Non-Null Count  Dtype  \n",
      "---  ------    --------------  -----  \n",
      " 0   NIF       15040 non-null  object \n",
      " 1   NOMBRE    15040 non-null  object \n",
      " 2   EMAIL     15020 non-null  object \n",
      " 3   TELEFONO  15040 non-null  object \n",
      " 4   Email     0 non-null      float64\n",
      "dtypes: float64(1), object(4)\n",
      "memory usage: 587.6+ KB\n",
      "None\n"
     ]
    }
   ],
   "source": [
    "# Descripción de parámetros generales -> count, mean, std, min, 25%, 50%, 75%, max\n",
    "print(df.describe())\n",
    "\n",
    "# Número de filas y columnas del dataset\n",
    "print(\"\\n\")\n",
    "print(\"Número de filas: \", df.shape[0])\n",
    "print(\"Número de columnas: \", df.shape[1])\n",
    "print(\"\\n\")\n",
    "\n",
    "# Para saber el tipo de variable de cada columna\n",
    "print(df.info())"
   ]
  },
  {
   "cell_type": "markdown",
   "metadata": {},
   "source": [
    "## 1.4 Observación inicial del dataset\n",
    "Vamos a mostrar 30 entradas para poder observar cómo es realmente por dentro el dataset"
   ]
  },
  {
   "cell_type": "code",
   "execution_count": 18,
   "metadata": {},
   "outputs": [
    {
     "name": "stdout",
     "output_type": "stream",
     "text": [
      "   ----------    10 primeras filas    ----------    \n",
      "\n",
      "\n",
      "           NIF                        NOMBRE                          EMAIL          TELEFONO  Email\n",
      "0  674-03-7053             RITA NEBOT BUSTOS      luis-miguelpujol@verdu.es    +34714 556 402    NaN\n",
      "1  695-98-2439           MARCIAL PIQUER GOÑI          violeta60@hotmail.com    +34874 258 581    NaN\n",
      "2  978-00-2364        Teodora Leiva Vilanova               yribas@yahoo.com   +34 898 334 794    NaN\n",
      "3  179-63-9808  Reina Elvira Dominguez Belda      nuriaabellan@castejon.com   +34720 12 61 81    NaN\n",
      "4  903-84-1885            ETELVINA VEGA SALA  bescudero@pallares-jimenez.es   +34742 59 59 03    NaN\n",
      "5  911-11-1566        PANCHO ROSSELLÓ GASCÓN           gacevedo@hotmail.com   +34 714 742 113    NaN\n",
      "6  871-29-5756           Jose Dalmau Español     pelayoflorencio@artigas.es  +34 702 26 10 37    NaN\n",
      "7  647-92-1126         OLEGARIO OLIVERAS REY          celestina59@gmail.com   +34745 57 02 83    NaN\n",
      "8  213-87-6036            Gregorio del Soler          arandajulie@gmail.com   +34708 09 53 12    NaN\n",
      "9  524-89-4873       Eleuterio Giner Huertas             teofila31@badia.es  +34 864 99 88 32    NaN\n",
      "\n",
      "\n",
      "   ----------    10 filas aleatorias    ----------    \n",
      "\n",
      "\n",
      "               NIF                          NOMBRE                           EMAIL          TELEFONO  Email\n",
      "6942   140-87-0825  ISAURA ESTRELLA ALEMANY MÉNDEZ          aroamenendez@yahoo.com   +34 739 251 381    NaN\n",
      "10265  959-35-8229            AMARILIS BRAVO BRAVO                 fmata@yahoo.com     +34 656713479    NaN\n",
      "9116   420-46-0522              Hortensia de Costa                zhervia@amaya.es   +34727 27 01 92    NaN\n",
      "7036   105-77-5465  Melania Ascensión Luján Torres             nmacias@ramirez.com  +34 745 82 85 83    NaN\n",
      "8448   726-55-1483              AGAPITO RODA CUETO         dalmaulaura@hotmail.com   +34721 57 43 17    NaN\n",
      "4566   333-32-4918                    EMMA CÁNOVAS          ortegaimelda@gomez.com      +34700803133    NaN\n",
      "13786  192-20-2080           Custodio Heredia Sanz  fortunato88@rodriguez-moles.es     +34 714478840    NaN\n",
      "6046   893-80-0824                 Ángel Ferrández          pereramartin@gmail.com   +34 700 919 876    NaN\n",
      "10181  245-83-2661       AZAHAR CAÑIZARES GRANADOS              silvia44@gmail.com     +34 717227883    NaN\n",
      "11024  824-64-5274       CARINA TENORIO TORRECILLA              sosimo37@yahoo.com   +34 808 266 575    NaN\n",
      "\n",
      "\n",
      "   ----------    10 últimas filas    ----------    \n",
      "\n",
      "\n",
      "               NIF                              NOMBRE                                 EMAIL     TELEFONO  Email\n",
      "15030  974-78-3709             EFRAÍN MARISCAL BELTRAN                dup_zcases@hotmail.com  34658720406    NaN\n",
      "15031  917-44-6828                Teresa Pinedo Blanca            dup_rosenda77@llorente.com  34916052769    NaN\n",
      "15032  267-97-3188               Jordán Domínguez Luna  dup_ernestoamigo@osorio-torralba.com  34722551376    NaN\n",
      "15033  360-19-6674               Malena Pineda Pedrero                  dup_egallo@gmail.com  34952928398    NaN\n",
      "15034  944-48-0443         ALEXANDRA PALACIOS ARAMBURU     dup_sanchezmiguel-angel@gmail.com  34707006676    NaN\n",
      "15035  328-82-6784                   Dimas Cámara Mesa           dup_eazcona@casals-abril.es  34726948008    NaN\n",
      "15036  480-03-9749                Juana Camacho Bustos         dup_leonciorosell@hotmail.com  34615425042    NaN\n",
      "15037  277-13-4981                SARA RODRIGO NAVARRO                  dup_knovoa@cabeza.es  34715813501    NaN\n",
      "15038  269-57-9381                JERÓNIMO LUJÁN TOMÁS                  dup_lcerro@yahoo.com  34742536240    NaN\n",
      "15039  326-87-8170  Daniela Samanta Alcántara Manrique              dup_paulino14@llamas.org  34719780837    NaN\n"
     ]
    }
   ],
   "source": [
    "# Mostramos las 10 primeras filas, 10 filas aleatorias y las 10 últimas\n",
    "print(\"   ----------    10 primeras filas    ----------    \")\n",
    "print(\"\\n\")\n",
    "print(df.head(10))\n",
    "print(\"\\n\")\n",
    "print(\"   ----------    10 filas aleatorias    ----------    \")\n",
    "print(\"\\n\")\n",
    "print(df.sample(10))\n",
    "print(\"\\n\")\n",
    "print(\"   ----------    10 últimas filas    ----------    \")\n",
    "print(\"\\n\")\n",
    "print(df.tail(10))"
   ]
  },
  {
   "cell_type": "markdown",
   "metadata": {},
   "source": [
    "## 1.4 bis Eliminación de la columna Email\n",
    "Se ha observado que existe una columna inservible que es necesaria eliminar para evitar posibles errores de limpieza en un futuro. Esta columna ya existe en el dataset y no aporta nada de información al tener todos sus valores nulos"
   ]
  },
  {
   "cell_type": "code",
   "execution_count": 19,
   "metadata": {},
   "outputs": [
    {
     "name": "stdout",
     "output_type": "stream",
     "text": [
      "   ----------    Valores de la columna 'Email'    ----------    \n",
      "\n",
      "\n",
      "[nan]\n",
      "\n",
      "\n",
      "Columna 'Email' borrada\n",
      "\n",
      "\n",
      "   ----------    10 filas sin la columna 'Email'    ----------    \n",
      "\n",
      "\n",
      "               NIF                    NOMBRE                              EMAIL          TELEFONO\n",
      "5311   389-93-5123  DORITA PINILLA DOMINGUEZ                  bjuarez@yahoo.com   +34737 23 76 33\n",
      "1858   440-02-5745    Cayetana Jordá Sarabia           patriciasegui@cabeza.net    +34809 627 526\n",
      "10021  438-55-8254  VENCESLÁS DEL MONTESINOS                  zvargas@gmail.com   +34945 27 87 58\n",
      "1931   306-50-8495   Bartolomé Girona Martin       maximilianoredondo@gmail.com  +34 737 20 89 52\n",
      "9962   795-01-7010         GUIOMAR COROMINAS               telloborja@yahoo.com  +34 723 29 79 61\n",
      "8356   746-93-4783            CONCHA PEDRAZA  gomilamelisa@alegria-aragones.com  +34 874 69 23 63\n",
      "2784   114-04-5921        Cloe Rozas Carbajo         penalvereligia@cardenas.es   +34 885 967 841\n",
      "6996   775-51-1510        Amando Baró-Vicens            moraazucena@hotmail.com  +34 725 68 87 26\n",
      "14428  466-44-2354    FABIOLA SANCHO CARNERO         vanesa73@castilla-pinto.es     +34 728249947\n",
      "9606   753-54-2888    Paz Guijarro Calatayud       valentina95@borrego-arias.es  +34 878 05 04 92\n"
     ]
    }
   ],
   "source": [
    "# Vemos todos los valores únicos de la columna 'Email'\n",
    "print(\"   ----------    Valores de la columna 'Email'    ----------    \")\n",
    "print(\"\\n\")\n",
    "print(df['Email'].unique())\n",
    "\n",
    "# Eliminamos toda la columna de 'Email'\n",
    "df = df.drop('Email', axis=1)\n",
    "print(\"\\n\")\n",
    "print(\"Columna 'Email' borrada\")\n",
    "print(\"\\n\")\n",
    "\n",
    "# Mostramos algunas filas del dataset sin la columna 'Email'\n",
    "print(\"   ----------    10 filas sin la columna 'Email'    ----------    \")\n",
    "print(\"\\n\")\n",
    "print(df.sample(10))"
   ]
  },
  {
   "cell_type": "markdown",
   "metadata": {},
   "source": [
    "## 1.5 Revisión de valores nulos\n",
    "Como ya se ha visto en el anterior apartado (info), podemos observar los valores nulos de esa forma. Pero se puede observar de una forma más visual y, además, hay que tener en cuenta valores como el cero que también pueden considerarse nulos."
   ]
  },
  {
   "cell_type": "code",
   "execution_count": 20,
   "metadata": {},
   "outputs": [
    {
     "name": "stdout",
     "output_type": "stream",
     "text": [
      "    ----------    Valores faltantes    ----------    \n",
      "\n",
      "\n",
      "NIF          0\n",
      "NOMBRE       0\n",
      "EMAIL       20\n",
      "TELEFONO     0\n",
      "dtype: int64\n",
      "\n",
      "\n",
      "    ----------    Valores cero    ----------    \n",
      "\n",
      "\n",
      "NIF         0\n",
      "NOMBRE      0\n",
      "EMAIL       0\n",
      "TELEFONO    0\n",
      "dtype: int64\n"
     ]
    }
   ],
   "source": [
    "# Para poder saber el número de valores faltantes\n",
    "print(\"    ----------    Valores faltantes    ----------    \")\n",
    "print(\"\\n\")\n",
    "print(df.isnull().sum())\n",
    "print(\"\\n\")\n",
    "# Para poder saber el número de ceros en cada columna\n",
    "print(\"    ----------    Valores cero    ----------    \")\n",
    "print(\"\\n\")\n",
    "print((df == 0).sum())"
   ]
  },
  {
   "cell_type": "markdown",
   "metadata": {},
   "source": [
    "Encontramos valores nulos en EMAIL, por lo que se debe corregir en un futuro obteniendo los datos de otro .csv, si existe un atributo similar, o rellenando los atributos vacíos."
   ]
  },
  {
   "cell_type": "markdown",
   "metadata": {},
   "source": [
    "Vamos a mostrar las filas con valores nulos"
   ]
  },
  {
   "cell_type": "code",
   "execution_count": 21,
   "metadata": {},
   "outputs": [
    {
     "name": "stdout",
     "output_type": "stream",
     "text": [
      "   ----------    Filas con valores nulos    ----------    \n",
      "\n",
      "\n",
      "               NIF                               NOMBRE EMAIL          TELEFONO\n",
      "350    665-35-8274                  Jordi Cabello Ochoa   NaN     +34 706955013\n",
      "612    835-57-3680                 JOSEFA OSORIO CRESPO   NaN  +34 729 37 73 12\n",
      "669    993-67-2645                AMANCIO DEL FERNÁNDEZ   NaN  +34 637 90 88 35\n",
      "2537   329-46-7975                     Amarilis Calleja   NaN   +34 709 875 297\n",
      "3861   604-98-6313                      Anselma Ródenas   NaN     +34 721194904\n",
      "4070   583-45-2974                   Fidel García Vives   NaN   +34 730 408 177\n",
      "6601   947-40-1508               TEODOSIO MÚÑIZ TORRENS   NaN    +34747 048 846\n",
      "7241   404-04-0223  Margarita Isabela Valcárcel Jimenez   NaN     +34 728403554\n",
      "7364   914-45-0525                   VIDAL BAYÓN SUAREZ   NaN   +34 883 714 653\n",
      "7886   818-21-2804                 PÁNFILO TORMO PATIÑO   NaN      +34685645603\n",
      "8815   263-41-7132                       Irene Gordillo   NaN  +34 859 08 69 39\n",
      "9436   004-60-5880               ALBERTO OSORIO ESCOBAR   NaN    +34648 733 786\n",
      "11566  491-76-6774                 CRISTIAN VALLS PLANA   NaN     +34 638783890\n",
      "11944  807-22-8446               Rogelio Rosselló Arcos   NaN  +34 855 57 72 82\n",
      "12043  715-31-3136                 MAURICIO COLOM VIDAL   NaN  +34 994 92 40 06\n",
      "13049  754-89-4697                   Calista de Salazar   NaN   +34959 71 96 86\n",
      "13106  083-58-7465                Josefa Casals Herrera   NaN   +34737 02 85 31\n",
      "13334  759-63-1974              Dionisio Ledesma Cañete   NaN  +34 717 58 85 97\n",
      "13846  997-47-9070                 EVELIA POZA-CASTELLS   NaN   +34 742 799 168\n",
      "14555  181-45-5111                     RUFINO DE FERRÁN   NaN    +34703 987 976\n",
      "\n",
      "\n",
      "Número de filas con nulos en alguna columna:  20\n"
     ]
    }
   ],
   "source": [
    "# Muestra las filas que tengan valores nulos\n",
    "print(\"   ----------    Filas con valores nulos    ----------    \")\n",
    "print(\"\\n\")\n",
    "print(df[df.isnull().any(axis=1)])\n",
    "print(\"\\n\")\n",
    "# Número de filas con nulos en alguna columna\n",
    "print(\"Número de filas con nulos en alguna columna: \", df.isnull().any(axis=1).sum())"
   ]
  },
  {
   "cell_type": "markdown",
   "metadata": {},
   "source": [
    "## 1.6 Identificación de fechas no estandarizadas\n",
    "Se deben identificar las fechas que no se encuentran en el formato adecuado para MongoDB (DD/MM/YYYY)"
   ]
  },
  {
   "cell_type": "markdown",
   "metadata": {},
   "source": [
    "Como en este dataset no hay fechas, este paso se saltará"
   ]
  },
  {
   "cell_type": "markdown",
   "metadata": {},
   "source": [
    "## 1.7 Identificación de registros duplicados\n",
    "Debemos validar que no existen filas iguales que ensucien el dataset, sobre todo estando pendiente de duplicaciones de la clave primaria"
   ]
  },
  {
   "cell_type": "code",
   "execution_count": 22,
   "metadata": {},
   "outputs": [
    {
     "name": "stdout",
     "output_type": "stream",
     "text": [
      "   ----------    Filas duplicadas    ----------    \n",
      "\n",
      "\n",
      "Empty DataFrame\n",
      "Columns: [NIF, NOMBRE, EMAIL, TELEFONO]\n",
      "Index: []\n",
      "\n",
      "\n",
      "Número de filas duplicadas:  0\n",
      "\n",
      "\n",
      "   ----------    Filas duplicadas    ----------    \n",
      "\n",
      "\n",
      "               NIF                              NOMBRE                                  EMAIL          TELEFONO\n",
      "15006  056-90-8764                  Artemio Sáez Rocha       dup_cocafernanda@roman-mateo.com       34703774440\n",
      "5262   056-90-8764                  Artemio Sáez Rocha           cocafernanda@roman-mateo.com    +34703 773 853\n",
      "7678   067-00-0467                 Kike Tejera Padilla                  ttoledo@alamo-pol.com   +34 980 134 373\n",
      "15008  067-00-0467                 Kike Tejera Padilla              dup_ttoledo@alamo-pol.com       34980134855\n",
      "12080  088-09-4602                  Rosalía Tolosa Amo                  jennycampoy@yahoo.com   +34699 04 91 17\n",
      "15013  088-09-4602                  Rosalía Tolosa Amo              dup_jennycampoy@yahoo.com       34699049750\n",
      "4458   107-66-0515                 DULCE MELERO-OLIVER                     qbecerra@gmail.com      +34921496050\n",
      "15020  107-66-0515                 DULCE MELERO-OLIVER                 dup_qbecerra@gmail.com       34921496149\n",
      "1525   177-17-2106              Soledad Guillén Murcia                pedrohernando@yahoo.com   +34 838 132 760\n",
      "15024  177-17-2106              Soledad Guillén Murcia            dup_pedrohernando@yahoo.com       34838133631\n",
      "9093   248-55-7839                  Regina Olmo Oliver                    osvaldo06@gmail.com   +34729 52 56 30\n",
      "15025  248-55-7839                  Regina Olmo Oliver                dup_osvaldo06@gmail.com       34729525910\n",
      "7987   263-50-2904                  Tito Carro Reguera                espejoanita@hotmail.com      +34725222075\n",
      "15005  263-50-2904                  Tito Carro Reguera            dup_espejoanita@hotmail.com       34725222803\n",
      "15032  267-97-3188               Jordán Domínguez Luna   dup_ernestoamigo@osorio-torralba.com       34722551376\n",
      "11037  267-97-3188               Jordán Domínguez Luna       ernestoamigo@osorio-torralba.com  +34 722 55 04 60\n",
      "15038  269-57-9381                JERÓNIMO LUJÁN TOMÁS                   dup_lcerro@yahoo.com       34742536240\n",
      "5327   269-57-9381                JERÓNIMO LUJÁN TOMÁS                       lcerro@yahoo.com     +34 742535997\n",
      "15001  269-82-0462         MARÍA BELÉN OROZCO CHAPARRO                 dup_lagustin@gmail.com       34722977813\n",
      "2202   269-82-0462         MARÍA BELÉN OROZCO CHAPARRO                     lagustin@gmail.com   +34 722 976 960\n",
      "7281   277-13-4981                SARA RODRIGO NAVARRO                       knovoa@cabeza.es      +34715812872\n",
      "15037  277-13-4981                SARA RODRIGO NAVARRO                   dup_knovoa@cabeza.es       34715813501\n",
      "5801   326-87-8170  Daniela Samanta Alcántara Manrique                   paulino14@llamas.org     +34 719779881\n",
      "15039  326-87-8170  Daniela Samanta Alcántara Manrique               dup_paulino14@llamas.org       34719780837\n",
      "6405   328-82-6784                   Dimas Cámara Mesa                eazcona@casals-abril.es  +34 726 94 76 12\n",
      "15035  328-82-6784                   Dimas Cámara Mesa            dup_eazcona@casals-abril.es       34726948008\n",
      "3468   360-19-6674               Malena Pineda Pedrero                       egallo@gmail.com   +34 952 927 915\n",
      "15033  360-19-6674               Malena Pineda Pedrero                   dup_egallo@gmail.com       34952928398\n",
      "15000  362-18-7973               JAVIER VALENTÍN-CÓZAR           dup_ginermarcial@maestre.org       34959121245\n",
      "204    362-18-7973               JAVIER VALENTÍN-CÓZAR               ginermarcial@maestre.org  +34 959 12 09 29\n",
      "6383   365-05-0740                      MANUEL DE RAYA              ayllonalejandra@yahoo.com   +34 721 953 807\n",
      "15009  365-05-0740                      MANUEL DE RAYA          dup_ayllonalejandra@yahoo.com       34721954247\n",
      "1052   480-03-9749                Juana Camacho Bustos              leonciorosell@hotmail.com      +34615424603\n",
      "15036  480-03-9749                Juana Camacho Bustos          dup_leonciorosell@hotmail.com       34615425042\n",
      "5223   498-07-4182             CRESCENCIA ABELLA OLIVA                   halberto@cabanas.net    +34732 270 088\n",
      "15015  498-07-4182             CRESCENCIA ABELLA OLIVA               dup_halberto@cabanas.net       34732270988\n",
      "10464  523-73-4025           ÁGATA CANDELA MADRID MATE                 borrasdanilo@gmail.com      +34720208919\n",
      "15007  523-73-4025           ÁGATA CANDELA MADRID MATE             dup_borrasdanilo@gmail.com       34720209002\n",
      "15028  538-71-2971            Salomé Gonzalez Valentín              dup_sol25@leon-manuel.org       34736857164\n",
      "8493   538-71-2971            Salomé Gonzalez Valentín                  sol25@leon-manuel.org     +34 736856763\n",
      "15026  572-02-0400                  Albano Baró Solera         dup_barrigaherminio@guillen.es       34706164392\n",
      "8332   572-02-0400                  Albano Baró Solera             barrigaherminio@guillen.es   +34706 16 43 35\n",
      "15004  586-26-9246                   NILO SALAZAR RAYA            dup_lorenza65@francisco.com       34735693086\n",
      "2206   586-26-9246                   NILO SALAZAR RAYA                lorenza65@francisco.com   +34 735 693 055\n",
      "13941  593-14-8098                MICAELA DUQUE GARCIA                  domingo17@hotmail.com      +34722815980\n",
      "15003  593-14-8098                MICAELA DUQUE GARCIA              dup_domingo17@hotmail.com       34722816359\n",
      "7925   634-78-8495              INMACULADA BARRAL LAGO                    larabelen@gmail.com  +34 746 34 27 69\n",
      "15002  634-78-8495              INMACULADA BARRAL LAGO                dup_larabelen@gmail.com       34746343220\n",
      "1347   669-84-3016                    Nicolás de Cases                    estevelupe@diez.com  +34 733 79 54 75\n",
      "15029  669-84-3016                    Nicolás de Cases                dup_estevelupe@diez.com       34733796095\n",
      "15022  713-05-3004       MAURA ZORAIDA SALCEDO SARABIA           dup_flavioquintana@yahoo.com       34734038515\n",
      "9994   713-05-3004       MAURA ZORAIDA SALCEDO SARABIA               flavioquintana@yahoo.com   +34734 03 81 83\n",
      "15019  730-30-6969                NIEVES PRIETO CODINA              dup_prudencia83@gmail.com       34731874870\n",
      "4989   730-30-6969                NIEVES PRIETO CODINA                  prudencia83@gmail.com     +34 731874022\n",
      "15014  801-67-2651                SILVIO CASTEJÓN VILA             dup_landapatricio@mora.com       34820021145\n",
      "7942   801-67-2651                SILVIO CASTEJÓN VILA                 landapatricio@mora.com  +34 820 02 11 06\n",
      "15016  836-96-3846             EMILIO FABREGAT IGLESIA               dup_pinoselena@gmail.com       34729005682\n",
      "13382  836-96-3846             EMILIO FABREGAT IGLESIA                   pinoselena@gmail.com     +34 729005397\n",
      "1352   849-79-8851              ELODIA MONTENEGRO FLOR              suarezhortensia@yahoo.com    +34837 948 954\n",
      "15021  849-79-8851              ELODIA MONTENEGRO FLOR          dup_suarezhortensia@yahoo.com       34837949576\n",
      "14227  865-28-2753                      AMANCIO HERVIA      federicoperal@armas-palomares.com  +34 729 45 26 48\n",
      "15012  865-28-2753                      AMANCIO HERVIA  dup_federicoperal@armas-palomares.com       34729452722\n",
      "3045   890-20-7814                        OLGA CÓRDOBA           maria-del-carmen21@gmail.com  +34 661 96 75 50\n",
      "15027  890-20-7814                        OLGA CÓRDOBA       dup_maria-del-carmen21@gmail.com       34661967832\n",
      "15011  901-22-6261       Visitación Corona Beltrán Luz        dup_abascaljenaro@benavides.com       34704539848\n",
      "5506   901-22-6261       Visitación Corona Beltrán Luz            abascaljenaro@benavides.com  +34 704 53 97 63\n",
      "2265   917-44-6828                Teresa Pinedo Blanca                 rosenda77@llorente.com    +34916 051 778\n",
      "15031  917-44-6828                Teresa Pinedo Blanca             dup_rosenda77@llorente.com       34916052769\n",
      "15010  934-51-4652                         NACHO OLIVÉ                   dup_wpages@yahoo.com       34727986359\n",
      "10960  934-51-4652                         NACHO OLIVÉ                       wpages@yahoo.com  +34 727 98 59 27\n",
      "13712  944-48-0443         ALEXANDRA PALACIOS ARAMBURU          sanchezmiguel-angel@gmail.com      +34707005985\n",
      "15034  944-48-0443         ALEXANDRA PALACIOS ARAMBURU      dup_sanchezmiguel-angel@gmail.com       34707006676\n",
      "4027   950-40-5738                    MÓNICA DEL LÓPEZ                       zacedo@yahoo.com   +34 876 618 784\n",
      "15017  950-40-5738                    MÓNICA DEL LÓPEZ                   dup_zacedo@yahoo.com       34876619482\n",
      "10259  966-73-0471            Bartolomé Catalán Sotelo                  viviana65@bertran.net  +34 720 25 23 28\n",
      "15023  966-73-0471            Bartolomé Catalán Sotelo              dup_viviana65@bertran.net       34720252339\n",
      "9448   974-78-3709             EFRAÍN MARISCAL BELTRAN                     zcases@hotmail.com   +34658 71 95 83\n",
      "15030  974-78-3709             EFRAÍN MARISCAL BELTRAN                 dup_zcases@hotmail.com       34658720406\n",
      "15018  992-92-5227                 Roque Gimenez Plana                 dup_qtovar@hotmail.com       34837245596\n",
      "4780   992-92-5227                 Roque Gimenez Plana                     qtovar@hotmail.com  +34 837 24 51 93\n",
      "\n",
      "\n",
      "Número de filas duplicadas:  80\n"
     ]
    }
   ],
   "source": [
    "# Ver las filas duplicadas\n",
    "print(\"   ----------    Filas duplicadas    ----------    \")\n",
    "print(\"\\n\")\n",
    "print(df[df.duplicated()])\n",
    "print(\"\\n\")\n",
    "# Número de filas duplicadas\n",
    "print(\"Número de filas duplicadas: \", df.duplicated().sum())\n",
    "print(\"\\n\")\n",
    "\n",
    "# Filtrar filas que tienen el mismo NIF\n",
    "duplicados = df.groupby('NIF').filter(lambda x: len(x) > 1)\n",
    "\n",
    "# Ordenar por NIF para que las filas con el mismo NIF se visualicen una encima de la otra\n",
    "duplicados = duplicados.sort_values(by='NIF')\n",
    "\n",
    "# Mostrar las filas duplicadas\n",
    "print(\"   ----------    Filas duplicadas    ----------    \")\n",
    "print(\"\\n\")\n",
    "print(duplicados)\n",
    "print(\"\\n\")\n",
    "print(\"Número de filas duplicadas: \", duplicados.shape[0])"
   ]
  },
  {
   "cell_type": "markdown",
   "metadata": {},
   "source": [
    "Podemos observar que no hay filas completamente iguales. Pero, hay filas que poseen el mismo NIF y nombre pero con diferente Email y Teléfono. Se han decidido mantener porque un usuario puede poseer asociadas varias direcciones email y teléfonos, por lo que no se ve necesario la modificación"
   ]
  },
  {
   "cell_type": "markdown",
   "metadata": {},
   "source": [
    "## 1.8 Búsqueda de errores tipográficos\n",
    "Hay ciertos atributos de texto que pueden contar con determinados errores tipográficos que deben ser solucionados, como los nombres de áreas, juegos, usuarios y ubicaciones. Debemos ver si los usuarios poseen nombres en un formato adecuado"
   ]
  },
  {
   "cell_type": "code",
   "execution_count": 23,
   "metadata": {},
   "outputs": [
    {
     "name": "stdout",
     "output_type": "stream",
     "text": [
      "   ----------    20 filas aleatorias de nombres de usuario    ----------    \n",
      "\n",
      "\n",
      "12728                     Conrado de Corral\n",
      "14825                  Roldán Julián Ropero\n",
      "12910                SOL MOSQUERA CARRETERO\n",
      "2070                Cándido Portero Arregui\n",
      "14372                DOLORES SALAS CORBACHO\n",
      "3273                   MARCIA GUILLÉN SÁENZ\n",
      "8601                  BENITO CABAÑAS TOLOSA\n",
      "2413                   Javier Luján Saldaña\n",
      "3271                    INMACULADA BERMÚDEZ\n",
      "10140    SANCHO EUSTAQUIO GALVÁN MANZANARES\n",
      "4622           MARÍA FERNANDA DEL BALLESTER\n",
      "1852                          Calixto Viñas\n",
      "7572                    Cesar Puga Aramburu\n",
      "7958                    IGNACIO DEL CABRERO\n",
      "12138                  MARTÍN CAMACHO SAINZ\n",
      "9435                  ISABEL ALEGRE PEINADO\n",
      "1756                 Carlota Rosado Camacho\n",
      "11902               Marcial Ramirez Vilalta\n",
      "10196               Juliana Castells Espada\n",
      "14678                     Ale Barros Asenjo\n",
      "Name: NOMBRE, dtype: object\n"
     ]
    }
   ],
   "source": [
    "# Mostrar 20 filas aleatorias de nombres de usuario\n",
    "print(\"   ----------    20 filas aleatorias de nombres de usuario    ----------    \")\n",
    "print(\"\\n\")\n",
    "print(df['NOMBRE'].sample(20))"
   ]
  },
  {
   "cell_type": "markdown",
   "metadata": {},
   "source": [
    "Como se puede apreciar, los nombres poseen formatos distintos, por lo que se deben estandarizar"
   ]
  },
  {
   "cell_type": "markdown",
   "metadata": {},
   "source": [
    "## 1.9 Identificación de valores enum fuera de campo\n",
    "Hay ciertos atributos que solo deben poseer ciertos valores (como Operativo-NoOperativo). Hace falta identificar aquellos valores de ese campo fuera de la norma"
   ]
  },
  {
   "cell_type": "markdown",
   "metadata": {},
   "source": [
    "En este dataset no se encuentran campos Enum, por lo que este paso se va a saltar"
   ]
  },
  {
   "cell_type": "markdown",
   "metadata": {},
   "source": [
    "## 1.10 Validación de las coordenadas y otros campos geoespaciales\n",
    "Hay algunas veces en las que los códigos postales no respetan la identificación de Madrid (280..) o el formato, ya sean códigos postales u otros atributos de geolocalización"
   ]
  },
  {
   "cell_type": "markdown",
   "metadata": {},
   "source": [
    "En este dataset no encontramos valores de localización, por lo que este paso no se realizará"
   ]
  },
  {
   "cell_type": "markdown",
   "metadata": {},
   "source": [
    "## 1.11 Identificación de unidades de medida en un formato no estandarizado\n",
    "Se deben identificar las filas que no posean un formato estándar"
   ]
  },
  {
   "cell_type": "markdown",
   "metadata": {},
   "source": [
    "En este dataset no encontramos valores de unidades de medida, por lo que este paso no se realizará"
   ]
  },
  {
   "cell_type": "markdown",
   "metadata": {},
   "source": [
    "## 1.12 Otros atributos a corregir\n",
    "En esta sección se mencionarán aquellos atributos que también deban ser limpiados por errores"
   ]
  },
  {
   "cell_type": "markdown",
   "metadata": {},
   "source": [
    "### 1.12.1 Validar NIF\n",
    "Debemos comprobar que todos los NIF posean el mismo formato '###-##-####', siendo un número, para que mantenga la coherencia con otros datasets (como el de Incidencias). A simple vista parece que sí, pero es mejor realizar una segunda comprobación más profunda"
   ]
  },
  {
   "cell_type": "code",
   "execution_count": 24,
   "metadata": {},
   "outputs": [
    {
     "name": "stdout",
     "output_type": "stream",
     "text": [
      "   ----------    Validar formato NIF    ----------    \n",
      "\n",
      "\n",
      "True\n"
     ]
    }
   ],
   "source": [
    "# Validar que todos los NIF tengan el siguiente formato: '###-##-####'\n",
    "print(\"   ----------    Validar formato NIF    ----------    \")\n",
    "print(\"\\n\")\n",
    "print(df['NIF'].str.match(r'\\d{3}-\\d{2}-\\d{4}').all())"
   ]
  },
  {
   "cell_type": "markdown",
   "metadata": {},
   "source": [
    "Se puede observar que no hay valores nulos (gracias a pasos previos) y que todos poseen la misma estructura"
   ]
  },
  {
   "cell_type": "markdown",
   "metadata": {},
   "source": [
    "### 1.12.2 Validar Email\n",
    "Un email posee una estructura característica, por lo que se debe validar mediante una regex que cumple con el formato habitual"
   ]
  },
  {
   "cell_type": "code",
   "execution_count": 25,
   "metadata": {},
   "outputs": [
    {
     "name": "stdout",
     "output_type": "stream",
     "text": [
      "   ----------    Validar formato EMAIL    ----------    \n",
      "\n",
      "\n",
      "True\n"
     ]
    }
   ],
   "source": [
    "# Comprobar que todos los valores de la columna 'EMAIL' poseen el formato de un email\n",
    "print(\"   ----------    Validar formato EMAIL    ----------    \")\n",
    "print(\"\\n\")\n",
    "print(df['EMAIL'].str.match(r'[^@]+@[^@]+\\.[^@]+').all())\n"
   ]
  },
  {
   "cell_type": "markdown",
   "metadata": {},
   "source": [
    "Como se puede apreciar, todas las filas no nulas cumplen con ese formato"
   ]
  },
  {
   "cell_type": "markdown",
   "metadata": {},
   "source": [
    "### 1.12.3 Validar Nombre y teléfono móvil"
   ]
  },
  {
   "cell_type": "markdown",
   "metadata": {},
   "source": [
    "Este paso se va a realizar en la limpieza, pero cabe destacar que si el nombre o el teléfono no cumplen con sus formatos habituales, las funciones de limpieza no se va a poder ejecutar, por lo que, de forma indirecta, se estarán validando ambos campos"
   ]
  },
  {
   "cell_type": "markdown",
   "metadata": {},
   "source": [
    "# 2. Limpieza de los datasets\n",
    "En este apartado se realizará la limpieza según la información obtenida en el análisis exploratorio de datos:\n",
    "- Se debe corregir NOMBRE y TELEFONO para un formato homogéneo\n",
    "- Se deben corregir los nulos de EMAIL"
   ]
  },
  {
   "cell_type": "markdown",
   "metadata": {},
   "source": [
    "## 2.1 Limpieza de NOMBRE y TELEFONO"
   ]
  },
  {
   "cell_type": "markdown",
   "metadata": {},
   "source": [
    "Debemos estandarizar todos los Nombres y Telefonos a un formato más lejible. En cuanto a teléfonos, se va a estandarizar toda la columna de teléfonos, comprobando que todos son +34 (aunque en un futuro podrán poseer cualquier prefijo) para agilizar la limpieza. Una vez comprobado, se eliminarán los espacios y se validará el formato de todos "
   ]
  },
  {
   "cell_type": "code",
   "execution_count": 26,
   "metadata": {},
   "outputs": [
    {
     "name": "stdout",
     "output_type": "stream",
     "text": [
      "   ----------    Valores de la columna NOMBRE en formato de nombre y apellidos    ----------    \n",
      "\n",
      "\n",
      "7140             Martina Briones-Ponce\n",
      "8175               Lina Pedraza Girona\n",
      "13371              Edgardo Boix Posada\n",
      "9063           Calisto Bernat-Cuadrado\n",
      "10951               María Carmen Bayón\n",
      "11144            Mayte Martínez Aliaga\n",
      "4137     Marcela Octavia Quesada Pagès\n",
      "6339           Miriam Casanova Montoya\n",
      "5456           Bernardino Bastida-Baró\n",
      "10993               Onofre Gascón-León\n",
      "Name: NOMBRE, dtype: object\n",
      "\n",
      "\n",
      "   ----------    Valores de la columna TELEFONO sin espacios    ----------    \n",
      "\n",
      "\n",
      "4913    +34746265342\n",
      "5199    +34747205951\n",
      "3483    +34903439085\n",
      "189     +34737028286\n",
      "5571    +34678402432\n",
      "9658    +34734410734\n",
      "7172    +34739744805\n",
      "999     +34718178163\n",
      "8415    +34723812532\n",
      "577     +34667903773\n",
      "Name: TELEFONO, dtype: object\n",
      "\n",
      "\n",
      "   ----------    Valores de la columna TELEFONO con '+' al principio    ----------    \n",
      "\n",
      "\n",
      "301      +34736660733\n",
      "1821     +34724190779\n",
      "12347    +34706729168\n",
      "6676     +34732119394\n",
      "5367     +34830294121\n",
      "1081     +34953342541\n",
      "8739     +34700126534\n",
      "7762     +34981573415\n",
      "775      +34707995794\n",
      "12108    +34704537640\n",
      "Name: TELEFONO, dtype: object\n",
      "\n",
      "\n",
      "   ----------    Validar formato TELEFONO    ----------    \n",
      "\n",
      "\n",
      "True\n",
      "\n",
      "\n",
      "   ----------    Filas que no cumplen con el formato de teléfono    ----------    \n",
      "\n",
      "\n",
      "Empty DataFrame\n",
      "Columns: [NIF, NOMBRE, EMAIL, TELEFONO]\n",
      "Index: []\n"
     ]
    }
   ],
   "source": [
    "# Pasamos todos los valores del campo 'NOMBRE' a un formato de nombre y apellidos\n",
    "df['NOMBRE'] = df['NOMBRE'].str.title()\n",
    "print(\"   ----------    Valores de la columna NOMBRE en formato de nombre y apellidos    ----------    \")\n",
    "print(\"\\n\")\n",
    "print(df['NOMBRE'].sample(10))\n",
    "print(\"\\n\")\n",
    "\n",
    "# Elimina los espacios entre caracteres de los valores de la columna 'TELEFONO'\n",
    "df['TELEFONO'] = df['TELEFONO'].str.replace(' ', '')\n",
    "print(\"   ----------    Valores de la columna TELEFONO sin espacios    ----------    \")\n",
    "print(\"\\n\")\n",
    "print(df['TELEFONO'].sample(10))\n",
    "# Añade el '+' del principio a todos los valores de la columna 'TELEFONO' que no los posea\n",
    "df['TELEFONO'] = df['TELEFONO'].apply(lambda x: '+' + x if x[0] != '+' else x)\n",
    "print(\"\\n\")\n",
    "print(\"   ----------    Valores de la columna TELEFONO con '+' al principio    ----------    \")\n",
    "print(\"\\n\")\n",
    "print(df['TELEFONO'].sample(10))\n",
    "\n",
    "# Comprobación de que todos los valores de la columna TELEFONO comienzan por '+34'\n",
    "print(\"\\n\")\n",
    "print(\"   ----------    Validar formato TELEFONO    ----------    \")\n",
    "print(\"\\n\")\n",
    "print(df['TELEFONO'].str.match(r'\\+34\\d{9}').all())\n",
    "# Muestra las filas que no cumplen con el formato de teléfono\n",
    "print(\"\\n\")\n",
    "print(\"   ----------    Filas que no cumplen con el formato de teléfono    ----------    \")\n",
    "print(\"\\n\")\n",
    "print(df[~df['TELEFONO'].str.match(r'\\+34\\d{9}')])"
   ]
  },
  {
   "cell_type": "markdown",
   "metadata": {},
   "source": [
    "Se puede apreciar que ya han quedado estandarizado todos los nombres y teléfonos"
   ]
  },
  {
   "cell_type": "markdown",
   "metadata": {},
   "source": [
    "## 2.2 Limpieza de EMAIL\n",
    "Se van a rellenar todos los emails faltantes siguiendo un formato específico:\n",
    "- NIF(con guiones para facilitar las queries en un futuro)-EMAIL-Desconocido"
   ]
  },
  {
   "cell_type": "code",
   "execution_count": 27,
   "metadata": {},
   "outputs": [
    {
     "name": "stdout",
     "output_type": "stream",
     "text": [
      "   ----------    Filas con valores nulos    ----------    \n",
      "\n",
      "\n",
      "Empty DataFrame\n",
      "Columns: [NIF, NOMBRE, EMAIL, TELEFONO]\n",
      "Index: []\n"
     ]
    }
   ],
   "source": [
    "# Cambiamos los valores nulos por una string personalizada en la que combinamos el NIF de esa fila y el nombre de la columna en cuestión\n",
    "\n",
    "# Función para generar la cadena personalizada\n",
    "def string_email_desc(row):\n",
    "    return f\"{row['NIF']}_EMAIL_Desconocido\"\n",
    "\n",
    "# Reemplazar valores nulos\n",
    "df['EMAIL'] = df.apply(lambda row: string_email_desc(row) if pd.isnull(row['EMAIL']) else row['EMAIL'], axis=1)\n",
    "\n",
    "print(\"   ----------    Filas con valores nulos    ----------    \")\n",
    "print(\"\\n\")\n",
    "print(df[df.isnull().any(axis=1)])"
   ]
  },
  {
   "cell_type": "markdown",
   "metadata": {},
   "source": [
    "Como se puede apreciar, los emails ya no están vacíos"
   ]
  },
  {
   "cell_type": "markdown",
   "metadata": {},
   "source": [
    "## 2.4 Mostrar Dataset Limpio y guardar CSV\n",
    "Vamos a mostrar algunas filas del dataset limpio para validar que todo está OK y guardamos el Dataset"
   ]
  },
  {
   "cell_type": "code",
   "execution_count": 28,
   "metadata": {},
   "outputs": [
    {
     "name": "stdout",
     "output_type": "stream",
     "text": [
      "   ----------    10 filas aleatorias    ----------    \n",
      "\n",
      "\n",
      "               NIF                         NOMBRE                           EMAIL      TELEFONO\n",
      "5019   550-98-3208   Carmelita Montalbán Doménech           aleiva@roma-baena.com  +34733883077\n",
      "1504   924-77-8580             Nydia Calvo-Ibáñez              chus52@hotmail.com  +34710690294\n",
      "7722   906-84-0821           Chita Aguilera Duque   geraldocruz@molins-zabala.com  +34990600445\n",
      "5379   543-74-9102           Hernando De Gallardo         bayoncasandra@gmail.com  +34739639684\n",
      "2358   713-41-8944  Jose Manuel Canals Santamaría             marioegea@gmail.com  +34746535571\n",
      "14756  219-47-4797        Pepito Valenzuela-Viñas              jose08@agustin.net  +34728457827\n",
      "2796   466-10-8414          Elvira Arribas Ferrán            dalila21@hotmail.com  +34675683545\n",
      "7041   693-33-0477              José Casas Moreno           julieacosta@gimeno.es  +34705817927\n",
      "4834   897-07-9402      José Ángel Blasco-Gonzalo                   juan05@paz.es  +34717860747\n",
      "6764   450-06-2508            Jordi Del Lumbreras  moralesrodolfo@albero-vega.com  +34745612535\n",
      "\n",
      "\n",
      "   ----------    Filas EMAIL con 'Desconocido'    ----------    \n",
      "\n",
      "\n",
      "               NIF                               NOMBRE                          EMAIL      TELEFONO\n",
      "7241   404-04-0223  Margarita Isabela Valcárcel Jimenez  404-04-0223_EMAIL_Desconocido  +34728403554\n",
      "11566  491-76-6774                 Cristian Valls Plana  491-76-6774_EMAIL_Desconocido  +34638783890\n",
      "13334  759-63-1974              Dionisio Ledesma Cañete  759-63-1974_EMAIL_Desconocido  +34717588597\n",
      "2537   329-46-7975                     Amarilis Calleja  329-46-7975_EMAIL_Desconocido  +34709875297\n",
      "7886   818-21-2804                 Pánfilo Tormo Patiño  818-21-2804_EMAIL_Desconocido  +34685645603\n",
      "350    665-35-8274                  Jordi Cabello Ochoa  665-35-8274_EMAIL_Desconocido  +34706955013\n",
      "669    993-67-2645                Amancio Del Fernández  993-67-2645_EMAIL_Desconocido  +34637908835\n",
      "9436   004-60-5880               Alberto Osorio Escobar  004-60-5880_EMAIL_Desconocido  +34648733786\n",
      "13106  083-58-7465                Josefa Casals Herrera  083-58-7465_EMAIL_Desconocido  +34737028531\n",
      "13049  754-89-4697                   Calista De Salazar  754-89-4697_EMAIL_Desconocido  +34959719686\n",
      "\n",
      "\n"
     ]
    },
    {
     "name": "stdout",
     "output_type": "stream",
     "text": [
      "\n",
      "\n",
      "Dataset limpio guardado\n"
     ]
    }
   ],
   "source": [
    "# Enseñamos 10 filas aleatorias para ver cómo quedan\n",
    "print(\"   ----------    10 filas aleatorias    ----------    \")\n",
    "print(\"\\n\")\n",
    "print(df.sample(10))\n",
    "print(\"\\n\")\n",
    "\n",
    "# Mostramos 10 filas que posean el comentario 'Desconocido' y 10 filas que posean el tipo 'Desconocido'\n",
    "print(\"   ----------    Filas EMAIL con 'Desconocido'    ----------    \")\n",
    "print(\"\\n\")\n",
    "print(df[df['EMAIL'].str.contains('Desconocido')].sample(10))\n",
    "print(\"\\n\")\n",
    "\n",
    "# Guardamos el dataset limpio\n",
    "df.to_csv('../UsuariosLimpio.csv', index=False)\n",
    "print(\"\\n\")\n",
    "print(\"Dataset limpio guardado\")"
   ]
  }
 ],
 "metadata": {
  "kernelspec": {
   "display_name": "Python 3",
   "language": "python",
   "name": "python3"
  },
  "language_info": {
   "codemirror_mode": {
    "name": "ipython",
    "version": 3
   },
   "file_extension": ".py",
   "mimetype": "text/x-python",
   "name": "python",
   "nbconvert_exporter": "python",
   "pygments_lexer": "ipython3",
   "version": "3.12.7"
  }
 },
 "nbformat": 4,
 "nbformat_minor": 2
}
