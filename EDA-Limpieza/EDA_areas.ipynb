{
 "cells": [
  {
   "cell_type": "markdown",
   "metadata": {},
   "source": [
    "# 1. EDA\n",
    "En este apartado se pretende analizar los datasets para poder enfocar mejor la limpieza"
   ]
  },
  {
   "cell_type": "markdown",
   "metadata": {},
   "source": [
    "## 1.1 Importación y carga de datos\n",
    "Debemos declarar las librerías que usamos y leer el correspondiente archivo de datos"
   ]
  },
  {
   "cell_type": "code",
   "execution_count": 1,
   "metadata": {},
   "outputs": [],
   "source": [
    "# Importación de librerías\n",
    "import pandas as pd\n",
    "# Lectura dataset\n",
    "df = pd.read_csv('../AreasSucio.csv')"
   ]
  },
  {
   "cell_type": "markdown",
   "metadata": {},
   "source": [
    "## 1.2 Configuración de Pandas\n",
    "Para poder leer bien los resultados de las ejecuciones, vamos a configurar tanto el número máximo de columnas como el número máximo de filas"
   ]
  },
  {
   "cell_type": "code",
   "execution_count": 2,
   "metadata": {},
   "outputs": [],
   "source": [
    "# Número máximo de filas a mostrar\n",
    "pd.set_option('display.max_rows', None)\n",
    "# Número máximo de columnas a mostrar\n",
    "pd.set_option('display.max_columns', None)\n",
    "pd.set_option('display.max_colwidth', None)\n",
    "pd.set_option('display.width', 2000)"
   ]
  },
  {
   "cell_type": "markdown",
   "metadata": {},
   "source": [
    "## 1.3 Descripción general del dataset\n",
    "Para poder conocer ciertas características relevantes del dataset, como el número de instancias (filas) y características (columnas) procederemos a usar diferentes funciones de Pandas\n"
   ]
  },
  {
   "cell_type": "code",
   "execution_count": 3,
   "metadata": {},
   "outputs": [
    {
     "name": "stdout",
     "output_type": "stream",
     "text": [
      "                 ID   COD_BARRIO  COD_DISTRITO    COORD_GIS_X   COORD_GIS_Y      LATITUD     LONGITUD    COD_POSTAL           NDP   TOTAL_ELEM\n",
      "count  2.724000e+03  2724.000000   2714.000000    2724.000000  2.724000e+03  2724.000000  2724.000000   2635.000000  2.525000e+03  2724.000000\n",
      "mean   1.563270e+06   127.056167     12.341931  442527.739333  4.474631e+06    40.420314    -3.677460  27829.775712  1.950833e+07    10.016887\n",
      "std    2.815716e+06    52.377876      5.238038    4316.806283  4.726069e+03     0.042621     0.050819   2372.231422  8.437088e+06     5.405864\n",
      "min    1.665700e+04    11.000000      1.000000  429551.330000  4.464949e+06    40.332965    -3.831085      0.000000  1.100019e+07     0.000000\n",
      "25%    1.742875e+04    91.000000      9.000000  439432.046750  4.470593e+06    40.383852    -3.713989  28022.000000  1.109013e+07     7.000000\n",
      "50%    1.812750e+04   131.000000     13.000000  442622.004500  4.473629e+06    40.411559    -3.676429  28032.000000  2.006377e+07     9.000000\n",
      "75%    4.612118e+05   166.000000     16.000000  446028.250000  4.478665e+06    40.456260    -3.636495  28042.000000  3.101071e+07    12.000000\n",
      "max    9.536964e+06   215.000000     21.000000  453385.840000  4.487423e+06    40.534872    -3.549355  28055.000000  3.106951e+07    57.000000\n",
      "\n",
      "\n",
      "Número de filas:  2724\n",
      "Número de columnas:  23\n",
      "\n",
      "\n",
      "<class 'pandas.core.frame.DataFrame'>\n",
      "RangeIndex: 2724 entries, 0 to 2723\n",
      "Data columns (total 23 columns):\n",
      " #   Column              Non-Null Count  Dtype  \n",
      "---  ------              --------------  -----  \n",
      " 0   ID                  2724 non-null   int64  \n",
      " 1   DESC_CLASIFICACION  2724 non-null   object \n",
      " 2   COD_BARRIO          2724 non-null   int64  \n",
      " 3   BARRIO              2724 non-null   object \n",
      " 4   COD_DISTRITO        2714 non-null   float64\n",
      " 5   DISTRITO            2714 non-null   object \n",
      " 6   ESTADO              2724 non-null   object \n",
      " 7   COORD_GIS_X         2724 non-null   float64\n",
      " 8   COORD_GIS_Y         2724 non-null   float64\n",
      " 9   SISTEMA_COORD       2724 non-null   object \n",
      " 10  LATITUD             2724 non-null   float64\n",
      " 11  LONGITUD            2724 non-null   float64\n",
      " 12  TIPO_VIA            2547 non-null   object \n",
      " 13  NOM_VIA             2548 non-null   object \n",
      " 14  NUM_VIA             2560 non-null   object \n",
      " 15  COD_POSTAL          2635 non-null   float64\n",
      " 16  DIRECCION_AUX       2284 non-null   object \n",
      " 17  NDP                 2525 non-null   float64\n",
      " 18  FECHA_INSTALACION   2595 non-null   object \n",
      " 19  CODIGO_INTERNO      2598 non-null   object \n",
      " 20  CONTRATO_COD        2724 non-null   object \n",
      " 21  TOTAL_ELEM          2724 non-null   int64  \n",
      " 22  tipo                2724 non-null   object \n",
      "dtypes: float64(7), int64(3), object(13)\n",
      "memory usage: 489.6+ KB\n",
      "None\n"
     ]
    }
   ],
   "source": [
    "# Descripción de parámetros generales -> count, mean, std, min, 25%, 50%, 75%, max\n",
    "print(df.describe())\n",
    "\n",
    "# Número de filas y columnas del dataset\n",
    "print(\"\\n\")\n",
    "print(\"Número de filas: \", df.shape[0])\n",
    "\n",
    "print(\"Número de columnas: \", df.shape[1])\n",
    "print(\"\\n\")\n",
    "\n",
    "# Para saber el tipo de variable de cada columna\n",
    "print(df.info())"
   ]
  },
  {
   "cell_type": "markdown",
   "metadata": {},
   "source": [
    "## 1.4 Observación inicial del dataset\n",
    "Vamos a mostrar 30 entradas para poder observar cómo es realmente por dentro el dataset"
   ]
  },
  {
   "cell_type": "code",
   "execution_count": 4,
   "metadata": {},
   "outputs": [
    {
     "name": "stdout",
     "output_type": "stream",
     "text": [
      "   ----------    10 primeras filas    ----------    \n",
      "\n",
      "\n",
      "        ID            DESC_CLASIFICACION  COD_BARRIO                        BARRIO  COD_DISTRITO               DISTRITO     ESTADO  COORD_GIS_X  COORD_GIS_Y SISTEMA_COORD    LATITUD  LONGITUD   TIPO_VIA                  NOM_VIA NUM_VIA  COD_POSTAL                                     DIRECCION_AUX         NDP    FECHA_INSTALACION CODIGO_INTERNO CONTRATO_COD  TOTAL_ELEM        tipo\n",
      "0  3568711  Circuito deportivo elemental          85                        lA paz           8.0  fuencaRrAL - eL PARdO  OPERATIVO   440597.410  4481480.160        ETRS89  40.481888 -3.700858      CALLE               PEDRO RICO       1     28029.0             PARQUE NORTE 3 (ANTONIO LOPEZ AGUADO)  20103366.0             08/03/17          D0852         AE21           5  deportivas\n",
      "1  3569210  Circuito deportivo elemental          87                    MIrásIErRá           8.0  fueNCArral - el pArDO  OPERATIVO   438497.360  4482668.090        ETRS89  40.492436 -3.725749      CALLE          MARIA DE MAEZTU     108     28049.0  CALLE MARIA DE MAEZTU, 108 C/V SENDA DEL INFANTE  31052003.0  2017-10-09 00:00:00          D0854         AE21           9  deportivas\n",
      "2  3573005  Circuito deportivo elemental         192                 VaLDEBErNardo          19.0              VICAlVaRO  OPERATIVO   446968.130  4472539.440        ETRS89  40.401776 -3.624951      CALLE  LADERA DE LOS ALMENDROS     14E     28032.0                LADERA DE LOS ALMENDROS, 000014  E  20151600.0           20/10/2013          D1950         AE21          12  deportivas\n",
      "3  3573016  Circuito deportivo elemental         192                 VAlDEBErNáRDO          19.0              viCalVaRO  OPERATIVO   447538.380  4471701.760        ETRS89  40.394266 -3.618163    AVENIDA               DEMOCRACIA      50     28031.0                           AVDA DEMOCRACIA, 000050  20165254.0             20/10/13          D1953         AE21          11  deportivas\n",
      "4  3573208  Circuito deportivo elemental         183          EnsancHE de ValLeCAS          18.0      vILLA DE VáLLECAs  OPERATIVO   449416.790  4468380.840        ETRS89  40.364465 -3.595767      CALLE        MARIA TERESA LEON      1G     28051.0                      MARÍA TERESA LEÓN, 000001  G  31026567.0             20/10/13          D1854         AE21           3  deportivas\n",
      "5  3573331  Circuito deportivo elemental         182                 SANtA EUGeNIa          18.0      vIlLA De vALLEcas  OPERATIVO   448854.010  4469974.400        ETRS89  40.378786 -3.602523      CALLE           POZA DE LA SAL       3     28031.0                            POZA DE LA SAL, 000003  11131688.0           23/10/2013          D1851         AE21           5  deportivas\n",
      "6  3573333  Circuito deportivo elemental         181   cascO hiSToriCO DE VallECaS          18.0      viLLA De vALLEcAS  OPERATIVO   446970.232  4469259.493        ETRS89  40.372228 -3.624654      CALLE             BABILAFUENTE       2     28031.0                              BABILAFUENTE, 000002  20170570.0  2013-10-20 00:00:00          D1853         AE21           4  deportivas\n",
      "7  3573466  Circuito deportivo elemental         181   CAsCO HISTOriCo dE vallEcAS          18.0      villA dE vaLLeCAS  OPERATIVO   446183.700  4469509.080        ETRS89  40.374426 -3.633939  CARRETERA    VILLAVERDE A VALLECAS     289     28031.0                CTRA VILLAVERDE A VALLECAS, 000289  20180908.0           2013/10/20          D1856         AE21           9  deportivas\n",
      "8  4792795  Circuito deportivo elemental         192                 vaLDebernARDo          19.0              vicalVArO  OPERATIVO   446881.880  4472327.780        ETRS89  40.399864 -3.625950    AUTOVIA                     M-40  1500EX     28032.0                             AUTOV M-40, 001500 EX  31031401.0  2017-12-20 00:00:00          D1954         AE21           8  deportivas\n",
      "9  4792812  Circuito deportivo elemental         191  casCo histORicO de VicaLvArO          19.0              vIcALVArO  OPERATIVO   449811.480  4473216.060        ETRS89  40.408048 -3.591499      CALLE        ABAD JUAN CATALAN      70     28032.0                         ABAD JUAN CATALÁN, 000070  31037333.0           12-18-2017          D1957         AE21           8  deportivas\n",
      "\n",
      "\n",
      "   ----------    10 filas aleatorias    ----------    \n",
      "\n",
      "\n",
      "           ID            DESC_CLASIFICACION  COD_BARRIO                        BARRIO  COD_DISTRITO            DISTRITO     ESTADO  COORD_GIS_X  COORD_GIS_Y SISTEMA_COORD    LATITUD  LONGITUD TIPO_VIA                            NOM_VIA NUM_VIA  COD_POSTAL                                      DIRECCION_AUX         NDP    FECHA_INSTALACION CODIGO_INTERNO CONTRATO_COD  TOTAL_ELEM        tipo\n",
      "1156    17699                 Área Infantil         132                     san diEGo          13.0  PueNtE De VaLLeCas  OPERATIVO   443641.350  4471719.340        ETRS89  40.394170 -3.664081    CALLE              PUERTO DEL MONASTERIO      20     28053.0                      PUERTO DEL MONASTERIO, 000020  11093048.0  2007-04-27 00:00:00          13036         AE21           7    infantil\n",
      "2042    18032                 Área Infantil         166                  vaLdEFUenTES          16.0           HORtáLEZA  OPERATIVO   446461.940  4480991.280        ETRS89  40.477883 -3.631628  AVENIDA                       MARUJA MALLO       7     28055.0  C · CALLE MARUJA MALLO , ASCENDIENTE 1: 166 · VAL  20160479.0           01-01-2005          16011         AE21          13    infantil\n",
      "300     17214               Área de mayores          97                       arAVAcA           9.0   mONcLoA - ARavacA  OPERATIVO   433025.320  4478380.490        ETRS89  40.453389 -3.789862    CALLE                  ESCULTOR PERESEJO      70     28023.0      CALLE ESCULTOR PERESEJO 70 , ASCENDIENTE 1: 0  20063785.0           2004/01/01          M0908         AE21           5     mayores\n",
      "2600  4794404                 Área Infantil          62                cUAtrO CaMinOS           6.0              TETUaN  OPERATIVO   441247.890  4477836.250        ETRS89  40.449108 -3.692846    PASEO                         CASTELLANA    89 B     28046.0                                                NaN  31035661.0           18/06/2018           6073         AE21          22    infantil\n",
      "1126    17655                 Área Infantil         125                      MoSCARDO          12.0               USEra  OPERATIVO   439476.283  4471069.216        ETRS89  40.388021 -3.713093    PASEO           SANTA MARIA DE LA CABEZA     133     28026.0             PASEO SANTA MARÍA DE LA CABEZA, 000133  11085073.0             01/01/03          12094         AE21          17    infantil\n",
      "2352  5246193       Area de juegos/especial          91                 CasA dE campO           9.0   MOnClOA - ARavaCa  OPERATIVO   437672.210  4474731.120        ETRS89  40.420876 -3.734706    PASEO             Paseo Puerta del Angel       1     28011.0                                                NaN         NaN                  NaN            NaN            6           9    infantil\n",
      "16    3573015  Circuito deportivo elemental         191  cAsCo hISToriCO de vIcALVaRo          19.0           viCaLvaRo  OPERATIVO   449242.720  4473418.810        ETRS89  40.409840 -3.598218    PASEO                      POLIDEPORTIVO     144     28032.0                        PASEO POLIDEPORTIVO, 000144  20154043.0     fecha_incorrecta          D1951         AE21          11  deportivas\n",
      "875     17258                 Área Infantil          94                    vALdeZARZa           9.0   moNcloa - AravACA  OPERATIVO   438935.506  4479899.049        ETRS89  40.467524 -3.720312    CALLE                          VALDERREY      38     28035.0      CALLE VALDERREY 36 , ASCENDIENTE 1: 094 · VAL  11054878.0             14/03/07           9130         AE21           9    infantil\n",
      "2403  7142118                 Área Infantil          15                   UnivERsidaD           1.0              cEntrO  OPERATIVO   440160.715  4474788.987        ETRS89  40.421580 -3.705379    PLAZA  SANTA MARIA SOLEDAD TORRES ACOSTA       2     28004.0                                                NaN  11007127.0             13/02/19           1048         AE21           6    infantil\n",
      "1286    17841                 Área Infantil         144                   mEdia LEguA          14.0           móRATálAz  OPERATIVO   444425.360  4473718.160        ETRS89  40.412229 -3.655018    CALLE                 PRIMAVERA DE PRAGA      22     28030.0                         PRIMAVERA DE PRAGA, 000022  20141879.0     fecha_incorrecta          14025         AE21          19    infantil\n",
      "\n",
      "\n",
      "   ----------    10 últimas filas    ----------    \n",
      "\n",
      "\n",
      "           ID       DESC_CLASIFICACION  COD_BARRIO                                           BARRIO  COD_DISTRITO               DISTRITO     ESTADO  COORD_GIS_X  COORD_GIS_Y SISTEMA_COORD    LATITUD  LONGITUD TIPO_VIA                          NOM_VIA NUM_VIA  COD_POSTAL                  DIRECCION_AUX         NDP FECHA_INSTALACION CODIGO_INTERNO CONTRATO_COD  TOTAL_ELEM      tipo\n",
      "2714  8776034            Área Infantil          86                                         vAlveRdE           8.0  FUencArRaL - el parDo  OPERATIVO   441863.380  4483083.974        ETRS89  40.496425 -3.686069    CALLE                  MANUEL VILLARTA      15     28034.0  CALLE ISLAS PALAOS 3-5 ZONA 2  11049506.0        02-02-2022           8200         AE21           6  infantil\n",
      "2715  8785368            Área Infantil         171  VILlavERdE alto - CAsCo historICO DE vIllaVeRdE          17.0             ViLLaVErDe  OPERATIVO   440189.937  4466780.612        ETRS89  40.349438 -3.704283    CALLE                       SAN JENARO       3     28021.0                 C/SAN JENARO,3  31047909.0        2022/02/09          17132         AE21          11  infantil\n",
      "2716  8799605            Área Infantil          97                                          arAvACa           9.0      MonClOa - ARAVaCA  OPERATIVO   433820.872  4477425.657        ETRS89  40.444852 -3.780381  AVENIDA                            TALGO       1     28023.0           CARRETERA DE ARAVACA  20172145.0  fecha_incorrecta           9159         AE21           8  infantil\n",
      "2717  8800261            Área Infantil         215                                       CóRRálEjOs          21.0                baRAJaS  OPERATIVO   449653.021  4479424.486        ETRS89  40.463968 -3.593859    CALLE                   BAHIA DE CADIZ      28     28042.0       CALLE BAHIA DE CARTAGENA  20168038.0  fecha_incorrecta          21073         AE21          17  infantil\n",
      "2718  8914010  Area de juegos/especial         143                                       MaRrOQuina          14.0              MoraTAlaz  OPERATIVO   446569.340  4473580.530        ETRS89  40.411129 -3.629738  AVENIDA  Avenida del Doctor Garcia Tapia     125     28030.0                            NaN         NaN               NaN            NaN            6           3  infantil\n",
      "2719  8914012  Area de juegos/especial         143                                       mArROQuiNa          14.0              mORatAlaZ  OPERATIVO   446470.120  4473710.080        ETRS89  40.412290 -3.630918  AVENIDA  Avenida del Doctor Garcia Tapia     125     28030.0                            NaN         NaN               NaN            NaN            6           0  infantil\n",
      "2720  8941726  Area de juegos/especial         125                                         moscardo          12.0                  USérA  OPERATIVO   440372.235  4471439.786        ETRS89  40.391424 -3.702572      NaN                              NaN     NaN     28005.0                            NaN         NaN               NaN            NaN            6          10  infantil\n",
      "2721  8941727  Area de juegos/especial         124                                      ALménDráLés          12.0                  USERA  OPERATIVO   440975.398  4470765.456        ETRS89  40.385392 -3.695403      NaN                              NaN     NaN     28005.0                            NaN         NaN               NaN            NaN            6           7  infantil\n",
      "2722  9348753            Área Infantil         205                                            Rosas          20.0  san Blas - CANilLEJaS  OPERATIVO   449155.140  4475659.692        ETRS89  40.430022 -3.599429    CALLE                        ESTOCOLMO      55     28022.0               PASEO DE GINEGRA  20102763.0          09/08/23          20218         AE21          14  infantil\n",
      "2723  9424149  Area de juegos/especial          22                                          AcACiAS           2.0             ARgAnZUeLa  OPERATIVO   439995.071  4472023.818        ETRS89  40.396658 -3.707071      NaN                              NaN     NaN     28005.0                            NaN         NaN               NaN      AI_900023            6           0  infantil\n"
     ]
    }
   ],
   "source": [
    "# Mostramos las 10 primeras filas, 10 filas aleatorias y las 10 últimas\n",
    "print(\"   ----------    10 primeras filas    ----------    \")\n",
    "print(\"\\n\")\n",
    "print(df.head(10))\n",
    "print(\"\\n\")\n",
    "print(\"   ----------    10 filas aleatorias    ----------    \")\n",
    "print(\"\\n\")\n",
    "print(df.sample(10))\n",
    "print(\"\\n\")\n",
    "print(\"   ----------    10 últimas filas    ----------    \")\n",
    "print(\"\\n\")\n",
    "print(df.tail(10))"
   ]
  },
  {
   "cell_type": "markdown",
   "metadata": {},
   "source": [
    "## 1.5 Revisión de valores nulos\n",
    "Como ya se ha visto en el anterior apartado, no existen valores nulos como tal, pero pueden encontrarse en el dataset como \"NaN\" o \"0\" o de otras formas. Para asegurarnos, aplicaremos la siguiente función"
   ]
  },
  {
   "cell_type": "code",
   "execution_count": 5,
   "metadata": {},
   "outputs": [
    {
     "name": "stdout",
     "output_type": "stream",
     "text": [
      "ID                      0\n",
      "DESC_CLASIFICACION      0\n",
      "COD_BARRIO              0\n",
      "BARRIO                  0\n",
      "COD_DISTRITO           10\n",
      "DISTRITO               10\n",
      "ESTADO                  0\n",
      "COORD_GIS_X             0\n",
      "COORD_GIS_Y             0\n",
      "SISTEMA_COORD           0\n",
      "LATITUD                 0\n",
      "LONGITUD                0\n",
      "TIPO_VIA              177\n",
      "NOM_VIA               176\n",
      "NUM_VIA               164\n",
      "COD_POSTAL             89\n",
      "DIRECCION_AUX         440\n",
      "NDP                   199\n",
      "FECHA_INSTALACION     129\n",
      "CODIGO_INTERNO        126\n",
      "CONTRATO_COD            0\n",
      "TOTAL_ELEM              0\n",
      "tipo                    0\n",
      "dtype: int64\n"
     ]
    }
   ],
   "source": [
    "# Para poder saber el número de valores faltantes:\n",
    "print(df.isnull().sum())"
   ]
  },
  {
   "cell_type": "code",
   "execution_count": 6,
   "metadata": {},
   "outputs": [
    {
     "name": "stdout",
     "output_type": "stream",
     "text": [
      "ID                     0\n",
      "DESC_CLASIFICACION     0\n",
      "COD_BARRIO             0\n",
      "BARRIO                 0\n",
      "COD_DISTRITO           0\n",
      "DISTRITO               0\n",
      "ESTADO                 0\n",
      "COORD_GIS_X            0\n",
      "COORD_GIS_Y            0\n",
      "SISTEMA_COORD          0\n",
      "LATITUD                0\n",
      "LONGITUD               0\n",
      "TIPO_VIA               0\n",
      "NOM_VIA                0\n",
      "NUM_VIA                0\n",
      "COD_POSTAL            19\n",
      "DIRECCION_AUX          0\n",
      "NDP                    0\n",
      "FECHA_INSTALACION      0\n",
      "CODIGO_INTERNO         0\n",
      "CONTRATO_COD           0\n",
      "TOTAL_ELEM             5\n",
      "tipo                   0\n",
      "dtype: int64\n"
     ]
    }
   ],
   "source": [
    "# Ahora, comprobaremos, como todos son números decimales, si por casualidad hay algún cero que no tengan sentido en el dataset\n",
    "# Para ello, veremos el número de ceros que hay en cada columna\n",
    "print((df == 0).sum())"
   ]
  },
  {
   "cell_type": "markdown",
   "metadata": {},
   "source": [
    "## 1.6 Identificación de fechas no estandarizadas\n",
    "Se deben identificar las fechas que no se encuentran en el formato adecuado para MongoDB (DD/MM/YYYY)"
   ]
  },
  {
   "cell_type": "markdown",
   "metadata": {},
   "source": [
    "## 1.7 Identificación de registros duplicados\n",
    "Debemos validar que no existen filas iguales que ensucien el dataset"
   ]
  },
  {
   "cell_type": "markdown",
   "metadata": {},
   "source": [
    "## 1.8 Búsqueda de errores tipográficos\n",
    "Hay ciertos atributos de texto que pueden contar con determinados errores tipográficos que deben ser solucionados"
   ]
  },
  {
   "cell_type": "markdown",
   "metadata": {},
   "source": [
    "## 1.9 Identificación de valores enum fuera de campo\n",
    "Hay ciertos atributos que solo deben poseer ciertos valores (como Operativo-NoOperativo). Hace falta identificar aquellos valores de ese campo fuera de la norma"
   ]
  },
  {
   "cell_type": "markdown",
   "metadata": {},
   "source": [
    "## 1.10 Validación de las coordenadas y otros campos geoespaciales\n",
    "Hay algunas veces en las que los códigos postales no respetan la identificación de Madrid (280..) o el formato, ya sean códigos postales u otros atributos de geolocalización"
   ]
  },
  {
   "cell_type": "markdown",
   "metadata": {},
   "source": [
    "## 1.11 Identificación de unidades de medida en un formato no estandarizado\n",
    "Se deben identificar las filas que no posean un formato estándar"
   ]
  },
  {
   "cell_type": "markdown",
   "metadata": {},
   "source": [
    "## 1.12 Otros atributos a corregir\n",
    "En esta sección se mencionarán aquellos atributos que también deban ser limpiados por errores"
   ]
  },
  {
   "cell_type": "markdown",
   "metadata": {},
   "source": [
    "# 2. Limpieza de los datasets\n",
    "En este apartado limpiaremos los datos según lo mencionado en el enunciado:\n",
    "- Hace falta corregir los valores nulos\n",
    "    - Rellenarlos con lo de “ID_CAMPO_DESCONOCIDO”\n",
    "- Cambiar todas las fechas a “DD/MM/YYYY”\n",
    "- Eliminar registros duplicados\n",
    "- Corregir errores tipográficos\n",
    "    - Solo en areas, juegos, usuarios y ubicaciones\n",
    "- Corregir valores fuera del dominio de tipo enum\n",
    "- Hace falta eliminar espacios adicionales y caracteres especiales que afecten a la BBDD\n",
    "- Corregir (si las hay) las incoherencias de las coordenadas y otros campos geoespaciales\n",
    "- Corrección de formato no estándar de unidades de medida\n",
    "- Otras correcciones a atributos"
   ]
  }
 ],
 "metadata": {
  "kernelspec": {
   "display_name": "Python 3",
   "language": "python",
   "name": "python3"
  },
  "language_info": {
   "codemirror_mode": {
    "name": "ipython",
    "version": 3
   },
   "file_extension": ".py",
   "mimetype": "text/x-python",
   "name": "python",
   "nbconvert_exporter": "python",
   "pygments_lexer": "ipython3",
   "version": "3.12.7"
  }
 },
 "nbformat": 4,
 "nbformat_minor": 2
}
