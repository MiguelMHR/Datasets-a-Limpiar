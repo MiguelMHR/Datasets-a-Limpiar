{
 "cells": [
  {
   "cell_type": "markdown",
   "metadata": {},
   "source": [
    "# 1. EDA\n",
    "En este apartado se pretende analizar los datasets para poder enfocar mejor la limpieza"
   ]
  },
  {
   "cell_type": "markdown",
   "metadata": {},
   "source": [
    "## 1.1 Importación y carga de datos\n",
    "Debemos declarar las librerías que usamos y leer el correspondiente archivo de datos"
   ]
  },
  {
   "cell_type": "code",
   "execution_count": 348,
   "metadata": {},
   "outputs": [],
   "source": [
    "# Importación de librerías\n",
    "import pandas as pd\n",
    "# Lectura dataset\n",
    "df = pd.read_csv('../AreasSucio.csv')"
   ]
  },
  {
   "cell_type": "markdown",
   "metadata": {},
   "source": [
    "## 1.2 Configuración de Pandas\n",
    "Para poder leer bien los resultados de las ejecuciones, vamos a configurar tanto el número máximo de columnas como el número máximo de filas"
   ]
  },
  {
   "cell_type": "code",
   "execution_count": 349,
   "metadata": {},
   "outputs": [],
   "source": [
    "# Número máximo de filas a mostrar\n",
    "pd.set_option('display.max_rows', None)\n",
    "# Número máximo de columnas a mostrar\n",
    "pd.set_option('display.max_columns', None)\n",
    "pd.set_option('display.max_colwidth', None)\n",
    "pd.set_option('display.width', 2000)"
   ]
  },
  {
   "cell_type": "markdown",
   "metadata": {
    "jp-MarkdownHeadingCollapsed": true
   },
   "source": [
    "## 1.3 Descripción general del dataset\n",
    "Para poder conocer ciertas características relevantes del dataset, como el número de instancias (filas) y características (columnas) procederemos a usar diferentes funciones de Pandas\n"
   ]
  },
  {
   "cell_type": "code",
   "execution_count": 350,
   "metadata": {},
   "outputs": [
    {
     "name": "stdout",
     "output_type": "stream",
     "text": [
      "                 ID   COD_BARRIO  COD_DISTRITO    COORD_GIS_X   COORD_GIS_Y      LATITUD     LONGITUD    COD_POSTAL           NDP   TOTAL_ELEM\n",
      "count  2.724000e+03  2724.000000   2714.000000    2724.000000  2.724000e+03  2724.000000  2724.000000   2635.000000  2.525000e+03  2724.000000\n",
      "mean   1.563270e+06   127.056167     12.341931  442527.739333  4.474631e+06    40.420314    -3.677460  27829.775712  1.950833e+07    10.016887\n",
      "std    2.815716e+06    52.377876      5.238038    4316.806283  4.726069e+03     0.042621     0.050819   2372.231422  8.437088e+06     5.405864\n",
      "min    1.665700e+04    11.000000      1.000000  429551.330000  4.464949e+06    40.332965    -3.831085      0.000000  1.100019e+07     0.000000\n",
      "25%    1.742875e+04    91.000000      9.000000  439432.046750  4.470593e+06    40.383852    -3.713989  28022.000000  1.109013e+07     7.000000\n",
      "50%    1.812750e+04   131.000000     13.000000  442622.004500  4.473629e+06    40.411559    -3.676429  28032.000000  2.006377e+07     9.000000\n",
      "75%    4.612118e+05   166.000000     16.000000  446028.250000  4.478665e+06    40.456260    -3.636495  28042.000000  3.101071e+07    12.000000\n",
      "max    9.536964e+06   215.000000     21.000000  453385.840000  4.487423e+06    40.534872    -3.549355  28055.000000  3.106951e+07    57.000000\n",
      "\n",
      "\n",
      "Número de filas:  2724\n",
      "Número de columnas:  23\n",
      "\n",
      "\n",
      "<class 'pandas.core.frame.DataFrame'>\n",
      "RangeIndex: 2724 entries, 0 to 2723\n",
      "Data columns (total 23 columns):\n",
      " #   Column              Non-Null Count  Dtype  \n",
      "---  ------              --------------  -----  \n",
      " 0   ID                  2724 non-null   int64  \n",
      " 1   DESC_CLASIFICACION  2724 non-null   object \n",
      " 2   COD_BARRIO          2724 non-null   int64  \n",
      " 3   BARRIO              2724 non-null   object \n",
      " 4   COD_DISTRITO        2714 non-null   float64\n",
      " 5   DISTRITO            2714 non-null   object \n",
      " 6   ESTADO              2724 non-null   object \n",
      " 7   COORD_GIS_X         2724 non-null   float64\n",
      " 8   COORD_GIS_Y         2724 non-null   float64\n",
      " 9   SISTEMA_COORD       2724 non-null   object \n",
      " 10  LATITUD             2724 non-null   float64\n",
      " 11  LONGITUD            2724 non-null   float64\n",
      " 12  TIPO_VIA            2547 non-null   object \n",
      " 13  NOM_VIA             2548 non-null   object \n",
      " 14  NUM_VIA             2560 non-null   object \n",
      " 15  COD_POSTAL          2635 non-null   float64\n",
      " 16  DIRECCION_AUX       2284 non-null   object \n",
      " 17  NDP                 2525 non-null   float64\n",
      " 18  FECHA_INSTALACION   2595 non-null   object \n",
      " 19  CODIGO_INTERNO      2598 non-null   object \n",
      " 20  CONTRATO_COD        2724 non-null   object \n",
      " 21  TOTAL_ELEM          2724 non-null   int64  \n",
      " 22  tipo                2724 non-null   object \n",
      "dtypes: float64(7), int64(3), object(13)\n",
      "memory usage: 489.6+ KB\n",
      "None\n"
     ]
    }
   ],
   "source": [
    "# Descripción de parámetros generales -> count, mean, std, min, 25%, 50%, 75%, max\n",
    "print(df.describe())\n",
    "\n",
    "# Número de filas y columnas del dataset\n",
    "print(\"\\n\")\n",
    "print(\"Número de filas: \", df.shape[0])\n",
    "\n",
    "print(\"Número de columnas: \", df.shape[1])\n",
    "print(\"\\n\")\n",
    "\n",
    "# Para saber el tipo de variable de cada columna\n",
    "print(df.info())"
   ]
  },
  {
   "cell_type": "markdown",
   "metadata": {
    "jp-MarkdownHeadingCollapsed": true
   },
   "source": [
    "## 1.4 Observación inicial del dataset\n",
    "Vamos a mostrar 30 entradas para poder observar cómo es realmente por dentro el dataset"
   ]
  },
  {
   "cell_type": "code",
   "execution_count": 351,
   "metadata": {},
   "outputs": [
    {
     "name": "stdout",
     "output_type": "stream",
     "text": [
      "   ----------    10 primeras filas    ----------    \n",
      "\n",
      "\n",
      "        ID            DESC_CLASIFICACION  COD_BARRIO                        BARRIO  COD_DISTRITO               DISTRITO     ESTADO  COORD_GIS_X  COORD_GIS_Y SISTEMA_COORD    LATITUD  LONGITUD   TIPO_VIA                  NOM_VIA NUM_VIA  COD_POSTAL                                     DIRECCION_AUX         NDP    FECHA_INSTALACION CODIGO_INTERNO CONTRATO_COD  TOTAL_ELEM        tipo\n",
      "0  3568711  Circuito deportivo elemental          85                        lA paz           8.0  fuencaRrAL - eL PARdO  OPERATIVO   440597.410  4481480.160        ETRS89  40.481888 -3.700858      CALLE               PEDRO RICO       1     28029.0             PARQUE NORTE 3 (ANTONIO LOPEZ AGUADO)  20103366.0             08/03/17          D0852         AE21           5  deportivas\n",
      "1  3569210  Circuito deportivo elemental          87                    MIrásIErRá           8.0  fueNCArral - el pArDO  OPERATIVO   438497.360  4482668.090        ETRS89  40.492436 -3.725749      CALLE          MARIA DE MAEZTU     108     28049.0  CALLE MARIA DE MAEZTU, 108 C/V SENDA DEL INFANTE  31052003.0  2017-10-09 00:00:00          D0854         AE21           9  deportivas\n",
      "2  3573005  Circuito deportivo elemental         192                 VaLDEBErNardo          19.0              VICAlVaRO  OPERATIVO   446968.130  4472539.440        ETRS89  40.401776 -3.624951      CALLE  LADERA DE LOS ALMENDROS     14E     28032.0                LADERA DE LOS ALMENDROS, 000014  E  20151600.0           20/10/2013          D1950         AE21          12  deportivas\n",
      "3  3573016  Circuito deportivo elemental         192                 VAlDEBErNáRDO          19.0              viCalVaRO  OPERATIVO   447538.380  4471701.760        ETRS89  40.394266 -3.618163    AVENIDA               DEMOCRACIA      50     28031.0                           AVDA DEMOCRACIA, 000050  20165254.0             20/10/13          D1953         AE21          11  deportivas\n",
      "4  3573208  Circuito deportivo elemental         183          EnsancHE de ValLeCAS          18.0      vILLA DE VáLLECAs  OPERATIVO   449416.790  4468380.840        ETRS89  40.364465 -3.595767      CALLE        MARIA TERESA LEON      1G     28051.0                      MARÍA TERESA LEÓN, 000001  G  31026567.0             20/10/13          D1854         AE21           3  deportivas\n",
      "5  3573331  Circuito deportivo elemental         182                 SANtA EUGeNIa          18.0      vIlLA De vALLEcas  OPERATIVO   448854.010  4469974.400        ETRS89  40.378786 -3.602523      CALLE           POZA DE LA SAL       3     28031.0                            POZA DE LA SAL, 000003  11131688.0           23/10/2013          D1851         AE21           5  deportivas\n",
      "6  3573333  Circuito deportivo elemental         181   cascO hiSToriCO DE VallECaS          18.0      viLLA De vALLEcAS  OPERATIVO   446970.232  4469259.493        ETRS89  40.372228 -3.624654      CALLE             BABILAFUENTE       2     28031.0                              BABILAFUENTE, 000002  20170570.0  2013-10-20 00:00:00          D1853         AE21           4  deportivas\n",
      "7  3573466  Circuito deportivo elemental         181   CAsCO HISTOriCo dE vallEcAS          18.0      villA dE vaLLeCAS  OPERATIVO   446183.700  4469509.080        ETRS89  40.374426 -3.633939  CARRETERA    VILLAVERDE A VALLECAS     289     28031.0                CTRA VILLAVERDE A VALLECAS, 000289  20180908.0           2013/10/20          D1856         AE21           9  deportivas\n",
      "8  4792795  Circuito deportivo elemental         192                 vaLDebernARDo          19.0              vicalVArO  OPERATIVO   446881.880  4472327.780        ETRS89  40.399864 -3.625950    AUTOVIA                     M-40  1500EX     28032.0                             AUTOV M-40, 001500 EX  31031401.0  2017-12-20 00:00:00          D1954         AE21           8  deportivas\n",
      "9  4792812  Circuito deportivo elemental         191  casCo histORicO de VicaLvArO          19.0              vIcALVArO  OPERATIVO   449811.480  4473216.060        ETRS89  40.408048 -3.591499      CALLE        ABAD JUAN CATALAN      70     28032.0                         ABAD JUAN CATALÁN, 000070  31037333.0           12-18-2017          D1957         AE21           8  deportivas\n",
      "\n",
      "\n",
      "   ----------    10 filas aleatorias    ----------    \n",
      "\n",
      "\n",
      "           ID            DESC_CLASIFICACION  COD_BARRIO                        BARRIO  COD_DISTRITO               DISTRITO     ESTADO  COORD_GIS_X  COORD_GIS_Y SISTEMA_COORD    LATITUD  LONGITUD TIPO_VIA               NOM_VIA NUM_VIA  COD_POSTAL                                      DIRECCION_AUX         NDP    FECHA_INSTALACION CODIGO_INTERNO CONTRATO_COD  TOTAL_ELEM        tipo\n",
      "2310    18333                 Área Infantil         183          eNsanCHE De VALlEcaS          18.0      ViLla De vAlLecAs  OPERATIVO   447931.971  4468946.776        ETRS89  40.369472 -3.613300  AVENIDA              LA GAVIA    39 H     28051.0                           AVDA LA GAVIA, 000039  H  31024845.0           01-01-2006          18055         AE21          17    infantil\n",
      "1763    18368                 Área Infantil         191  CaSco historIcO DE vIcALvArO          19.0              VIcaLVaro  OPERATIVO   449201.672  4472854.579        ETRS89  40.404754 -3.598657    CALLE       HELENA DE TROYA      29     28032.0                            HELENA DE TROYA, 000029  11132905.0  2003-01-01 00:00:00          19011         AE21           7    infantil\n",
      "47    5653942       Area de juegos/especial          93          CiUDAd UniVERSitArIA           NaN      MoNcLoa - AravacA  OPERATIVO   438675.604  4478433.465        ETRS89  40.454303 -3.723236      NaN                   NaN     NaN         NaN                                                NaN         NaN           29/12/2009            NaN            6           1  deportivas\n",
      "2391    18423                 Área Infantil         208                   el saLVAdoR          20.0  san BlAS - cANILlEJas  OPERATIVO   446608.870  4477034.810        ETRS89  40.442250 -3.629562    CALLE                 MIAMI    35 A     28027.0  C · CALLE MIAMI 39 , ASCENDIENTE 1: 208 · SALVADO  20147133.0  2004-01-01 00:00:00          20007         AE21           6    infantil\n",
      "398   5201907               Área de mayores         152                  pUeBLO nUevO          15.0          CIUDad lineAL  OPERATIVO   446179.390  4475859.880        ETRS89  40.431638 -3.634527    PLAZA            LA OROTAVA       6     28017.0                                                NaN  31015601.0     fecha_incorrecta          M1508         AE21           8     mayores\n",
      "2293    18296                 Área Infantil         182                 Santa eugEnIa          18.0      vIllA dE vALleCAs  OPERATIVO   447600.053  4470468.948        ETRS89  40.383164 -3.617335    CALLE  AGUSTIN GARCIA MALLA      12     28031.0                       AGUSTÍN GARCÍA MALLA, 000012  31047257.0             01/01/98          18019         AE21          12    infantil\n",
      "1687    18280                 Área Infantil         181   cAsCO hiSToRICO de VAllEcaS          18.0      villA dE vALlecAs  OPERATIVO   446688.139  4469867.505        ETRS89  40.377688 -3.628027    CALLE          SIERRA VIEJA      23     28031.0                               SIERRA VIEJA, 000023  11130847.0           01-01-2003          18001         AE21           9    infantil\n",
      "237   9235167  Circuito deportivo elemental          62                cUatRo cAmiNoS           6.0                 teTUan  OPERATIVO   441041.803  4478235.757        ETRS89  40.452693 -3.695314  AVENIDA         GENERAL PERON      23     28020.0                                    JULIAN BESTEIRO  31010032.0             08/03/23          D0657         AE21          11  deportivas\n",
      "2236  5207246                 Área Infantil         206                         rEJaS          20.0  SaN bLaS - CaNiLlEjAs  OPERATIVO   450057.190  4477144.550        ETRS89  40.443453 -3.588912    CALLE              DEYANIRA    17 A     28022.0                                                NaN  31005980.0           18/10/2019          20212         AE21          10    infantil\n",
      "1217    17101                 Área Infantil          82                fueNtELarREInA           8.0  FúéncárRAL - él pArDO  OPERATIVO   437505.669  4481460.834        ETRS89  40.481487 -3.737331    CALLE      GABRIELA MISTRAL      12     28035.0      CALLE GABRIELA MISTRAL 12 , ASCENDIENTE 1: 08  11051271.0  2006-04-18 00:00:00           8124         AE21           9    infantil\n",
      "\n",
      "\n",
      "   ----------    10 últimas filas    ----------    \n",
      "\n",
      "\n",
      "           ID       DESC_CLASIFICACION  COD_BARRIO                                           BARRIO  COD_DISTRITO               DISTRITO     ESTADO  COORD_GIS_X  COORD_GIS_Y SISTEMA_COORD    LATITUD  LONGITUD TIPO_VIA                          NOM_VIA NUM_VIA  COD_POSTAL                  DIRECCION_AUX         NDP FECHA_INSTALACION CODIGO_INTERNO CONTRATO_COD  TOTAL_ELEM      tipo\n",
      "2714  8776034            Área Infantil          86                                         vAlveRdE           8.0  FUencArRaL - el parDo  OPERATIVO   441863.380  4483083.974        ETRS89  40.496425 -3.686069    CALLE                  MANUEL VILLARTA      15     28034.0  CALLE ISLAS PALAOS 3-5 ZONA 2  11049506.0        02-02-2022           8200         AE21           6  infantil\n",
      "2715  8785368            Área Infantil         171  VILlavERdE alto - CAsCo historICO DE vIllaVeRdE          17.0             ViLLaVErDe  OPERATIVO   440189.937  4466780.612        ETRS89  40.349438 -3.704283    CALLE                       SAN JENARO       3     28021.0                 C/SAN JENARO,3  31047909.0        2022/02/09          17132         AE21          11  infantil\n",
      "2716  8799605            Área Infantil          97                                          arAvACa           9.0      MonClOa - ARAVaCA  OPERATIVO   433820.872  4477425.657        ETRS89  40.444852 -3.780381  AVENIDA                            TALGO       1     28023.0           CARRETERA DE ARAVACA  20172145.0  fecha_incorrecta           9159         AE21           8  infantil\n",
      "2717  8800261            Área Infantil         215                                       CóRRálEjOs          21.0                baRAJaS  OPERATIVO   449653.021  4479424.486        ETRS89  40.463968 -3.593859    CALLE                   BAHIA DE CADIZ      28     28042.0       CALLE BAHIA DE CARTAGENA  20168038.0  fecha_incorrecta          21073         AE21          17  infantil\n",
      "2718  8914010  Area de juegos/especial         143                                       MaRrOQuina          14.0              MoraTAlaz  OPERATIVO   446569.340  4473580.530        ETRS89  40.411129 -3.629738  AVENIDA  Avenida del Doctor Garcia Tapia     125     28030.0                            NaN         NaN               NaN            NaN            6           3  infantil\n",
      "2719  8914012  Area de juegos/especial         143                                       mArROQuiNa          14.0              mORatAlaZ  OPERATIVO   446470.120  4473710.080        ETRS89  40.412290 -3.630918  AVENIDA  Avenida del Doctor Garcia Tapia     125     28030.0                            NaN         NaN               NaN            NaN            6           0  infantil\n",
      "2720  8941726  Area de juegos/especial         125                                         moscardo          12.0                  USérA  OPERATIVO   440372.235  4471439.786        ETRS89  40.391424 -3.702572      NaN                              NaN     NaN     28005.0                            NaN         NaN               NaN            NaN            6          10  infantil\n",
      "2721  8941727  Area de juegos/especial         124                                      ALménDráLés          12.0                  USERA  OPERATIVO   440975.398  4470765.456        ETRS89  40.385392 -3.695403      NaN                              NaN     NaN     28005.0                            NaN         NaN               NaN            NaN            6           7  infantil\n",
      "2722  9348753            Área Infantil         205                                            Rosas          20.0  san Blas - CANilLEJaS  OPERATIVO   449155.140  4475659.692        ETRS89  40.430022 -3.599429    CALLE                        ESTOCOLMO      55     28022.0               PASEO DE GINEGRA  20102763.0          09/08/23          20218         AE21          14  infantil\n",
      "2723  9424149  Area de juegos/especial          22                                          AcACiAS           2.0             ARgAnZUeLa  OPERATIVO   439995.071  4472023.818        ETRS89  40.396658 -3.707071      NaN                              NaN     NaN     28005.0                            NaN         NaN               NaN      AI_900023            6           0  infantil\n"
     ]
    }
   ],
   "source": [
    "# Mostramos las 10 primeras filas, 10 filas aleatorias y las 10 últimas\n",
    "print(\"   ----------    10 primeras filas    ----------    \")\n",
    "print(\"\\n\")\n",
    "print(df.head(10))\n",
    "print(\"\\n\")\n",
    "print(\"   ----------    10 filas aleatorias    ----------    \")\n",
    "print(\"\\n\")\n",
    "print(df.sample(10))\n",
    "print(\"\\n\")\n",
    "print(\"   ----------    10 últimas filas    ----------    \")\n",
    "print(\"\\n\")\n",
    "print(df.tail(10))"
   ]
  },
  {
   "cell_type": "markdown",
   "metadata": {},
   "source": [
    "## 1.5 Revisión de valores nulos\n",
    "Como ya se ha visto en el anterior apartado, no existen valores nulos como tal, pero pueden encontrarse en el dataset como \"NaN\" o \"0\" o de otras formas. Para asegurarnos, aplicaremos la siguiente función"
   ]
  },
  {
   "cell_type": "code",
   "execution_count": 352,
   "metadata": {},
   "outputs": [
    {
     "name": "stdout",
     "output_type": "stream",
     "text": [
      "ID                      0\n",
      "DESC_CLASIFICACION      0\n",
      "COD_BARRIO              0\n",
      "BARRIO                  0\n",
      "COD_DISTRITO           10\n",
      "DISTRITO               10\n",
      "ESTADO                  0\n",
      "COORD_GIS_X             0\n",
      "COORD_GIS_Y             0\n",
      "SISTEMA_COORD           0\n",
      "LATITUD                 0\n",
      "LONGITUD                0\n",
      "TIPO_VIA              177\n",
      "NOM_VIA               176\n",
      "NUM_VIA               164\n",
      "COD_POSTAL             89\n",
      "DIRECCION_AUX         440\n",
      "NDP                   199\n",
      "FECHA_INSTALACION     129\n",
      "CODIGO_INTERNO        126\n",
      "CONTRATO_COD            0\n",
      "TOTAL_ELEM              0\n",
      "tipo                    0\n",
      "dtype: int64\n"
     ]
    }
   ],
   "source": [
    "# Para poder saber el número de valores faltantes:\n",
    "print(df.isnull().sum())"
   ]
  },
  {
   "cell_type": "code",
   "execution_count": 353,
   "metadata": {},
   "outputs": [
    {
     "name": "stdout",
     "output_type": "stream",
     "text": [
      "ID                     0\n",
      "DESC_CLASIFICACION     0\n",
      "COD_BARRIO             0\n",
      "BARRIO                 0\n",
      "COD_DISTRITO           0\n",
      "DISTRITO               0\n",
      "ESTADO                 0\n",
      "COORD_GIS_X            0\n",
      "COORD_GIS_Y            0\n",
      "SISTEMA_COORD          0\n",
      "LATITUD                0\n",
      "LONGITUD               0\n",
      "TIPO_VIA               0\n",
      "NOM_VIA                0\n",
      "NUM_VIA                0\n",
      "COD_POSTAL            19\n",
      "DIRECCION_AUX          0\n",
      "NDP                    0\n",
      "FECHA_INSTALACION      0\n",
      "CODIGO_INTERNO         0\n",
      "CONTRATO_COD           0\n",
      "TOTAL_ELEM             5\n",
      "tipo                   0\n",
      "dtype: int64\n"
     ]
    }
   ],
   "source": [
    "# Ahora, comprobaremos, como todos son números decimales, si por casualidad hay algún cero que no tengan sentido en el dataset\n",
    "# Para ello, veremos el número de ceros que hay en cada columna\n",
    "print((df == 0).sum())"
   ]
  },
  {
   "cell_type": "markdown",
   "metadata": {},
   "source": [
    "## 1.6 Identificación de fechas no estandarizadas\n",
    "Se deben identificar las fechas que no se encuentran en el formato adecuado para MongoDB (DD/MM/YYYY). Como vemos, hay fechas en una gran cantidad de varios formatos, incluyendo valores nulos y \"fecha_incorrecta\"."
   ]
  },
  {
   "cell_type": "code",
   "execution_count": 354,
   "metadata": {},
   "outputs": [
    {
     "name": "stdout",
     "output_type": "stream",
     "text": [
      "883              04/05/2006\n",
      "1338             2008/01/01\n",
      "256                03/02/14\n",
      "691     2005-01-03 00:00:00\n",
      "1039               01/01/03\n",
      "988     2007-01-09 00:00:00\n",
      "1715               01/01/03\n",
      "2387             2010/01/01\n",
      "807        fecha_incorrecta\n",
      "1071               01/01/03\n",
      "938              10/12/2004\n",
      "1990             01-01-2003\n",
      "1631             2003/01/01\n",
      "1308       fecha_incorrecta\n",
      "1252             13/03/2011\n",
      "565              01-01-2004\n",
      "148              2022/04/05\n",
      "1325             15/08/2010\n",
      "1745             2013/06/06\n",
      "2410             2010/01/01\n",
      "2622                    NaN\n",
      "339              11/12/2017\n",
      "731     2007-11-22 00:00:00\n",
      "2591             01/01/2003\n",
      "965     2007-03-08 00:00:00\n",
      "2324                    NaN\n",
      "2059             2013/07/23\n",
      "722        fecha_incorrecta\n",
      "2541             12-25-2014\n",
      "348        fecha_incorrecta\n",
      "1767             09/04/2007\n",
      "1921             01-01-2007\n",
      "384              18/12/2017\n",
      "1310               01/01/07\n",
      "737                26/12/06\n",
      "1295             2003/01/01\n",
      "2443    2010-01-01 00:00:00\n",
      "1870             01-01-2003\n",
      "2338             01-01-2003\n",
      "903        fecha_incorrecta\n",
      "550     2021-01-08 00:00:00\n",
      "1163             2013/07/11\n",
      "1525             2006/01/01\n",
      "855              09-13-2004\n",
      "735     2006-11-15 00:00:00\n",
      "537              07-17-2020\n",
      "378              22/12/2017\n",
      "402                01/01/04\n",
      "1546    2004-01-01 00:00:00\n",
      "2448       fecha_incorrecta\n",
      "Name: FECHA_INSTALACION, dtype: object\n"
     ]
    }
   ],
   "source": [
    "print(df['FECHA_INSTALACION'].sample(50))"
   ]
  },
  {
   "cell_type": "markdown",
   "metadata": {},
   "source": [
    "## 1.8 Búsqueda de errores tipográficos\n",
    "Hay ciertos atributos de texto que pueden contar con determinados errores tipográficos que deben ser solucionados. Hay grandes cantidades de estos errores en campos de distrito y barrio."
   ]
  },
  {
   "cell_type": "code",
   "execution_count": 355,
   "metadata": {},
   "outputs": [
    {
     "name": "stdout",
     "output_type": "stream",
     "text": [
      "1692                    úséRA\n",
      "1084                 chaMBErI\n",
      "2672        moNCLoa - ArAVaCa\n",
      "2445    San BLaS - cAnILlejas\n",
      "784                    rEtIrO\n",
      "1419                   lATInA\n",
      "1948    saN blaS - CAnilLejAS\n",
      "970               cArAbANChéL\n",
      "727                  cHAmbERI\n",
      "2311        vIllA dE vALlEcAS\n",
      "1828                viCalvaRO\n",
      "676                 cHáMártín\n",
      "1652                    uSERa\n",
      "302        PUENte dE vAlLEcas\n",
      "992                 CHAMArtIn\n",
      "2178                   REtIrO\n",
      "827     fueNCARral - EL PaRdo\n",
      "1017              CARaBaNCheL\n",
      "1649                    USERa\n",
      "2120                hOrtALezA\n",
      "Name: DISTRITO, dtype: object\n",
      "2584                        cAsCo HIStORICO De vaLleCas\n",
      "677                                             él vísO\n",
      "461                                       cAsA dE CAmpO\n",
      "58                                           GuiNDalErA\n",
      "2235                                             Ventas\n",
      "2165                                      PíNAr déL rEy\n",
      "1566                                             OPAÑEl\n",
      "1717                                           nUmAnCiA\n",
      "1885                                          ViNAteROS\n",
      "2038                                         MIRASIerRa\n",
      "2688                                           valVErDe\n",
      "1631    VillAVErDe altO - CASCo HiStOrICo dE VillaVErdE\n",
      "2573                                       vAldeFUenTES\n",
      "2041                                       VaLDEfUenTEs\n",
      "2224                                        LOS rOsaLes\n",
      "1872                                              rOsAs\n",
      "878                                             árAvACA\n",
      "597                                             pAlaciO\n",
      "1111                                            OrCásUr\n",
      "1693                                           MOScárdó\n",
      "Name: BARRIO, dtype: object\n"
     ]
    }
   ],
   "source": [
    "print(df['DISTRITO'].sample(20))\n",
    "print(df['BARRIO'].sample(20))"
   ]
  },
  {
   "cell_type": "markdown",
   "metadata": {},
   "source": [
    "## 1.9 Identificación de valores enum fuera de campo\n",
    "Hay ciertos atributos que solo deben poseer ciertos valores (como Operativo-NoOperativo). Como vemos, para los tres atributos que son enumerables en el dataset, son todos sencillos salvo tipo de via - \"CALLE\" y \"Calle\""
   ]
  },
  {
   "cell_type": "code",
   "execution_count": 356,
   "metadata": {},
   "outputs": [
    {
     "name": "stdout",
     "output_type": "stream",
     "text": [
      "['OPERATIVO']\n",
      "['deportivas' 'mayores' 'infantil']\n",
      "['CALLE' 'AVENIDA' 'CARRETERA' 'AUTOVIA' 'PASEO' nan 'PLAZA' 'RONDA'\n",
      " 'Calle' 'CAMINO' 'PARQUE' 'BULEVAR' 'GLORIETA' 'TRAVESIA' 'CUESTA'\n",
      " 'PASAJE']\n"
     ]
    }
   ],
   "source": [
    "print(df['ESTADO'].unique())\n",
    "print(df['tipo'].unique())\n",
    "print(df['TIPO_VIA'].unique())"
   ]
  },
  {
   "cell_type": "markdown",
   "metadata": {},
   "source": [
    "## 1.10 Validación de las coordenadas y otros campos geoespaciales\n",
    "Hay algunas veces en las que los códigos postales no respetan la identificación de Madrid (280..) o el formato, ya sean códigos postales u otros atributos de geolocalización. Como vemos, para este dataset no hay ninguna ocurrencia de este tipo."
   ]
  },
  {
   "cell_type": "code",
   "execution_count": 357,
   "metadata": {},
   "outputs": [
    {
     "data": {
      "text/html": [
       "<div>\n",
       "<style scoped>\n",
       "    .dataframe tbody tr th:only-of-type {\n",
       "        vertical-align: middle;\n",
       "    }\n",
       "\n",
       "    .dataframe tbody tr th {\n",
       "        vertical-align: top;\n",
       "    }\n",
       "\n",
       "    .dataframe thead th {\n",
       "        text-align: right;\n",
       "    }\n",
       "</style>\n",
       "<table border=\"1\" class=\"dataframe\">\n",
       "  <thead>\n",
       "    <tr style=\"text-align: right;\">\n",
       "      <th></th>\n",
       "      <th>ID</th>\n",
       "      <th>DESC_CLASIFICACION</th>\n",
       "      <th>COD_BARRIO</th>\n",
       "      <th>BARRIO</th>\n",
       "      <th>COD_DISTRITO</th>\n",
       "      <th>DISTRITO</th>\n",
       "      <th>ESTADO</th>\n",
       "      <th>COORD_GIS_X</th>\n",
       "      <th>COORD_GIS_Y</th>\n",
       "      <th>SISTEMA_COORD</th>\n",
       "      <th>LATITUD</th>\n",
       "      <th>LONGITUD</th>\n",
       "      <th>TIPO_VIA</th>\n",
       "      <th>NOM_VIA</th>\n",
       "      <th>NUM_VIA</th>\n",
       "      <th>COD_POSTAL</th>\n",
       "      <th>DIRECCION_AUX</th>\n",
       "      <th>NDP</th>\n",
       "      <th>FECHA_INSTALACION</th>\n",
       "      <th>CODIGO_INTERNO</th>\n",
       "      <th>CONTRATO_COD</th>\n",
       "      <th>TOTAL_ELEM</th>\n",
       "      <th>tipo</th>\n",
       "    </tr>\n",
       "  </thead>\n",
       "  <tbody>\n",
       "    <tr>\n",
       "      <th>427</th>\n",
       "      <td>6819623</td>\n",
       "      <td>Area de juegos/especial</td>\n",
       "      <td>131</td>\n",
       "      <td>EntrevIas</td>\n",
       "      <td>13.0</td>\n",
       "      <td>PUENTe dE vaLlEcAs</td>\n",
       "      <td>OPERATIVO</td>\n",
       "      <td>441699.23</td>\n",
       "      <td>4470033.57</td>\n",
       "      <td>ETRS89</td>\n",
       "      <td>40.378850</td>\n",
       "      <td>-3.686809</td>\n",
       "      <td>NaN</td>\n",
       "      <td>NaN</td>\n",
       "      <td>NaN</td>\n",
       "      <td>0.0</td>\n",
       "      <td>NaN</td>\n",
       "      <td>NaN</td>\n",
       "      <td>NaN</td>\n",
       "      <td>AM_100002</td>\n",
       "      <td>6</td>\n",
       "      <td>18</td>\n",
       "      <td>mayores</td>\n",
       "    </tr>\n",
       "    <tr>\n",
       "      <th>428</th>\n",
       "      <td>6819625</td>\n",
       "      <td>Area de juegos/especial</td>\n",
       "      <td>123</td>\n",
       "      <td>sán FéRMín</td>\n",
       "      <td>12.0</td>\n",
       "      <td>USerA</td>\n",
       "      <td>OPERATIVO</td>\n",
       "      <td>441581.44</td>\n",
       "      <td>4469320.66</td>\n",
       "      <td>ETRS89</td>\n",
       "      <td>40.372419</td>\n",
       "      <td>-3.688131</td>\n",
       "      <td>NaN</td>\n",
       "      <td>NaN</td>\n",
       "      <td>NaN</td>\n",
       "      <td>0.0</td>\n",
       "      <td>NaN</td>\n",
       "      <td>NaN</td>\n",
       "      <td>05-10-2018</td>\n",
       "      <td>AM_100003</td>\n",
       "      <td>6</td>\n",
       "      <td>14</td>\n",
       "      <td>mayores</td>\n",
       "    </tr>\n",
       "    <tr>\n",
       "      <th>429</th>\n",
       "      <td>6819627</td>\n",
       "      <td>Area de juegos/especial</td>\n",
       "      <td>123</td>\n",
       "      <td>sAn fERmin</td>\n",
       "      <td>12.0</td>\n",
       "      <td>UsErA</td>\n",
       "      <td>OPERATIVO</td>\n",
       "      <td>441916.76</td>\n",
       "      <td>4468339.22</td>\n",
       "      <td>ETRS89</td>\n",
       "      <td>40.363601</td>\n",
       "      <td>-3.684092</td>\n",
       "      <td>NaN</td>\n",
       "      <td>NaN</td>\n",
       "      <td>NaN</td>\n",
       "      <td>0.0</td>\n",
       "      <td>NaN</td>\n",
       "      <td>NaN</td>\n",
       "      <td>2019/05/10</td>\n",
       "      <td>AM_100005</td>\n",
       "      <td>6</td>\n",
       "      <td>12</td>\n",
       "      <td>mayores</td>\n",
       "    </tr>\n",
       "    <tr>\n",
       "      <th>531</th>\n",
       "      <td>6819624</td>\n",
       "      <td>Area de juegos/especial</td>\n",
       "      <td>123</td>\n",
       "      <td>SáN fERmín</td>\n",
       "      <td>12.0</td>\n",
       "      <td>uSeRA</td>\n",
       "      <td>OPERATIVO</td>\n",
       "      <td>441528.51</td>\n",
       "      <td>4469732.63</td>\n",
       "      <td>ETRS89</td>\n",
       "      <td>40.376127</td>\n",
       "      <td>-3.688792</td>\n",
       "      <td>NaN</td>\n",
       "      <td>NaN</td>\n",
       "      <td>NaN</td>\n",
       "      <td>0.0</td>\n",
       "      <td>NaN</td>\n",
       "      <td>NaN</td>\n",
       "      <td>NaN</td>\n",
       "      <td>AM_100001</td>\n",
       "      <td>6</td>\n",
       "      <td>9</td>\n",
       "      <td>mayores</td>\n",
       "    </tr>\n",
       "    <tr>\n",
       "      <th>532</th>\n",
       "      <td>6819626</td>\n",
       "      <td>Area de juegos/especial</td>\n",
       "      <td>173</td>\n",
       "      <td>BUTArQúE</td>\n",
       "      <td>17.0</td>\n",
       "      <td>ViLlAveRdE</td>\n",
       "      <td>OPERATIVO</td>\n",
       "      <td>442411.51</td>\n",
       "      <td>4467434.35</td>\n",
       "      <td>ETRS89</td>\n",
       "      <td>40.355484</td>\n",
       "      <td>-3.678184</td>\n",
       "      <td>NaN</td>\n",
       "      <td>NaN</td>\n",
       "      <td>NaN</td>\n",
       "      <td>0.0</td>\n",
       "      <td>NaN</td>\n",
       "      <td>NaN</td>\n",
       "      <td>NaN</td>\n",
       "      <td>AM_100004</td>\n",
       "      <td>6</td>\n",
       "      <td>11</td>\n",
       "      <td>mayores</td>\n",
       "    </tr>\n",
       "    <tr>\n",
       "      <th>2369</th>\n",
       "      <td>6819612</td>\n",
       "      <td>Area de juegos/especial</td>\n",
       "      <td>123</td>\n",
       "      <td>sAn feRMin</td>\n",
       "      <td>12.0</td>\n",
       "      <td>useRa</td>\n",
       "      <td>OPERATIVO</td>\n",
       "      <td>441512.94</td>\n",
       "      <td>4469640.26</td>\n",
       "      <td>ETRS89</td>\n",
       "      <td>40.375293</td>\n",
       "      <td>-3.688967</td>\n",
       "      <td>NaN</td>\n",
       "      <td>NaN</td>\n",
       "      <td>NaN</td>\n",
       "      <td>0.0</td>\n",
       "      <td>NaN</td>\n",
       "      <td>NaN</td>\n",
       "      <td>NaN</td>\n",
       "      <td>AI_100001</td>\n",
       "      <td>6</td>\n",
       "      <td>13</td>\n",
       "      <td>infantil</td>\n",
       "    </tr>\n",
       "    <tr>\n",
       "      <th>2370</th>\n",
       "      <td>6819614</td>\n",
       "      <td>Area de juegos/especial</td>\n",
       "      <td>131</td>\n",
       "      <td>eNTrEVIAs</td>\n",
       "      <td>13.0</td>\n",
       "      <td>PuENTe dE VaLLEcAS</td>\n",
       "      <td>OPERATIVO</td>\n",
       "      <td>441736.34</td>\n",
       "      <td>4469988.42</td>\n",
       "      <td>ETRS89</td>\n",
       "      <td>40.378446</td>\n",
       "      <td>-3.686368</td>\n",
       "      <td>NaN</td>\n",
       "      <td>NaN</td>\n",
       "      <td>NaN</td>\n",
       "      <td>0.0</td>\n",
       "      <td>NaN</td>\n",
       "      <td>NaN</td>\n",
       "      <td>NaN</td>\n",
       "      <td>AI_100003</td>\n",
       "      <td>6</td>\n",
       "      <td>1</td>\n",
       "      <td>infantil</td>\n",
       "    </tr>\n",
       "    <tr>\n",
       "      <th>2371</th>\n",
       "      <td>6819616</td>\n",
       "      <td>Area de juegos/especial</td>\n",
       "      <td>123</td>\n",
       "      <td>sAn ferMIn</td>\n",
       "      <td>12.0</td>\n",
       "      <td>UserA</td>\n",
       "      <td>OPERATIVO</td>\n",
       "      <td>441540.55</td>\n",
       "      <td>4469414.91</td>\n",
       "      <td>ETRS89</td>\n",
       "      <td>40.373265</td>\n",
       "      <td>-3.688622</td>\n",
       "      <td>NaN</td>\n",
       "      <td>NaN</td>\n",
       "      <td>NaN</td>\n",
       "      <td>0.0</td>\n",
       "      <td>NaN</td>\n",
       "      <td>NaN</td>\n",
       "      <td>2018-05-10 00:00:00</td>\n",
       "      <td>AI_100006</td>\n",
       "      <td>6</td>\n",
       "      <td>13</td>\n",
       "      <td>infantil</td>\n",
       "    </tr>\n",
       "    <tr>\n",
       "      <th>2372</th>\n",
       "      <td>6819618</td>\n",
       "      <td>Area de juegos/especial</td>\n",
       "      <td>123</td>\n",
       "      <td>saN fErMiN</td>\n",
       "      <td>12.0</td>\n",
       "      <td>UseRA</td>\n",
       "      <td>OPERATIVO</td>\n",
       "      <td>441960.43</td>\n",
       "      <td>4468277.04</td>\n",
       "      <td>ETRS89</td>\n",
       "      <td>40.363044</td>\n",
       "      <td>-3.683572</td>\n",
       "      <td>NaN</td>\n",
       "      <td>NaN</td>\n",
       "      <td>NaN</td>\n",
       "      <td>0.0</td>\n",
       "      <td>NaN</td>\n",
       "      <td>NaN</td>\n",
       "      <td>2018-10-26 00:00:00</td>\n",
       "      <td>AI_100008</td>\n",
       "      <td>6</td>\n",
       "      <td>2</td>\n",
       "      <td>infantil</td>\n",
       "    </tr>\n",
       "    <tr>\n",
       "      <th>2373</th>\n",
       "      <td>6819620</td>\n",
       "      <td>Area de juegos/especial</td>\n",
       "      <td>173</td>\n",
       "      <td>bútárqUé</td>\n",
       "      <td>17.0</td>\n",
       "      <td>VíLLáVERdE</td>\n",
       "      <td>OPERATIVO</td>\n",
       "      <td>442208.70</td>\n",
       "      <td>4467525.47</td>\n",
       "      <td>ETRS89</td>\n",
       "      <td>40.356291</td>\n",
       "      <td>-3.680580</td>\n",
       "      <td>NaN</td>\n",
       "      <td>NaN</td>\n",
       "      <td>NaN</td>\n",
       "      <td>0.0</td>\n",
       "      <td>NaN</td>\n",
       "      <td>NaN</td>\n",
       "      <td>10-03-2019</td>\n",
       "      <td>AI_100010</td>\n",
       "      <td>6</td>\n",
       "      <td>4</td>\n",
       "      <td>infantil</td>\n",
       "    </tr>\n",
       "    <tr>\n",
       "      <th>2374</th>\n",
       "      <td>6819622</td>\n",
       "      <td>Area de juegos/especial</td>\n",
       "      <td>131</td>\n",
       "      <td>EnTrEvIaS</td>\n",
       "      <td>13.0</td>\n",
       "      <td>pUEntE de vAlLeCaS</td>\n",
       "      <td>OPERATIVO</td>\n",
       "      <td>441695.94</td>\n",
       "      <td>4469495.18</td>\n",
       "      <td>ETRS89</td>\n",
       "      <td>40.373999</td>\n",
       "      <td>-3.686799</td>\n",
       "      <td>NaN</td>\n",
       "      <td>NaN</td>\n",
       "      <td>NaN</td>\n",
       "      <td>0.0</td>\n",
       "      <td>NaN</td>\n",
       "      <td>NaN</td>\n",
       "      <td>2020/01/15</td>\n",
       "      <td>AI_100012</td>\n",
       "      <td>6</td>\n",
       "      <td>5</td>\n",
       "      <td>infantil</td>\n",
       "    </tr>\n",
       "    <tr>\n",
       "      <th>2375</th>\n",
       "      <td>6880820</td>\n",
       "      <td>Area de juegos/especial</td>\n",
       "      <td>173</td>\n",
       "      <td>bUtaRQue</td>\n",
       "      <td>17.0</td>\n",
       "      <td>viLlAverDE</td>\n",
       "      <td>OPERATIVO</td>\n",
       "      <td>442711.60</td>\n",
       "      <td>4467136.80</td>\n",
       "      <td>ETRS89</td>\n",
       "      <td>40.352824</td>\n",
       "      <td>-3.674623</td>\n",
       "      <td>NaN</td>\n",
       "      <td>NaN</td>\n",
       "      <td>NaN</td>\n",
       "      <td>0.0</td>\n",
       "      <td>NaN</td>\n",
       "      <td>NaN</td>\n",
       "      <td>fecha_incorrecta</td>\n",
       "      <td>AI_100012</td>\n",
       "      <td>6</td>\n",
       "      <td>3</td>\n",
       "      <td>infantil</td>\n",
       "    </tr>\n",
       "    <tr>\n",
       "      <th>2679</th>\n",
       "      <td>6819611</td>\n",
       "      <td>Area de juegos/especial</td>\n",
       "      <td>131</td>\n",
       "      <td>éNTRéVIAS</td>\n",
       "      <td>13.0</td>\n",
       "      <td>pUEntE dE vállécás</td>\n",
       "      <td>OPERATIVO</td>\n",
       "      <td>441797.38</td>\n",
       "      <td>4469732.26</td>\n",
       "      <td>ETRS89</td>\n",
       "      <td>40.376142</td>\n",
       "      <td>-3.685625</td>\n",
       "      <td>NaN</td>\n",
       "      <td>NaN</td>\n",
       "      <td>NaN</td>\n",
       "      <td>0.0</td>\n",
       "      <td>NaN</td>\n",
       "      <td>NaN</td>\n",
       "      <td>fecha_incorrecta</td>\n",
       "      <td>AI_100005</td>\n",
       "      <td>6</td>\n",
       "      <td>34</td>\n",
       "      <td>infantil</td>\n",
       "    </tr>\n",
       "    <tr>\n",
       "      <th>2680</th>\n",
       "      <td>6819613</td>\n",
       "      <td>Area de juegos/especial</td>\n",
       "      <td>123</td>\n",
       "      <td>saN feRMIN</td>\n",
       "      <td>12.0</td>\n",
       "      <td>USérA</td>\n",
       "      <td>OPERATIVO</td>\n",
       "      <td>441541.36</td>\n",
       "      <td>4469668.94</td>\n",
       "      <td>ETRS89</td>\n",
       "      <td>40.375554</td>\n",
       "      <td>-3.688635</td>\n",
       "      <td>NaN</td>\n",
       "      <td>NaN</td>\n",
       "      <td>NaN</td>\n",
       "      <td>0.0</td>\n",
       "      <td>NaN</td>\n",
       "      <td>NaN</td>\n",
       "      <td>NaN</td>\n",
       "      <td>AI_100002</td>\n",
       "      <td>6</td>\n",
       "      <td>8</td>\n",
       "      <td>infantil</td>\n",
       "    </tr>\n",
       "    <tr>\n",
       "      <th>2681</th>\n",
       "      <td>6819615</td>\n",
       "      <td>Area de juegos/especial</td>\n",
       "      <td>131</td>\n",
       "      <td>éNTREvIAS</td>\n",
       "      <td>13.0</td>\n",
       "      <td>PUEnTe de vaLLeCAs</td>\n",
       "      <td>OPERATIVO</td>\n",
       "      <td>441714.64</td>\n",
       "      <td>4470014.96</td>\n",
       "      <td>ETRS89</td>\n",
       "      <td>40.378683</td>\n",
       "      <td>-3.686626</td>\n",
       "      <td>NaN</td>\n",
       "      <td>NaN</td>\n",
       "      <td>NaN</td>\n",
       "      <td>0.0</td>\n",
       "      <td>NaN</td>\n",
       "      <td>NaN</td>\n",
       "      <td>NaN</td>\n",
       "      <td>AI_100004</td>\n",
       "      <td>6</td>\n",
       "      <td>1</td>\n",
       "      <td>infantil</td>\n",
       "    </tr>\n",
       "    <tr>\n",
       "      <th>2682</th>\n",
       "      <td>6819617</td>\n",
       "      <td>Area de juegos/especial</td>\n",
       "      <td>123</td>\n",
       "      <td>San FErmiN</td>\n",
       "      <td>12.0</td>\n",
       "      <td>Usera</td>\n",
       "      <td>OPERATIVO</td>\n",
       "      <td>441663.75</td>\n",
       "      <td>4469270.35</td>\n",
       "      <td>ETRS89</td>\n",
       "      <td>40.371972</td>\n",
       "      <td>-3.687157</td>\n",
       "      <td>NaN</td>\n",
       "      <td>NaN</td>\n",
       "      <td>NaN</td>\n",
       "      <td>0.0</td>\n",
       "      <td>NaN</td>\n",
       "      <td>NaN</td>\n",
       "      <td>fecha_incorrecta</td>\n",
       "      <td>AI_100007</td>\n",
       "      <td>6</td>\n",
       "      <td>14</td>\n",
       "      <td>infantil</td>\n",
       "    </tr>\n",
       "    <tr>\n",
       "      <th>2683</th>\n",
       "      <td>6819619</td>\n",
       "      <td>Area de juegos/especial</td>\n",
       "      <td>173</td>\n",
       "      <td>BútARQUé</td>\n",
       "      <td>17.0</td>\n",
       "      <td>ViLLAVeRdE</td>\n",
       "      <td>OPERATIVO</td>\n",
       "      <td>442405.42</td>\n",
       "      <td>4467402.73</td>\n",
       "      <td>ETRS89</td>\n",
       "      <td>40.355199</td>\n",
       "      <td>-3.678253</td>\n",
       "      <td>NaN</td>\n",
       "      <td>NaN</td>\n",
       "      <td>NaN</td>\n",
       "      <td>0.0</td>\n",
       "      <td>NaN</td>\n",
       "      <td>NaN</td>\n",
       "      <td>NaN</td>\n",
       "      <td>AI_100009</td>\n",
       "      <td>6</td>\n",
       "      <td>15</td>\n",
       "      <td>infantil</td>\n",
       "    </tr>\n",
       "    <tr>\n",
       "      <th>2684</th>\n",
       "      <td>6819621</td>\n",
       "      <td>Area de juegos/especial</td>\n",
       "      <td>173</td>\n",
       "      <td>BUtARqUE</td>\n",
       "      <td>17.0</td>\n",
       "      <td>villaVeRDE</td>\n",
       "      <td>OPERATIVO</td>\n",
       "      <td>442732.34</td>\n",
       "      <td>4467113.95</td>\n",
       "      <td>ETRS89</td>\n",
       "      <td>40.352620</td>\n",
       "      <td>-3.674377</td>\n",
       "      <td>NaN</td>\n",
       "      <td>NaN</td>\n",
       "      <td>NaN</td>\n",
       "      <td>0.0</td>\n",
       "      <td>NaN</td>\n",
       "      <td>NaN</td>\n",
       "      <td>07/10/2019</td>\n",
       "      <td>AI_100011</td>\n",
       "      <td>6</td>\n",
       "      <td>4</td>\n",
       "      <td>infantil</td>\n",
       "    </tr>\n",
       "    <tr>\n",
       "      <th>2707</th>\n",
       "      <td>7896504</td>\n",
       "      <td>Area de juegos/especial</td>\n",
       "      <td>173</td>\n",
       "      <td>BúTARQUé</td>\n",
       "      <td>17.0</td>\n",
       "      <td>ViLlaVerDe</td>\n",
       "      <td>OPERATIVO</td>\n",
       "      <td>443061.65</td>\n",
       "      <td>4466693.94</td>\n",
       "      <td>ETRS89</td>\n",
       "      <td>40.348858</td>\n",
       "      <td>-3.670462</td>\n",
       "      <td>NaN</td>\n",
       "      <td>NaN</td>\n",
       "      <td>NaN</td>\n",
       "      <td>0.0</td>\n",
       "      <td>NaN</td>\n",
       "      <td>NaN</td>\n",
       "      <td>11/12/2020</td>\n",
       "      <td>AI_100014</td>\n",
       "      <td>6</td>\n",
       "      <td>3</td>\n",
       "      <td>infantil</td>\n",
       "    </tr>\n",
       "  </tbody>\n",
       "</table>\n",
       "</div>"
      ],
      "text/plain": [
       "           ID       DESC_CLASIFICACION  COD_BARRIO      BARRIO  COD_DISTRITO            DISTRITO     ESTADO  COORD_GIS_X  COORD_GIS_Y SISTEMA_COORD    LATITUD  LONGITUD TIPO_VIA NOM_VIA NUM_VIA  COD_POSTAL DIRECCION_AUX  NDP    FECHA_INSTALACION CODIGO_INTERNO CONTRATO_COD  TOTAL_ELEM      tipo\n",
       "427   6819623  Area de juegos/especial         131   EntrevIas          13.0  PUENTe dE vaLlEcAs  OPERATIVO    441699.23   4470033.57        ETRS89  40.378850 -3.686809      NaN     NaN     NaN         0.0           NaN  NaN                  NaN      AM_100002            6          18   mayores\n",
       "428   6819625  Area de juegos/especial         123  sán FéRMín          12.0               USerA  OPERATIVO    441581.44   4469320.66        ETRS89  40.372419 -3.688131      NaN     NaN     NaN         0.0           NaN  NaN           05-10-2018      AM_100003            6          14   mayores\n",
       "429   6819627  Area de juegos/especial         123  sAn fERmin          12.0               UsErA  OPERATIVO    441916.76   4468339.22        ETRS89  40.363601 -3.684092      NaN     NaN     NaN         0.0           NaN  NaN           2019/05/10      AM_100005            6          12   mayores\n",
       "531   6819624  Area de juegos/especial         123  SáN fERmín          12.0               uSeRA  OPERATIVO    441528.51   4469732.63        ETRS89  40.376127 -3.688792      NaN     NaN     NaN         0.0           NaN  NaN                  NaN      AM_100001            6           9   mayores\n",
       "532   6819626  Area de juegos/especial         173    BUTArQúE          17.0          ViLlAveRdE  OPERATIVO    442411.51   4467434.35        ETRS89  40.355484 -3.678184      NaN     NaN     NaN         0.0           NaN  NaN                  NaN      AM_100004            6          11   mayores\n",
       "2369  6819612  Area de juegos/especial         123  sAn feRMin          12.0               useRa  OPERATIVO    441512.94   4469640.26        ETRS89  40.375293 -3.688967      NaN     NaN     NaN         0.0           NaN  NaN                  NaN      AI_100001            6          13  infantil\n",
       "2370  6819614  Area de juegos/especial         131   eNTrEVIAs          13.0  PuENTe dE VaLLEcAS  OPERATIVO    441736.34   4469988.42        ETRS89  40.378446 -3.686368      NaN     NaN     NaN         0.0           NaN  NaN                  NaN      AI_100003            6           1  infantil\n",
       "2371  6819616  Area de juegos/especial         123  sAn ferMIn          12.0               UserA  OPERATIVO    441540.55   4469414.91        ETRS89  40.373265 -3.688622      NaN     NaN     NaN         0.0           NaN  NaN  2018-05-10 00:00:00      AI_100006            6          13  infantil\n",
       "2372  6819618  Area de juegos/especial         123  saN fErMiN          12.0               UseRA  OPERATIVO    441960.43   4468277.04        ETRS89  40.363044 -3.683572      NaN     NaN     NaN         0.0           NaN  NaN  2018-10-26 00:00:00      AI_100008            6           2  infantil\n",
       "2373  6819620  Area de juegos/especial         173    bútárqUé          17.0          VíLLáVERdE  OPERATIVO    442208.70   4467525.47        ETRS89  40.356291 -3.680580      NaN     NaN     NaN         0.0           NaN  NaN           10-03-2019      AI_100010            6           4  infantil\n",
       "2374  6819622  Area de juegos/especial         131   EnTrEvIaS          13.0  pUEntE de vAlLeCaS  OPERATIVO    441695.94   4469495.18        ETRS89  40.373999 -3.686799      NaN     NaN     NaN         0.0           NaN  NaN           2020/01/15      AI_100012            6           5  infantil\n",
       "2375  6880820  Area de juegos/especial         173    bUtaRQue          17.0          viLlAverDE  OPERATIVO    442711.60   4467136.80        ETRS89  40.352824 -3.674623      NaN     NaN     NaN         0.0           NaN  NaN     fecha_incorrecta      AI_100012            6           3  infantil\n",
       "2679  6819611  Area de juegos/especial         131   éNTRéVIAS          13.0  pUEntE dE vállécás  OPERATIVO    441797.38   4469732.26        ETRS89  40.376142 -3.685625      NaN     NaN     NaN         0.0           NaN  NaN     fecha_incorrecta      AI_100005            6          34  infantil\n",
       "2680  6819613  Area de juegos/especial         123  saN feRMIN          12.0               USérA  OPERATIVO    441541.36   4469668.94        ETRS89  40.375554 -3.688635      NaN     NaN     NaN         0.0           NaN  NaN                  NaN      AI_100002            6           8  infantil\n",
       "2681  6819615  Area de juegos/especial         131   éNTREvIAS          13.0  PUEnTe de vaLLeCAs  OPERATIVO    441714.64   4470014.96        ETRS89  40.378683 -3.686626      NaN     NaN     NaN         0.0           NaN  NaN                  NaN      AI_100004            6           1  infantil\n",
       "2682  6819617  Area de juegos/especial         123  San FErmiN          12.0               Usera  OPERATIVO    441663.75   4469270.35        ETRS89  40.371972 -3.687157      NaN     NaN     NaN         0.0           NaN  NaN     fecha_incorrecta      AI_100007            6          14  infantil\n",
       "2683  6819619  Area de juegos/especial         173    BútARQUé          17.0          ViLLAVeRdE  OPERATIVO    442405.42   4467402.73        ETRS89  40.355199 -3.678253      NaN     NaN     NaN         0.0           NaN  NaN                  NaN      AI_100009            6          15  infantil\n",
       "2684  6819621  Area de juegos/especial         173    BUtARqUE          17.0          villaVeRDE  OPERATIVO    442732.34   4467113.95        ETRS89  40.352620 -3.674377      NaN     NaN     NaN         0.0           NaN  NaN           07/10/2019      AI_100011            6           4  infantil\n",
       "2707  7896504  Area de juegos/especial         173    BúTARQUé          17.0          ViLlaVerDe  OPERATIVO    443061.65   4466693.94        ETRS89  40.348858 -3.670462      NaN     NaN     NaN         0.0           NaN  NaN           11/12/2020      AI_100014            6           3  infantil"
      ]
     },
     "execution_count": 357,
     "metadata": {},
     "output_type": "execute_result"
    }
   ],
   "source": [
    "df[(df['LATITUD'] < 40.3) | (df['LATITUD'] > 40.6)]\n",
    "df[(df['LONGITUD'] < -3.84) | (df['LONGITUD'] > -3.5)]\n",
    "df[(df['COD_POSTAL'] < 28000) | (df['COD_POSTAL'] > 28999)]"
   ]
  },
  {
   "cell_type": "markdown",
   "metadata": {},
   "source": [
    "## 1.11 Identificación de unidades de medida en un formato no estandarizado\n",
    "Columnas como \"Codigo postal\", \"Codigo distrito\" y \"NDP\" estan en formato float, aunque son numeros enteros."
   ]
  },
  {
   "cell_type": "markdown",
   "metadata": {},
   "source": [
    "# 2. Limpieza de los datasets\n",
    "En este apartado limpiaremos los datos según lo mencionado en el enunciado:\n",
    "- Hace falta corregir los valores nulos\n",
    "    - Rellenarlos con lo de “ID_CAMPO_DESCONOCIDO”\n",
    "- Cambiar todas las fechas a “DD/MM/YYYY”\n",
    "- Eliminar registros duplicados\n",
    "- Corregir errores tipográficos\n",
    "    - Solo en areas, juegos, usuarios y ubicaciones\n",
    "- Corregir valores fuera del dominio de tipo enum\n",
    "- Hace falta eliminar espacios adicionales y caracteres especiales que afecten a la BBDD\n",
    "- Corregir (si las hay) las incoherencias de las coordenadas y otros campos geoespaciales\n",
    "- Corrección de formato no estándar de unidades de medida\n",
    "- Otras correcciones a atributos"
   ]
  },
  {
   "cell_type": "markdown",
   "metadata": {},
   "source": [
    "## 2.1 Errores tipograficos\n",
    "Antes de todo, estandarizamos nombres de distritos y barrios. Ademas, populamos valores de distrito nulos."
   ]
  },
  {
   "cell_type": "code",
   "execution_count": 358,
   "metadata": {},
   "outputs": [
    {
     "name": "stdout",
     "output_type": "stream",
     "text": [
      "1309        moncloa - aravaca\n",
      "2520    fuencarral - el pardo\n",
      "775     fuencarral - el pardo\n",
      "691                arganzuela\n",
      "558                    centro\n",
      "408                    retiro\n",
      "324                   barajas\n",
      "612                arganzuela\n",
      "880                 salamanca\n",
      "2398                vicalvaro\n",
      "2618            ciudad lineal\n",
      "2417    san blas - canillejas\n",
      "1920    san blas - canillejas\n",
      "2282                hortaleza\n",
      "473                 salamanca\n",
      "2535                   tetuan\n",
      "636                 salamanca\n",
      "954                    latina\n",
      "1756        villa de vallecas\n",
      "238                     usera\n",
      "Name: DISTRITO, dtype: object\n",
      "1991        canillejas\n",
      "1214           pavones\n",
      "1292        marroquina\n",
      "2019     la concepcion\n",
      "931     hispanoamerica\n",
      "114           valverde\n",
      "1376            aluche\n",
      "1224          valverde\n",
      "1083          arapiles\n",
      "2679         entrevias\n",
      "1397            lucero\n",
      "1261           aravaca\n",
      "2665        marroquina\n",
      "2057           acacias\n",
      "520           almenara\n",
      "1536            opanel\n",
      "1151          portazgo\n",
      "266        embajadores\n",
      "344          orcasitas\n",
      "1069       almendrales\n",
      "Name: BARRIO, dtype: object\n"
     ]
    }
   ],
   "source": [
    "df['DISTRITO']=df['DISTRITO'].str.normalize('NFKD').str.encode('ascii', errors='ignore').str.decode('utf-8').str.lower()\n",
    "df['DISTRITO']=df['DISTRITO'].fillna(\"Desconocido\")\n",
    "df['BARRIO']=df['BARRIO'].str.normalize('NFKD').str.encode('ascii', errors='ignore').str.decode('utf-8').str.lower()\n",
    "print(df['DISTRITO'].sample(20))\n",
    "print(df['BARRIO'].sample(20))"
   ]
  },
  {
   "cell_type": "markdown",
   "metadata": {},
   "source": [
    "## 2.2 Fechas no estandarizadas\n",
    "Por primero populamos las fechas nulas y vacias. Como fecha por defecto tomamos 1-ro de Enero 1970:"
   ]
  },
  {
   "cell_type": "code",
   "execution_count": 359,
   "metadata": {},
   "outputs": [
    {
     "name": "stdout",
     "output_type": "stream",
     "text": [
      "435\n",
      "129\n"
     ]
    }
   ],
   "source": [
    "print((df['FECHA_INSTALACION'] == \"fecha_incorrecta\").sum())\n",
    "print(df['FECHA_INSTALACION'].isnull().sum())"
   ]
  },
  {
   "cell_type": "code",
   "execution_count": 360,
   "metadata": {
    "scrolled": true
   },
   "outputs": [],
   "source": [
    "df['FECHA_INSTALACION']=df['FECHA_INSTALACION'].replace(\"fecha_incorrecta\",\"01/01/1970\")\n",
    "df['FECHA_INSTALACION']=df['FECHA_INSTALACION'].fillna(\"01/01/1970\")"
   ]
  },
  {
   "cell_type": "code",
   "execution_count": 361,
   "metadata": {},
   "outputs": [
    {
     "name": "stdout",
     "output_type": "stream",
     "text": [
      "0\n",
      "0\n"
     ]
    }
   ],
   "source": [
    "print((df['FECHA_INSTALACION'] == \"fecha_incorrecta\").sum())\n",
    "print(df['FECHA_INSTALACION'].isnull().sum())"
   ]
  },
  {
   "cell_type": "markdown",
   "metadata": {},
   "source": [
    "Falta conversion al formato MongoDB, Pandas es capaz de hacerla de manera automatica, reconociendo varios formatos:"
   ]
  },
  {
   "cell_type": "code",
   "execution_count": 362,
   "metadata": {},
   "outputs": [
    {
     "name": "stdout",
     "output_type": "stream",
     "text": [
      "447     1970-01-01\n",
      "2647    1970-01-01\n",
      "197     2021-03-22\n",
      "469     2017-11-05\n",
      "724     1970-01-01\n",
      "756     2006-01-09\n",
      "1864    2003-01-01\n",
      "1013    2002-01-01\n",
      "494     2017-12-12\n",
      "611     2009-01-22\n",
      "1489    1970-01-01\n",
      "226     1970-01-01\n",
      "511     2015-01-04\n",
      "636     2006-01-26\n",
      "658     2006-11-13\n",
      "1760    2006-01-01\n",
      "774     2005-09-30\n",
      "130     1970-01-01\n",
      "1207    2007-04-27\n",
      "972     1970-01-01\n",
      "Name: FECHA_INSTALACION, dtype: object\n"
     ]
    },
    {
     "name": "stderr",
     "output_type": "stream",
     "text": [
      "/tmp/ipykernel_19739/2480072546.py:1: UserWarning: Could not infer format, so each element will be parsed individually, falling back to `dateutil`. To ensure parsing is consistent and as-expected, please specify a format.\n",
      "  df['FECHA_INSTALACION']=pd.to_datetime(df['FECHA_INSTALACION']).dt.strftime('%Y-%m-%d')\n"
     ]
    }
   ],
   "source": [
    "df['FECHA_INSTALACION']=pd.to_datetime(df['FECHA_INSTALACION']).dt.strftime('%Y-%m-%d')\n",
    "print(df['FECHA_INSTALACION'].sample(20))"
   ]
  },
  {
   "cell_type": "markdown",
   "metadata": {},
   "source": [
    "## 2.3 Codigos postal y de distrito\n",
    "Creamos mapa usando datos existences de distrito y su codigo, y la usamos para rellenar los valores vacios:"
   ]
  },
  {
   "cell_type": "code",
   "execution_count": 363,
   "metadata": {},
   "outputs": [
    {
     "name": "stdout",
     "output_type": "stream",
     "text": [
      "0\n"
     ]
    }
   ],
   "source": [
    "mapa_distritos = df.dropna(subset=['COD_DISTRITO']).groupby('DISTRITO')['COD_DISTRITO'].first().to_dict()\n",
    "\n",
    "df['COD_DISTRITO'] = df.apply(lambda row: mapa_distritos.get(row['DISTRITO'], row['COD_DISTRITO']), axis=1)\n",
    "\n",
    "print(df['COD_DISTRITO'].isnull().sum())"
   ]
  },
  {
   "cell_type": "markdown",
   "metadata": {},
   "source": [
    "Arreglamos codigos postales de manera similar:"
   ]
  },
  {
   "cell_type": "code",
   "execution_count": 364,
   "metadata": {},
   "outputs": [],
   "source": [
    "postal_map = df.dropna(subset=['COD_POSTAL']).groupby(['BARRIO', 'DISTRITO'])['COD_POSTAL'].first().to_dict()\n",
    "\n",
    "def imputar_codigo_postal(row):\n",
    "    if pd.isna(row['COD_POSTAL']):\n",
    "        return postal_map.get((row['BARRIO'], row['DISTRITO']), row['COD_POSTAL'])\n",
    "    return row['COD_POSTAL']\n",
    "\n",
    "df['COD_POSTAL'] = df.apply(imputar_codigo_postal, axis=1)"
   ]
  },
  {
   "cell_type": "markdown",
   "metadata": {},
   "source": [
    "Arreglamos el formato de codigo postal y los valores nulos y todavia vacios se cambian a 28000 por defecto:"
   ]
  },
  {
   "cell_type": "code",
   "execution_count": 365,
   "metadata": {},
   "outputs": [],
   "source": [
    "df['COD_POSTAL']=df['COD_POSTAL'].fillna(28000)\n",
    "df['COD_POSTAL']=df['COD_POSTAL'].astype('int64')\n",
    "df['COD_POSTAL']=df['COD_POSTAL'].replace(0,28000)"
   ]
  },
  {
   "cell_type": "markdown",
   "metadata": {},
   "source": [
    "NDP se popula de manera similar, usando datos de barrio y distrito para buscar el codigo ya existente en el dataset. Tambien se cambia de formato."
   ]
  },
  {
   "cell_type": "code",
   "execution_count": 366,
   "metadata": {},
   "outputs": [
    {
     "name": "stdout",
     "output_type": "stream",
     "text": [
      "0\n"
     ]
    }
   ],
   "source": [
    "df['NDP'] = df.groupby(['BARRIO', 'DISTRITO'])['NDP'].transform(lambda x: x.fillna(x.mode()[0] if not x.mode().empty else 0))\n",
    "df['NDP']=df['NDP'].astype('int64')\n",
    "print(df['NDP'].isnull().sum())"
   ]
  },
  {
   "cell_type": "markdown",
   "metadata": {},
   "source": [
    "## 2.4 Otros valores faltantes\n",
    "Reemplazamos datos faltantes de direccion y codigo interno con valores por defecto:"
   ]
  },
  {
   "cell_type": "code",
   "execution_count": 367,
   "metadata": {},
   "outputs": [],
   "source": [
    "df['TIPO_VIA']=df['TIPO_VIA'].fillna('SIN TIPO')\n",
    "df['NOM_VIA']=df['NOM_VIA'].fillna('DESCONOCIDO')\n",
    "df['NUM_VIA']=df['NUM_VIA'].fillna('S/N')\n",
    "df['DIRECCION_AUX']=df['DIRECCION_AUX'].fillna(\"Sin información\")"
   ]
  },
  {
   "cell_type": "code",
   "execution_count": 368,
   "metadata": {},
   "outputs": [
    {
     "name": "stdout",
     "output_type": "stream",
     "text": [
      "0\n"
     ]
    }
   ],
   "source": [
    "df['CODIGO_INTERNO']=df['CODIGO_INTERNO'].fillna('F000000')\n",
    "print(df['CODIGO_INTERNO'].isnull().sum())"
   ]
  },
  {
   "cell_type": "markdown",
   "metadata": {},
   "source": [
    "## 2.5. Ultimos cambios y finalizacion\n",
    "Arreglamos duplicacion de \"Calle\" en posibles valores de tipo de via, y finalizamos borrando filas duplicadas y guardando el archivo."
   ]
  },
  {
   "cell_type": "code",
   "execution_count": 369,
   "metadata": {},
   "outputs": [
    {
     "name": "stdout",
     "output_type": "stream",
     "text": [
      "['CALLE' 'AVENIDA' 'CARRETERA' 'AUTOVIA' 'PASEO' 'SIN TIPO' 'PLAZA'\n",
      " 'RONDA' 'CAMINO' 'PARQUE' 'BULEVAR' 'GLORIETA' 'TRAVESIA' 'CUESTA'\n",
      " 'PASAJE']\n"
     ]
    }
   ],
   "source": [
    "df['TIPO_VIA']=df['TIPO_VIA'].str.upper()\n",
    "print(df['TIPO_VIA'].unique())"
   ]
  },
  {
   "cell_type": "code",
   "execution_count": 370,
   "metadata": {},
   "outputs": [],
   "source": [
    "df.drop_duplicates(inplace=True)\n",
    "df.to_csv('../AreasLimpio.csv', index=False)"
   ]
  },
  {
   "cell_type": "markdown",
   "metadata": {},
   "source": [
    "# 3. Resultados\n",
    "Como se puede ver, ya no hay valores nulos en el dataset. Otras irregularidades, como el tipo de via, ya verificamos al hacer el cambio."
   ]
  },
  {
   "cell_type": "code",
   "execution_count": 88,
   "metadata": {},
   "outputs": [
    {
     "name": "stdout",
     "output_type": "stream",
     "text": [
      "ID                    0\n",
      "DESC_CLASIFICACION    0\n",
      "COD_BARRIO            0\n",
      "BARRIO                0\n",
      "COD_DISTRITO          0\n",
      "DISTRITO              0\n",
      "ESTADO                0\n",
      "COORD_GIS_X           0\n",
      "COORD_GIS_Y           0\n",
      "SISTEMA_COORD         0\n",
      "LATITUD               0\n",
      "LONGITUD              0\n",
      "TIPO_VIA              0\n",
      "NOM_VIA               0\n",
      "NUM_VIA               0\n",
      "COD_POSTAL            0\n",
      "DIRECCION_AUX         0\n",
      "NDP                   0\n",
      "FECHA_INSTALACION     0\n",
      "CODIGO_INTERNO        0\n",
      "CONTRATO_COD          0\n",
      "TOTAL_ELEM            0\n",
      "tipo                  0\n",
      "dtype: int64\n"
     ]
    }
   ],
   "source": [
    "print(df.isnull().sum())"
   ]
  },
  {
   "cell_type": "code",
   "execution_count": null,
   "metadata": {},
   "outputs": [],
   "source": []
  }
 ],
 "metadata": {
  "kernelspec": {
   "display_name": "Python 3",
   "language": "python",
   "name": "python3"
  },
  "language_info": {
   "codemirror_mode": {
    "name": "ipython",
    "version": 3
   },
   "file_extension": ".py",
   "mimetype": "text/x-python",
   "name": "python",
   "nbconvert_exporter": "python",
   "pygments_lexer": "ipython3",
   "version": "3.10.12"
  }
 },
 "nbformat": 4,
 "nbformat_minor": 4
}
