{
 "cells": [
  {
   "cell_type": "markdown",
   "metadata": {},
   "source": [
    "# 1. EDA\n",
    "En este apartado se pretende analizar los datasets para poder enfocar mejor la limpieza"
   ]
  },
  {
   "cell_type": "markdown",
   "metadata": {},
   "source": [
    "## 1.1 Importación y carga de datos\n",
    "Debemos declarar las librerías que usamos y leer el correspondiente archivo de datos"
   ]
  },
  {
   "cell_type": "code",
   "execution_count": 4,
   "metadata": {},
   "outputs": [],
   "source": [
    "# Importación de librerías\n",
    "import pandas as pd\n",
    "\n",
    "# Lectura dataset\n",
    "df = pd.read_csv('../AreasSucio.csv')"
   ]
  },
  {
   "cell_type": "markdown",
   "metadata": {},
   "source": [
    "## 1.2 Configuración de Pandas\n",
    "Para poder leer bien los resultados de las ejecuciones, vamos a configurar tanto el número máximo de columnas como el número máximo de filas"
   ]
  },
  {
   "cell_type": "code",
   "execution_count": 5,
   "metadata": {},
   "outputs": [],
   "source": [
    "# Número máximo de filas a mostrar\n",
    "pd.set_option('display.max_rows', None)\n",
    "\n",
    "# Número máximo de columnas a mostrar\n",
    "pd.set_option('display.max_columns', None)\n",
    "pd.set_option('display.max_colwidth', None)\n",
    "pd.set_option('display.width', 2000)"
   ]
  },
  {
   "cell_type": "markdown",
   "metadata": {},
   "source": [
    "## 1.3 Descripción general del dataset\n",
    "Para poder conocer ciertas características relevantes del dataset, como el número de instancias (filas) y características (columnas) procederemos a usar diferentes funciones de Pandas\n"
   ]
  },
  {
   "cell_type": "code",
   "execution_count": 6,
   "metadata": {},
   "outputs": [
    {
     "name": "stdout",
     "output_type": "stream",
     "text": [
      "                 ID   COD_BARRIO  COD_DISTRITO    COORD_GIS_X   COORD_GIS_Y      LATITUD     LONGITUD    COD_POSTAL           NDP   TOTAL_ELEM\n",
      "count  2.724000e+03  2724.000000   2714.000000    2724.000000  2.724000e+03  2724.000000  2724.000000   2635.000000  2.525000e+03  2724.000000\n",
      "mean   1.563270e+06   127.056167     12.341931  442527.739333  4.474631e+06    40.420314    -3.677460  27829.775712  1.950833e+07    10.016887\n",
      "std    2.815716e+06    52.377876      5.238038    4316.806283  4.726069e+03     0.042621     0.050819   2372.231422  8.437088e+06     5.405864\n",
      "min    1.665700e+04    11.000000      1.000000  429551.330000  4.464949e+06    40.332965    -3.831085      0.000000  1.100019e+07     0.000000\n",
      "25%    1.742875e+04    91.000000      9.000000  439432.046750  4.470593e+06    40.383852    -3.713989  28022.000000  1.109013e+07     7.000000\n",
      "50%    1.812750e+04   131.000000     13.000000  442622.004500  4.473629e+06    40.411559    -3.676429  28032.000000  2.006377e+07     9.000000\n",
      "75%    4.612118e+05   166.000000     16.000000  446028.250000  4.478665e+06    40.456260    -3.636495  28042.000000  3.101071e+07    12.000000\n",
      "max    9.536964e+06   215.000000     21.000000  453385.840000  4.487423e+06    40.534872    -3.549355  28055.000000  3.106951e+07    57.000000\n",
      "\n",
      "\n",
      "Número de filas:  2724\n",
      "Número de columnas:  23\n",
      "\n",
      "\n",
      "<class 'pandas.core.frame.DataFrame'>\n",
      "RangeIndex: 2724 entries, 0 to 2723\n",
      "Data columns (total 23 columns):\n",
      " #   Column              Non-Null Count  Dtype  \n",
      "---  ------              --------------  -----  \n",
      " 0   ID                  2724 non-null   int64  \n",
      " 1   DESC_CLASIFICACION  2724 non-null   object \n",
      " 2   COD_BARRIO          2724 non-null   int64  \n",
      " 3   BARRIO              2724 non-null   object \n",
      " 4   COD_DISTRITO        2714 non-null   float64\n",
      " 5   DISTRITO            2714 non-null   object \n",
      " 6   ESTADO              2724 non-null   object \n",
      " 7   COORD_GIS_X         2724 non-null   float64\n",
      " 8   COORD_GIS_Y         2724 non-null   float64\n",
      " 9   SISTEMA_COORD       2724 non-null   object \n",
      " 10  LATITUD             2724 non-null   float64\n",
      " 11  LONGITUD            2724 non-null   float64\n",
      " 12  TIPO_VIA            2547 non-null   object \n",
      " 13  NOM_VIA             2548 non-null   object \n",
      " 14  NUM_VIA             2560 non-null   object \n",
      " 15  COD_POSTAL          2635 non-null   float64\n",
      " 16  DIRECCION_AUX       2284 non-null   object \n",
      " 17  NDP                 2525 non-null   float64\n",
      " 18  FECHA_INSTALACION   2595 non-null   object \n",
      " 19  CODIGO_INTERNO      2598 non-null   object \n",
      " 20  CONTRATO_COD        2724 non-null   object \n",
      " 21  TOTAL_ELEM          2724 non-null   int64  \n",
      " 22  tipo                2724 non-null   object \n",
      "dtypes: float64(7), int64(3), object(13)\n",
      "memory usage: 489.6+ KB\n",
      "None\n"
     ]
    }
   ],
   "source": [
    "# Descripción de parámetros generales -> count, mean, std, min, 25%, 50%, 75%, max\n",
    "print(df.describe())\n",
    "\n",
    "# Número de filas y columnas del dataset\n",
    "print(\"\\n\")\n",
    "print(\"Número de filas: \", df.shape[0])\n",
    "print(\"Número de columnas: \", df.shape[1])\n",
    "print(\"\\n\")\n",
    "\n",
    "# Para saber el tipo de variable de cada columna\n",
    "print(df.info())"
   ]
  },
  {
   "cell_type": "markdown",
   "metadata": {},
   "source": [
    "## 1.4 Observación inicial del dataset\n",
    "Vamos a mostrar 30 entradas para poder observar cómo es realmente por dentro el dataset"
   ]
  },
  {
   "cell_type": "code",
   "execution_count": 7,
   "metadata": {},
   "outputs": [
    {
     "name": "stdout",
     "output_type": "stream",
     "text": [
      "   ----------    10 primeras filas    ----------    \n",
      "\n",
      "\n",
      "        ID            DESC_CLASIFICACION  COD_BARRIO                        BARRIO  COD_DISTRITO               DISTRITO     ESTADO  COORD_GIS_X  COORD_GIS_Y SISTEMA_COORD    LATITUD  LONGITUD   TIPO_VIA                  NOM_VIA NUM_VIA  COD_POSTAL                                     DIRECCION_AUX         NDP    FECHA_INSTALACION CODIGO_INTERNO CONTRATO_COD  TOTAL_ELEM        tipo\n",
      "0  3568711  Circuito deportivo elemental          85                        lA paz           8.0  fuencaRrAL - eL PARdO  OPERATIVO   440597.410  4481480.160        ETRS89  40.481888 -3.700858      CALLE               PEDRO RICO       1     28029.0             PARQUE NORTE 3 (ANTONIO LOPEZ AGUADO)  20103366.0             08/03/17          D0852         AE21           5  deportivas\n",
      "1  3569210  Circuito deportivo elemental          87                    MIrásIErRá           8.0  fueNCArral - el pArDO  OPERATIVO   438497.360  4482668.090        ETRS89  40.492436 -3.725749      CALLE          MARIA DE MAEZTU     108     28049.0  CALLE MARIA DE MAEZTU, 108 C/V SENDA DEL INFANTE  31052003.0  2017-10-09 00:00:00          D0854         AE21           9  deportivas\n",
      "2  3573005  Circuito deportivo elemental         192                 VaLDEBErNardo          19.0              VICAlVaRO  OPERATIVO   446968.130  4472539.440        ETRS89  40.401776 -3.624951      CALLE  LADERA DE LOS ALMENDROS     14E     28032.0                LADERA DE LOS ALMENDROS, 000014  E  20151600.0           20/10/2013          D1950         AE21          12  deportivas\n",
      "3  3573016  Circuito deportivo elemental         192                 VAlDEBErNáRDO          19.0              viCalVaRO  OPERATIVO   447538.380  4471701.760        ETRS89  40.394266 -3.618163    AVENIDA               DEMOCRACIA      50     28031.0                           AVDA DEMOCRACIA, 000050  20165254.0             20/10/13          D1953         AE21          11  deportivas\n",
      "4  3573208  Circuito deportivo elemental         183          EnsancHE de ValLeCAS          18.0      vILLA DE VáLLECAs  OPERATIVO   449416.790  4468380.840        ETRS89  40.364465 -3.595767      CALLE        MARIA TERESA LEON      1G     28051.0                      MARÍA TERESA LEÓN, 000001  G  31026567.0             20/10/13          D1854         AE21           3  deportivas\n",
      "5  3573331  Circuito deportivo elemental         182                 SANtA EUGeNIa          18.0      vIlLA De vALLEcas  OPERATIVO   448854.010  4469974.400        ETRS89  40.378786 -3.602523      CALLE           POZA DE LA SAL       3     28031.0                            POZA DE LA SAL, 000003  11131688.0           23/10/2013          D1851         AE21           5  deportivas\n",
      "6  3573333  Circuito deportivo elemental         181   cascO hiSToriCO DE VallECaS          18.0      viLLA De vALLEcAS  OPERATIVO   446970.232  4469259.493        ETRS89  40.372228 -3.624654      CALLE             BABILAFUENTE       2     28031.0                              BABILAFUENTE, 000002  20170570.0  2013-10-20 00:00:00          D1853         AE21           4  deportivas\n",
      "7  3573466  Circuito deportivo elemental         181   CAsCO HISTOriCo dE vallEcAS          18.0      villA dE vaLLeCAS  OPERATIVO   446183.700  4469509.080        ETRS89  40.374426 -3.633939  CARRETERA    VILLAVERDE A VALLECAS     289     28031.0                CTRA VILLAVERDE A VALLECAS, 000289  20180908.0           2013/10/20          D1856         AE21           9  deportivas\n",
      "8  4792795  Circuito deportivo elemental         192                 vaLDebernARDo          19.0              vicalVArO  OPERATIVO   446881.880  4472327.780        ETRS89  40.399864 -3.625950    AUTOVIA                     M-40  1500EX     28032.0                             AUTOV M-40, 001500 EX  31031401.0  2017-12-20 00:00:00          D1954         AE21           8  deportivas\n",
      "9  4792812  Circuito deportivo elemental         191  casCo histORicO de VicaLvArO          19.0              vIcALVArO  OPERATIVO   449811.480  4473216.060        ETRS89  40.408048 -3.591499      CALLE        ABAD JUAN CATALAN      70     28032.0                         ABAD JUAN CATALÁN, 000070  31037333.0           12-18-2017          D1957         AE21           8  deportivas\n",
      "\n",
      "\n",
      "   ----------    10 filas aleatorias    ----------    \n",
      "\n",
      "\n",
      "           ID       DESC_CLASIFICACION  COD_BARRIO                       BARRIO  COD_DISTRITO            DISTRITO     ESTADO  COORD_GIS_X  COORD_GIS_Y SISTEMA_COORD    LATITUD  LONGITUD TIPO_VIA                NOM_VIA NUM_VIA  COD_POSTAL                                      DIRECCION_AUX         NDP    FECHA_INSTALACION CODIGO_INTERNO CONTRATO_COD  TOTAL_ELEM      tipo\n",
      "1316    17877            Área Infantil         145                    foNtARROn          14.0           MOrátáLAz  OPERATIVO   445917.869  4472365.892        ETRS89  40.400145 -3.637313    CALLE      FUENTE CARRANTONA       7     28030.0                          FUENTE CARRANTONA, 000007  20157921.0     fecha_incorrecta          14072         AE21          24  infantil\n",
      "1521    18088            Área Infantil         163                     caNilLAS          16.0           HorTALEzA  OPERATIVO   444596.660  4479159.640        ETRS89  40.461260 -3.653473    CALLE            PUERTO REAL      12     28043.0  C · CALLE CARRIL DEL CONDE 70 , ASCENDIENTE 1: 16  20162747.0     fecha_incorrecta          16071         AE21          11  infantil\n",
      "1155    17697            Área Infantil         135                     PorTaZGO          13.0  pUeNTe De ValleCaS  OPERATIVO   444604.060  4471507.040        ETRS89  40.392322 -3.652719    CALLE            CARLOS SOLE      34     28038.0                                CARLOS SOLÉ, 000034  11101165.0             29/11/06          13034         AE21          17  infantil\n",
      "2064    52060            Área Infantil          61                bellAs vISTAs           6.0              TEtuan  OPERATIVO   439577.190  4478439.810        ETRS89  40.454426 -3.712604    CALLE               NUMANCIA      13     28039.0                                                NaN  20108314.0           01-01-2004           6064         AE21           5  infantil\n",
      "2655  5240281  Area de juegos/especial          22                      aCAciAS           2.0          ArGAnzUEla  OPERATIVO   439734.247  4472159.567        ETRS89  40.397862 -3.710157      NaN                    NaN     NaN     28005.0                                                NaN         NaN                  NaN      AI_900014            6          21  infantil\n",
      "2292    18294            Área Infantil         181  cAscO HIsTóRICó dE VáLléCAs          18.0   vIlLa De VALLeCaS  OPERATIVO   447588.151  4469574.027        ETRS89  40.375101 -3.617401   CAMINO                 SUERTE      36     28031.0                                CMNO SUERTE, 000036  20079554.0           01/01/2005          18016         AE21          11  infantil\n",
      "2105    52153            Área Infantil         166                 vALdefueNTES          16.0           hORTaLEza  OPERATIVO   447795.740  4481819.440        ETRS89  40.485428 -3.615962  AVENIDA  JOSE ANTONIO CORRALES       8     28055.0                                                NaN  31039456.0           09-01-2014          16185         AE21           6  infantil\n",
      "2159    52226            Área Infantil         192                vALdeBernArDO          19.0           vICAlVaro  OPERATIVO   447662.937  4472523.945        ETRS89  40.401681 -3.616763    CALLE      CORDEL DE PAVONES     6 A     28032.0                       CORDEL DE PAVONES, 000006  A  20123242.0  2007-01-01 00:00:00          19060         AE21          12  infantil\n",
      "1206    17800            Área Infantil         134            pAlOMeRAS SurEsTE          13.0  puenTE De valleCAs  OPERATIVO   445787.290  4471145.052        ETRS89  40.389139 -3.638747  AVENIDA         RAFAEL ALBERTI      17     28038.0                        AVDA RAFAEL ALBERTI, 000017  20176127.0           2006/11/13          13143         AE21          13  infantil\n",
      "499   4749893          Área de mayores         166                 vALDEfuEntES          16.0           hORtALéZá  OPERATIVO   443553.200  4482356.130        ETRS89  40.489985 -3.666064    CALLE                    OÑA      10     28050.0                                                NaN  20135901.0     fecha_incorrecta          M1610         AE21           9   mayores\n",
      "\n",
      "\n",
      "   ----------    10 últimas filas    ----------    \n",
      "\n",
      "\n",
      "           ID       DESC_CLASIFICACION  COD_BARRIO                                           BARRIO  COD_DISTRITO               DISTRITO     ESTADO  COORD_GIS_X  COORD_GIS_Y SISTEMA_COORD    LATITUD  LONGITUD TIPO_VIA                          NOM_VIA NUM_VIA  COD_POSTAL                  DIRECCION_AUX         NDP FECHA_INSTALACION CODIGO_INTERNO CONTRATO_COD  TOTAL_ELEM      tipo\n",
      "2714  8776034            Área Infantil          86                                         vAlveRdE           8.0  FUencArRaL - el parDo  OPERATIVO   441863.380  4483083.974        ETRS89  40.496425 -3.686069    CALLE                  MANUEL VILLARTA      15     28034.0  CALLE ISLAS PALAOS 3-5 ZONA 2  11049506.0        02-02-2022           8200         AE21           6  infantil\n",
      "2715  8785368            Área Infantil         171  VILlavERdE alto - CAsCo historICO DE vIllaVeRdE          17.0             ViLLaVErDe  OPERATIVO   440189.937  4466780.612        ETRS89  40.349438 -3.704283    CALLE                       SAN JENARO       3     28021.0                 C/SAN JENARO,3  31047909.0        2022/02/09          17132         AE21          11  infantil\n",
      "2716  8799605            Área Infantil          97                                          arAvACa           9.0      MonClOa - ARAVaCA  OPERATIVO   433820.872  4477425.657        ETRS89  40.444852 -3.780381  AVENIDA                            TALGO       1     28023.0           CARRETERA DE ARAVACA  20172145.0  fecha_incorrecta           9159         AE21           8  infantil\n",
      "2717  8800261            Área Infantil         215                                       CóRRálEjOs          21.0                baRAJaS  OPERATIVO   449653.021  4479424.486        ETRS89  40.463968 -3.593859    CALLE                   BAHIA DE CADIZ      28     28042.0       CALLE BAHIA DE CARTAGENA  20168038.0  fecha_incorrecta          21073         AE21          17  infantil\n",
      "2718  8914010  Area de juegos/especial         143                                       MaRrOQuina          14.0              MoraTAlaz  OPERATIVO   446569.340  4473580.530        ETRS89  40.411129 -3.629738  AVENIDA  Avenida del Doctor Garcia Tapia     125     28030.0                            NaN         NaN               NaN            NaN            6           3  infantil\n",
      "2719  8914012  Area de juegos/especial         143                                       mArROQuiNa          14.0              mORatAlaZ  OPERATIVO   446470.120  4473710.080        ETRS89  40.412290 -3.630918  AVENIDA  Avenida del Doctor Garcia Tapia     125     28030.0                            NaN         NaN               NaN            NaN            6           0  infantil\n",
      "2720  8941726  Area de juegos/especial         125                                         moscardo          12.0                  USérA  OPERATIVO   440372.235  4471439.786        ETRS89  40.391424 -3.702572      NaN                              NaN     NaN     28005.0                            NaN         NaN               NaN            NaN            6          10  infantil\n",
      "2721  8941727  Area de juegos/especial         124                                      ALménDráLés          12.0                  USERA  OPERATIVO   440975.398  4470765.456        ETRS89  40.385392 -3.695403      NaN                              NaN     NaN     28005.0                            NaN         NaN               NaN            NaN            6           7  infantil\n",
      "2722  9348753            Área Infantil         205                                            Rosas          20.0  san Blas - CANilLEJaS  OPERATIVO   449155.140  4475659.692        ETRS89  40.430022 -3.599429    CALLE                        ESTOCOLMO      55     28022.0               PASEO DE GINEGRA  20102763.0          09/08/23          20218         AE21          14  infantil\n",
      "2723  9424149  Area de juegos/especial          22                                          AcACiAS           2.0             ARgAnZUeLa  OPERATIVO   439995.071  4472023.818        ETRS89  40.396658 -3.707071      NaN                              NaN     NaN     28005.0                            NaN         NaN               NaN      AI_900023            6           0  infantil\n"
     ]
    }
   ],
   "source": [
    "# Mostramos las 10 primeras filas, 10 filas aleatorias y las 10 últimas\n",
    "print(\"   ----------    10 primeras filas    ----------    \")\n",
    "print(\"\\n\")\n",
    "print(df.head(10))\n",
    "print(\"\\n\")\n",
    "print(\"   ----------    10 filas aleatorias    ----------    \")\n",
    "print(\"\\n\")\n",
    "print(df.sample(10))\n",
    "print(\"\\n\")\n",
    "print(\"   ----------    10 últimas filas    ----------    \")\n",
    "print(\"\\n\")\n",
    "print(df.tail(10))"
   ]
  },
  {
   "cell_type": "markdown",
   "metadata": {},
   "source": [
    "## 1.5 Revisión de valores nulos\n",
    "Como ya se ha visto en el anterior apartado (info), podemos observar los valores nulos de esa forma. Pero se puede observar de una forma más visual en esta sección y, además, hay que tener en cuenta valores como el cero que también pueden considerarse nulos."
   ]
  },
  {
   "cell_type": "code",
   "execution_count": 8,
   "metadata": {},
   "outputs": [
    {
     "name": "stdout",
     "output_type": "stream",
     "text": [
      "    ----------    Valores faltantes    ----------    \n",
      "\n",
      "\n",
      "ID                      0\n",
      "DESC_CLASIFICACION      0\n",
      "COD_BARRIO              0\n",
      "BARRIO                  0\n",
      "COD_DISTRITO           10\n",
      "DISTRITO               10\n",
      "ESTADO                  0\n",
      "COORD_GIS_X             0\n",
      "COORD_GIS_Y             0\n",
      "SISTEMA_COORD           0\n",
      "LATITUD                 0\n",
      "LONGITUD                0\n",
      "TIPO_VIA              177\n",
      "NOM_VIA               176\n",
      "NUM_VIA               164\n",
      "COD_POSTAL             89\n",
      "DIRECCION_AUX         440\n",
      "NDP                   199\n",
      "FECHA_INSTALACION     129\n",
      "CODIGO_INTERNO        126\n",
      "CONTRATO_COD            0\n",
      "TOTAL_ELEM              0\n",
      "tipo                    0\n",
      "dtype: int64\n",
      "\n",
      "\n",
      "    ----------    Valores cero    ----------    \n",
      "\n",
      "\n",
      "ID                     0\n",
      "DESC_CLASIFICACION     0\n",
      "COD_BARRIO             0\n",
      "BARRIO                 0\n",
      "COD_DISTRITO           0\n",
      "DISTRITO               0\n",
      "ESTADO                 0\n",
      "COORD_GIS_X            0\n",
      "COORD_GIS_Y            0\n",
      "SISTEMA_COORD          0\n",
      "LATITUD                0\n",
      "LONGITUD               0\n",
      "TIPO_VIA               0\n",
      "NOM_VIA                0\n",
      "NUM_VIA                0\n",
      "COD_POSTAL            19\n",
      "DIRECCION_AUX          0\n",
      "NDP                    0\n",
      "FECHA_INSTALACION      0\n",
      "CODIGO_INTERNO         0\n",
      "CONTRATO_COD           0\n",
      "TOTAL_ELEM             5\n",
      "tipo                   0\n",
      "dtype: int64\n"
     ]
    }
   ],
   "source": [
    "# Para poder saber el número de valores faltantes\n",
    "print(\"    ----------    Valores faltantes    ----------    \")\n",
    "print(\"\\n\")\n",
    "print(df.isnull().sum())\n",
    "print(\"\\n\")\n",
    "\n",
    "# Para poder saber el número de ceros en cada columna\n",
    "print(\"    ----------    Valores cero    ----------    \")\n",
    "print(\"\\n\")\n",
    "print((df == 0).sum())"
   ]
  },
  {
   "cell_type": "markdown",
   "metadata": {},
   "source": [
    "Hay bastantes valores nulos, nos los podemos encontrar en:\n",
    "- COD_DISTRITO\n",
    "- DISTRITO\n",
    "- TIPO_VIA\n",
    "- NOM_VIA\n",
    "- NUM_VIA\n",
    "- CÓDIGO_POSTAL (Además posee valores cero)\n",
    "- DIRECCION_AUX\n",
    "- NDP\n",
    "- FECHA_INSTALACION\n",
    "- CODIGO_INTERNO\n",
    "\n",
    "Hace falta limpiar todos estos valores nulos, o bien rellenando esa columna con otros atributos presentes o con una cadena auxiliar"
   ]
  },
  {
   "cell_type": "markdown",
   "metadata": {},
   "source": [
    "## 1.6 Identificación de fechas no estandarizadas\n",
    "Se deben identificar las fechas que no se encuentran en el formato adecuado para MongoDB (DD/MM/YYYY)"
   ]
  },
  {
   "cell_type": "code",
   "execution_count": 10,
   "metadata": {},
   "outputs": [
    {
     "name": "stdout",
     "output_type": "stream",
     "text": [
      "   ----------    Fechas    ----------    \n",
      "\n",
      "\n",
      "681              07/02/2006\n",
      "2689               03/07/20\n",
      "865     2006-01-16 00:00:00\n",
      "987        fecha_incorrecta\n",
      "219     2022-04-30 00:00:00\n",
      "354     2004-01-01 00:00:00\n",
      "2143             2002/01/01\n",
      "1820             2007/02/15\n",
      "520              12-17-2019\n",
      "1404             2004/01/01\n",
      "344              01/08/2013\n",
      "952              12-13-2004\n",
      "94                 29/12/09\n",
      "876              2007/04/19\n",
      "917              2007/01/09\n",
      "1037             2003/01/01\n",
      "482              11-01-2015\n",
      "844     2005-09-20 00:00:00\n",
      "2413             01/01/2006\n",
      "1546    2004-01-01 00:00:00\n",
      "Name: FECHA_INSTALACION, dtype: object\n"
     ]
    }
   ],
   "source": [
    "# Vamos a mostrar algunas fechas para poder observar en qué formato están\n",
    "print(\"   ----------    Fechas    ----------    \")\n",
    "print(\"\\n\")\n",
    "print(df['FECHA_INSTALACION'].sample(20))"
   ]
  },
  {
   "cell_type": "markdown",
   "metadata": {},
   "source": [
    "Como se puede apreciar, las fechas se encuentran en diversos formatos que deben ser homogeneizados. En este caso, incluso cadenas como 'fecha_incorrecta' o fechas con horas:minutos:segundos"
   ]
  },
  {
   "cell_type": "markdown",
   "metadata": {},
   "source": [
    "## 1.7 Identificación de registros duplicados\n",
    "Debemos validar que no existen filas iguales que ensucien el dataset, sobre todo estando pendiente de duplicaciones de la clave primaria"
   ]
  },
  {
   "cell_type": "code",
   "execution_count": 14,
   "metadata": {},
   "outputs": [
    {
     "name": "stdout",
     "output_type": "stream",
     "text": [
      "   ----------    Filas duplicadas    ----------    \n",
      "\n",
      "\n",
      "Empty DataFrame\n",
      "Columns: [ID, DESC_CLASIFICACION, COD_BARRIO, BARRIO, COD_DISTRITO, DISTRITO, ESTADO, COORD_GIS_X, COORD_GIS_Y, SISTEMA_COORD, LATITUD, LONGITUD, TIPO_VIA, NOM_VIA, NUM_VIA, COD_POSTAL, DIRECCION_AUX, NDP, FECHA_INSTALACION, CODIGO_INTERNO, CONTRATO_COD, TOTAL_ELEM, tipo]\n",
      "Index: []\n",
      "\n",
      "\n",
      "Número de filas duplicadas:  0\n",
      "\n",
      "\n",
      "   ----------    Filas con el mismo ID    ----------    \n",
      "\n",
      "\n",
      "Empty DataFrame\n",
      "Columns: [ID, DESC_CLASIFICACION, COD_BARRIO, BARRIO, COD_DISTRITO, DISTRITO, ESTADO, COORD_GIS_X, COORD_GIS_Y, SISTEMA_COORD, LATITUD, LONGITUD, TIPO_VIA, NOM_VIA, NUM_VIA, COD_POSTAL, DIRECCION_AUX, NDP, FECHA_INSTALACION, CODIGO_INTERNO, CONTRATO_COD, TOTAL_ELEM, tipo]\n",
      "Index: []\n",
      "\n",
      "\n",
      "Número de filas con el mismo ID:  0\n",
      "   ----------    Filas con el mismo CODIGO_INTERNO    ----------    \n",
      "\n",
      "\n",
      "           ID       DESC_CLASIFICACION  COD_BARRIO     BARRIO  COD_DISTRITO            DISTRITO     ESTADO  COORD_GIS_X  COORD_GIS_Y SISTEMA_COORD    LATITUD  LONGITUD TIPO_VIA NOM_VIA NUM_VIA  COD_POSTAL DIRECCION_AUX  NDP FECHA_INSTALACION CODIGO_INTERNO CONTRATO_COD  TOTAL_ELEM      tipo\n",
      "2374  6819622  Area de juegos/especial         131  EnTrEvIaS          13.0  pUEntE de vAlLeCaS  OPERATIVO    441695.94   4469495.18        ETRS89  40.373999 -3.686799      NaN     NaN     NaN         0.0           NaN  NaN        2020/01/15      AI_100012            6           5  infantil\n",
      "2375  6880820  Area de juegos/especial         173   bUtaRQue          17.0          viLlAverDE  OPERATIVO    442711.60   4467136.80        ETRS89  40.352824 -3.674623      NaN     NaN     NaN         0.0           NaN  NaN  fecha_incorrecta      AI_100012            6           3  infantil\n"
     ]
    }
   ],
   "source": [
    "# Ver las filas duplicadas\n",
    "print(\"   ----------    Filas duplicadas    ----------    \")\n",
    "print(\"\\n\")\n",
    "print(df[df.duplicated()])\n",
    "print(\"\\n\")\n",
    "\n",
    "# Número de filas duplicadas\n",
    "print(\"Número de filas duplicadas: \", df.duplicated().sum())\n",
    "print(\"\\n\")\n",
    "\n",
    "# Filtrar filas que tienen el mismo ID\n",
    "duplicados = df.groupby('ID').filter(lambda x: len(x) > 1)\n",
    "\n",
    "# Ordenar por ID para que las filas con el mismo ID se visualicen una encima de la otra\n",
    "duplicados = duplicados.sort_values(by='ID')\n",
    "\n",
    "# Mostrar las filas con la misma PK\n",
    "print(\"   ----------    Filas con el mismo ID    ----------    \")\n",
    "print(\"\\n\")\n",
    "print(duplicados)\n",
    "print(\"\\n\")\n",
    "print(\"Número de filas con el mismo ID: \", duplicados.shape[0])\n",
    "\n",
    "# Mostramos las filas duplicadas con mismo CODIGO_INTERNO\n",
    "duplicados = df.groupby('CODIGO_INTERNO').filter(lambda x: len(x) > 1)\n",
    "duplicados = duplicados.sort_values(by='CODIGO_INTERNO')\n",
    "print(\"   ----------    Filas con el mismo CODIGO_INTERNO    ----------    \")\n",
    "print(\"\\n\")\n",
    "print(duplicados)"
   ]
  },
  {
   "cell_type": "markdown",
   "metadata": {},
   "source": [
    "No existen filas iguales, por lo que no es necesario limpiar nada. Aunque, hay dos flas con el mismo código interno, por lo que deben ser arregladas"
   ]
  },
  {
   "cell_type": "markdown",
   "metadata": {},
   "source": [
    "## 1.8 Búsqueda de errores tipográficos\n",
    "Hay ciertos atributos de texto que pueden contar con determinados errores tipográficos que deben ser solucionados, como los nombres de áreas, juegos, usuarios y ubicaciones"
   ]
  },
  {
   "cell_type": "code",
   "execution_count": 12,
   "metadata": {},
   "outputs": [
    {
     "name": "stdout",
     "output_type": "stream",
     "text": [
      "   ----------    20 filas aleatorias con BARRIO y DISTRITO    ----------    \n",
      "\n",
      "\n",
      "                            BARRIO               DISTRITO\n",
      "971                     BUEnAVíStA            CArAbanchel\n",
      "1857                    cáníLLEjás  sáN blAS - CánIlLEJáS\n",
      "1737          ENSANche de VallECaS      VIlLa De VAllEcAS\n",
      "1045                    BuenAvISTA            CaRAbANCHEl\n",
      "1473                 PinAr DEL REY              horTaLeZA\n",
      "1480                  vIsTa aLEgre            CaRaBanchel\n",
      "1699                      NUMAnCiA     puEnTE De vaLLECas\n",
      "1200                     EL gOLoso  FUenCArrAl - eL paRDo\n",
      "1395                        LucErO                 LATiNA\n",
      "876                  cásA DE CámPO      MóNClóá - áRAvAcA\n",
      "2516                         TiMon                barAjAs\n",
      "2366  cASCo hisToricO De vicaLvAro              vicAlvaRO\n",
      "2490                         RejAs  San bLAS - cANiLLejAs\n",
      "1470                 PinAR DeL rEY              hOrtaLEzA\n",
      "1326                    VaLDEzarza      MonCLoA - aRaVaCa\n",
      "330                     sAN ISiDRO            cArAbANChEl\n",
      "1195                    PEñaGranDE  fUEncARral - El ParDo\n",
      "1652                         zOfIO                  uSERa\n",
      "352                       cAniLlaS              HoRTalEzA\n",
      "894                  CAsA dE CAmpO      MONClóá - ARáVáCA\n"
     ]
    }
   ],
   "source": [
    "# Muestra 20 filas aleatorias con solo las columnas de BARRIO y DISTRITO\n",
    "print(\"   ----------    20 filas aleatorias con BARRIO y DISTRITO    ----------    \")\n",
    "print(\"\\n\")\n",
    "print(df[['BARRIO', 'DISTRITO']].sample(20))"
   ]
  },
  {
   "cell_type": "markdown",
   "metadata": {},
   "source": [
    "Barrio y distrito poseen nombres raros que deben ser limpiados"
   ]
  },
  {
   "cell_type": "markdown",
   "metadata": {},
   "source": [
    "## 1.9 Identificación de valores enum fuera de campo\n",
    "Hay ciertos atributos que solo deben poseer ciertos valores (como Operativo-NoOperativo). Hace falta identificar aquellos valores de ese campo fuera de la norma"
   ]
  },
  {
   "cell_type": "code",
   "execution_count": 13,
   "metadata": {},
   "outputs": [
    {
     "name": "stdout",
     "output_type": "stream",
     "text": [
      "   ----------    Valores distintos de la columna 'ESTADO'    ----------    \n",
      "\n",
      "\n",
      "['OPERATIVO']\n",
      "\n",
      "\n"
     ]
    }
   ],
   "source": [
    "# Muestra todos los valores distintos de la columna 'ESTADO'\n",
    "print(\"   ----------    Valores distintos de la columna 'ESTADO'    ----------    \")\n",
    "print(\"\\n\")\n",
    "print(df['ESTADO'].unique())\n",
    "print(\"\\n\")"
   ]
  },
  {
   "cell_type": "markdown",
   "metadata": {},
   "source": [
    "Todos los Enums poseen valores acordes con lo esperado, por lo que no se va a realizar una limpieza como tal de ellos."
   ]
  },
  {
   "cell_type": "markdown",
   "metadata": {},
   "source": [
    "## 1.10 Validación de las coordenadas y otros campos geoespaciales\n",
    "Hay algunas veces en las que los códigos postales no respetan la identificación de Madrid (280..) o el formato, ya sean códigos postales u otros atributos de geolocalización"
   ]
  },
  {
   "cell_type": "markdown",
   "metadata": {},
   "source": [
    "Como en el dataset nos encontramos valores numéricos no nulos válidos para ser insertados en MongoDB, no es necesario realizar limpieza de ellos. Además, según las consideraciones de la práctica, no entra en el ámbito de esta práctica validar si las coordenadas son correctas o no"
   ]
  },
  {
   "cell_type": "markdown",
   "metadata": {},
   "source": [
    "## 1.11 Identificación de unidades de medida en un formato no estandarizado\n",
    "Se deben identificar las filas que no posean un formato estándar"
   ]
  },
  {
   "cell_type": "markdown",
   "metadata": {},
   "source": [
    "Vamos a observar las medidas en este dataset:"
   ]
  },
  {
   "cell_type": "code",
   "execution_count": 16,
   "metadata": {},
   "outputs": [
    {
     "name": "stdout",
     "output_type": "stream",
     "text": [
      "   ----------    Valores únicos de la columna 'SISTEMA_COORD'    ----------    \n",
      "\n",
      "\n",
      "['ETRS89']\n"
     ]
    }
   ],
   "source": [
    "# Vamos a mostrar los valores únicos de la columna 'SISTEMA_COORD'\n",
    "print(\"   ----------    Valores únicos de la columna 'SISTEMA_COORD'    ----------    \")\n",
    "print(\"\\n\")\n",
    "print(df['SISTEMA_COORD'].unique())"
   ]
  },
  {
   "cell_type": "markdown",
   "metadata": {},
   "source": [
    "No hay ninguna unidad de medida fuera de lugar, por lo que no es necesario limpiar este atributo"
   ]
  },
  {
   "cell_type": "markdown",
   "metadata": {},
   "source": [
    "## 1.12 Otros atributos a corregir\n",
    "En esta sección se mencionarán aquellos atributos que también deban ser limpiados por errores"
   ]
  },
  {
   "cell_type": "markdown",
   "metadata": {},
   "source": [
    "### 1.12.1 Validación de IDs\n",
    "Para este paso debemos comprobar que todos los IDs son enteros y únicos, ya que en el paso de los duplicados ya hemos comprobado esto"
   ]
  },
  {
   "cell_type": "code",
   "execution_count": 18,
   "metadata": {},
   "outputs": [
    {
     "name": "stdout",
     "output_type": "stream",
     "text": [
      "   ----------    Validación de IDs    ----------    \n",
      "\n",
      "\n",
      "El ID es un entero:  True\n",
      "El ID es único:  True\n"
     ]
    }
   ],
   "source": [
    "# Debemos validar que todos los IDs son únicos y enteros\n",
    "print(\"   ----------    Validación de IDs    ----------    \")\n",
    "print(\"\\n\")\n",
    "print('El ID es un entero: ', df['ID'].apply(lambda x: x.is_integer()).all())\n",
    "\n",
    "# El ID es único\n",
    "print('El ID es único: ', df['ID'].is_unique)"
   ]
  },
  {
   "cell_type": "markdown",
   "metadata": {},
   "source": [
    "Todos los IDs son enteros y únicos, por lo que no se precisará su limpieza"
   ]
  },
  {
   "cell_type": "markdown",
   "metadata": {},
   "source": [
    "### 1.12.2 Validación de DESC_CLASIFICACION\n",
    "En esta seccion veremos los posibles valores de DESC_CLASIFICACION y si tienen sentido"
   ]
  },
  {
   "cell_type": "code",
   "execution_count": 19,
   "metadata": {},
   "outputs": [
    {
     "name": "stdout",
     "output_type": "stream",
     "text": [
      "   ----------    Valores únicos de la columna 'DESC_CLASIFICACION'    ----------    \n",
      "\n",
      "\n",
      "['Circuito deportivo elemental' 'Area de juegos/especial'\n",
      " 'Área de mayores' 'Área Infantil']\n"
     ]
    }
   ],
   "source": [
    "# Muestra todos los posibles valores de DESC_CLASIFICACION\n",
    "print(\"   ----------    Valores únicos de la columna 'DESC_CLASIFICACION'    ----------    \")\n",
    "print(\"\\n\")\n",
    "print(df['DESC_CLASIFICACION'].unique())"
   ]
  },
  {
   "cell_type": "markdown",
   "metadata": {},
   "source": [
    "Este atributo tiene sentido y no posee nulos, por lo que no hará falta limpiarlo"
   ]
  },
  {
   "cell_type": "markdown",
   "metadata": {},
   "source": [
    "### 1.12.3 Validación COD_BARRIO y BARRIO\n",
    "Para poder validar estas dos columnas debemos observar sus valores y ver si hay consistencia entre estas 2 columnas"
   ]
  },
  {
   "cell_type": "code",
   "execution_count": null,
   "metadata": {},
   "outputs": [
    {
     "name": "stdout",
     "output_type": "stream",
     "text": [
      "   ----------    Valores únicos de la columna 'COD_BARRIO' junto con 'BARRIO'    ----------    \n",
      "\n",
      "\n",
      "      COD_BARRIO                                           BARRIO\n",
      "240           11                                          PALACIO\n",
      "266           12                                      EMBAJADORES\n",
      "568           13                                           CORTES\n",
      "252           14                                         JUSTICIA\n",
      "107           15                                      UNIVERSIDAD\n",
      "268           21                                         IMPERIAL\n",
      "172           22                                          ACACIAS\n",
      "442           23                                          CHOPERA\n",
      "32            24                                          LEGAZPI\n",
      "163           25                                         DELICIAS\n",
      "253           26                             PALOS DE LA FRONTERA\n",
      "175           27                                           ATOCHA\n",
      "479           31                                         PACIFICO\n",
      "347           32                                          ADELFAS\n",
      "118           33                                         ESTRELLA\n",
      "38            35                                    LOS JERONIMOS\n",
      "477           36                                       NIÑO JESUS\n",
      "657           42                                             GOYA\n",
      "40            43                                 FUENTE DEL BERRO\n",
      "14            44                                       GUINDALERA\n",
      "368           45                                            LISTA\n",
      "845           46                                       CASTELLANA\n",
      "677           51                                          EL VISO\n",
      "12            52                                      PROSPERIDAD\n",
      "274           53                                    CIUDAD JARDIN\n",
      "82            54                                   HISPANOAMERICA\n",
      "666           55                                     NUEVA ESPAÑA\n",
      "273           56                                         CASTILLA\n",
      "235           61                                    BELLAS VISTAS\n",
      "15            62                                   CUATRO CAMINOS\n",
      "441           63                                      CASTILLEJOS\n",
      "138           64                                         ALMENARA\n",
      "65            65                                    VALDEACEDERAS\n",
      "379           66                                       BERRUGUETE\n",
      "64            71                                       GAZTAMBIDE\n",
      "78            72                                         ARAPILES\n",
      "292           73                                        TRAFALGAR\n",
      "1082          74                                          ALMAGRO\n",
      "122           75                                       RIOS ROSAS\n",
      "294           76                                     VALLEHERMOSO\n",
      "173           81                                         EL PARDO\n",
      "222           82                                   FUENTELARREINA\n",
      "180           83                                       PEÑAGRANDE\n",
      "181           84                                            PILAR\n",
      "0             85                                           LA PAZ\n",
      "74            86                                         VALVERDE\n",
      "1             87                                       MIRASIERRA\n",
      "801           88                                        EL GOLOSO\n",
      "70            91                                    CASA DE CAMPO\n",
      "41            93                             CIUDAD UNIVERSITARIA\n",
      "261           94                                       VALDEZARZA\n",
      "116           95                                       VALDEMARIN\n",
      "870           96                                       EL PLANTIO\n",
      "13            97                                          ARAVACA\n",
      "62           101                                     LOS CARMENES\n",
      "145          102                                 PUERTA DEL ANGEL\n",
      "30           103                                           LUCERO\n",
      "29           104                                           ALUCHE\n",
      "33           105                                       CAMPAMENTO\n",
      "967          106                                   CUATRO VIENTOS\n",
      "61           107                                          AGUILAS\n",
      "1007         111                                         COMILLAS\n",
      "279          112                                           OPAÑEL\n",
      "17           113                                       SAN ISIDRO\n",
      "35           114                                     VISTA ALEGRE\n",
      "170          115                                    PUERTA BONITA\n",
      "67           116                                       BUENAVISTA\n",
      "66           117                                         ABRANTES\n",
      "36           121                                        ORCASITAS\n",
      "171          122                                          ORCASUR\n",
      "428          123                                       SAN FERMIN\n",
      "27           124                                      ALMENDRALES\n",
      "111          125                                         MOSCARDO\n",
      "73           126                                            ZOFIO\n",
      "68           127                                       PRADOLONGO\n",
      "75           131                                        ENTREVIAS\n",
      "167          132                                        SAN DIEGO\n",
      "124          133                                  PALOMERAS BAJAS\n",
      "10           134                                PALOMERAS SURESTE\n",
      "449          135                                         PORTAZGO\n",
      "113          136                                         NUMANCIA\n",
      "77           141                                          PAVONES\n",
      "137          142                                          HORCAJO\n",
      "76           143                                       MARROQUINA\n",
      "336          144                                      MEDIA LEGUA\n",
      "134          145                                        FONTARRON\n",
      "192          146                                        VINATEROS\n",
      "129          151                                           VENTAS\n",
      "337          152                                     PUEBLO NUEVO\n",
      "498          153                                         QUINTANA\n",
      "309          154                                    LA CONCEPCION\n",
      "548          155                                      SAN PASCUAL\n",
      "1361         156                                SAN JUAN BAUTISTA\n",
      "1939         157                                           COLINA\n",
      "1431         158                                          ATALAYA\n",
      "386          159                                      COSTILLARES\n",
      "1492         161                                          PALOMAS\n",
      "139          162                                          PIOVERA\n",
      "165          163                                         CANILLAS\n",
      "313          164                                    PINAR DEL REY\n",
      "212          165                                 APOSTOL SANTIAGO\n",
      "152          166                                     VALDEFUENTES\n",
      "31           171  VILLAVERDE ALTO - CASCO HISTORICO DE VILLAVERDE\n",
      "11           172                                    SAN CRISTOBAL\n",
      "59           173                                         BUTARQUE\n",
      "148          174                                      LOS ROSALES\n",
      "81           175                                          ANGELES\n",
      "6            181                      CASCO HISTORICO DE VALLECAS\n",
      "5            182                                    SANTA EUGENIA\n",
      "4            183                             ENSANCHE DE VALLECAS\n",
      "9            191                     CASCO HISTORICO DE VICALVARO\n",
      "2            192                                    VALDEBERNARDO\n",
      "126          193                                      VALDERRIVAS\n",
      "25           194                                     EL CAÑAVERAL\n",
      "1834         201                                         SIMANCAS\n",
      "321          202                                           HELLIN\n",
      "1896         203                                          AMPOSTA\n",
      "149          204                                            ARCOS\n",
      "213          205                                            ROSAS\n",
      "323          206                                            REJAS\n",
      "320          207                                       CANILLEJAS\n",
      "72           208                                      EL SALVADOR\n",
      "158          211                                 ALAMEDA DE OSUNA\n",
      "412          212                                       AEROPUERTO\n",
      "324          213                       CASCO HISTORICO DE BARAJAS\n",
      "217          214                                            TIMON\n",
      "338          215                                       CORRALEJOS\n"
     ]
    }
   ],
   "source": [
    "# Muestra todos los valores únicos de la columna 'COD_BARRIO' junto con 'BARRIO'\n",
    "print(\"   ----------    Valores únicos de la columna 'COD_BARRIO' junto con 'BARRIO'    ----------    \")\n",
    "print(\"\\n\")\n",
    "distritos = df[['COD_BARRIO', 'BARRIO']].drop_duplicates()\n",
    "# Ordena los barrios según el código de barrio\n",
    "# Estandarizamos los nombres en los barrios, incluso las tildes\n",
    "distritos['BARRIO'] = distritos['BARRIO'].str.upper()\n",
    "distritos['BARRIO'] = distritos['BARRIO'].str.replace('Á', 'A')\n",
    "distritos['BARRIO'] = distritos['BARRIO'].str.replace('É', 'E')\n",
    "distritos['BARRIO'] = distritos['BARRIO'].str.replace('Í', 'I')\n",
    "distritos['BARRIO'] = distritos['BARRIO'].str.replace('Ó', 'O')\n",
    "distritos['BARRIO'] = distritos['BARRIO'].str.replace('Ú', 'U')\n",
    "\n",
    "# Elimina las filas iguales\n",
    "distritos = distritos.drop_duplicates()\n",
    "\n",
    "distritos = distritos.sort_values(by='COD_BARRIO')\n",
    "print(distritos)"
   ]
  },
  {
   "cell_type": "markdown",
   "metadata": {},
   "source": [
    "Se puede observar que todos corresponden a un barrio válido y es una relacion 1 a 1, por lo que no hace falta limpiarlos. Solo eliminar sus errores tipográficos "
   ]
  },
  {
   "cell_type": "markdown",
   "metadata": {},
   "source": [
    "### 1.12.4 Validacion de CODIGO_DISTRITO y DISTRITO\n",
    "Vamos a validar que ambas tienen coherencia"
   ]
  },
  {
   "cell_type": "code",
   "execution_count": 32,
   "metadata": {},
   "outputs": [
    {
     "name": "stdout",
     "output_type": "stream",
     "text": [
      "   ----------    Valores únicos de la columna 'COD_DISTRITO' junto con 'DISTRITO'    ----------    \n",
      "\n",
      "\n",
      "      COD_DISTRITO               DISTRITO\n",
      "562            1.0                    NaN\n",
      "107            1.0                 CENTRO\n",
      "32             2.0             ARGANZUELA\n",
      "743            2.0                    NaN\n",
      "38             3.0                 RETIRO\n",
      "14             4.0              SALAMANCA\n",
      "681            5.0                    NaN\n",
      "12             5.0              CHAMARTIN\n",
      "15             6.0                 TETUAN\n",
      "64             7.0               CHAMBERI\n",
      "0              8.0  FUENCARRAL - EL PARDO\n",
      "13             9.0      MONCLOA - ARAVACA\n",
      "29            10.0                 LATINA\n",
      "458           10.0                    NaN\n",
      "17            11.0            CARABANCHEL\n",
      "27            12.0                  USERA\n",
      "1672          12.0                    NaN\n",
      "10            13.0     PUENTE DE VALLECAS\n",
      "1768          13.0                    NaN\n",
      "76            14.0              MORATALAZ\n",
      "2666          14.0                    NaN\n",
      "129           15.0          CIUDAD LINEAL\n",
      "2646          16.0                    NaN\n",
      "139           16.0              HORTALEZA\n",
      "11            17.0             VILLAVERDE\n",
      "4             18.0      VILLA DE VALLECAS\n",
      "2             19.0              VICALVARO\n",
      "72            20.0  SAN BLAS - CANILLEJAS\n",
      "158           21.0                BARAJAS\n",
      "2508          21.0                    NaN\n",
      "47             NaN      MONCLOA - ARAVACA\n",
      "175            NaN             ARGANZUELA\n",
      "490            NaN               CHAMBERI\n",
      "702            NaN                 TETUAN\n",
      "898            NaN                 LATINA\n",
      "1536           NaN            CARABANCHEL\n",
      "1721           NaN     PUENTE DE VALLECAS\n"
     ]
    }
   ],
   "source": [
    "# Muestra todos los valores únicos de la columna 'COD_DISTRITO' junto con 'DISTRITO'\n",
    "print(\"   ----------    Valores únicos de la columna 'COD_DISTRITO' junto con 'DISTRITO'    ----------    \")\n",
    "print(\"\\n\")\n",
    "distritos = df[['COD_DISTRITO', 'DISTRITO']].drop_duplicates()\n",
    "# Ordena los barrios según el código de distrito\n",
    "# Estandarizamos los nombres en los distrito, incluso las tildes\n",
    "distritos['DISTRITO'] = distritos['DISTRITO'].str.upper()\n",
    "distritos['DISTRITO'] = distritos['DISTRITO'].str.replace('Á', 'A')\n",
    "distritos['DISTRITO'] = distritos['DISTRITO'].str.replace('É', 'E')\n",
    "distritos['DISTRITO'] = distritos['DISTRITO'].str.replace('Í', 'I')\n",
    "distritos['DISTRITO'] = distritos['DISTRITO'].str.replace('Ó', 'O')\n",
    "distritos['DISTRITO'] = distritos['DISTRITO'].str.replace('Ú', 'U')\n",
    "\n",
    "# Elimina las filas iguales\n",
    "distritos = distritos.drop_duplicates()\n",
    "\n",
    "distritos = distritos.sort_values(by='COD_DISTRITO')\n",
    "print(distritos)"
   ]
  },
  {
   "cell_type": "markdown",
   "metadata": {},
   "source": [
    "Gracias a este análisis, podemos cambiar cada distrito a su código asociado, por lo que se deberá hacer una limpieza de esto"
   ]
  },
  {
   "cell_type": "markdown",
   "metadata": {},
   "source": [
    "### 1.12.2 Consideraciones extras de Fechas\n",
    "Cabe recalcar que si el campo de fechas no posee un formato esperado, las funciones de limpieza darán error, por lo que no hace falta hacer ahora las comprobaciones de sus valores para determinar si son correctos."
   ]
  },
  {
   "cell_type": "markdown",
   "metadata": {},
   "source": [
    "### 1.12.3 Consideraciones extras de AreaRecreativaID\n",
    "Se ha observado que los IDs presentes en el dataset de juegos comparten formato con estos y que, en este dataset, no hay nulos, por lo que lo único que validaremos es que todos los datos de esta columna están presentes en el dataset de áreas"
   ]
  },
  {
   "cell_type": "code",
   "execution_count": 10,
   "metadata": {},
   "outputs": [
    {
     "name": "stdout",
     "output_type": "stream",
     "text": [
      "   ----------    Comprobación de valores en 'AreaRecreativaID'    ----------    \n",
      "\n",
      "\n",
      "Todos los valores se encuentran en el otro dataset:  True\n"
     ]
    }
   ],
   "source": [
    "# Comprobar que todos los valores de la columna 'AreaRecreativaID' existen en la columna 'ID' del dataset 'AreasSucio.csv'\n",
    "areas = pd.read_csv('../AreasSucio.csv')\n",
    "print(\"   ----------    Comprobación de valores en 'AreaRecreativaID'    ----------    \")\n",
    "print(\"\\n\")\n",
    "print(\"Todos los valores se encuentran en el otro dataset: \", df['AreaRecreativaID'].isin(areas['ID']).all())"
   ]
  },
  {
   "cell_type": "markdown",
   "metadata": {},
   "source": [
    "# 2. Limpieza de los datasets\n",
    "En este apartado se realizará la limpieza según la información obtenida en el análisis exploratorio de datos:\n",
    "- Se debe corregir las fechas y dejarlas en un formato homogéneo\n",
    "- Se deben solucionar las filas repetidas, eliminando una de las dos iguales\n",
    "- Se deben limpiar los errores tipográficos de TIPO_INCIDENTE"
   ]
  },
  {
   "cell_type": "markdown",
   "metadata": {},
   "source": [
    "## 2.1 Limpieza de FECHA_REPORTE\n",
    "Como en otros datasets, debemos dejar todas las fechas en formato apto para MongoDB (DD/MM/YYYY)"
   ]
  },
  {
   "cell_type": "code",
   "execution_count": 11,
   "metadata": {},
   "outputs": [
    {
     "name": "stdout",
     "output_type": "stream",
     "text": [
      "   ----------    Columna de fechas corregidas    ----------    \n",
      "\n",
      "\n",
      "264     17/11/2019\n",
      "1666    21/06/2021\n",
      "3288    05/04/2024\n",
      "1010    19/11/2021\n",
      "2287    17/02/2024\n",
      "137     04/10/2021\n",
      "1280    06/10/2020\n",
      "2428    22/09/2022\n",
      "1286    12/02/2022\n",
      "1188    04/08/2024\n",
      "4645    04/11/2022\n",
      "1742    04/12/2020\n",
      "2131    17/11/2021\n",
      "2151    12/01/2022\n",
      "2926    19/05/2024\n",
      "1310    20/05/2022\n",
      "4844    28/07/2023\n",
      "4387    17/01/2020\n",
      "4600    10/05/2022\n",
      "839     25/07/2020\n",
      "Name: FECHA_REPORTE, dtype: object\n"
     ]
    }
   ],
   "source": [
    "# Leemos toda la columna de fechas y almacenamos todas las fechas en una lista\n",
    "fechas = df['FECHA_REPORTE'].tolist()\n",
    "\n",
    "# Ahora, pasamos por todas las fechas y corregimos las fechas que están mal escritas\n",
    "fechas_corregidas = []\n",
    "año_al_final = False\n",
    "\n",
    "for fecha in fechas:\n",
    "    # Si fecha contiene un guion, hacer fecha.split('-') y si fecha contiene una barra, hacer fecha.split('/')\n",
    "    if '-' in fecha:\n",
    "        fecha_split = fecha.split('-')\n",
    "    elif '/' in fecha:\n",
    "        fecha_split = fecha.split('/')\n",
    "    # Condiciones para saber el día, mes y año\n",
    "    # Encontrar el año\n",
    "    if (int(fecha_split[0])>31):\n",
    "        año = fecha_split[0]\n",
    "        año_al_final = False\n",
    "    elif (int(fecha_split[2])>31):\n",
    "        año = fecha_split[2]\n",
    "        año_al_final = True\n",
    "    else:\n",
    "        print(\"No se ha encontrado el año\")\n",
    "        fechas_corregidas.append(\"fecha incorrecta\")\n",
    "        break\n",
    "    # Encontrar el día y el mes\n",
    "    # Si el año está al final, no comprobamos el primer caracter\n",
    "    if año_al_final:\n",
    "        if (int(fecha_split[0])<32 and int(fecha_split[0])>12):\n",
    "            dia = fecha_split[0]\n",
    "            mes = fecha_split[1]\n",
    "        elif (int(fecha_split[1])<32 and int(fecha_split[1])>12):\n",
    "            dia = fecha_split[1]\n",
    "            mes = fecha_split[0]\n",
    "        # Si no hay ningun número entre el 13 y el 31, se asume que el mes es el segundo siempre y el día es el primero\n",
    "        else:\n",
    "            dia = fecha_split[0]\n",
    "            mes = fecha_split[1]\n",
    "    else:\n",
    "        if (int(fecha_split[1])<32 and int(fecha_split[1])>12):\n",
    "            dia = fecha_split[1]\n",
    "            mes = fecha_split[2]\n",
    "        elif (int(fecha_split[2])<32 and int(fecha_split[2])>12):\n",
    "            dia = fecha_split[2]\n",
    "            mes = fecha_split[1]\n",
    "        # Si no hay ningun número entre el 13 y el 31, se asume que el mes es el segundo siempre y el día es el tercero\n",
    "        else:\n",
    "            dia = fecha_split[2]\n",
    "            mes = fecha_split[1]\n",
    "    fechas_corregidas.append(dia+\"/\"+mes+\"/\"+año)\n",
    "    \n",
    "# Ahora, cambiamos toda la columna de FECHAS_INTERVENCION por las fechas corregidas\n",
    "df['FECHA_REPORTE'] = fechas_corregidas\n",
    "\n",
    "# Mostramos las fechas corregidas\n",
    "print(\"   ----------    Columna de fechas corregidas    ----------    \")\n",
    "print(\"\\n\")\n",
    "print(df['FECHA_REPORTE'].sample(20))"
   ]
  },
  {
   "cell_type": "markdown",
   "metadata": {},
   "source": [
    "## 2.2 Limpieza de filas repetidas\n",
    "Se deben limpiar las filas iguales, eliminando una de las dos repetidas"
   ]
  },
  {
   "cell_type": "code",
   "execution_count": 12,
   "metadata": {},
   "outputs": [
    {
     "name": "stdout",
     "output_type": "stream",
     "text": [
      "   ----------    Filas con el mismo ID    ----------    \n",
      "\n",
      "\n",
      "        ID FECHA_REPORTE TIPO_INCIDENTE GRAVEDAD  AreaRecreativaID\n",
      "1320  1321    31/12/2023      Accidente     Baja             17931\n",
      "5004  1321    31/12/2023      Accidente     Baja             17931\n",
      "5003  3353    19/08/2020          Cáídá     Baja             18590\n",
      "3352  3353    19/08/2020          Cáídá     Baja             18590\n",
      "3500  3501    07/07/2020     Vandalismo    Media           7125670\n",
      "5000  3501    07/07/2020     Vandalismo    Media           7125670\n",
      "3957  3958    16/03/2020          Caída     Baja             18567\n",
      "5002  3958    16/03/2020          Caída     Baja             18567\n",
      "5001  4346    27/08/2020     Vándálísmó     Baja             17297\n",
      "4345  4346    27/08/2020     Vándálísmó     Baja             17297\n",
      "\n",
      "\n",
      "Número de filas con el mismo ID:  10\n",
      "\n",
      "\n",
      "   ----------    Filas con el mismo ID después de limpiar    ----------    \n",
      "\n",
      "\n",
      "Empty DataFrame\n",
      "Columns: [ID, FECHA_REPORTE, TIPO_INCIDENTE, GRAVEDAD, AreaRecreativaID]\n",
      "Index: []\n",
      "\n",
      "\n",
      "Número de filas duplicadas:  0\n",
      "\n",
      "\n",
      "   ----------    2 filas de las que antes estaban duplicadas    ----------    \n",
      "\n",
      "\n",
      "        ID FECHA_REPORTE TIPO_INCIDENTE GRAVEDAD  AreaRecreativaID\n",
      "1320  1321    31/12/2023      Accidente     Baja             17931\n",
      "        ID FECHA_REPORTE TIPO_INCIDENTE GRAVEDAD  AreaRecreativaID\n",
      "3352  3353    19/08/2020          Cáídá     Baja             18590\n"
     ]
    }
   ],
   "source": [
    "# Filtrar filas que tienen el mismo ID\n",
    "duplicados = df.groupby('ID').filter(lambda x: len(x) > 1)\n",
    "\n",
    "# Ordenar por NIF para que las filas con el mismo ID se visualicen una encima de la otra\n",
    "duplicados = duplicados.sort_values(by='ID')\n",
    "\n",
    "# Mostrar las filas con la misma PK\n",
    "print(\"   ----------    Filas con el mismo ID    ----------    \")\n",
    "print(\"\\n\")\n",
    "print(duplicados)\n",
    "print(\"\\n\")\n",
    "print(\"Número de filas con el mismo ID: \", duplicados.shape[0])\n",
    "print(\"\\n\")\n",
    "\n",
    "# Limpiamos una de las dos filas con el mismo ID de duplicados\n",
    "df.drop_duplicates(subset='ID', keep='first', inplace=True)\n",
    "\n",
    "# Mostramos el resultado por pantalla\n",
    "print(\"   ----------    Filas con el mismo ID después de limpiar    ----------    \")\n",
    "print(\"\\n\")\n",
    "print(df[df.duplicated()])\n",
    "print(\"\\n\")\n",
    "# Número de filas duplicadas\n",
    "print(\"Número de filas duplicadas: \", df.duplicated().sum())\n",
    "print(\"\\n\")\n",
    "\n",
    "# Mostramos, para comprobar, 2 filas de las que antes estaban duplicadas\n",
    "print(\"   ----------    2 filas de las que antes estaban duplicadas    ----------    \")\n",
    "print(\"\\n\")\n",
    "print(df.loc[df['ID'] == 1321])\n",
    "print(df.loc[df['ID'] == 3353])"
   ]
  },
  {
   "cell_type": "markdown",
   "metadata": {},
   "source": [
    "## 2.3 Limpieza de TIPO_INCIDENTE\n",
    "En esta columna Enum, tenemos ciertos valores con tildes cuando no deberían poseerlas. Hace falta limpiarlas"
   ]
  },
  {
   "cell_type": "code",
   "execution_count": 13,
   "metadata": {},
   "outputs": [
    {
     "name": "stdout",
     "output_type": "stream",
     "text": [
      "   ----------    Valores distintos de la columna 'TIPO_INCIDENTE'    ----------    \n",
      "\n",
      "\n",
      "['Robo' 'Caída' 'Accidente' 'Vandalismo' 'Daño estructural']\n"
     ]
    }
   ],
   "source": [
    "# Limpiamos la columna de 'TIPO_INCIDENTE' para que no haya tildes en lugares raros\n",
    "df['TIPO_INCIDENTE'] = df['TIPO_INCIDENTE'].str.replace('Cáídá', 'Caída')\n",
    "df['TIPO_INCIDENTE'] = df['TIPO_INCIDENTE'].str.replace('Róbó', 'Robo')\n",
    "df['TIPO_INCIDENTE'] = df['TIPO_INCIDENTE'].str.replace('Accídénté', 'Accidente')\n",
    "df['TIPO_INCIDENTE'] = df['TIPO_INCIDENTE'].str.replace('Vándálísmó', 'Vandalismo')\n",
    "df['TIPO_INCIDENTE'] = df['TIPO_INCIDENTE'].str.replace('Dáñó éstrúctúrál', 'Daño estructural')\n",
    "\n",
    "# Muestra todos los valores distintos de la columna 'TIPO_INCIDENTE'\n",
    "print(\"   ----------    Valores distintos de la columna 'TIPO_INCIDENTE'    ----------    \")\n",
    "print(\"\\n\")\n",
    "print(df['TIPO_INCIDENTE'].unique())"
   ]
  },
  {
   "cell_type": "markdown",
   "metadata": {},
   "source": [
    "## 2.4 Mostrar Dataset Limpio y guardar CSV\n",
    "Vamos a mostrar algunas filas del dataset limpio para validar que todo está OK y guardamos el Dataset"
   ]
  },
  {
   "cell_type": "code",
   "execution_count": 15,
   "metadata": {},
   "outputs": [
    {
     "name": "stdout",
     "output_type": "stream",
     "text": [
      "   ----------    10 filas aleatorias    ----------    \n",
      "\n",
      "\n",
      "          ID DESC_CLASIFICACION  COD_BARRIO                        BARRIO  COD_DISTRITO       DISTRITO     ESTADO  COORD_GIS_X  COORD_GIS_Y SISTEMA_COORD    LATITUD  LONGITUD TIPO_VIA            NOM_VIA NUM_VIA  COD_POSTAL                                                           DIRECCION_AUX         NDP    FECHA_INSTALACION CODIGO_INTERNO CONTRATO_COD  TOTAL_ELEM      tipo\n",
      "1066   17568      Área Infantil         114                  vísTA áléGRé          11.0    CaRabAnCHEL  OPERATIVO   436330.835  4470573.904        ETRS89  40.383324 -3.750100    CALLE   FERNANDO DELGADO       6     28047.0                                                FERNANDO DELGADO, 000006  11074898.0           01-01-2004          11203         AE21           8  infantil\n",
      "2113   52170      Área Infantil         166                  vAlDefUeNTES          16.0      HoRtAlEZa  OPERATIVO   448537.580  4482709.050        ETRS89  40.493489 -3.607281    CALLE    JORDI SOLE TURA      23     28055.0                                                                     NaN  31039547.0           09-01-2014          16202         AE21          10  infantil\n",
      "2132   52189      Área Infantil         166                  VaLDEFUentES          16.0      HorTalEZa  OPERATIVO   447947.270  4482984.040        ETRS89  40.495929 -3.614270    CALLE   JOSEFINA ALDECOA      31     28055.0                                                                     NaN  31042722.0           2014/09/01          16221         AE21           9  infantil\n",
      "2177   18370      Área Infantil         191  cáscO hIStóRíCO dE vIcálvAró          19.0      VICALvARO  OPERATIVO   448606.178  4472957.595        ETRS89  40.405646 -3.605683    CALLE           MERCURIO      25     28032.0                                                        MERCURIO, 000025  11132781.0             01/01/05          19013         AE21          12  infantil\n",
      "1508   17462      Área Infantil         117                      AbRanteS          11.0    CarabANCHEl  OPERATIVO   438702.310  4470317.400        ETRS89  40.381191 -3.722139    CALLE       VIA LUSITANA      3A     28025.0                                                 VÍA LUSITANA, 000003  A  31041453.0           01-01-2003          11064         AE21           7  infantil\n",
      "1375   17312      Área Infantil         107                       aguiLAs          10.0         LATiNA  OPERATIVO   435297.150  4469793.870        ETRS89  40.376218 -3.762198    CALLE  VIRGEN DEL CAMINO       7     28044.0  PARQUE CRUCES VIRGEN DEL CAMINO (ZONA 3), ASCENDIENTE 1: 107 · ÁGUILAS  11068526.0           15/12/2004          10037         AE21          14  infantil\n",
      "603    16685      Área Infantil          12                   eMBAJAdorEs           1.0         cenTRO  OPERATIVO   440275.940  4473762.810        ETRS89  40.412344 -3.703925      NaN                NaN     NaN         NaN                        Pza · PLAZA TIRSO DE MOLINA , ASCENDIENTE 1: 012  11001682.0  2004-01-01 00:00:00           1031         AE21          11  infantil\n",
      "1939   17932      Área Infantil         157                        cóLINA          15.0  CiUDaD liNEAl  OPERATIVO   443882.966  4478397.312        ETRS89  40.454345 -3.661823    PLAZA    CIUDAD DE SALTA       9     28043.0                        Pza · PLAZA CIUDAD DE SALTA , ASCENDIENTE 1: 157  31016105.0           01/01/2004          15033         AE21          11  infantil\n",
      "2523  451321      Área Infantil          43              FUENTE Del beRro           4.0      SáLáMANCá  OPERATIVO   443612.380  4475374.040        ETRS89  40.427091 -3.664746    CALLE  RAMON DE AGUINAGA       1     28028.0                                        CALLE AGUINAGA C/V RUFINO BLANCO  11016757.0             28/02/16           4041         AE21          15  infantil\n",
      "409    18377    Área de mayores         192                 VálDéBErNárDó          19.0      viCaLVARO  OPERATIVO   447624.980  4472730.970        ETRS89  40.403543 -3.617227    CALLE                NaN       9     28032.0                                                 TREN DE ARGANDA, 000009  20107794.0     fecha_incorrecta          M1902         AE21           7   mayores\n",
      "\n",
      "\n",
      "\n",
      "\n",
      "Dataset limpio guardado\n"
     ]
    }
   ],
   "source": [
    "# Enseñamos 20 filas aleatorias para ver cómo quedan\n",
    "print(\"   ----------    10 filas aleatorias    ----------    \")\n",
    "print(\"\\n\")\n",
    "print(df.sample(10))\n",
    "print(\"\\n\")\n",
    "\n",
    "# Guardamos el dataset limpio\n",
    "df.to_csv('../AreasLimpio.csv', index=False)\n",
    "print(\"\\n\")\n",
    "print(\"Dataset limpio guardado\")"
   ]
  }
 ],
 "metadata": {
  "kernelspec": {
   "display_name": "Python 3",
   "language": "python",
   "name": "python3"
  },
  "language_info": {
   "codemirror_mode": {
    "name": "ipython",
    "version": 3
   },
   "file_extension": ".py",
   "mimetype": "text/x-python",
   "name": "python",
   "nbconvert_exporter": "python",
   "pygments_lexer": "ipython3",
   "version": "3.12.7"
  }
 },
 "nbformat": 4,
 "nbformat_minor": 2
}
