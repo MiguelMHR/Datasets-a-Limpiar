{
 "cells": [
  {
   "cell_type": "markdown",
   "metadata": {},
   "source": [
    "# 1. EDA\n",
    "En este apartado se pretende analizar los datasets para poder enfocar mejor la limpieza"
   ]
  },
  {
   "cell_type": "markdown",
   "metadata": {},
   "source": [
    "## 1.1 Importación y carga de datos\n",
    "Debemos declarar las librerías que usamos y leer el correspondiente archivo de datos"
   ]
  },
  {
   "cell_type": "code",
   "execution_count": 24,
   "metadata": {},
   "outputs": [],
   "source": [
    "# Importación de librerías\n",
    "import pandas as pd\n",
    "\n",
    "# Lectura dataset\n",
    "df = pd.read_csv('../MantenimientoSucio.csv')"
   ]
  },
  {
   "cell_type": "markdown",
   "metadata": {},
   "source": [
    "## 1.2 Configuración de Pandas\n",
    "Para poder leer bien los resultados de las ejecuciones, vamos a configurar tanto el número máximo de columnas como el número máximo de filas"
   ]
  },
  {
   "cell_type": "code",
   "execution_count": 25,
   "metadata": {},
   "outputs": [],
   "source": [
    "# Número máximo de filas a mostrar\n",
    "pd.set_option('display.max_rows', None)\n",
    "\n",
    "# Número máximo de columnas a mostrar\n",
    "pd.set_option('display.max_columns', None)\n",
    "pd.set_option('display.max_colwidth', None)\n",
    "pd.set_option('display.width', 2000)"
   ]
  },
  {
   "cell_type": "markdown",
   "metadata": {},
   "source": [
    "## 1.3 Descripción general del dataset\n",
    "Para poder conocer ciertas características relevantes del dataset, como el número de instancias (filas) y características (columnas) procederemos a usar diferentes funciones de Pandas\n"
   ]
  },
  {
   "cell_type": "code",
   "execution_count": 26,
   "metadata": {},
   "outputs": [
    {
     "name": "stdout",
     "output_type": "stream",
     "text": [
      "            JuegoID\n",
      "count  1.500000e+04\n",
      "mean   3.751406e+06\n",
      "std    3.721141e+06\n",
      "min    1.865700e+04\n",
      "25%    3.328125e+04\n",
      "50%    3.576498e+06\n",
      "75%    7.603093e+06\n",
      "max    9.536975e+06\n",
      "\n",
      "\n",
      "Número de filas:  15000\n",
      "Número de columnas:  8\n",
      "\n",
      "\n",
      "<class 'pandas.core.frame.DataFrame'>\n",
      "RangeIndex: 15000 entries, 0 to 14999\n",
      "Data columns (total 8 columns):\n",
      " #   Column              Non-Null Count  Dtype \n",
      "---  ------              --------------  ----- \n",
      " 0   ID                  15000 non-null  object\n",
      " 1   FECHA_INTERVENCION  15000 non-null  object\n",
      " 2   TIPO_INTERVENCION   15000 non-null  object\n",
      " 3   ESTADO_PREVIO       15000 non-null  object\n",
      " 4   ESTADO_POSTERIOR    15000 non-null  object\n",
      " 5   JuegoID             15000 non-null  int64 \n",
      " 6   Tipo                14975 non-null  object\n",
      " 7   Comentarios         14945 non-null  object\n",
      "dtypes: int64(1), object(7)\n",
      "memory usage: 937.6+ KB\n",
      "None\n"
     ]
    }
   ],
   "source": [
    "# Descripción de parámetros generales -> count, mean, std, min, 25%, 50%, 75%, max\n",
    "print(df.describe())\n",
    "\n",
    "# Número de filas y columnas del dataset\n",
    "print(\"\\n\")\n",
    "print(\"Número de filas: \", df.shape[0])\n",
    "print(\"Número de columnas: \", df.shape[1])\n",
    "print(\"\\n\")\n",
    "\n",
    "# Para saber el tipo de variable de cada columna\n",
    "print(df.info())"
   ]
  },
  {
   "cell_type": "markdown",
   "metadata": {},
   "source": [
    "## 1.4 Observación inicial del dataset\n",
    "Vamos a mostrar 30 entradas para poder observar cómo es realmente por dentro el dataset"
   ]
  },
  {
   "cell_type": "code",
   "execution_count": 27,
   "metadata": {},
   "outputs": [
    {
     "name": "stdout",
     "output_type": "stream",
     "text": [
      "   ----------    10 primeras filas    ----------    \n",
      "\n",
      "\n",
      "           ID FECHA_INTERVENCION TIPO_INTERVENCION ESTADO_PREVIO ESTADO_POSTERIOR  JuegoID           Tipo                           Comentarios\n",
      "0   -1,00 MNT         2024/08/05        Correctivo          Malo             Malo  9394146     preventivo   Comentario sobre el mantenimiento 1\n",
      "1   -2,00 MNT         2024/03/30        Correctivo       Regular          Regular  9224036     preventivo   Comentario sobre el mantenimiento 2\n",
      "2   -3,00 MNT         09-17-2024        Emergencia         Bueno            Bueno  3849642     preventivo   Comentario sobre el mantenimiento 3\n",
      "3   -4,00 MNT         01-11-2023        Emergencia       Regular            Bueno    59177     preventivo   Comentario sobre el mantenimiento 4\n",
      "4   -5,00 MNT         2024-02-04        Emergencia         Bueno             Malo    21957     preventivo   Comentario sobre el mantenimiento 5\n",
      "5   -6,00 MNT         06-03-2024        Preventivo       Regular          Regular    34208  queja_usuario   Comentario sobre el mantenimiento 6\n",
      "6   -7,00 MNT         2023/10/22        Preventivo         Bueno          Regular  8803674  queja_usuario   Comentario sobre el mantenimiento 7\n",
      "7   -8,00 MNT         2024/01/29        Correctivo         Bueno          Regular  3576475  queja_usuario   Comentario sobre el mantenimiento 8\n",
      "8   -9,00 MNT         2024/07/01        Correctivo          Malo          Regular  5158890     preventivo   Comentario sobre el mantenimiento 9\n",
      "9  -10,00 MNT         2024/02/20        Emergencia       Regular            Bueno  4988207     preventivo  Comentario sobre el mantenimiento 10\n",
      "\n",
      "\n",
      "   ----------    10 filas aleatorias    ----------    \n",
      "\n",
      "\n",
      "                  ID FECHA_INTERVENCION TIPO_INTERVENCION ESTADO_PREVIO ESTADO_POSTERIOR  JuegoID           Tipo                              Comentarios\n",
      "2978    -2979,00 MNT         2024/02/21        Correctivo       Regular            Bueno    22164     preventivo   Comentario sobre el mantenimiento 2979\n",
      "7292    -7293,00 MNT         04-07-2024        Correctivo         Bueno            Bueno    59601  queja_usuario   Comentario sobre el mantenimiento 7293\n",
      "4784    -4785,00 MNT         27-03-2024        Preventivo       Regular            Bueno  8888459  queja_usuario   Comentario sobre el mantenimiento 4785\n",
      "11498  -11499,00 MNT         26/04/2024        Emergencia         Bueno            Bueno    33196     preventivo  Comentario sobre el mantenimiento 11499\n",
      "6649    -6650,00 MNT         2024-03-29        Preventivo       Regular          Regular    53096  queja_usuario   Comentario sobre el mantenimiento 6650\n",
      "10065  -10066,00 MNT         2024-08-05        Emergencia         Bueno            Bueno  9294513     preventivo  Comentario sobre el mantenimiento 10066\n",
      "13095  -13096,00 MNT         2024-07-01        Emergencia       Regular             Malo    24981     preventivo  Comentario sobre el mantenimiento 13096\n",
      "12433  -12434,00 MNT         2023/11/12        Correctivo       Regular            Bueno  5241081  queja_usuario  Comentario sobre el mantenimiento 12434\n",
      "3140    -3141,00 MNT         17/04/2024        Correctivo         Bueno             Malo    25603     preventivo   Comentario sobre el mantenimiento 3141\n",
      "8798    -8799,00 MNT         2024-04-25        Preventivo          Malo            Bueno  7537981     preventivo   Comentario sobre el mantenimiento 8799\n",
      "\n",
      "\n",
      "   ----------    10 últimas filas    ----------    \n",
      "\n",
      "\n",
      "                  ID FECHA_INTERVENCION TIPO_INTERVENCION ESTADO_PREVIO ESTADO_POSTERIOR  JuegoID           Tipo                              Comentarios\n",
      "14990  -14991,00 MNT         2024/09/07        Preventivo       Regular            Bueno  7889430  queja_usuario  Comentario sobre el mantenimiento 14991\n",
      "14991  -14992,00 MNT         2024/01/13        Emergencia       Regular             Malo    59638     preventivo  Comentario sobre el mantenimiento 14992\n",
      "14992  -14993,00 MNT         12-21-2023        Emergencia          Malo             Malo  5214948  queja_usuario  Comentario sobre el mantenimiento 14993\n",
      "14993  -14994,00 MNT         07-21-2024        Preventivo         Bueno             Malo    53215  queja_usuario  Comentario sobre el mantenimiento 14994\n",
      "14994  -14995,00 MNT         01-07-2024        Emergencia       Regular            Bueno  3530346     preventivo  Comentario sobre el mantenimiento 14995\n",
      "14995  -14996,00 MNT         23/04/2024        Correctivo         Bueno          Regular    22305  queja_usuario  Comentario sobre el mantenimiento 14996\n",
      "14996  -14997,00 MNT         02-10-2024        Correctivo         Bueno             Malo  9407871  queja_usuario  Comentario sobre el mantenimiento 14997\n",
      "14997  -14998,00 MNT         2024-09-18        Preventivo       Regular          Regular    58814     preventivo  Comentario sobre el mantenimiento 14998\n",
      "14998  -14999,00 MNT         2024/08/02        Correctivo         Bueno          Regular    32798  queja_usuario  Comentario sobre el mantenimiento 14999\n",
      "14999  -15000,00 MNT         12/07/2024        Preventivo         Bueno          Regular    33178  queja_usuario  Comentario sobre el mantenimiento 15000\n"
     ]
    }
   ],
   "source": [
    "# Mostramos las 10 primeras filas, 10 filas aleatorias y las 10 últimas\n",
    "print(\"   ----------    10 primeras filas    ----------    \")\n",
    "print(\"\\n\")\n",
    "print(df.head(10))\n",
    "print(\"\\n\")\n",
    "print(\"   ----------    10 filas aleatorias    ----------    \")\n",
    "print(\"\\n\")\n",
    "print(df.sample(10))\n",
    "print(\"\\n\")\n",
    "print(\"   ----------    10 últimas filas    ----------    \")\n",
    "print(\"\\n\")\n",
    "print(df.tail(10))"
   ]
  },
  {
   "cell_type": "markdown",
   "metadata": {},
   "source": [
    "## 1.5 Revisión de valores nulos\n",
    "Como ya se ha visto en el anterior apartado (info), podemos observar los valores nulos de esa forma. Pero se puede observar de una forma más visual en esta sección y, además, hay que tener en cuenta valores como el cero que también pueden considerarse nulos."
   ]
  },
  {
   "cell_type": "code",
   "execution_count": 28,
   "metadata": {},
   "outputs": [
    {
     "name": "stdout",
     "output_type": "stream",
     "text": [
      "    ----------    Valores faltantes    ----------    \n",
      "\n",
      "\n",
      "ID                     0\n",
      "FECHA_INTERVENCION     0\n",
      "TIPO_INTERVENCION      0\n",
      "ESTADO_PREVIO          0\n",
      "ESTADO_POSTERIOR       0\n",
      "JuegoID                0\n",
      "Tipo                  25\n",
      "Comentarios           55\n",
      "dtype: int64\n",
      "\n",
      "\n",
      "    ----------    Valores cero    ----------    \n",
      "\n",
      "\n",
      "ID                    0\n",
      "FECHA_INTERVENCION    0\n",
      "TIPO_INTERVENCION     0\n",
      "ESTADO_PREVIO         0\n",
      "ESTADO_POSTERIOR      0\n",
      "JuegoID               0\n",
      "Tipo                  0\n",
      "Comentarios           0\n",
      "dtype: int64\n"
     ]
    }
   ],
   "source": [
    "# Para poder saber el número de valores faltantes\n",
    "print(\"    ----------    Valores faltantes    ----------    \")\n",
    "print(\"\\n\")\n",
    "print(df.isnull().sum())\n",
    "print(\"\\n\")\n",
    "\n",
    "# Para poder saber el número de ceros en cada columna\n",
    "print(\"    ----------    Valores cero    ----------    \")\n",
    "print(\"\\n\")\n",
    "print((df == 0).sum())"
   ]
  },
  {
   "cell_type": "markdown",
   "metadata": {},
   "source": [
    "Encontramos valores nulos en Tipo y Comentarios, por lo que se debe corregir en un futuro obteniendo los datos de otro .csv, si existe un atributo similar, o rellenando los atributos vacíos."
   ]
  },
  {
   "cell_type": "markdown",
   "metadata": {},
   "source": [
    "Vamos a mostrar las filas con valores nulos"
   ]
  },
  {
   "cell_type": "code",
   "execution_count": 29,
   "metadata": {},
   "outputs": [
    {
     "name": "stdout",
     "output_type": "stream",
     "text": [
      "   ----------    Filas con valores nulos    ----------    \n",
      "\n",
      "\n",
      "                  ID FECHA_INTERVENCION TIPO_INTERVENCION ESTADO_PREVIO ESTADO_POSTERIOR  JuegoID           Tipo                              Comentarios\n",
      "138      -139,00 MNT         14-06-2024        Preventivo          Malo          Regular  7792012  queja_usuario                                      NaN\n",
      "399      -400,00 MNT         06-02-2024        Correctivo          Malo             Malo  9181012            NaN    Comentario sobre el mantenimiento 400\n",
      "484      -485,00 MNT         23/08/2024        Emergencia         Bueno            Bueno    58137     preventivo                                      NaN\n",
      "550      -551,00 MNT         2024/08/10        Emergencia         Bueno            Bueno    20076     preventivo                                      NaN\n",
      "892      -893,00 MNT         2024/04/10        Preventivo       Regular          Regular    33930            NaN    Comentario sobre el mantenimiento 893\n",
      "1182    -1183,00 MNT         30-12-2023        Correctivo       Regular          Regular    52906     preventivo                                      NaN\n",
      "1232    -1233,00 MNT         16/06/2024        Correctivo       Regular          Regular  5240831     preventivo                                      NaN\n",
      "1303    -1304,00 MNT         2023/11/18        Preventivo         Bueno             Malo    52968     preventivo                                      NaN\n",
      "1315    -1316,00 MNT         2024-06-20        Preventivo         Bueno          Regular    34074            NaN   Comentario sobre el mantenimiento 1316\n",
      "1483    -1484,00 MNT         2024-05-16        Emergencia         Bueno             Malo    60050            NaN   Comentario sobre el mantenimiento 1484\n",
      "1967    -1968,00 MNT         2024-07-09        Preventivo          Malo             Malo    59556     preventivo                                      NaN\n",
      "2173    -2174,00 MNT         2024/02/17        Correctivo          Malo             Malo  8942823            NaN   Comentario sobre el mantenimiento 2174\n",
      "2399    -2400,00 MNT         2024-04-29        Correctivo          Malo             Malo    21629     preventivo                                      NaN\n",
      "2400    -2401,00 MNT         2024/06/11        Emergencia         Bueno             Malo  7896553     preventivo                                      NaN\n",
      "2516    -2517,00 MNT         2024-04-14        Emergencia         Bueno            Bueno  9274927  queja_usuario                                      NaN\n",
      "2867    -2868,00 MNT         2024/08/24        Emergencia       Regular          Regular    60042            NaN   Comentario sobre el mantenimiento 2868\n",
      "2955    -2956,00 MNT         02-05-2024        Emergencia       Regular          Regular  4794256            NaN   Comentario sobre el mantenimiento 2956\n",
      "3005    -3006,00 MNT         17/10/2023        Preventivo       Regular            Bueno    33314  queja_usuario                                      NaN\n",
      "3184    -3185,00 MNT         27/05/2024        Emergencia         Bueno            Bueno  7107108     preventivo                                      NaN\n",
      "3486    -3487,00 MNT         27-09-2024        Correctivo       Regular             Malo  5173930     preventivo                                      NaN\n",
      "3641    -3642,00 MNT         10-10-2024        Preventivo       Regular            Bueno    19926            NaN   Comentario sobre el mantenimiento 3642\n",
      "3852    -3853,00 MNT         2024/03/16        Preventivo       Regular            Bueno    22168            NaN   Comentario sobre el mantenimiento 3853\n",
      "3861    -3862,00 MNT         02-16-2024        Correctivo       Regular             Malo  9182072     preventivo                                      NaN\n",
      "4013    -4014,00 MNT         12-12-2023        Correctivo          Malo             Malo  5601926            NaN   Comentario sobre el mantenimiento 4014\n",
      "4376    -4377,00 MNT         2024-07-05        Preventivo       Regular            Bueno  9223715     preventivo                                      NaN\n",
      "5091    -5092,00 MNT         05-04-2024        Emergencia         Bueno            Bueno  7840615  queja_usuario                                      NaN\n",
      "5322    -5323,00 MNT         01-09-2024        Emergencia       Regular          Regular  7526983            NaN   Comentario sobre el mantenimiento 5323\n",
      "5357    -5358,00 MNT         16/06/2024        Emergencia         Bueno          Regular  7144285  queja_usuario                                      NaN\n",
      "5550    -5551,00 MNT         2023/12/26        Preventivo       Regular             Malo  5174745  queja_usuario                                      NaN\n",
      "5830    -5831,00 MNT         11-01-2024        Emergencia         Bueno             Malo    19479  queja_usuario                                      NaN\n",
      "6133    -6134,00 MNT         2023/11/17        Emergencia         Bueno            Bueno  3530788     preventivo                                      NaN\n",
      "6569    -6570,00 MNT         22-09-2024        Emergencia          Malo          Regular    21644     preventivo                                      NaN\n",
      "6635    -6636,00 MNT         08-10-2024        Preventivo         Bueno          Regular  5220909     preventivo                                      NaN\n",
      "6749    -6750,00 MNT         10-29-2023        Correctivo          Malo          Regular    59580  queja_usuario                                      NaN\n",
      "6888    -6889,00 MNT         04-11-2024        Correctivo       Regular            Bueno  7240120            NaN   Comentario sobre el mantenimiento 6889\n",
      "7454    -7455,00 MNT         16-03-2024        Preventivo       Regular             Malo  7928137            NaN   Comentario sobre el mantenimiento 7455\n",
      "7614    -7615,00 MNT         2023-11-09        Emergencia         Bueno          Regular    18712     preventivo                                      NaN\n",
      "7868    -7869,00 MNT         2024-09-01        Correctivo         Bueno             Malo    21345            NaN   Comentario sobre el mantenimiento 7869\n",
      "7875    -7876,00 MNT         2024-09-27        Emergencia         Bueno          Regular    33186     preventivo                                      NaN\n",
      "8121    -8122,00 MNT         08-05-2024        Preventivo         Bueno            Bueno    22522     preventivo                                      NaN\n",
      "8243    -8244,00 MNT         2024/02/28        Correctivo       Regular          Regular    20180     preventivo                                      NaN\n",
      "8512    -8513,00 MNT         2024-08-19        Preventivo          Malo             Malo    35005     preventivo                                      NaN\n",
      "8533    -8534,00 MNT         08-09-2024        Correctivo       Regular          Regular  5239325     preventivo                                      NaN\n",
      "8601    -8602,00 MNT         2024-07-27        Preventivo         Bueno            Bueno    24911            NaN   Comentario sobre el mantenimiento 8602\n",
      "8964    -8965,00 MNT         2024-03-24        Correctivo       Regular             Malo  5211177            NaN   Comentario sobre el mantenimiento 8965\n",
      "9065    -9066,00 MNT         07/12/2023        Emergencia         Bueno          Regular  5241046  queja_usuario                                      NaN\n",
      "9146    -9147,00 MNT         2024/03/10        Correctivo       Regular          Regular  4794567     preventivo                                      NaN\n",
      "9244    -9245,00 MNT         2023/12/28        Preventivo       Regular             Malo  7741332  queja_usuario                                      NaN\n",
      "9515    -9516,00 MNT         2024/08/17        Correctivo         Bueno            Bueno  4991259  queja_usuario                                      NaN\n",
      "9664    -9665,00 MNT         03-05-2024        Preventivo       Regular          Regular  9433288     preventivo                                      NaN\n",
      "9677    -9678,00 MNT         2024/06/10        Correctivo         Bueno          Regular    25609  queja_usuario                                      NaN\n",
      "9820    -9821,00 MNT         2024-10-02        Emergencia       Regular             Malo  7934645            NaN   Comentario sobre el mantenimiento 9821\n",
      "9878    -9879,00 MNT         2024/05/21        Emergencia          Malo             Malo  6761234            NaN                                      NaN\n",
      "9913    -9914,00 MNT         11-07-2024        Emergencia          Malo          Regular    59688            NaN   Comentario sobre el mantenimiento 9914\n",
      "10059  -10060,00 MNT         09/09/2024        Preventivo          Malo          Regular    58592  queja_usuario                                      NaN\n",
      "10235  -10236,00 MNT         2024/01/15        Preventivo         Bueno          Regular  3575781            NaN  Comentario sobre el mantenimiento 10236\n",
      "10648  -10649,00 MNT         21-10-2023        Emergencia       Regular             Malo    35154     preventivo                                      NaN\n",
      "10965  -10966,00 MNT         07-21-2024        Preventivo       Regular            Bueno    34093  queja_usuario                                      NaN\n",
      "11242  -11243,00 MNT         05/05/2024        Emergencia       Regular            Bueno  7135410            NaN  Comentario sobre el mantenimiento 11243\n",
      "11797  -11798,00 MNT         07-05-2024        Emergencia         Bueno             Malo    25067     preventivo                                      NaN\n",
      "11839  -11840,00 MNT         2024-03-30        Correctivo       Regular            Bueno  4823200     preventivo                                      NaN\n",
      "11944  -11945,00 MNT         2024/06/24        Correctivo       Regular             Malo    21652            NaN  Comentario sobre el mantenimiento 11945\n",
      "12130  -12131,00 MNT         02-23-2024        Correctivo          Malo             Malo   451537     preventivo                                      NaN\n",
      "12225  -12226,00 MNT         01-16-2024        Correctivo          Malo          Regular  5658065     preventivo                                      NaN\n",
      "12262  -12263,00 MNT         06/01/2024        Correctivo       Regular            Bueno    59655  queja_usuario                                      NaN\n",
      "12354  -12355,00 MNT         06-17-2024        Emergencia          Malo          Regular  5195673     preventivo                                      NaN\n",
      "12604  -12605,00 MNT         01-04-2024        Preventivo       Regular          Regular  3575586  queja_usuario                                      NaN\n",
      "12873  -12874,00 MNT         12-02-2024        Correctivo          Malo             Malo  7741720            NaN  Comentario sobre el mantenimiento 12874\n",
      "13213  -13214,00 MNT         02-03-2024        Emergencia          Malo            Bueno    22015  queja_usuario                                      NaN\n",
      "13220  -13221,00 MNT         23-12-2023        Emergencia          Malo          Regular  9052588     preventivo                                      NaN\n",
      "13765  -13766,00 MNT         2024-05-28        Correctivo       Regular             Malo  9205241     preventivo                                      NaN\n",
      "14086  -14087,00 MNT         03-16-2024        Preventivo         Bueno             Malo  3569216            NaN  Comentario sobre el mantenimiento 14087\n",
      "14091  -14092,00 MNT         2023-11-09        Emergencia         Bueno          Regular  3997077            NaN  Comentario sobre el mantenimiento 14092\n",
      "14179  -14180,00 MNT         04-10-2024        Preventivo       Regular             Malo    21460  queja_usuario                                      NaN\n",
      "14308  -14309,00 MNT         09/03/2024        Preventivo          Malo          Regular  3576456  queja_usuario                                      NaN\n",
      "14438  -14439,00 MNT         12-04-2024        Emergencia          Malo             Malo    19354     preventivo                                      NaN\n",
      "14449  -14450,00 MNT         20/11/2023        Correctivo       Regular          Regular    19928  queja_usuario                                      NaN\n",
      "14771  -14772,00 MNT         2023-11-27        Emergencia          Malo            Bueno  7526872  queja_usuario                                      NaN\n",
      "14792  -14793,00 MNT         11/08/2024        Emergencia       Regular          Regular  7896586  queja_usuario                                      NaN\n",
      "\n",
      "\n",
      "Número de filas con nulos en alguna columna:  79\n"
     ]
    }
   ],
   "source": [
    "# Muestra las filas que tengan valores nulos\n",
    "print(\"   ----------    Filas con valores nulos    ----------    \")\n",
    "print(\"\\n\")\n",
    "print(df[df.isnull().any(axis=1)])\n",
    "print(\"\\n\")\n",
    "\n",
    "# Número de filas con nulos en alguna columna\n",
    "print(\"Número de filas con nulos en alguna columna: \", df.isnull().any(axis=1).sum())"
   ]
  },
  {
   "cell_type": "markdown",
   "metadata": {},
   "source": [
    "## 1.6 Identificación de fechas no estandarizadas\n",
    "Se deben identificar las fechas que no se encuentran en el formato adecuado para MongoDB (DD/MM/YYYY)"
   ]
  },
  {
   "cell_type": "code",
   "execution_count": 30,
   "metadata": {},
   "outputs": [
    {
     "name": "stdout",
     "output_type": "stream",
     "text": [
      "   ----------    Fechas    ----------    \n",
      "\n",
      "\n",
      "8052     2024-08-11\n",
      "9402     2024-03-11\n",
      "3296     2024-09-19\n",
      "9208     01-09-2024\n",
      "11729    11/01/2024\n",
      "8278     2024/02/26\n",
      "795      2024-03-13\n",
      "7995     2024/04/08\n",
      "9984     10-04-2024\n",
      "4494     26/06/2024\n",
      "13825    29/07/2024\n",
      "11041    14/01/2024\n",
      "10375    2024-06-15\n",
      "12894    12-06-2024\n",
      "9870     31-12-2023\n",
      "8469     04-06-2024\n",
      "11527    27/07/2024\n",
      "1960     2024/03/26\n",
      "7        2024/01/29\n",
      "12854    10-09-2024\n",
      "Name: FECHA_INTERVENCION, dtype: object\n"
     ]
    }
   ],
   "source": [
    "# Vamos a mostrar algunas fechas para poder observar en qué formato están\n",
    "print(\"   ----------    Fechas    ----------    \")\n",
    "print(\"\\n\")\n",
    "print(df['FECHA_INTERVENCION'].sample(20))"
   ]
  },
  {
   "cell_type": "markdown",
   "metadata": {},
   "source": [
    "Como se puede apreciar, las fechas se encuentran en diversos formatos que deben ser homogeneizados"
   ]
  },
  {
   "cell_type": "markdown",
   "metadata": {},
   "source": [
    "## 1.7 Identificación de registros duplicados\n",
    "Debemos validar que no existen filas iguales que ensucien el dataset, sobre todo estando pendiente de duplicaciones de la clave primaria"
   ]
  },
  {
   "cell_type": "code",
   "execution_count": 31,
   "metadata": {},
   "outputs": [
    {
     "name": "stdout",
     "output_type": "stream",
     "text": [
      "   ----------    Filas duplicadas    ----------    \n",
      "\n",
      "\n",
      "Empty DataFrame\n",
      "Columns: [ID, FECHA_INTERVENCION, TIPO_INTERVENCION, ESTADO_PREVIO, ESTADO_POSTERIOR, JuegoID, Tipo, Comentarios]\n",
      "Index: []\n",
      "\n",
      "\n",
      "Número de filas duplicadas:  0\n",
      "\n",
      "\n",
      "   ----------    Filas con el mismo ID    ----------    \n",
      "\n",
      "\n",
      "Empty DataFrame\n",
      "Columns: [ID, FECHA_INTERVENCION, TIPO_INTERVENCION, ESTADO_PREVIO, ESTADO_POSTERIOR, JuegoID, Tipo, Comentarios]\n",
      "Index: []\n",
      "\n",
      "\n",
      "Número de filas con el mismo ID:  0\n"
     ]
    }
   ],
   "source": [
    "# Ver las filas duplicadas\n",
    "print(\"   ----------    Filas duplicadas    ----------    \")\n",
    "print(\"\\n\")\n",
    "print(df[df.duplicated()])\n",
    "print(\"\\n\")\n",
    "\n",
    "# Número de filas duplicadas\n",
    "print(\"Número de filas duplicadas: \", df.duplicated().sum())\n",
    "print(\"\\n\")\n",
    "\n",
    "# Filas con el mismo ID\n",
    "print(\"   ----------    Filas con el mismo ID    ----------    \")\n",
    "print(\"\\n\")\n",
    "print(df[df.duplicated(subset='ID', keep=False)])\n",
    "print(\"\\n\")\n",
    "\n",
    "# Número de filas con el mismo ID\n",
    "print(\"Número de filas con el mismo ID: \", df.duplicated(subset='ID', keep=False).sum())"
   ]
  },
  {
   "cell_type": "markdown",
   "metadata": {},
   "source": [
    "Como son dataframes vacíos significa que no hay IDs distintos y filas iguales, por lo que no se debe limpiar ni corregir de ninguna forma"
   ]
  },
  {
   "cell_type": "markdown",
   "metadata": {},
   "source": [
    "## 1.8 Búsqueda de errores tipográficos\n",
    "Hay ciertos atributos de texto que pueden contar con determinados errores tipográficos que deben ser solucionados, como los nombres de áreas, juegos, usuarios y ubicaciones"
   ]
  },
  {
   "cell_type": "markdown",
   "metadata": {},
   "source": [
    "En este dataset no encontramos ningún atributo similar, por lo que este paso no se realizará"
   ]
  },
  {
   "cell_type": "markdown",
   "metadata": {},
   "source": [
    "## 1.9 Identificación de valores enum fuera de campo\n",
    "Hay ciertos atributos que solo deben poseer ciertos valores (como Operativo-NoOperativo). Hace falta identificar aquellos valores de ese campo fuera de la norma"
   ]
  },
  {
   "cell_type": "code",
   "execution_count": 32,
   "metadata": {},
   "outputs": [
    {
     "name": "stdout",
     "output_type": "stream",
     "text": [
      "   ----------    Valores distintos de la columna 'ESTADO_PREVIO'    ----------    \n",
      "\n",
      "\n",
      "['Malo' 'Regular' 'Bueno']\n",
      "\n",
      "\n",
      "   ----------    Valores distintos de la columna 'ESTADO_POSTERIOR'    ----------    \n",
      "\n",
      "\n",
      "['Malo' 'Regular' 'Bueno']\n",
      "\n",
      "\n",
      "   ----------    Valores distintos de la columna 'TIPO_INTERVENCION'    ----------    \n",
      "\n",
      "\n",
      "['Correctivo' 'Emergencia' 'Preventivo']\n"
     ]
    }
   ],
   "source": [
    "# Muestra todos los valores distintos de la columna 'ESTADO_PREVIO'\n",
    "print(\"   ----------    Valores distintos de la columna 'ESTADO_PREVIO'    ----------    \")\n",
    "print(\"\\n\")\n",
    "print(df['ESTADO_PREVIO'].unique())\n",
    "print(\"\\n\")\n",
    "\n",
    "# Muestra todos los valores distintos de la columna 'ESTADO_POSTERIOR'\n",
    "print(\"   ----------    Valores distintos de la columna 'ESTADO_POSTERIOR'    ----------    \")\n",
    "print(\"\\n\")\n",
    "print(df['ESTADO_POSTERIOR'].unique())\n",
    "print(\"\\n\")\n",
    "\n",
    "# Muestra todos los valores distintos de la columna 'TIPO_INTERVENCION'\n",
    "print(\"   ----------    Valores distintos de la columna 'TIPO_INTERVENCION'    ----------    \")\n",
    "print(\"\\n\")\n",
    "print(df['TIPO_INTERVENCION'].unique())"
   ]
  },
  {
   "cell_type": "markdown",
   "metadata": {},
   "source": [
    "Todos los Enums poseen valores acordes con lo esperado, por lo que no se va a realizar una limpieza de ellos."
   ]
  },
  {
   "cell_type": "markdown",
   "metadata": {},
   "source": [
    "## 1.10 Validación de las coordenadas y otros campos geoespaciales\n",
    "Hay algunas veces en las que los códigos postales no respetan la identificación de Madrid (280..) o el formato, ya sean códigos postales u otros atributos de geolocalización"
   ]
  },
  {
   "cell_type": "markdown",
   "metadata": {},
   "source": [
    "En este dataset no encontramos valores de localización, por lo que este paso no se realizará"
   ]
  },
  {
   "cell_type": "markdown",
   "metadata": {},
   "source": [
    "## 1.11 Identificación de unidades de medida en un formato no estandarizado\n",
    "Se deben identificar las filas que no posean un formato estándar"
   ]
  },
  {
   "cell_type": "markdown",
   "metadata": {},
   "source": [
    "En este dataset no encontramos valores de unidades de medida, por lo que este paso no se realizará"
   ]
  },
  {
   "cell_type": "markdown",
   "metadata": {},
   "source": [
    "## 1.12 Otros atributos a corregir\n",
    "En esta sección se mencionarán aquellos atributos que también deban ser limpiados por errores"
   ]
  },
  {
   "cell_type": "markdown",
   "metadata": {},
   "source": [
    "### 1.12.1 Búsqueda de IDs"
   ]
  },
  {
   "cell_type": "code",
   "execution_count": 33,
   "metadata": {},
   "outputs": [
    {
     "name": "stdout",
     "output_type": "stream",
     "text": [
      "   ----------    IDs    ----------    \n",
      "\n",
      "\n",
      "13211    -13212,00 MNT\n",
      "11554    -11555,00 MNT\n",
      "4196      -4197,00 MNT\n",
      "11300    -11301,00 MNT\n",
      "9200      -9201,00 MNT\n",
      "3125      -3126,00 MNT\n",
      "7155      -7156,00 MNT\n",
      "3711      -3712,00 MNT\n",
      "6304      -6305,00 MNT\n",
      "6731      -6732,00 MNT\n",
      "Name: ID, dtype: object\n"
     ]
    }
   ],
   "source": [
    "# Vamos a mostrar 10 IDs para ver cómo se encuentran\n",
    "print(\"   ----------    IDs    ----------    \")\n",
    "print(\"\\n\")\n",
    "print(df['ID'].sample(10))"
   ]
  },
  {
   "cell_type": "markdown",
   "metadata": {},
   "source": [
    "Los IDs poseen un formato muy extraño con '-' y con números en coma flotante, por lo que se deben limpiar asemejándolos a los que hay en IncidenciasUsuarios"
   ]
  },
  {
   "cell_type": "markdown",
   "metadata": {},
   "source": [
    "### 1.12.2 Identificación de valores de Comentario\n",
    "Esta comprobación se realizará para ver todos los valores que posee este atributo"
   ]
  },
  {
   "cell_type": "code",
   "execution_count": 34,
   "metadata": {},
   "outputs": [
    {
     "name": "stdout",
     "output_type": "stream",
     "text": [
      "   ----------    Valores únicos de la columna 'Comentarios'    ----------    \n",
      "\n",
      "\n",
      "['Comentario sobre el mantenimiento 1'\n",
      " 'Comentario sobre el mantenimiento 2'\n",
      " 'Comentario sobre el mantenimiento 3' ...\n",
      " 'Comentario sobre el mantenimiento 14998'\n",
      " 'Comentario sobre el mantenimiento 14999'\n",
      " 'Comentario sobre el mantenimiento 15000']\n"
     ]
    }
   ],
   "source": [
    "# Muestra los valores únicos de la columna Comentarios\n",
    "print(\"   ----------    Valores únicos de la columna 'Comentarios'    ----------    \")\n",
    "print(\"\\n\")\n",
    "print(df['Comentarios'].unique())"
   ]
  },
  {
   "cell_type": "markdown",
   "metadata": {},
   "source": [
    "Se puede apreciar que todos van en la misma línea, por lo que no se deben limpiar"
   ]
  },
  {
   "cell_type": "markdown",
   "metadata": {},
   "source": [
    "### 1.12.3 Identificación de valores de Tipo\n",
    "Al ser una string sin errores tipográficos, debemos observar los posibles valores que posee"
   ]
  },
  {
   "cell_type": "code",
   "execution_count": 35,
   "metadata": {},
   "outputs": [
    {
     "name": "stdout",
     "output_type": "stream",
     "text": [
      "   ----------    Valores distintos de la columna 'Tipo'    ----------    \n",
      "\n",
      "\n",
      "['preventivo' 'queja_usuario' nan]\n"
     ]
    }
   ],
   "source": [
    "# Muestra todos los valores distintos de la columna 'Tipo'\n",
    "print(\"   ----------    Valores distintos de la columna 'Tipo'    ----------    \")\n",
    "print(\"\\n\")\n",
    "print(df['Tipo'].unique())"
   ]
  },
  {
   "cell_type": "markdown",
   "metadata": {},
   "source": [
    "Se puede apreciar que parece más un Enum que una String. Deberá ser limpiada por los valores nulos que posee, pero por lo demás todo bien"
   ]
  },
  {
   "cell_type": "markdown",
   "metadata": {},
   "source": [
    "### 1.12.4 Consideraciones extras de IDs y Fechas\n",
    "Cabe recalcar que si ID o el campo de fechas no poseen un formato esperado, las funciones de limpieza darán error, por lo que no hace falta hacer ahora las comprobaciones de sus valores para determinar si son correctos. Además, se ha realizado la prueba de los nulos y de valores cero y no ha dado error."
   ]
  },
  {
   "cell_type": "markdown",
   "metadata": {},
   "source": [
    "### 1.12.5 Consideraciones extras de JuegoID\n",
    "Para esta columna debemos comprobar que todos los datos están presentes en el dataset de juegos. Si no, estarían referenciando a algo que no existe"
   ]
  },
  {
   "cell_type": "code",
   "execution_count": 36,
   "metadata": {},
   "outputs": [
    {
     "name": "stdout",
     "output_type": "stream",
     "text": [
      "   ----------    Comprobación de valores en 'AreaRecreativaID'    ----------    \n",
      "\n",
      "\n",
      "Todos los valores se encuentran en el otro dataset:  True\n"
     ]
    }
   ],
   "source": [
    "# Comprobar que todos los valores de la columna 'AreaRecreativaID' existen en la columna 'ID' del dataset 'AreasSucio.csv'\n",
    "juegos = pd.read_csv('../JuegosSucio.csv')\n",
    "print(\"   ----------    Comprobación de valores en 'AreaRecreativaID'    ----------    \")\n",
    "print(\"\\n\")\n",
    "print(\"Todos los valores se encuentran en el otro dataset: \", df['JuegoID'].isin(juegos['ID']).all())"
   ]
  },
  {
   "cell_type": "markdown",
   "metadata": {},
   "source": [
    "# 2. Limpieza de los datasets\n",
    "En este apartado se realizará la limpieza según la información obtenida en el análisis exploratorio de datos:\n",
    "- Se debe corregir ID para un formato homogéneo\n",
    "- Se debe corregir FECHA_INTERVENCIÓN para un formato homogéneo\n",
    "- Se deben corregir los nulos de Tipo y Comentarios"
   ]
  },
  {
   "cell_type": "markdown",
   "metadata": {},
   "source": [
    "## 2.1 Limpieza de ID"
   ]
  },
  {
   "cell_type": "markdown",
   "metadata": {},
   "source": [
    "Debemos estandarizar todos los IDs a un formato más lejible, como 'IDMNT', siendo ID el número de ID y MNT la identificación para saber que es un ID de mantenimiento"
   ]
  },
  {
   "cell_type": "code",
   "execution_count": 37,
   "metadata": {},
   "outputs": [
    {
     "name": "stdout",
     "output_type": "stream",
     "text": [
      "   ----------    IDs    ----------    \n",
      "\n",
      "\n",
      "14053    MNT-14054\n",
      "5722     MNT-05723\n",
      "12190    MNT-12191\n",
      "2524     MNT-02525\n",
      "3063     MNT-03064\n",
      "7941     MNT-07942\n",
      "6247     MNT-06248\n",
      "12996    MNT-12997\n",
      "12014    MNT-12015\n",
      "14688    MNT-14689\n",
      "13712    MNT-13713\n",
      "12698    MNT-12699\n",
      "12920    MNT-12921\n",
      "5537     MNT-05538\n",
      "6323     MNT-06324\n",
      "4075     MNT-04076\n",
      "9224     MNT-09225\n",
      "10596    MNT-10597\n",
      "208      MNT-00209\n",
      "2973     MNT-02974\n",
      "Name: ID, dtype: object\n"
     ]
    }
   ],
   "source": [
    "\n",
    "# Elimina todos los guiones y espacios de todos los valores de la columna 'ID'\n",
    "\n",
    "# Función para generar la cadena personalizada\n",
    "def custom_string(row):\n",
    "    id_number = row['ID'][1:-7]\n",
    "    while len(id_number) < 5:\n",
    "        id_number = '0' + id_number\n",
    "    main_string = 'MNT'+'-'+id_number \n",
    "    return main_string\n",
    "\n",
    "# Reemplazar valores nulos\n",
    "df['ID'] = df.apply(lambda row: custom_string(row), axis=1)\n",
    "\n",
    "# Muestra 20 IDs para ver cómo se encuentran\n",
    "print(\"   ----------    IDs    ----------    \")\n",
    "print(\"\\n\")\n",
    "print(df['ID'].sample(20))"
   ]
  },
  {
   "cell_type": "markdown",
   "metadata": {},
   "source": [
    "Se puede apreciar que ya han quedado estandarizado todos los IDs como en IncidenciasUsuarios"
   ]
  },
  {
   "cell_type": "markdown",
   "metadata": {},
   "source": [
    "## 2.2 Limpieza de FECHA_INTERVENCION"
   ]
  },
  {
   "cell_type": "markdown",
   "metadata": {},
   "source": [
    "Debemos dejar las fechas en un formato estándar lejible por MongoDB, como 'DD/MM/YYYY'"
   ]
  },
  {
   "cell_type": "code",
   "execution_count": 38,
   "metadata": {},
   "outputs": [
    {
     "name": "stdout",
     "output_type": "stream",
     "text": [
      "   ----------    Columna de fechas corregidas    ----------    \n",
      "\n",
      "\n",
      "4022     05/09/2024\n",
      "14216    27/10/2023\n",
      "13588    17/02/2024\n",
      "14293    24/09/2024\n",
      "6329     09/10/2024\n",
      "1417     20/09/2024\n",
      "14534    08/04/2024\n",
      "5402     09/04/2024\n",
      "14631    14/12/2023\n",
      "12704    24/09/2024\n",
      "11291    13/05/2024\n",
      "10400    26/11/2023\n",
      "1808     08/08/2024\n",
      "3136     02/02/2024\n",
      "5032     23/04/2024\n",
      "2587     24/08/2024\n",
      "5802     16/06/2024\n",
      "6464     07/02/2024\n",
      "3978     19/06/2024\n",
      "9025     09/09/2024\n",
      "Name: FECHA_INTERVENCION, dtype: object\n"
     ]
    }
   ],
   "source": [
    "# Leemos toda la columna de fechas y almacenamos todas las fechas en una lista\n",
    "fechas = df['FECHA_INTERVENCION'].tolist()\n",
    "\n",
    "# Ahora, pasamos por todas las fechas y corregimos las fechas que están mal escritas\n",
    "fechas_corregidas = []\n",
    "año_al_final = False\n",
    "\n",
    "for fecha in fechas:\n",
    "    # Si fecha contiene un guion, hacer fecha.split('-') y si fecha contiene una barra, hacer fecha.split('/')\n",
    "    if '-' in fecha:\n",
    "        fecha_split = fecha.split('-')\n",
    "    elif '/' in fecha:\n",
    "        fecha_split = fecha.split('/')\n",
    "    # Condiciones para saber el día, mes y año\n",
    "    # Encontrar el año\n",
    "    if (int(fecha_split[0])>31):\n",
    "        año = fecha_split[0]\n",
    "        año_al_final = False\n",
    "    elif (int(fecha_split[2])>31):\n",
    "        año = fecha_split[2]\n",
    "        año_al_final = True\n",
    "    else:\n",
    "        print(\"No se ha encontrado el año\")\n",
    "        fechas_corregidas.append(\"fecha incorrecta\")\n",
    "        break\n",
    "    # Encontrar el día y el mes\n",
    "    # Si el año está al final, no comprobamos el primer caracter\n",
    "    if año_al_final:\n",
    "        if (int(fecha_split[0])<32 and int(fecha_split[0])>12):\n",
    "            dia = fecha_split[0]\n",
    "            mes = fecha_split[1]\n",
    "        elif (int(fecha_split[1])<32 and int(fecha_split[1])>12):\n",
    "            dia = fecha_split[1]\n",
    "            mes = fecha_split[0]\n",
    "        # Si no hay ningun número entre el 13 y el 31, se asume que el mes es el segundo siempre y el día es el primero\n",
    "        else:\n",
    "            dia = fecha_split[0]\n",
    "            mes = fecha_split[1]\n",
    "    else:\n",
    "        if (int(fecha_split[1])<32 and int(fecha_split[1])>12):\n",
    "            dia = fecha_split[1]\n",
    "            mes = fecha_split[2]\n",
    "        elif (int(fecha_split[2])<32 and int(fecha_split[2])>12):\n",
    "            dia = fecha_split[2]\n",
    "            mes = fecha_split[1]\n",
    "        # Si no hay ningun número entre el 13 y el 31, se asume que el mes es el segundo siempre y el día es el tercero\n",
    "        else:\n",
    "            dia = fecha_split[2]\n",
    "            mes = fecha_split[1]\n",
    "    fechas_corregidas.append(dia+\"/\"+mes+\"/\"+año)\n",
    "    \n",
    "# Ahora, cambiamos toda la columna de FECHAS_INTERVENCION por las fechas corregidas\n",
    "df['FECHA_INTERVENCION'] = fechas_corregidas\n",
    "\n",
    "# Mostramos las fechas corregidas\n",
    "print(\"   ----------    Columna de fechas corregidas    ----------    \")\n",
    "print(\"\\n\")\n",
    "print(df['FECHA_INTERVENCION'].sample(20))"
   ]
  },
  {
   "cell_type": "markdown",
   "metadata": {},
   "source": [
    "Como se puede apreciar, las fechas ya están estandarizadas"
   ]
  },
  {
   "cell_type": "markdown",
   "metadata": {},
   "source": [
    "## 2.3 Limpieza de Tipo y Comentarios"
   ]
  },
  {
   "cell_type": "markdown",
   "metadata": {},
   "source": [
    "Como no podemos extraer los datos faltantes de otros archivos, debemos rellenarlos siguiendo un formato específico:\n",
    "- ID-Tipo-Desconocido para la columna de Tipo\n",
    "- ID-Comentario-Desconocido para la columna de Comentario"
   ]
  },
  {
   "cell_type": "code",
   "execution_count": 39,
   "metadata": {},
   "outputs": [
    {
     "name": "stdout",
     "output_type": "stream",
     "text": [
      "   ----------    Valores únicos de la columna 'Tipo'    ----------    \n",
      "\n",
      "\n",
      "['preventivo' 'queja_usuario' 'MNT-00400_Tipo_Desconocido'\n",
      " 'MNT-00893_Tipo_Desconocido' 'MNT-01316_Tipo_Desconocido'\n",
      " 'MNT-01484_Tipo_Desconocido' 'MNT-02174_Tipo_Desconocido'\n",
      " 'MNT-02868_Tipo_Desconocido' 'MNT-02956_Tipo_Desconocido'\n",
      " 'MNT-03642_Tipo_Desconocido' 'MNT-03853_Tipo_Desconocido'\n",
      " 'MNT-04014_Tipo_Desconocido' 'MNT-05323_Tipo_Desconocido'\n",
      " 'MNT-06889_Tipo_Desconocido' 'MNT-07455_Tipo_Desconocido'\n",
      " 'MNT-07869_Tipo_Desconocido' 'MNT-08602_Tipo_Desconocido'\n",
      " 'MNT-08965_Tipo_Desconocido' 'MNT-09821_Tipo_Desconocido'\n",
      " 'MNT-09879_Tipo_Desconocido' 'MNT-09914_Tipo_Desconocido'\n",
      " 'MNT-10236_Tipo_Desconocido' 'MNT-11243_Tipo_Desconocido'\n",
      " 'MNT-11945_Tipo_Desconocido' 'MNT-12874_Tipo_Desconocido'\n",
      " 'MNT-14087_Tipo_Desconocido' 'MNT-14092_Tipo_Desconocido']\n",
      "\n",
      "\n",
      "   ----------    Valores cambiados de la columna 'Comentarios'    ----------    \n",
      "\n",
      "\n",
      "['MNT-00139_Comentarios_Desconocido', 'MNT-00485_Comentarios_Desconocido', 'MNT-00551_Comentarios_Desconocido', 'MNT-01183_Comentarios_Desconocido', 'MNT-01233_Comentarios_Desconocido', 'MNT-01304_Comentarios_Desconocido', 'MNT-01968_Comentarios_Desconocido', 'MNT-02400_Comentarios_Desconocido', 'MNT-02401_Comentarios_Desconocido', 'MNT-02517_Comentarios_Desconocido', 'MNT-03006_Comentarios_Desconocido', 'MNT-03185_Comentarios_Desconocido', 'MNT-03487_Comentarios_Desconocido', 'MNT-03862_Comentarios_Desconocido', 'MNT-04377_Comentarios_Desconocido', 'MNT-05092_Comentarios_Desconocido', 'MNT-05358_Comentarios_Desconocido', 'MNT-05551_Comentarios_Desconocido', 'MNT-05831_Comentarios_Desconocido', 'MNT-06134_Comentarios_Desconocido', 'MNT-06570_Comentarios_Desconocido', 'MNT-06636_Comentarios_Desconocido', 'MNT-06750_Comentarios_Desconocido', 'MNT-07615_Comentarios_Desconocido', 'MNT-07876_Comentarios_Desconocido', 'MNT-08122_Comentarios_Desconocido', 'MNT-08244_Comentarios_Desconocido', 'MNT-08513_Comentarios_Desconocido', 'MNT-08534_Comentarios_Desconocido', 'MNT-09066_Comentarios_Desconocido', 'MNT-09147_Comentarios_Desconocido', 'MNT-09245_Comentarios_Desconocido', 'MNT-09516_Comentarios_Desconocido', 'MNT-09665_Comentarios_Desconocido', 'MNT-09678_Comentarios_Desconocido', 'MNT-09879_Comentarios_Desconocido', 'MNT-10060_Comentarios_Desconocido', 'MNT-10649_Comentarios_Desconocido', 'MNT-10966_Comentarios_Desconocido', 'MNT-11798_Comentarios_Desconocido', 'MNT-11840_Comentarios_Desconocido', 'MNT-12131_Comentarios_Desconocido', 'MNT-12226_Comentarios_Desconocido', 'MNT-12263_Comentarios_Desconocido', 'MNT-12355_Comentarios_Desconocido', 'MNT-12605_Comentarios_Desconocido', 'MNT-13214_Comentarios_Desconocido', 'MNT-13221_Comentarios_Desconocido', 'MNT-13766_Comentarios_Desconocido', 'MNT-14180_Comentarios_Desconocido', 'MNT-14309_Comentarios_Desconocido', 'MNT-14439_Comentarios_Desconocido', 'MNT-14450_Comentarios_Desconocido', 'MNT-14772_Comentarios_Desconocido', 'MNT-14793_Comentarios_Desconocido']\n",
      "\n",
      "\n",
      "   ----------    Filas con valores nulos    ----------    \n",
      "\n",
      "\n",
      "Empty DataFrame\n",
      "Columns: [ID, FECHA_INTERVENCION, TIPO_INTERVENCION, ESTADO_PREVIO, ESTADO_POSTERIOR, JuegoID, Tipo, Comentarios]\n",
      "Index: []\n"
     ]
    }
   ],
   "source": [
    "# Cambiamos los valores nulos por una string personalizada en la que combinamos el id de esa fila y el tipo de esa fila\n",
    "\n",
    "# Función para generar la cadena personalizada\n",
    "def string_tipo_desc(row):\n",
    "    return f\"{row['ID']}_Tipo_Desconocido\"\n",
    "def string_comm_desc(row):\n",
    "    return f\"{row['ID']}_Comentarios_Desconocido\"\n",
    "\n",
    "# Reemplazar valores nulos\n",
    "df['Tipo'] = df.apply(lambda row: string_tipo_desc(row) if pd.isnull(row['Tipo']) else row['Tipo'], axis=1)\n",
    "df['Comentarios'] = df.apply(lambda row: string_comm_desc(row) if pd.isnull(row['Comentarios']) else row['Comentarios'], axis=1)\n",
    "\n",
    "# Mostrar los posibles valores de ambos dataframes\n",
    "print(\"   ----------    Valores únicos de la columna 'Tipo'    ----------    \")\n",
    "print(\"\\n\")\n",
    "print(df['Tipo'].unique())\n",
    "print(\"\\n\")\n",
    "\n",
    "print(\"   ----------    Valores cambiados de la columna 'Comentarios'    ----------    \")\n",
    "print(\"\\n\")\n",
    "comms = df['Comentarios'].unique().tolist()\n",
    "changes = []\n",
    "for comm in comms:\n",
    "    comm_split = comm.split('_')\n",
    "    if ('Desconocido' in comm_split):\n",
    "        changes.append(comm)\n",
    "    else:\n",
    "        continue\n",
    "print(changes)\n",
    "print(\"\\n\")\n",
    "\n",
    "# Mostramos las filas que quedan con valores nulos\n",
    "print(\"   ----------    Filas con valores nulos    ----------    \")\n",
    "print(\"\\n\")\n",
    "print(df[df.isnull().any(axis=1)])\n"
   ]
  },
  {
   "cell_type": "markdown",
   "metadata": {},
   "source": [
    "## 2.4 Mostrar Dataset Limpio y guardar CSV\n",
    "Vamos a mostrar algunas filas del dataset limpio para validar que todo está OK y guardamos el Dataset"
   ]
  },
  {
   "cell_type": "code",
   "execution_count": 40,
   "metadata": {},
   "outputs": [
    {
     "name": "stdout",
     "output_type": "stream",
     "text": [
      "   ----------    10 filas aleatorias    ----------    \n",
      "\n",
      "\n",
      "              ID FECHA_INTERVENCION TIPO_INTERVENCION ESTADO_PREVIO ESTADO_POSTERIOR  JuegoID           Tipo                              Comentarios\n",
      "10752  MNT-10753         26/11/2023        Emergencia          Malo             Malo    58368  queja_usuario  Comentario sobre el mantenimiento 10753\n",
      "7282   MNT-07283         06/02/2024        Emergencia          Malo            Bueno    25015  queja_usuario   Comentario sobre el mantenimiento 7283\n",
      "8541   MNT-08542         01/06/2024        Emergencia       Regular             Malo    59583  queja_usuario   Comentario sobre el mantenimiento 8542\n",
      "9906   MNT-09907         03/02/2024        Correctivo          Malo            Bueno  3573416  queja_usuario   Comentario sobre el mantenimiento 9907\n",
      "4978   MNT-04979         19/01/2024        Correctivo         Bueno            Bueno    25019  queja_usuario   Comentario sobre el mantenimiento 4979\n",
      "12305  MNT-12306         01/10/2024        Correctivo       Regular            Bueno  7886657  queja_usuario  Comentario sobre el mantenimiento 12306\n",
      "435    MNT-00436         13/09/2024        Emergencia          Malo             Malo  5658934     preventivo    Comentario sobre el mantenimiento 436\n",
      "8399   MNT-08400         30/11/2023        Emergencia       Regular             Malo  3567929  queja_usuario   Comentario sobre el mantenimiento 8400\n",
      "13476  MNT-13477         06/12/2023        Correctivo          Malo            Bueno    34930  queja_usuario  Comentario sobre el mantenimiento 13477\n",
      "4984   MNT-04985         26/03/2024        Preventivo       Regular            Bueno  9386945  queja_usuario   Comentario sobre el mantenimiento 4985\n",
      "\n",
      "\n",
      "   ----------    Filas Tipo con 'Desconocido'    ----------    \n",
      "\n",
      "\n",
      "              ID FECHA_INTERVENCION TIPO_INTERVENCION ESTADO_PREVIO ESTADO_POSTERIOR  JuegoID                        Tipo                              Comentarios\n",
      "7454   MNT-07455         16/03/2024        Preventivo       Regular             Malo  7928137  MNT-07455_Tipo_Desconocido   Comentario sobre el mantenimiento 7455\n",
      "9878   MNT-09879         21/05/2024        Emergencia          Malo             Malo  6761234  MNT-09879_Tipo_Desconocido        MNT-09879_Comentarios_Desconocido\n",
      "8601   MNT-08602         27/07/2024        Preventivo         Bueno            Bueno    24911  MNT-08602_Tipo_Desconocido   Comentario sobre el mantenimiento 8602\n",
      "12873  MNT-12874         12/02/2024        Correctivo          Malo             Malo  7741720  MNT-12874_Tipo_Desconocido  Comentario sobre el mantenimiento 12874\n",
      "5322   MNT-05323         01/09/2024        Emergencia       Regular          Regular  7526983  MNT-05323_Tipo_Desconocido   Comentario sobre el mantenimiento 5323\n",
      "14091  MNT-14092         09/11/2023        Emergencia         Bueno          Regular  3997077  MNT-14092_Tipo_Desconocido  Comentario sobre el mantenimiento 14092\n",
      "2955   MNT-02956         02/05/2024        Emergencia       Regular          Regular  4794256  MNT-02956_Tipo_Desconocido   Comentario sobre el mantenimiento 2956\n",
      "1483   MNT-01484         16/05/2024        Emergencia         Bueno             Malo    60050  MNT-01484_Tipo_Desconocido   Comentario sobre el mantenimiento 1484\n",
      "7868   MNT-07869         01/09/2024        Correctivo         Bueno             Malo    21345  MNT-07869_Tipo_Desconocido   Comentario sobre el mantenimiento 7869\n",
      "6888   MNT-06889         04/11/2024        Correctivo       Regular            Bueno  7240120  MNT-06889_Tipo_Desconocido   Comentario sobre el mantenimiento 6889\n",
      "\n",
      "\n",
      "   ----------    Filas Comentarios con 'Desconocido'    ----------    \n",
      "\n",
      "\n",
      "              ID FECHA_INTERVENCION TIPO_INTERVENCION ESTADO_PREVIO ESTADO_POSTERIOR  JuegoID                        Tipo                        Comentarios\n",
      "2516   MNT-02517         14/04/2024        Emergencia         Bueno            Bueno  9274927               queja_usuario  MNT-02517_Comentarios_Desconocido\n",
      "9664   MNT-09665         03/05/2024        Preventivo       Regular          Regular  9433288                  preventivo  MNT-09665_Comentarios_Desconocido\n",
      "14771  MNT-14772         27/11/2023        Emergencia          Malo            Bueno  7526872               queja_usuario  MNT-14772_Comentarios_Desconocido\n",
      "1967   MNT-01968         09/07/2024        Preventivo          Malo             Malo    59556                  preventivo  MNT-01968_Comentarios_Desconocido\n",
      "14179  MNT-14180         04/10/2024        Preventivo       Regular             Malo    21460               queja_usuario  MNT-14180_Comentarios_Desconocido\n",
      "7875   MNT-07876         27/09/2024        Emergencia         Bueno          Regular    33186                  preventivo  MNT-07876_Comentarios_Desconocido\n",
      "14449  MNT-14450         20/11/2023        Correctivo       Regular          Regular    19928               queja_usuario  MNT-14450_Comentarios_Desconocido\n",
      "9878   MNT-09879         21/05/2024        Emergencia          Malo             Malo  6761234  MNT-09879_Tipo_Desconocido  MNT-09879_Comentarios_Desconocido\n",
      "11839  MNT-11840         30/03/2024        Correctivo       Regular            Bueno  4823200                  preventivo  MNT-11840_Comentarios_Desconocido\n",
      "5091   MNT-05092         05/04/2024        Emergencia         Bueno            Bueno  7840615               queja_usuario  MNT-05092_Comentarios_Desconocido\n",
      "\n",
      "\n",
      "Dataset limpio guardado\n"
     ]
    }
   ],
   "source": [
    "# Enseñamos 20 filas aleatorias para ver cómo quedan\n",
    "print(\"   ----------    10 filas aleatorias    ----------    \")\n",
    "print(\"\\n\")\n",
    "print(df.sample(10))\n",
    "print(\"\\n\")\n",
    "\n",
    "# Mostramos 10 filas que posean el comentario 'Desconocido' y 10 filas que posean el tipo 'Desconocido'\n",
    "print(\"   ----------    Filas Tipo con 'Desconocido'    ----------    \")\n",
    "print(\"\\n\")\n",
    "print(df[df['Tipo'].str.contains('Desconocido')].sample(10))\n",
    "print(\"\\n\")\n",
    "print(\"   ----------    Filas Comentarios con 'Desconocido'    ----------    \")\n",
    "print(\"\\n\")\n",
    "print(df[df['Comentarios'].str.contains('Desconocido')].sample(10))\n",
    "\n",
    "# Guardamos el dataset limpio\n",
    "df.to_csv('../MantenimientoLimpio.csv', index=False)\n",
    "print(\"\\n\")\n",
    "print(\"Dataset limpio guardado\")"
   ]
  }
 ],
 "metadata": {
  "kernelspec": {
   "display_name": "Python 3",
   "language": "python",
   "name": "python3"
  },
  "language_info": {
   "codemirror_mode": {
    "name": "ipython",
    "version": 3
   },
   "file_extension": ".py",
   "mimetype": "text/x-python",
   "name": "python",
   "nbconvert_exporter": "python",
   "pygments_lexer": "ipython3",
   "version": "3.12.7"
  }
 },
 "nbformat": 4,
 "nbformat_minor": 2
}
