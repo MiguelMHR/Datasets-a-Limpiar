{
 "cells": [
  {
   "cell_type": "markdown",
   "metadata": {},
   "source": [
    "# 1. EDA\n",
    "En este apartado se pretende analizar los datasets para poder enfocar mejor la limpieza"
   ]
  },
  {
   "cell_type": "markdown",
   "metadata": {},
   "source": [
    "## 1.1 Importación y carga de datos\n",
    "Debemos declarar las librerías que usamos y leer el correspondiente archivo de datos"
   ]
  },
  {
   "cell_type": "code",
   "execution_count": 1,
   "metadata": {},
   "outputs": [],
   "source": [
    "# Importación de librerías\n",
    "import pandas as pd\n",
    "\n",
    "# Lectura dataset\n",
    "df = pd.read_csv('../JuegosSucio.csv')"
   ]
  },
  {
   "cell_type": "markdown",
   "metadata": {},
   "source": [
    "## 1.2 Configuración de Pandas\n",
    "Para poder leer bien los resultados de las ejecuciones, vamos a configurar tanto el número máximo de columnas como el número máximo de filas"
   ]
  },
  {
   "cell_type": "code",
   "execution_count": 2,
   "metadata": {},
   "outputs": [],
   "source": [
    "# Número máximo de filas a mostrar\n",
    "pd.set_option('display.max_rows', None)\n",
    "\n",
    "# Número máximo de columnas a mostrar\n",
    "pd.set_option('display.max_columns', None)\n",
    "pd.set_option('display.max_colwidth', None)\n",
    "pd.set_option('display.width', 2000)"
   ]
  },
  {
   "cell_type": "markdown",
   "metadata": {},
   "source": [
    "## 1.3 Descripción general del dataset\n",
    "Para poder conocer ciertas características relevantes del dataset, como el número de instancias (filas) y características (columnas) procederemos a usar diferentes funciones de Pandas\n"
   ]
  },
  {
   "cell_type": "code",
   "execution_count": 3,
   "metadata": {},
   "outputs": [
    {
     "name": "stdout",
     "output_type": "stream",
     "text": [
      "                 ID    COD_BARRIO  COD_DISTRITO    COORD_GIS_X   COORD_GIS_Y       LATITUD      LONGITUD    COD_POSTAL           NDP\n",
      "count  1.457300e+04  14573.000000  14563.000000   14572.000000  1.457200e+04  14573.000000  14573.000000  14274.000000  1.339300e+04\n",
      "mean   3.814316e+06    128.042819     12.428071  442711.912339  4.474460e+06     40.416010     -3.675021  27815.398136  1.979662e+07\n",
      "std    3.742758e+06     53.288250      5.333806    4293.667555  4.637075e+03      0.337419      0.059007   2451.379141  8.411893e+06\n",
      "min    1.864600e+04     11.000000      1.000000  429536.820000  4.464943e+06      0.000000     -3.831256      0.000000  1.100019e+07\n",
      "25%    3.331400e+04     91.000000      9.000000  439600.892500  4.470545e+06     40.383502     -3.712022  28022.000000  1.109662e+07\n",
      "50%    3.580354e+06    131.000000     13.000000  442744.680000  4.473559e+06     40.410791     -3.674777  28031.000000  2.007771e+07\n",
      "75%    7.802495e+06    171.000000     17.000000  446219.894250  4.478408e+06     40.454414     -3.633803  28042.000000  3.101188e+07\n",
      "max    9.536975e+06    215.000000     21.000000  453393.182000  4.487427e+06     40.534905      0.000000  28055.000000  3.106979e+07\n",
      "\n",
      "\n",
      "Número de filas:  14573\n",
      "Número de columnas:  24\n",
      "\n",
      "\n",
      "<class 'pandas.core.frame.DataFrame'>\n",
      "RangeIndex: 14573 entries, 0 to 14572\n",
      "Data columns (total 24 columns):\n",
      " #   Column              Non-Null Count  Dtype  \n",
      "---  ------              --------------  -----  \n",
      " 0   ID                  14573 non-null  int64  \n",
      " 1   DESC_CLASIFICACION  14573 non-null  object \n",
      " 2   COD_BARRIO          14573 non-null  int64  \n",
      " 3   BARRIO              14573 non-null  object \n",
      " 4   COD_DISTRITO        14563 non-null  float64\n",
      " 5   DISTRITO            14563 non-null  object \n",
      " 6   ESTADO              14573 non-null  object \n",
      " 7   COORD_GIS_X         14572 non-null  float64\n",
      " 8   COORD_GIS_Y         14572 non-null  float64\n",
      " 9   SISTEMA_COORD       14573 non-null  object \n",
      " 10  LATITUD             14573 non-null  float64\n",
      " 11  LONGITUD            14573 non-null  float64\n",
      " 12  TIPO_VIA            1960 non-null   object \n",
      " 13  NOM_VIA             1959 non-null   object \n",
      " 14  NUM_VIA             1962 non-null   object \n",
      " 15  COD_POSTAL          14274 non-null  float64\n",
      " 16  DIRECCION_AUX       11813 non-null  object \n",
      " 17  NDP                 13393 non-null  float64\n",
      " 18  FECHA_INSTALACION   13875 non-null  object \n",
      " 19  CODIGO_INTERNO      13867 non-null  object \n",
      " 20  CONTRATO_COD        14573 non-null  object \n",
      " 21  MODELO              8100 non-null   object \n",
      " 22  tipo_juego          14573 non-null  object \n",
      " 23  ACCESIBLE           2189 non-null   object \n",
      "dtypes: float64(7), int64(2), object(15)\n",
      "memory usage: 2.7+ MB\n",
      "None\n"
     ]
    }
   ],
   "source": [
    "# Descripción de parámetros generales -> count, mean, std, min, 25%, 50%, 75%, max\n",
    "print(df.describe())\n",
    "\n",
    "# Número de filas y columnas del dataset\n",
    "print(\"\\n\")\n",
    "print(\"Número de filas: \", df.shape[0])\n",
    "print(\"Número de columnas: \", df.shape[1])\n",
    "print(\"\\n\")\n",
    "\n",
    "# Para saber el tipo de variable de cada columna\n",
    "print(df.info())"
   ]
  },
  {
   "cell_type": "markdown",
   "metadata": {},
   "source": [
    "## 1.4 Observación inicial del dataset\n",
    "Vamos a mostrar 30 entradas para poder observar cómo es realmente por dentro el dataset"
   ]
  },
  {
   "cell_type": "code",
   "execution_count": 4,
   "metadata": {},
   "outputs": [
    {
     "name": "stdout",
     "output_type": "stream",
     "text": [
      "   ----------    10 primeras filas    ----------    \n",
      "\n",
      "\n",
      "        ID           DESC_CLASIFICACION  COD_BARRIO          BARRIO  COD_DISTRITO               DISTRITO     ESTADO  COORD_GIS_X  COORD_GIS_Y SISTEMA_COORD    LATITUD  LONGITUD TIPO_VIA NOM_VIA NUM_VIA  COD_POSTAL              DIRECCION_AUX         NDP    FECHA_INSTALACION CODIGO_INTERNO CONTRATO_COD MODELO  tipo_juego ACCESIBLE\n",
      "0  9536972         Varios Juegos en CDE         125        MOSCARDO          12.0                  USERA  OPERATIVO   440127.235  4471484.870        ETRS89  40.391812 -3.705463      NaN     NaN     NaN     28026.0                   C/TORERO  11084099.0  2024-01-31 00:00:00        D127106         AE21    NaN  deportivas       NaN\n",
      "1  9536966         Varios Juegos en CDE         125        MOSCARDO          12.0                  USERA  OPERATIVO   440120.720  4471484.010        ETRS89  40.391804 -3.705540      NaN     NaN     NaN     28026.0                   C/TORERO  11084099.0           31/01/2024        D127102         AE21    NaN  deportivas       NaN\n",
      "2  9536965         Varios Juegos en CDE         125        MOSCARDO          12.0                  úsérá  OPERATIVO   440122.796  4471479.925        ETRS89  40.391767 -3.705515      NaN     NaN     NaN     28026.0                   C/TORERO  11084099.0           2024/01/31        D127101         AE21    NaN  deportivas       NaN\n",
      "3  9535131      Barras paralelas en CDE         116      búénávístá          11.0            CARABANCHEL  OPERATIVO   436239.954  4468572.408        ETRS89  40.365287 -3.750971      NaN     NaN     NaN     28054.0       C/BLANCA CV C/DINERO  31069202.0           09-15-2023        D117105         AE21    NaN  deportivas       NaN\n",
      "4  9535128        Multiejercicio en CDE         116      BÚENAVÍSTÁ          11.0            CARABANCHEL  OPERATIVO   436234.994  4468565.132        ETRS89  40.365221 -3.751028      NaN     NaN     NaN     28054.0       C/BLANCA CV C/DINERO  31069202.0     fecha_incorrecta        D117102         AE21    NaN  deportivas       NaN\n",
      "5  9535127  Banco de abdominales en CDE         116      BUENAVISTA          11.0            CÁRABÁNCHÉL  OPERATIVO   436241.807  4468566.587        ETRS89  40.365235 -3.750948      NaN     NaN     NaN     28054.0       C/BLANCA CV C/DINERO  31069202.0           09-15-2023        D117101         AE21    NaN  deportivas       NaN\n",
      "6  9494201         Varios Juegos en CDE          65   VALDEACEDERAS           6.0                 tetuan  OPERATIVO   439936.890  4479630.206        ETRS89  40.465175 -3.708475      NaN     NaN     NaN     28039.0  PASEO DE LA DIRECCIÓN 215  31028286.0     fecha_incorrecta        D065803         AE21    NaN  deportivas       NaN\n",
      "7  9493030  Banco de abdominales en CDE          54  HISPANOAMERICA           5.0              CHÁMARTIN  OPERATIVO   442788.959  4478566.027        ETRS89  40.455790 -3.674740      NaN     NaN     NaN     28016.0             PUERTO RICO 27  11025193.0     fecha_incorrecta        D050712         AE21    NaN  deportivas       NaN\n",
      "8  9493021         Varios Juegos en CDE          54  híspánóámérícá           5.0              CHAMÁRTÍN  OPERATIVO   442778.376  4478564.042        ETRS89  40.455771 -3.674865      NaN     NaN     NaN     28016.0             PUERTO RICO 27  11025193.0  2024-03-07 00:00:00        D050706         AE21    NaN  deportivas       NaN\n",
      "9  9492867         Varios Juegos en CDE          86        VALVERDE           8.0  fúencarral - él pardo  OPERATIVO   441924.663  4481670.475        ETRS89  40.483696 -3.685217      NaN     NaN     NaN     28034.0           PARQUE DE BEGOÑA  11047058.0           04/04/2024        D085508         AE21    NaN  deportivas       NaN\n",
      "\n",
      "\n",
      "   ----------    10 filas aleatorias    ----------    \n",
      "\n",
      "\n",
      "            ID                     DESC_CLASIFICACION  COD_BARRIO         BARRIO  COD_DISTRITO               DISTRITO     ESTADO  COORD_GIS_X  COORD_GIS_Y SISTEMA_COORD    LATITUD  LONGITUD TIPO_VIA                          NOM_VIA NUM_VIA  COD_POSTAL                                      DIRECCION_AUX         NDP FECHA_INSTALACION CODIGO_INTERNO CONTRATO_COD                           MODELO  tipo_juego ACCESIBLE\n",
      "7542   9278048              Balancín en Área Infantil          36     niño jesus           3.0                 RETÍRO  OPERATIVO   443027.844  4473421.953        ETRS89  40.409466 -3.671462      NaN                              NaN     NaN     28007.0                                 JESUS APRENDIZ, 19  11013344.0          09/03/22        0301410         AE21                              NaN  infantiles       NaN\n",
      "1518   3756734              Barra defFlexiones en CDE          52    PROSPERIDAD           5.0              CHÁMÁRTIN  OPERATIVO   443654.050  4478165.830        ETRS89  40.452244 -3.664502      NaN                              NaN     NaN     28002.0                PARQUE FELIX RODRIGUEZ DE LA FUENTE  31041818.0  fecha_incorrecta        D050105         AE21               BARRA DE DOMINADAS  deportivas       NaN\n",
      "517    7928055            Banco de abdominales en CDE         182  SANTA EUGENIA          18.0      VÍLLA DÉ VALLECÁS  OPERATIVO   448302.285  4470297.504        ETRS89  40.381663 -3.609048      NaN                              NaN     NaN     28031.0                                     SANTA EGUGENIA  11131614.0  fecha_incorrecta        D186303         AE21                              NaN  deportivas       NaN\n",
      "11915  5240964              Columpio en Área Infantil         143     márróqúíná          14.0              moratalaz  OPERATIVO   446200.470  4473751.450        ETRS89  40.412645 -3.634100  AVENIDA  Avenida del Doctor Garcia Tapia     125     28030.0                                                NaN         NaN               NaN            NaN            6  COL-2 COLUMPIO 2 ASIENTOS CESTA  infantiles        NO\n",
      "6660   9225690            Multijuego en Área Infantil         122        ORCASUR          12.0                  usera  OPERATIVO   440924.357  4468874.106        ETRS89  40.368350 -3.695829      NaN                              NaN     NaN     28041.0                                      CALLE PINSAPO  20089216.0          11/11/22        1211607         AE21                              NaN  infantiles       NaN\n",
      "5429   5003359      Varios Juegos en Áreas Infantiles         172  sán crístóbál          17.0             víllávérdé  OPERATIVO   441438.052  4466431.985        ETRS89  40.346386 -3.689555      NaN                              NaN     NaN     28021.0                               ESTRONCIO, 000015  A  11127564.0        11-02-2018        C177605         AE21                              NaN  infantiles       NaN\n",
      "810    7741935                   Varios Juegos en CDE         152   pueblo nuevo          15.0          CIUDAD LINEAL  OPERATIVO   445340.560  4475268.460        ETRS89  40.426256 -3.644365    CALLE                          ARRIAGA      27     28017.0                                                NaN  11106708.0        2021/02/10        D155303         AE21                              NaN  deportivas       NaN\n",
      "5217     22381  Tobogan Autoportante en Área Infantil         164  PINAR DEL REY          16.0              HÓRTÁLEZA  OPERATIVO   445732.229  4480610.460        ETRS89  40.474405 -3.640204      NaN                              NaN     NaN     28033.0   C · CALLE YARUMAL 6 , ASCENDIENTE 1: 164 · PINAR  11119244.0  fecha_incorrecta        1601606         AE21                  1036 · ELEFANTE  infantiles       NaN\n",
      "695    7861113                   Varios Juegos en CDE         205          rosas          20.0  san blas - canillejas  OPERATIVO   449299.140  4475811.610        ETRS89  40.431399 -3.597744  AVENIDA                       ARCENTALES      57     28022.0                                                NaN  31042641.0  fecha_incorrecta        C208408         AE21                              NaN  deportivas       NaN\n",
      "11025    33676            Multijuego en Área Infantil         152   PUEBLO NUEVO          15.0          CIUDAD LINEAL  OPERATIVO   445533.744  4475152.119        ETRS89  40.425220 -3.642078      NaN                              NaN     NaN     28017.0  Pq · PARQUE ARRIAGA , ASCENDIENTE 1: 152 · PUEBLO  11106777.0        01-01-2004        1505904         AE21                              NaN  infantiles       NaN\n",
      "\n",
      "\n",
      "   ----------    10 últimas filas    ----------    \n",
      "\n",
      "\n",
      "            ID                       DESC_CLASIFICACION  COD_BARRIO                BARRIO  COD_DISTRITO               DISTRITO     ESTADO  COORD_GIS_X  COORD_GIS_Y SISTEMA_COORD    LATITUD  LONGITUD TIPO_VIA NOM_VIA NUM_VIA  COD_POSTAL                                             DIRECCION_AUX         NDP    FECHA_INSTALACION CODIGO_INTERNO CONTRATO_COD                   MODELO  tipo_juego ACCESIBLE\n",
      "14563  9495213   Ejercicio de dedos en Áreas de Mayores          73             TRAFALGAR           7.0               chámbérí  OPERATIVO   440515.694  4476056.970        ETRS89  40.433028 -3.701314      NaN     NaN     NaN     28010.0         Pza · PLAZA OLAVIDE 3 , ASCENDIENTE 1: 073 · TRAF  20013816.0     fecha_incorrecta        M070109         AE21                      NaN     mayores       NaN\n",
      "14564  9470459  Ejercicio de brazos en Áreas de Mayores          82        FÚENTÉLÁRREINÁ           8.0  FUENCARRAL - EL PARDO  OPERATIVO   437715.633  4481971.263        ETRS89  40.486101 -3.734904      NaN     NaN     NaN     28049.0  CALLE LILI ALVAREZ CON CALLE MADRE TERESA DE CALCUTA      31054537.0             11/03/24        M082608         AE21                      NaN     mayores       NaN\n",
      "14565  9470318   Ejercicio de dedos en Áreas de Mayores          82        FUENTELARREINA           8.0  FUÉNCARRAL - EL PARDÓ  OPERATIVO   437721.322  4481978.804        ETRS89  40.486169 -3.734838      NaN     NaN     NaN     28049.0  CALLE LILI ALVAREZ CON CALLE MADRE TERESA DE CALCUTA      31054537.0           2024/03/11        M082604         AE21                      NaN     mayores       NaN\n",
      "14566  9446475  Ejercicio de brazos en Áreas de Mayores          84                 PILAR           8.0  fúéncárrál - él párdó  OPERATIVO   439693.281  4481281.137        ETRS89  40.480030 -3.711505      NaN     NaN     NaN     28029.0                                    PASEO DE LA VAGUADA 11  20095215.0     fecha_incorrecta        M082509         AE21                      NaN     mayores       NaN\n",
      "14567  9470451        Banco pedales en Áreas de Mayores          82        FUÉNTÉLARRÉINA           8.0  FUENCARRAL - EL PARDO  OPERATIVO   437720.264  4481969.411        ETRS89  40.486084 -3.734849      NaN     NaN     NaN     28049.0  CALLE LILI ALVAREZ CON CALLE MADRE TERESA DE CALCUTA      31054537.0           2024/03/11        M082607         AE21                      NaN     mayores       NaN\n",
      "14568  7537977  Ejercicio de brazos en Áreas de Mayores         121             orcasitas          12.0                  USERA  OPERATIVO   439875.323  4468729.374        ETRS89  40.366971 -3.708171      NaN     NaN     NaN     28041.0                      CALLE DE RONDA DE LAS COOPERATIVAS 6  31024108.0           12-28-2020        M121810         AE21           RECORRIDO OCHO     mayores       NaN\n",
      "14569  8976366                     Varios Juegos en CDE         183  ensanche de vallecas          18.0      villa de vallecas  OPERATIVO   449288.296  4468370.527        ETRS89  40.364364 -3.597279      NaN     NaN     NaN     28051.0                                    C MARIA TERESA DE LEON  31036623.0           13/10/2022        C187704         AE21                      NaN  deportivas       NaN\n",
      "14570    19880  Ejercicio de brazos en Áreas de Mayores          26  palos de la frontera           2.0             ARGANZUELA  OPERATIVO   440965.880  4472623.250        ETRS89  40.402127 -3.695688      NaN     NaN     NaN     28045.0             CALLE CANARIAS 24 , ASCENDIENTE 1: 026 · PALO  11010068.0           01/01/2004        M020101         AE21  0678 · RUEDA DE HOMBRRO     mayores       NaN\n",
      "14571  9493016              Multijuego en Área Infantil         136              númáncíá          13.0     PUENTE DE VALLECAS  OPERATIVO   444248.246  4472164.895        ETRS89  40.398224 -3.656969      NaN     NaN     NaN     28038.0                            SIERRA DE CUERDA LARGA, 000055  11099368.0  2024-03-13 00:00:00        1314414         AE21                      NaN  infantiles       NaN\n",
      "14572    59582                Balancín en Área Infantil         133       pálomerás bajas          13.0     púénté dé vállécás  OPERATIVO   444502.884  4469839.653        ETRS89  40.377294 -3.653766      NaN     NaN     NaN     28018.0                                         NOVECENTO, 000006  20080208.0     fecha_incorrecta        1313807         AE21                    AVION  infantiles       NaN\n"
     ]
    }
   ],
   "source": [
    "# Mostramos las 10 primeras filas, 10 filas aleatorias y las 10 últimas\n",
    "print(\"   ----------    10 primeras filas    ----------    \")\n",
    "print(\"\\n\")\n",
    "print(df.head(10))\n",
    "print(\"\\n\")\n",
    "print(\"   ----------    10 filas aleatorias    ----------    \")\n",
    "print(\"\\n\")\n",
    "print(df.sample(10))\n",
    "print(\"\\n\")\n",
    "print(\"   ----------    10 últimas filas    ----------    \")\n",
    "print(\"\\n\")\n",
    "print(df.tail(10))"
   ]
  },
  {
   "cell_type": "markdown",
   "metadata": {},
   "source": [
    "## 1.5 Revisión de valores nulos\n",
    "Como ya se ha visto en el anterior apartado (info), podemos observar los valores nulos de esa forma. Pero se puede observar de una forma más visual en esta sección y, además, hay que tener en cuenta valores como el cero que también pueden considerarse nulos."
   ]
  },
  {
   "cell_type": "code",
   "execution_count": 5,
   "metadata": {},
   "outputs": [
    {
     "name": "stdout",
     "output_type": "stream",
     "text": [
      "    ----------    Valores faltantes    ----------    \n",
      "\n",
      "\n",
      "ID                        0\n",
      "DESC_CLASIFICACION        0\n",
      "COD_BARRIO                0\n",
      "BARRIO                    0\n",
      "COD_DISTRITO             10\n",
      "DISTRITO                 10\n",
      "ESTADO                    0\n",
      "COORD_GIS_X               1\n",
      "COORD_GIS_Y               1\n",
      "SISTEMA_COORD             0\n",
      "LATITUD                   0\n",
      "LONGITUD                  0\n",
      "TIPO_VIA              12613\n",
      "NOM_VIA               12614\n",
      "NUM_VIA               12611\n",
      "COD_POSTAL              299\n",
      "DIRECCION_AUX          2760\n",
      "NDP                    1180\n",
      "FECHA_INSTALACION       698\n",
      "CODIGO_INTERNO          706\n",
      "CONTRATO_COD              0\n",
      "MODELO                 6473\n",
      "tipo_juego                0\n",
      "ACCESIBLE             12384\n",
      "dtype: int64\n",
      "\n",
      "\n",
      "    ----------    Valores cero    ----------    \n",
      "\n",
      "\n",
      "ID                      0\n",
      "DESC_CLASIFICACION      0\n",
      "COD_BARRIO              0\n",
      "BARRIO                  0\n",
      "COD_DISTRITO            0\n",
      "DISTRITO                0\n",
      "ESTADO                  0\n",
      "COORD_GIS_X             0\n",
      "COORD_GIS_Y             0\n",
      "SISTEMA_COORD           0\n",
      "LATITUD                 1\n",
      "LONGITUD                1\n",
      "TIPO_VIA                0\n",
      "NOM_VIA                 0\n",
      "NUM_VIA                 0\n",
      "COD_POSTAL            110\n",
      "DIRECCION_AUX           0\n",
      "NDP                     0\n",
      "FECHA_INSTALACION       0\n",
      "CODIGO_INTERNO          0\n",
      "CONTRATO_COD            0\n",
      "MODELO                  0\n",
      "tipo_juego              0\n",
      "ACCESIBLE               0\n",
      "dtype: int64\n"
     ]
    }
   ],
   "source": [
    "# Para poder saber el número de valores faltantes\n",
    "print(\"    ----------    Valores faltantes    ----------    \")\n",
    "print(\"\\n\")\n",
    "print(df.isnull().sum())\n",
    "print(\"\\n\")\n",
    "\n",
    "# Para poder saber el número de ceros en cada columna\n",
    "print(\"    ----------    Valores cero    ----------    \")\n",
    "print(\"\\n\")\n",
    "print((df == 0).sum())"
   ]
  },
  {
   "cell_type": "markdown",
   "metadata": {},
   "source": [
    "No existen valores nulos en este dataset, por lo que no se hará una limpieza de nulos"
   ]
  },
  {
   "cell_type": "markdown",
   "metadata": {},
   "source": [
    "## 1.6 Identificación de fechas no estandarizadas\n",
    "Se deben identificar las fechas que no se encuentran en el formato adecuado para MongoDB (DD/MM/YYYY)"
   ]
  },
  {
   "cell_type": "code",
   "execution_count": 68,
   "metadata": {},
   "outputs": [
    {
     "name": "stdout",
     "output_type": "stream",
     "text": [
      "   ----------    Fechas    ----------    \n",
      "\n",
      "\n",
      "16615    2024-10-04\n",
      "15503    2024/09/19\n",
      "9663     06-04-2024\n",
      "10234    08-09-2024\n",
      "9823     02-21-2024\n",
      "16560    04-16-2024\n",
      "10158    2024-04-30\n",
      "4953     28-01-2024\n",
      "4294     02/01/2024\n",
      "12459    14/07/2024\n",
      "4554     02-21-2024\n",
      "6221     18/11/2023\n",
      "11768    2024/08/08\n",
      "1362     11-01-2024\n",
      "9543     2024/08/20\n",
      "4575     2024-02-23\n",
      "7518     10-21-2023\n",
      "4187     2023/11/05\n",
      "8780     19/03/2024\n",
      "15235    08/08/2024\n",
      "Name: FECHA_REPORTE, dtype: object\n"
     ]
    }
   ],
   "source": [
    "# Vamos a mostrar algunas fechas para poder observar en qué formato están\n",
    "print(\"   ----------    Fechas    ----------    \")\n",
    "print(\"\\n\")\n",
    "print(df['FECHA_REPORTE'].sample(20))"
   ]
  },
  {
   "cell_type": "markdown",
   "metadata": {},
   "source": [
    "Como se puede apreciar, las fechas se encuentran en diversos formatos que deben ser homogeneizados"
   ]
  },
  {
   "cell_type": "markdown",
   "metadata": {},
   "source": [
    "## 1.7 Identificación de registros duplicados\n",
    "Debemos validar que no existen filas iguales que ensucien el dataset, sobre todo estando pendiente de duplicaciones de la clave primaria"
   ]
  },
  {
   "cell_type": "code",
   "execution_count": 69,
   "metadata": {},
   "outputs": [
    {
     "name": "stdout",
     "output_type": "stream",
     "text": [
      "   ----------    Filas duplicadas    ----------    \n",
      "\n",
      "\n",
      "          ID TIPO_INCIDENCIA FECHA_REPORTE   ESTADO        UsuarioID MantenimeintoID\n",
      "17630  12633      Vandalismo    02/12/2023  Cerrada  ['903-64-1048']   ['MNT-11152']\n",
      "\n",
      "\n",
      "Número de filas duplicadas:  1\n",
      "\n",
      "\n",
      "   ----------    Filas con el mismo ID    ----------    \n",
      "\n",
      "\n",
      "          ID TIPO_INCIDENCIA FECHA_REPORTE   ESTADO                                      UsuarioID                          MantenimeintoID\n",
      "430      431          Rotura    08-14-2024  Cerrada  ['122-92-6750', '293-31-6681', '599-62-2214']                            ['MNT-03964']\n",
      "17628    431          Rotura    14/08/2024  Cerrada  ['122-92-6750', '293-31-6681', '599-62-2214']                            ['MNT-03964']\n",
      "9947    9948        Desgaste    03-04-2024  Cerrada                                ['722-68-2700']                            ['MNT-14428']\n",
      "17631   9948        Desgaste    04-03-2024  Cerrada                                ['722-68-2700']                            ['MNT-14428']\n",
      "17630  12633      Vandalismo    02/12/2023  Cerrada                                ['903-64-1048']                            ['MNT-11152']\n",
      "12632  12633      Vandalismo    02/12/2023  Cerrada                                ['903-64-1048']                            ['MNT-11152']\n",
      "17632  13653        Desgaste    04-12-2024  Cerrada                                ['992-49-1408']                            ['MNT-13712']\n",
      "13652  13653        Desgaste    12/04/2024  Cerrada                                ['992-49-1408']                            ['MNT-13712']\n",
      "17629  13905        Desgaste    09-08-2024  Cerrada                                ['853-84-5034']  ['MNT-04576', 'MNT-10566', 'MNT-11723']\n",
      "13904  13905        Desgaste    2024/08/09  Cerrada                                ['853-84-5034']  ['MNT-04576', 'MNT-10566', 'MNT-11723']\n",
      "\n",
      "\n",
      "Número de filas con el mismo ID:  10\n"
     ]
    }
   ],
   "source": [
    "# Ver las filas duplicadas\n",
    "print(\"   ----------    Filas duplicadas    ----------    \")\n",
    "print(\"\\n\")\n",
    "print(df[df.duplicated()])\n",
    "print(\"\\n\")\n",
    "# Número de filas duplicadas\n",
    "print(\"Número de filas duplicadas: \", df.duplicated().sum())\n",
    "print(\"\\n\")\n",
    "\n",
    "# Filtrar filas que tienen el mismo NIF\n",
    "duplicados = df.groupby('ID').filter(lambda x: len(x) > 1)\n",
    "\n",
    "# Ordenar por NIF para que las filas con el mismo NIF se visualicen una encima de la otra\n",
    "duplicados = duplicados.sort_values(by='ID')\n",
    "\n",
    "# Mostrar las filas con la misma PK\n",
    "print(\"   ----------    Filas con el mismo ID    ----------    \")\n",
    "print(\"\\n\")\n",
    "print(duplicados)\n",
    "print(\"\\n\")\n",
    "print(\"Número de filas con el mismo ID: \", duplicados.shape[0])"
   ]
  },
  {
   "cell_type": "markdown",
   "metadata": {},
   "source": [
    "Existen filas iguales que solo difieren en el formato de la fecha, por lo que se pueden considerar filas iguales que deberán ser eliminadas, ya que no aportan información adicional y solo ensucian el dataset"
   ]
  },
  {
   "cell_type": "markdown",
   "metadata": {},
   "source": [
    "## 1.8 Búsqueda de errores tipográficos\n",
    "Hay ciertos atributos de texto que pueden contar con determinados errores tipográficos que deben ser solucionados, como los nombres de áreas, juegos, usuarios y ubicaciones"
   ]
  },
  {
   "cell_type": "markdown",
   "metadata": {},
   "source": [
    "En este dataset no encontramos ningún atributo similar, por lo que este paso no se realizará"
   ]
  },
  {
   "cell_type": "markdown",
   "metadata": {},
   "source": [
    "## 1.9 Identificación de valores enum fuera de campo\n",
    "Hay ciertos atributos que solo deben poseer ciertos valores (como Operativo-NoOperativo). Hace falta identificar aquellos valores de ese campo fuera de la norma"
   ]
  },
  {
   "cell_type": "code",
   "execution_count": 70,
   "metadata": {},
   "outputs": [
    {
     "name": "stdout",
     "output_type": "stream",
     "text": [
      "   ----------    Valores distintos de la columna 'TIPO:INCIDENCIA'    ----------    \n",
      "\n",
      "\n",
      "['Desgaste' 'Rotura' 'Vandalismo' 'Mal funcionamiento']\n",
      "\n",
      "\n",
      "   ----------    Valores distintos de la columna 'ESTADO'    ----------    \n",
      "\n",
      "\n",
      "['Cerrada' 'Abierta']\n"
     ]
    }
   ],
   "source": [
    "# Muestra todos los valores distintos de la columna 'TIPO_INCIDENCIA'\n",
    "print(\"   ----------    Valores distintos de la columna 'TIPO:INCIDENCIA'    ----------    \")\n",
    "print(\"\\n\")\n",
    "print(df['TIPO_INCIDENCIA'].unique())\n",
    "print(\"\\n\")\n",
    "\n",
    "# Muestra todos los valores distintos de la columna 'ESTADO'\n",
    "print(\"   ----------    Valores distintos de la columna 'ESTADO'    ----------    \")\n",
    "print(\"\\n\")\n",
    "print(df['ESTADO'].unique())"
   ]
  },
  {
   "cell_type": "markdown",
   "metadata": {},
   "source": [
    "Todos los Enums poseen valores acordes con lo esperado, por lo que no se va a realizar una limpieza de ellos."
   ]
  },
  {
   "cell_type": "markdown",
   "metadata": {},
   "source": [
    "## 1.10 Validación de las coordenadas y otros campos geoespaciales\n",
    "Hay algunas veces en las que los códigos postales no respetan la identificación de Madrid (280..) o el formato, ya sean códigos postales u otros atributos de geolocalización"
   ]
  },
  {
   "cell_type": "markdown",
   "metadata": {},
   "source": [
    "En este dataset no encontramos valores de localización, por lo que este paso no se realizará"
   ]
  },
  {
   "cell_type": "markdown",
   "metadata": {},
   "source": [
    "## 1.11 Identificación de unidades de medida en un formato no estandarizado\n",
    "Se deben identificar las filas que no posean un formato estándar"
   ]
  },
  {
   "cell_type": "markdown",
   "metadata": {},
   "source": [
    "En este dataset no encontramos valores de unidades de medida, por lo que este paso no se realizará"
   ]
  },
  {
   "cell_type": "markdown",
   "metadata": {},
   "source": [
    "## 1.12 Otros atributos a corregir\n",
    "En esta sección se mencionarán aquellos atributos que también deban ser limpiados por errores"
   ]
  },
  {
   "cell_type": "markdown",
   "metadata": {},
   "source": [
    "### 1.12.1 Búsqueda de IDs"
   ]
  },
  {
   "cell_type": "code",
   "execution_count": 71,
   "metadata": {},
   "outputs": [
    {
     "name": "stdout",
     "output_type": "stream",
     "text": [
      "   ----------    IDs    ----------    \n",
      "\n",
      "\n",
      "4451      4452\n",
      "2816      2817\n",
      "14954    14955\n",
      "13827    13828\n",
      "1340      1341\n",
      "7977      7978\n",
      "13084    13085\n",
      "7611      7612\n",
      "17027    17028\n",
      "7205      7206\n",
      "Name: ID, dtype: int64\n"
     ]
    }
   ],
   "source": [
    "# Vamos a mostrar 10 IDs para ver cómo se encuentran\n",
    "print(\"   ----------    IDs    ----------    \")\n",
    "print(\"\\n\")\n",
    "print(df['ID'].sample(10))"
   ]
  },
  {
   "cell_type": "markdown",
   "metadata": {},
   "source": [
    "Vamos a validar que los IDs son números enteros"
   ]
  },
  {
   "cell_type": "code",
   "execution_count": 72,
   "metadata": {},
   "outputs": [
    {
     "name": "stdout",
     "output_type": "stream",
     "text": [
      "   ----------    Validación de ID    ----------    \n",
      "\n",
      "\n",
      "True\n"
     ]
    }
   ],
   "source": [
    "# Validar que todos los valores de ID sean enteros\n",
    "print(\"   ----------    Validación de ID    ----------    \")\n",
    "print(\"\\n\")\n",
    "print(df['ID'].apply(lambda x: x.is_integer()).all())"
   ]
  },
  {
   "cell_type": "markdown",
   "metadata": {},
   "source": [
    "Por ende, todos los IDs son válidos y no se deberán limpiar"
   ]
  },
  {
   "cell_type": "markdown",
   "metadata": {},
   "source": [
    "### 1.12.2 Validar todos los valores de la columna UsuarioID y MantenimientoID\n",
    "Hay que comprobar que todos los valores de estos campos siguen el formato de los ID de usuarios (XXX-XX-XXXX) sacado de Usuarios y de los IDs de mantenimiento, sacados de Mantenimiento"
   ]
  },
  {
   "cell_type": "code",
   "execution_count": 73,
   "metadata": {},
   "outputs": [
    {
     "name": "stdout",
     "output_type": "stream",
     "text": [
      "Todos los valores son IDs válidos de Usuarios:  True\n",
      "Todos los valores son IDs válidos de Mantenimiento:  True\n"
     ]
    }
   ],
   "source": [
    "# Extraemos todos los valores del campo de 'UsuarioID' a una lista\n",
    "# Como todos están en formato string aunque parezcan listas, solo debemos eliminar los corchetes y las comillas y comas para colocarlo en una lista\n",
    "usuarios = df['UsuarioID'].tolist()\n",
    "usuarios = [x.replace('[', '').replace(']', '').replace(', ', '|').replace(\"'\", '') for x in usuarios]\n",
    "valido = True\n",
    "for elem in usuarios:\n",
    "    # Si el elemento posee un | hacer un split del |:\n",
    "    if '|' in elem:\n",
    "        lista = elem.split('|')\n",
    "        for e in lista:\n",
    "            # Si el elemento no tiene el formato \"XXX-XX-XXXX\", siendo X un número, entonces devuelve False\n",
    "            if not e[0:3].isdigit() or not e[4:6].isdigit() or not e[7:].isdigit(): \n",
    "                valido = False\n",
    "    else:\n",
    "        if not e[0:3].isdigit() or not e[4:6].isdigit() or not e[7:].isdigit():\n",
    "            valido = False\n",
    "print(\"Todos los valores son IDs válidos de Usuarios: \", valido)\n",
    "\n",
    "# Extraemos todos los valores del campo de 'MantenimientoID' a una lista\n",
    "# Como todos están en formato string aunque parezcan listas, solo debemos eliminar los corchetes y las comillas y comas para colocarlo en una lista\n",
    "mantenimiento = df['MantenimeintoID'].tolist()\n",
    "mantenimiento = [x.replace('[', '').replace(']', '').replace(', ', '|').replace(\"'\", '') for x in mantenimiento]\n",
    "valido = True\n",
    "for elem in mantenimiento:\n",
    "    # Si el elemento posee un | hacer un split del |:\n",
    "    if '|' in elem:\n",
    "        lista = elem.split('|')\n",
    "        for e in lista:\n",
    "            # Si el elemento no tiene el formato \"MNT-XXXXX\", siendo X un número, entonces devuelve False\n",
    "            if not e[0:4] == 'MNT-' or not e[4:].isdigit():\n",
    "                valido = False\n",
    "    else:\n",
    "        if not elem[0:4] == 'MNT-' or not elem[4:].isdigit():\n",
    "            print(elem)\n",
    "            print(elem[0:4])\n",
    "            print(elem[4:])\n",
    "            valido = False\n",
    "print(\"Todos los valores son IDs válidos de Mantenimiento: \", valido)\n"
   ]
  },
  {
   "cell_type": "markdown",
   "metadata": {},
   "source": [
    "Gracias al script anterior se puede observar como todos los IDs son válidos, tanto de mantenimiento como de usuario"
   ]
  },
  {
   "cell_type": "markdown",
   "metadata": {},
   "source": [
    "### 1.12.3 Consideraciones extras de Fechas\n",
    "Cabe recalcar que si el campo de fechas no posee un formato esperado, las funciones de limpieza darán error, por lo que no hace falta hacer ahora las comprobaciones de sus valores para determinar si son correctos."
   ]
  },
  {
   "cell_type": "markdown",
   "metadata": {},
   "source": [
    "### 1.12.4 Cambio de nombre columna de \"MantenimeintoID\" a \"MantenimientoID\"\n",
    "Esa columna posee una errata en su nombre que debe ser solucionada "
   ]
  },
  {
   "cell_type": "code",
   "execution_count": 74,
   "metadata": {},
   "outputs": [
    {
     "name": "stdout",
     "output_type": "stream",
     "text": [
      "        ID     TIPO_INCIDENCIA FECHA_REPORTE   ESTADO        UsuarioID             MantenimientoID\n",
      "2605  2606  Mal funcionamiento    12-03-2023  Abierta  ['721-49-2694']  ['MNT-02011', 'MNT-14469']\n"
     ]
    }
   ],
   "source": [
    "# Cambiar nombre de la columna \"MantenimeintoID\" a \"MantenimientoID\"\n",
    "df.rename(columns={'MantenimeintoID': 'MantenimientoID'}, inplace=True)\n",
    "\n",
    "# Mostramos el resultado del cambio con una muestra de 1 fila\n",
    "print(df.sample(1))"
   ]
  },
  {
   "cell_type": "markdown",
   "metadata": {},
   "source": [
    "Como se puede observar, el nombre de la columna ha cambiado"
   ]
  },
  {
   "cell_type": "markdown",
   "metadata": {},
   "source": [
    "# 2. Limpieza de los datasets\n",
    "En este apartado se realizará la limpieza según la información obtenida en el análisis exploratorio de datos:\n",
    "- Se deben eliminar las filas repetidas que no aportan más información\n",
    "- Se deben corregir las fechas y dejarlas en un formato estándar"
   ]
  },
  {
   "cell_type": "markdown",
   "metadata": {},
   "source": [
    "## 2.1 Limpieza de filas repetidas"
   ]
  },
  {
   "cell_type": "markdown",
   "metadata": {},
   "source": [
    "Debemos eliminar las filas repetidas que no aportan información nueva. Para ello se va a eliminar una de las dos repetidas indistintivamente, ya que solo varían en el formato de la fecha, el resto de datos son iguales (incluso la fecha, solo que se encuentra en distinto formato y por eso Pandas lo reconoce como distinta)"
   ]
  },
  {
   "cell_type": "code",
   "execution_count": 75,
   "metadata": {},
   "outputs": [
    {
     "name": "stdout",
     "output_type": "stream",
     "text": [
      "   ----------    Filas con el mismo ID    ----------    \n",
      "\n",
      "\n",
      "          ID TIPO_INCIDENCIA FECHA_REPORTE   ESTADO                                      UsuarioID                          MantenimientoID\n",
      "430      431          Rotura    08-14-2024  Cerrada  ['122-92-6750', '293-31-6681', '599-62-2214']                            ['MNT-03964']\n",
      "17628    431          Rotura    14/08/2024  Cerrada  ['122-92-6750', '293-31-6681', '599-62-2214']                            ['MNT-03964']\n",
      "9947    9948        Desgaste    03-04-2024  Cerrada                                ['722-68-2700']                            ['MNT-14428']\n",
      "17631   9948        Desgaste    04-03-2024  Cerrada                                ['722-68-2700']                            ['MNT-14428']\n",
      "17630  12633      Vandalismo    02/12/2023  Cerrada                                ['903-64-1048']                            ['MNT-11152']\n",
      "12632  12633      Vandalismo    02/12/2023  Cerrada                                ['903-64-1048']                            ['MNT-11152']\n",
      "17632  13653        Desgaste    04-12-2024  Cerrada                                ['992-49-1408']                            ['MNT-13712']\n",
      "13652  13653        Desgaste    12/04/2024  Cerrada                                ['992-49-1408']                            ['MNT-13712']\n",
      "17629  13905        Desgaste    09-08-2024  Cerrada                                ['853-84-5034']  ['MNT-04576', 'MNT-10566', 'MNT-11723']\n",
      "13904  13905        Desgaste    2024/08/09  Cerrada                                ['853-84-5034']  ['MNT-04576', 'MNT-10566', 'MNT-11723']\n",
      "\n",
      "\n",
      "Número de filas con el mismo ID:  10\n",
      "\n",
      "\n",
      "   ----------    Filas con el mismo ID después de limpiar    ----------    \n",
      "\n",
      "\n",
      "Empty DataFrame\n",
      "Columns: [ID, TIPO_INCIDENCIA, FECHA_REPORTE, ESTADO, UsuarioID, MantenimientoID]\n",
      "Index: []\n",
      "\n",
      "\n",
      "Número de filas duplicadas:  0\n",
      "\n",
      "\n",
      "   ----------    2 filas de las que antes estaban duplicadas    ----------    \n",
      "\n",
      "\n",
      "      ID TIPO_INCIDENCIA FECHA_REPORTE   ESTADO                                      UsuarioID MantenimientoID\n",
      "430  431          Rotura    08-14-2024  Cerrada  ['122-92-6750', '293-31-6681', '599-62-2214']   ['MNT-03964']\n",
      "        ID TIPO_INCIDENCIA FECHA_REPORTE   ESTADO        UsuarioID MantenimientoID\n",
      "9947  9948        Desgaste    03-04-2024  Cerrada  ['722-68-2700']   ['MNT-14428']\n",
      "\n",
      "\n",
      "   ----------    Intento de acceder a una fila eliminada    ----------    \n",
      "\n",
      "\n",
      "Empty DataFrame\n",
      "Columns: [ID, TIPO_INCIDENCIA, FECHA_REPORTE, ESTADO, UsuarioID, MantenimientoID]\n",
      "Index: []\n"
     ]
    }
   ],
   "source": [
    "# Filtrar filas que tienen el mismo NIF\n",
    "duplicados = df.groupby('ID').filter(lambda x: len(x) > 1)\n",
    "\n",
    "# Ordenar por NIF para que las filas con el mismo NIF se visualicen una encima de la otra\n",
    "duplicados = duplicados.sort_values(by='ID')\n",
    "\n",
    "# Mostrar las filas con la misma PK\n",
    "print(\"   ----------    Filas con el mismo ID    ----------    \")\n",
    "print(\"\\n\")\n",
    "print(duplicados)\n",
    "print(\"\\n\")\n",
    "print(\"Número de filas con el mismo ID: \", duplicados.shape[0])\n",
    "print(\"\\n\")\n",
    "\n",
    "# Limpiamos una de las dos filas con el mismo ID de duplicados\n",
    "df.drop_duplicates(subset='ID', keep='first', inplace=True)\n",
    "\n",
    "# Mostramos el resultado por pantalla\n",
    "print(\"   ----------    Filas con el mismo ID después de limpiar    ----------    \")\n",
    "print(\"\\n\")\n",
    "print(df[df.duplicated()])\n",
    "print(\"\\n\")\n",
    "# Número de filas duplicadas\n",
    "print(\"Número de filas duplicadas: \", df.duplicated().sum())\n",
    "print(\"\\n\")\n",
    "\n",
    "# Mostramos, para comprobar, 2 filas de las que antes estaban duplicadas\n",
    "print(\"   ----------    2 filas de las que antes estaban duplicadas    ----------    \")\n",
    "print(\"\\n\")\n",
    "print(df.loc[df['ID'] == 431])\n",
    "print(df.loc[df['ID'] == 9948])\n",
    "print(\"\\n\")\n",
    "\n",
    "# Mostramos el intento de acceder a una fila eliminada\n",
    "print(\"   ----------    Intento de acceder a una fila eliminada    ----------    \")\n",
    "print(\"\\n\")\n",
    "# Accedemos a la fila con ID 431 y FECHA_REPORTE 14/08/2024\n",
    "print(df.loc[(df['ID'] == 431) & (df['FECHA_REPORTE'] == '14/08/2024')])"
   ]
  },
  {
   "cell_type": "markdown",
   "metadata": {},
   "source": [
    "Se puede apreciar que ya no hay filas duplicadas y que, si intentamos acceder a una fila de las repetidas y eliminadas, no podemos"
   ]
  },
  {
   "cell_type": "markdown",
   "metadata": {},
   "source": [
    "## 2.2 Limpieza de FECHA_REPORTE"
   ]
  },
  {
   "cell_type": "markdown",
   "metadata": {},
   "source": [
    "Debemos dejar las fechas en un formato estándar lejible por MongoDB, como 'DD/MM/YYYY'"
   ]
  },
  {
   "cell_type": "code",
   "execution_count": 76,
   "metadata": {},
   "outputs": [
    {
     "name": "stdout",
     "output_type": "stream",
     "text": [
      "   ----------    Columna de fechas corregidas    ----------    \n",
      "\n",
      "\n",
      "14930    11/06/2024\n",
      "8584     01/03/2024\n",
      "5553     12/08/2024\n",
      "16877    05/05/2024\n",
      "2369     17/10/2023\n",
      "15694    27/06/2024\n",
      "814      26/05/2024\n",
      "10010    29/10/2023\n",
      "9381     09/01/2024\n",
      "3920     22/03/2024\n",
      "9920     11/05/2024\n",
      "1378     14/09/2024\n",
      "2680     21/04/2024\n",
      "8058     20/01/2024\n",
      "10514    15/02/2024\n",
      "3355     03/07/2024\n",
      "11096    07/02/2024\n",
      "11611    27/01/2024\n",
      "16780    13/09/2024\n",
      "15260    24/06/2024\n",
      "Name: FECHA_REPORTE, dtype: object\n"
     ]
    }
   ],
   "source": [
    "# Leemos toda la columna de fechas y almacenamos todas las fechas en una lista\n",
    "fechas = df['FECHA_REPORTE'].tolist()\n",
    "\n",
    "# Ahora, pasamos por todas las fechas y corregimos las fechas que están mal escritas\n",
    "fechas_corregidas = []\n",
    "año_al_final = False\n",
    "\n",
    "for fecha in fechas:\n",
    "    # Si fecha contiene un guion, hacer fecha.split('-') y si fecha contiene una barra, hacer fecha.split('/')\n",
    "    if '-' in fecha:\n",
    "        fecha_split = fecha.split('-')\n",
    "    elif '/' in fecha:\n",
    "        fecha_split = fecha.split('/')\n",
    "    # Condiciones para saber el día, mes y año\n",
    "    # Encontrar el año\n",
    "    if (int(fecha_split[0])>31):\n",
    "        año = fecha_split[0]\n",
    "        año_al_final = False\n",
    "    elif (int(fecha_split[2])>31):\n",
    "        año = fecha_split[2]\n",
    "        año_al_final = True\n",
    "    else:\n",
    "        print(\"No se ha encontrado el año\")\n",
    "        fechas_corregidas.append(\"fecha incorrecta\")\n",
    "        break\n",
    "    # Encontrar el día y el mes\n",
    "    # Si el año está al final, no comprobamos el primer caracter\n",
    "    if año_al_final:\n",
    "        if (int(fecha_split[0])<32 and int(fecha_split[0])>12):\n",
    "            dia = fecha_split[0]\n",
    "            mes = fecha_split[1]\n",
    "        elif (int(fecha_split[1])<32 and int(fecha_split[1])>12):\n",
    "            dia = fecha_split[1]\n",
    "            mes = fecha_split[0]\n",
    "        # Si no hay ningun número entre el 13 y el 31, se asume que el mes es el segundo siempre y el día es el primero\n",
    "        else:\n",
    "            dia = fecha_split[0]\n",
    "            mes = fecha_split[1]\n",
    "    else:\n",
    "        if (int(fecha_split[1])<32 and int(fecha_split[1])>12):\n",
    "            dia = fecha_split[1]\n",
    "            mes = fecha_split[2]\n",
    "        elif (int(fecha_split[2])<32 and int(fecha_split[2])>12):\n",
    "            dia = fecha_split[2]\n",
    "            mes = fecha_split[1]\n",
    "        # Si no hay ningun número entre el 13 y el 31, se asume que el mes es el segundo siempre y el día es el tercero\n",
    "        else:\n",
    "            dia = fecha_split[2]\n",
    "            mes = fecha_split[1]\n",
    "    fechas_corregidas.append(dia+\"/\"+mes+\"/\"+año)\n",
    "    \n",
    "# Ahora, cambiamos toda la columna de FECHAS_INTERVENCION por las fechas corregidas\n",
    "df['FECHA_REPORTE'] = fechas_corregidas\n",
    "\n",
    "# Mostramos las fechas corregidas\n",
    "print(\"   ----------    Columna de fechas corregidas    ----------    \")\n",
    "print(\"\\n\")\n",
    "print(df['FECHA_REPORTE'].sample(20))"
   ]
  },
  {
   "cell_type": "markdown",
   "metadata": {},
   "source": [
    "Como se puede apreciar, las fechas ya están estandarizadas"
   ]
  },
  {
   "cell_type": "markdown",
   "metadata": {},
   "source": [
    "## 2.4 Mostrar Dataset Limpio y guardar CSV\n",
    "Vamos a mostrar algunas filas del dataset limpio para validar que todo está OK y guardamos el Dataset"
   ]
  },
  {
   "cell_type": "code",
   "execution_count": 77,
   "metadata": {},
   "outputs": [
    {
     "name": "stdout",
     "output_type": "stream",
     "text": [
      "   ----------    10 filas aleatorias    ----------    \n",
      "\n",
      "\n",
      "          ID     TIPO_INCIDENCIA FECHA_REPORTE   ESTADO                                      UsuarioID                                       MantenimientoID\n",
      "3947    3948            Desgaste    29/06/2024  Cerrada  ['134-29-4351', '396-23-3416', '854-77-1271']                                         ['MNT-01847']\n",
      "16770  16771              Rotura    18/04/2024  Cerrada                                ['041-84-6414']                                         ['MNT-02968']\n",
      "14202  14203          Vandalismo    30/07/2024  Cerrada                                ['790-67-9089']  ['MNT-01311', 'MNT-05562', 'MNT-08793', 'MNT-10815']\n",
      "8526    8527  Mal funcionamiento    23/02/2024  Cerrada                                ['177-75-6218']                                         ['MNT-11555']\n",
      "7335    7336  Mal funcionamiento    10/01/2024  Cerrada                                ['711-74-3953']                                         ['MNT-14227']\n",
      "16977  16978              Rotura    02/06/2024  Cerrada                                ['129-45-3473']                                         ['MNT-01252']\n",
      "5932    5933  Mal funcionamiento    07/10/2024  Cerrada                                ['639-33-9887']                            ['MNT-01232', 'MNT-07073']\n",
      "6223    6224              Rotura    16/05/2024  Abierta                                ['520-11-0227']                                         ['MNT-11266']\n",
      "1713    1714            Desgaste    04/05/2024  Cerrada  ['531-25-7483', '115-69-4323', '312-36-8819']                                         ['MNT-07104']\n",
      "9461    9462            Desgaste    22/12/2023  Cerrada                                ['496-15-0226']                                         ['MNT-14492']\n",
      "\n",
      "\n",
      "\n",
      "\n",
      "Dataset limpio guardado\n"
     ]
    }
   ],
   "source": [
    "# Enseñamos 20 filas aleatorias para ver cómo quedan\n",
    "print(\"   ----------    10 filas aleatorias    ----------    \")\n",
    "print(\"\\n\")\n",
    "print(df.sample(10))\n",
    "print(\"\\n\")\n",
    "\n",
    "# Guardamos el dataset limpio\n",
    "df.to_csv('../MantenimientoLimpio.csv', index=False)\n",
    "print(\"\\n\")\n",
    "print(\"Dataset limpio guardado\")"
   ]
  }
 ],
 "metadata": {
  "kernelspec": {
   "display_name": "Python 3",
   "language": "python",
   "name": "python3"
  },
  "language_info": {
   "codemirror_mode": {
    "name": "ipython",
    "version": 3
   },
   "file_extension": ".py",
   "mimetype": "text/x-python",
   "name": "python",
   "nbconvert_exporter": "python",
   "pygments_lexer": "ipython3",
   "version": "3.12.7"
  }
 },
 "nbformat": 4,
 "nbformat_minor": 2
}
